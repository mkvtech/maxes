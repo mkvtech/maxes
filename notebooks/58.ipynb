{
 "cells": [
  {
   "cell_type": "code",
   "execution_count": 2,
   "metadata": {},
   "outputs": [
    {
     "name": "stdout",
     "output_type": "stream",
     "text": [
      "The autoreload extension is already loaded. To reload it, use:\n",
      "  %reload_ext autoreload\n"
     ]
    }
   ],
   "source": [
    "%load_ext autoreload\n",
    "import datetime\n",
    "# import ete3\n",
    "import itertools\n",
    "import json\n",
    "import logging\n",
    "import math\n",
    "import matplotlib.pyplot as plt\n",
    "import networkx as nx\n",
    "import numpy as np\n",
    "import pandas as pd\n",
    "import typing\n",
    "# import re\n",
    "import xml.etree.ElementTree as ET\n",
    "# import xml.dom.minidom\n",
    "# import xmlschema"
   ]
  },
  {
   "cell_type": "code",
   "execution_count": 3,
   "metadata": {},
   "outputs": [],
   "source": [
    "%autoreload\n",
    "from maxes.xes_loader2 import XesLoader, XesLog\n",
    "# from maxes.xes_file import XesFile\n",
    "# from maxes.analyze_xes import AnalyzeXes\n",
    "# import maxes.analyze_sequence\n",
    "# import maxes.serialization.serialize\n",
    "# import maxes.graphs\n",
    "import maxes.notebooks.utils\n",
    "import maxes.utils"
   ]
  },
  {
   "cell_type": "code",
   "execution_count": null,
   "metadata": {},
   "outputs": [],
   "source": [
    "maxes.notebooks.utils.init_notebook() # RUN ONLY ONCE"
   ]
  },
  {
   "cell_type": "code",
   "execution_count": null,
   "metadata": {},
   "outputs": [],
   "source": [
    "import maxes.data.load_files\n",
    "\n",
    "file_path = \"/vt/md/maxes/maxes/data/other/simple.xes\"\n",
    "print(file_path)\n",
    "\n",
    "log = XesLoader().load(file_path)\n",
    "log.update_df()\n",
    "log.df"
   ]
  },
  {
   "cell_type": "code",
   "execution_count": null,
   "metadata": {},
   "outputs": [],
   "source": [
    "%autoreload\n",
    "from maxes.generators.xes_generator.xes_generator3 import XesGenerator3\n",
    "\n",
    "generator = XesGenerator3()\n",
    "generator.fit(log)"
   ]
  },
  {
   "cell_type": "code",
   "execution_count": 7,
   "metadata": {},
   "outputs": [
    {
     "data": {
      "application/vnd.microsoft.datawrangler.viewer.v0+json": {
       "columns": [
        {
         "name": "index",
         "rawType": "int64",
         "type": "integer"
        },
        {
         "name": "case:concept:name",
         "rawType": "int64",
         "type": "integer"
        },
        {
         "name": "concept:name",
         "rawType": "object",
         "type": "string"
        },
        {
         "name": "lifecycle:transition",
         "rawType": "object",
         "type": "string"
        },
        {
         "name": "time:timestamp",
         "rawType": "datetime64[ns, UTC]",
         "type": "unknown"
        },
        {
         "name": "call centre",
         "rawType": "object",
         "type": "unknown"
        },
        {
         "name": "location",
         "rawType": "object",
         "type": "unknown"
        },
        {
         "name": "duration",
         "rawType": "object",
         "type": "unknown"
        },
        {
         "name": "outcome",
         "rawType": "object",
         "type": "unknown"
        },
        {
         "name": "org:resource",
         "rawType": "object",
         "type": "string"
        }
       ],
       "conversionMethod": "pd.DataFrame",
       "ref": "212dbda4-8917-4c8c-b544-de441a18dd9c",
       "rows": [
        [
         "0",
         "0",
         "incoming claim",
         "complete",
         "1970-01-01 03:30:33.416664+00:00",
         "Sydney",
         null,
         null,
         null,
         "customer"
        ],
        [
         "1",
         "0",
         "S check if sufficient information is available",
         "start",
         "1970-01-01 03:30:33.368100+00:00",
         null,
         "Sydney",
         null,
         null,
         "Call Centre Agent Sydney"
        ],
        [
         "2",
         "0",
         "S check if sufficient information is available",
         "complete",
         "1970-01-01 03:30:46.515393+00:00",
         null,
         "Sydney",
         null,
         null,
         "Call Centre Agent Sydney"
        ],
        [
         "3",
         "0",
         "S register claim",
         "start",
         "1970-01-01 03:30:47.564836+00:00",
         null,
         null,
         null,
         null,
         "Call Centre Agent Sydney"
        ],
        [
         "4",
         "0",
         "S register claim",
         "complete",
         "1970-01-01 03:45:46.892096+00:00",
         null,
         null,
         null,
         null,
         "Call Centre Agent Sydney"
        ],
        [
         "5",
         "0",
         "determine likelihood of claim",
         "start",
         "1970-01-01 06:50:59.071674+00:00",
         null,
         null,
         null,
         null,
         "Claims handler"
        ],
        [
         "6",
         "0",
         "determine likelihood of claim",
         "complete",
         "1970-01-01 06:51:14.942638+00:00",
         null,
         null,
         null,
         null,
         "Claims handler"
        ],
        [
         "7",
         "0",
         "end",
         "start",
         "1970-01-01 06:51:14.604215+00:00",
         null,
         null,
         "16380",
         "processed",
         "Claims handler"
        ],
        [
         "8",
         "0",
         "end",
         "complete",
         "1970-01-01 06:51:14.553535+00:00",
         null,
         null,
         "16380",
         "processed",
         "Claims handler"
        ]
       ],
       "shape": {
        "columns": 9,
        "rows": 9
       }
      },
      "text/html": [
       "<div>\n",
       "<style scoped>\n",
       "    .dataframe tbody tr th:only-of-type {\n",
       "        vertical-align: middle;\n",
       "    }\n",
       "\n",
       "    .dataframe tbody tr th {\n",
       "        vertical-align: top;\n",
       "    }\n",
       "\n",
       "    .dataframe thead th {\n",
       "        text-align: right;\n",
       "    }\n",
       "</style>\n",
       "<table border=\"1\" class=\"dataframe\">\n",
       "  <thead>\n",
       "    <tr style=\"text-align: right;\">\n",
       "      <th></th>\n",
       "      <th>case:concept:name</th>\n",
       "      <th>concept:name</th>\n",
       "      <th>lifecycle:transition</th>\n",
       "      <th>time:timestamp</th>\n",
       "      <th>call centre</th>\n",
       "      <th>location</th>\n",
       "      <th>duration</th>\n",
       "      <th>outcome</th>\n",
       "      <th>org:resource</th>\n",
       "    </tr>\n",
       "  </thead>\n",
       "  <tbody>\n",
       "    <tr>\n",
       "      <th>0</th>\n",
       "      <td>0</td>\n",
       "      <td>incoming claim</td>\n",
       "      <td>complete</td>\n",
       "      <td>1970-01-01 03:30:33.416664+00:00</td>\n",
       "      <td>Sydney</td>\n",
       "      <td>NaN</td>\n",
       "      <td>NaN</td>\n",
       "      <td>NaN</td>\n",
       "      <td>customer</td>\n",
       "    </tr>\n",
       "    <tr>\n",
       "      <th>1</th>\n",
       "      <td>0</td>\n",
       "      <td>S check if sufficient information is available</td>\n",
       "      <td>start</td>\n",
       "      <td>1970-01-01 03:30:33.368100+00:00</td>\n",
       "      <td>NaN</td>\n",
       "      <td>Sydney</td>\n",
       "      <td>NaN</td>\n",
       "      <td>NaN</td>\n",
       "      <td>Call Centre Agent Sydney</td>\n",
       "    </tr>\n",
       "    <tr>\n",
       "      <th>2</th>\n",
       "      <td>0</td>\n",
       "      <td>S check if sufficient information is available</td>\n",
       "      <td>complete</td>\n",
       "      <td>1970-01-01 03:30:46.515393+00:00</td>\n",
       "      <td>NaN</td>\n",
       "      <td>Sydney</td>\n",
       "      <td>NaN</td>\n",
       "      <td>NaN</td>\n",
       "      <td>Call Centre Agent Sydney</td>\n",
       "    </tr>\n",
       "    <tr>\n",
       "      <th>3</th>\n",
       "      <td>0</td>\n",
       "      <td>S register claim</td>\n",
       "      <td>start</td>\n",
       "      <td>1970-01-01 03:30:47.564836+00:00</td>\n",
       "      <td>NaN</td>\n",
       "      <td>NaN</td>\n",
       "      <td>NaN</td>\n",
       "      <td>NaN</td>\n",
       "      <td>Call Centre Agent Sydney</td>\n",
       "    </tr>\n",
       "    <tr>\n",
       "      <th>4</th>\n",
       "      <td>0</td>\n",
       "      <td>S register claim</td>\n",
       "      <td>complete</td>\n",
       "      <td>1970-01-01 03:45:46.892096+00:00</td>\n",
       "      <td>NaN</td>\n",
       "      <td>NaN</td>\n",
       "      <td>NaN</td>\n",
       "      <td>NaN</td>\n",
       "      <td>Call Centre Agent Sydney</td>\n",
       "    </tr>\n",
       "    <tr>\n",
       "      <th>5</th>\n",
       "      <td>0</td>\n",
       "      <td>determine likelihood of claim</td>\n",
       "      <td>start</td>\n",
       "      <td>1970-01-01 06:50:59.071674+00:00</td>\n",
       "      <td>NaN</td>\n",
       "      <td>NaN</td>\n",
       "      <td>NaN</td>\n",
       "      <td>NaN</td>\n",
       "      <td>Claims handler</td>\n",
       "    </tr>\n",
       "    <tr>\n",
       "      <th>6</th>\n",
       "      <td>0</td>\n",
       "      <td>determine likelihood of claim</td>\n",
       "      <td>complete</td>\n",
       "      <td>1970-01-01 06:51:14.942638+00:00</td>\n",
       "      <td>NaN</td>\n",
       "      <td>NaN</td>\n",
       "      <td>NaN</td>\n",
       "      <td>NaN</td>\n",
       "      <td>Claims handler</td>\n",
       "    </tr>\n",
       "    <tr>\n",
       "      <th>7</th>\n",
       "      <td>0</td>\n",
       "      <td>end</td>\n",
       "      <td>start</td>\n",
       "      <td>1970-01-01 06:51:14.604215+00:00</td>\n",
       "      <td>NaN</td>\n",
       "      <td>NaN</td>\n",
       "      <td>16380</td>\n",
       "      <td>processed</td>\n",
       "      <td>Claims handler</td>\n",
       "    </tr>\n",
       "    <tr>\n",
       "      <th>8</th>\n",
       "      <td>0</td>\n",
       "      <td>end</td>\n",
       "      <td>complete</td>\n",
       "      <td>1970-01-01 06:51:14.553535+00:00</td>\n",
       "      <td>NaN</td>\n",
       "      <td>NaN</td>\n",
       "      <td>16380</td>\n",
       "      <td>processed</td>\n",
       "      <td>Claims handler</td>\n",
       "    </tr>\n",
       "  </tbody>\n",
       "</table>\n",
       "</div>"
      ],
      "text/plain": [
       "   case:concept:name                                    concept:name  \\\n",
       "0                  0                                  incoming claim   \n",
       "1                  0  S check if sufficient information is available   \n",
       "2                  0  S check if sufficient information is available   \n",
       "3                  0                                S register claim   \n",
       "4                  0                                S register claim   \n",
       "5                  0                   determine likelihood of claim   \n",
       "6                  0                   determine likelihood of claim   \n",
       "7                  0                                             end   \n",
       "8                  0                                             end   \n",
       "\n",
       "  lifecycle:transition                   time:timestamp call centre location  \\\n",
       "0             complete 1970-01-01 03:30:33.416664+00:00      Sydney      NaN   \n",
       "1                start 1970-01-01 03:30:33.368100+00:00         NaN   Sydney   \n",
       "2             complete 1970-01-01 03:30:46.515393+00:00         NaN   Sydney   \n",
       "3                start 1970-01-01 03:30:47.564836+00:00         NaN      NaN   \n",
       "4             complete 1970-01-01 03:45:46.892096+00:00         NaN      NaN   \n",
       "5                start 1970-01-01 06:50:59.071674+00:00         NaN      NaN   \n",
       "6             complete 1970-01-01 06:51:14.942638+00:00         NaN      NaN   \n",
       "7                start 1970-01-01 06:51:14.604215+00:00         NaN      NaN   \n",
       "8             complete 1970-01-01 06:51:14.553535+00:00         NaN      NaN   \n",
       "\n",
       "  duration    outcome              org:resource  \n",
       "0      NaN        NaN                  customer  \n",
       "1      NaN        NaN  Call Centre Agent Sydney  \n",
       "2      NaN        NaN  Call Centre Agent Sydney  \n",
       "3      NaN        NaN  Call Centre Agent Sydney  \n",
       "4      NaN        NaN  Call Centre Agent Sydney  \n",
       "5      NaN        NaN            Claims handler  \n",
       "6      NaN        NaN            Claims handler  \n",
       "7    16380  processed            Claims handler  \n",
       "8    16380  processed            Claims handler  "
      ]
     },
     "execution_count": 7,
     "metadata": {},
     "output_type": "execute_result"
    }
   ],
   "source": [
    "generator.generate_traces_count = 1\n",
    "generated_log = generator.generate()\n",
    "generated_log.df"
   ]
  },
  {
   "cell_type": "code",
   "execution_count": 284,
   "metadata": {},
   "outputs": [
    {
     "data": {
      "text/plain": [
       "Index(['case:concept:name', 'concept:name', 'lifecycle:transition',\n",
       "       'time:timestamp', 'call centre', 'location', 'duration', 'outcome',\n",
       "       'org:resource'],\n",
       "      dtype='object')"
      ]
     },
     "execution_count": 284,
     "metadata": {},
     "output_type": "execute_result"
    }
   ],
   "source": [
    "generated_log.df.columns"
   ]
  },
  {
   "cell_type": "code",
   "execution_count": null,
   "metadata": {},
   "outputs": [
    {
     "data": {
      "text/plain": [
       "(('incoming claim', 'complete'),\n",
       " ('B check if sufficient information is available', 'start'))"
      ]
     },
     "execution_count": 6,
     "metadata": {},
     "output_type": "execute_result"
    }
   ],
   "source": [
    "graph = generator.sequence_graph_\n",
    "edge = list(graph.edges)[0]\n",
    "edge"
   ]
  },
  {
   "cell_type": "code",
   "execution_count": null,
   "metadata": {},
   "outputs": [
    {
     "data": {
      "text/plain": [
       "np.float64(1.0)"
      ]
     },
     "execution_count": 184,
     "metadata": {},
     "output_type": "execute_result"
    }
   ],
   "source": [
    "def m1(original_log: pd.DataFrame, generated_log: pd.DataFrame, columns=[]):\n",
    "    generated_log = generated_log[columns]\n",
    "    unique_rows = original_log[columns].drop_duplicates()\n",
    "\n",
    "    for event in generated_log.iterrows():\n",
    "        is_row_present = event in generated_log\n",
    "\n",
    "def compute_event_match(a: pd.Series, b: pd.Series, columns: list[str]):\n",
    "\n",
    "    return sum(\n",
    "        a[column] == b[column] or\n",
    "        a[column] != a[column] and b[column] != b[column] # or both nan\n",
    "        for column in columns\n",
    "    )\n",
    "\n",
    "def count_best_match(original_log: pd.DataFrame, generated_log: pd.DataFrame, columns=[]):\n",
    "    generated_log = generated_log[columns]\n",
    "\n",
    "    scores = []\n",
    "    for index_generated_event, generated_event in generated_log.iterrows():\n",
    "        generated_event_scores = []\n",
    "\n",
    "        for index_original_event, original_event in original_log.iterrows():\n",
    "            score = compute_event_match(original_event, generated_event, columns)\n",
    "            generated_event_scores.append(score)\n",
    "\n",
    "        best_generated_event_score = max(generated_event_scores)\n",
    "        scores.append(best_generated_event_score)\n",
    "\n",
    "    scores = pd.Series(scores)\n",
    "    normalized_scores = scores / len(columns)\n",
    "    trace_score = normalized_scores.mean()\n",
    "\n",
    "    return trace_score\n",
    "\n",
    "columns = ['concept:name', 'lifecycle:transition', 'call centre', 'location']\n",
    "count_best_match(log.df, generated_log.traces[0].df, columns)"
   ]
  },
  {
   "cell_type": "code",
   "execution_count": 54,
   "metadata": {},
   "outputs": [
    {
     "data": {
      "application/vnd.microsoft.datawrangler.viewer.v0+json": {
       "columns": [
        {
         "name": "index",
         "rawType": "int64",
         "type": "integer"
        },
        {
         "name": "concept:name",
         "rawType": "object",
         "type": "string"
        },
        {
         "name": "lifecycle:transition",
         "rawType": "object",
         "type": "string"
        },
        {
         "name": "call centre",
         "rawType": "object",
         "type": "unknown"
        },
        {
         "name": "location",
         "rawType": "object",
         "type": "unknown"
        }
       ],
       "conversionMethod": "pd.DataFrame",
       "ref": "788c5da1-d08a-4006-abec-a19de867a857",
       "rows": [
        [
         "0",
         "incoming claim",
         "complete",
         "Brisbane",
         null
        ],
        [
         "1",
         "B check if sufficient information is available",
         "start",
         null,
         "Brisbane"
        ],
        [
         "2",
         "B check if sufficient information is available",
         "complete",
         null,
         "Brisbane"
        ],
        [
         "3",
         "B register claim",
         "start",
         null,
         null
        ],
        [
         "4",
         "B register claim",
         "complete",
         null,
         null
        ],
        [
         "5",
         "determine likelihood of claim",
         "start",
         null,
         null
        ],
        [
         "6",
         "determine likelihood of claim",
         "complete",
         null,
         null
        ],
        [
         "7",
         "end",
         "start",
         null,
         null
        ],
        [
         "8",
         "end",
         "complete",
         null,
         null
        ],
        [
         "9",
         "incoming claim",
         "complete",
         "Sydney",
         null
        ],
        [
         "10",
         "S check if sufficient information is available",
         "start",
         null,
         "Sydney"
        ],
        [
         "11",
         "S check if sufficient information is available",
         "complete",
         null,
         "Sydney"
        ],
        [
         "12",
         "S register claim",
         "start",
         null,
         null
        ],
        [
         "13",
         "S register claim",
         "complete",
         null,
         null
        ],
        [
         "14",
         "determine likelihood of claim",
         "start",
         null,
         null
        ],
        [
         "15",
         "determine likelihood of claim",
         "complete",
         null,
         null
        ],
        [
         "16",
         "assess claim",
         "start",
         null,
         null
        ],
        [
         "17",
         "assess claim",
         "complete",
         null,
         null
        ],
        [
         "18",
         "advise claimant on reimbursement",
         "start",
         null,
         null
        ],
        [
         "19",
         "advise claimant on reimbursement",
         "complete",
         null,
         null
        ],
        [
         "20",
         "initiate payment",
         "start",
         null,
         null
        ],
        [
         "21",
         "initiate payment",
         "complete",
         null,
         null
        ],
        [
         "22",
         "close claim",
         "start",
         null,
         null
        ],
        [
         "23",
         "close claim",
         "complete",
         null,
         null
        ],
        [
         "24",
         "end",
         "start",
         null,
         null
        ],
        [
         "25",
         "end",
         "complete",
         null,
         null
        ],
        [
         "26",
         "incoming claim",
         "complete",
         "Brisbane",
         null
        ],
        [
         "27",
         "B check if sufficient information is available",
         "start",
         null,
         "Brisbane"
        ],
        [
         "28",
         "B check if sufficient information is available",
         "complete",
         null,
         "Brisbane"
        ],
        [
         "29",
         "B register claim",
         "start",
         null,
         null
        ],
        [
         "30",
         "B register claim",
         "complete",
         null,
         null
        ],
        [
         "31",
         "determine likelihood of claim",
         "start",
         null,
         null
        ],
        [
         "32",
         "determine likelihood of claim",
         "complete",
         null,
         null
        ],
        [
         "33",
         "assess claim",
         "start",
         null,
         null
        ],
        [
         "34",
         "assess claim",
         "complete",
         null,
         null
        ],
        [
         "35",
         "initiate payment",
         "start",
         null,
         null
        ],
        [
         "36",
         "initiate payment",
         "complete",
         null,
         null
        ],
        [
         "37",
         "advise claimant on reimbursement",
         "start",
         null,
         null
        ],
        [
         "38",
         "advise claimant on reimbursement",
         "complete",
         null,
         null
        ],
        [
         "39",
         "close claim",
         "start",
         null,
         null
        ],
        [
         "40",
         "close claim",
         "complete",
         null,
         null
        ],
        [
         "41",
         "end",
         "start",
         null,
         null
        ],
        [
         "42",
         "end",
         "complete",
         null,
         null
        ],
        [
         "43",
         "incoming claim",
         "complete",
         "Brisbane",
         null
        ],
        [
         "44",
         "B check if sufficient information is available",
         "start",
         null,
         "Brisbane"
        ],
        [
         "45",
         "B check if sufficient information is available",
         "complete",
         null,
         "Brisbane"
        ],
        [
         "46",
         "B register claim",
         "start",
         null,
         null
        ],
        [
         "47",
         "B register claim",
         "complete",
         null,
         null
        ],
        [
         "48",
         "determine likelihood of claim",
         "start",
         null,
         null
        ],
        [
         "49",
         "determine likelihood of claim",
         "complete",
         null,
         null
        ]
       ],
       "shape": {
        "columns": 4,
        "rows": 46138
       }
      },
      "text/html": [
       "<div>\n",
       "<style scoped>\n",
       "    .dataframe tbody tr th:only-of-type {\n",
       "        vertical-align: middle;\n",
       "    }\n",
       "\n",
       "    .dataframe tbody tr th {\n",
       "        vertical-align: top;\n",
       "    }\n",
       "\n",
       "    .dataframe thead th {\n",
       "        text-align: right;\n",
       "    }\n",
       "</style>\n",
       "<table border=\"1\" class=\"dataframe\">\n",
       "  <thead>\n",
       "    <tr style=\"text-align: right;\">\n",
       "      <th></th>\n",
       "      <th>concept:name</th>\n",
       "      <th>lifecycle:transition</th>\n",
       "      <th>call centre</th>\n",
       "      <th>location</th>\n",
       "    </tr>\n",
       "  </thead>\n",
       "  <tbody>\n",
       "    <tr>\n",
       "      <th>0</th>\n",
       "      <td>incoming claim</td>\n",
       "      <td>complete</td>\n",
       "      <td>Brisbane</td>\n",
       "      <td>NaN</td>\n",
       "    </tr>\n",
       "    <tr>\n",
       "      <th>1</th>\n",
       "      <td>B check if sufficient information is available</td>\n",
       "      <td>start</td>\n",
       "      <td>NaN</td>\n",
       "      <td>Brisbane</td>\n",
       "    </tr>\n",
       "    <tr>\n",
       "      <th>2</th>\n",
       "      <td>B check if sufficient information is available</td>\n",
       "      <td>complete</td>\n",
       "      <td>NaN</td>\n",
       "      <td>Brisbane</td>\n",
       "    </tr>\n",
       "    <tr>\n",
       "      <th>3</th>\n",
       "      <td>B register claim</td>\n",
       "      <td>start</td>\n",
       "      <td>NaN</td>\n",
       "      <td>NaN</td>\n",
       "    </tr>\n",
       "    <tr>\n",
       "      <th>4</th>\n",
       "      <td>B register claim</td>\n",
       "      <td>complete</td>\n",
       "      <td>NaN</td>\n",
       "      <td>NaN</td>\n",
       "    </tr>\n",
       "    <tr>\n",
       "      <th>...</th>\n",
       "      <td>...</td>\n",
       "      <td>...</td>\n",
       "      <td>...</td>\n",
       "      <td>...</td>\n",
       "    </tr>\n",
       "    <tr>\n",
       "      <th>46133</th>\n",
       "      <td>S register claim</td>\n",
       "      <td>complete</td>\n",
       "      <td>NaN</td>\n",
       "      <td>NaN</td>\n",
       "    </tr>\n",
       "    <tr>\n",
       "      <th>46134</th>\n",
       "      <td>determine likelihood of claim</td>\n",
       "      <td>start</td>\n",
       "      <td>NaN</td>\n",
       "      <td>NaN</td>\n",
       "    </tr>\n",
       "    <tr>\n",
       "      <th>46135</th>\n",
       "      <td>determine likelihood of claim</td>\n",
       "      <td>complete</td>\n",
       "      <td>NaN</td>\n",
       "      <td>NaN</td>\n",
       "    </tr>\n",
       "    <tr>\n",
       "      <th>46136</th>\n",
       "      <td>end</td>\n",
       "      <td>start</td>\n",
       "      <td>NaN</td>\n",
       "      <td>NaN</td>\n",
       "    </tr>\n",
       "    <tr>\n",
       "      <th>46137</th>\n",
       "      <td>end</td>\n",
       "      <td>complete</td>\n",
       "      <td>NaN</td>\n",
       "      <td>NaN</td>\n",
       "    </tr>\n",
       "  </tbody>\n",
       "</table>\n",
       "<p>46138 rows × 4 columns</p>\n",
       "</div>"
      ],
      "text/plain": [
       "                                         concept:name lifecycle:transition  \\\n",
       "0                                      incoming claim             complete   \n",
       "1      B check if sufficient information is available                start   \n",
       "2      B check if sufficient information is available             complete   \n",
       "3                                    B register claim                start   \n",
       "4                                    B register claim             complete   \n",
       "...                                               ...                  ...   \n",
       "46133                                S register claim             complete   \n",
       "46134                   determine likelihood of claim                start   \n",
       "46135                   determine likelihood of claim             complete   \n",
       "46136                                             end                start   \n",
       "46137                                             end             complete   \n",
       "\n",
       "      call centre  location  \n",
       "0        Brisbane       NaN  \n",
       "1             NaN  Brisbane  \n",
       "2             NaN  Brisbane  \n",
       "3             NaN       NaN  \n",
       "4             NaN       NaN  \n",
       "...           ...       ...  \n",
       "46133         NaN       NaN  \n",
       "46134         NaN       NaN  \n",
       "46135         NaN       NaN  \n",
       "46136         NaN       NaN  \n",
       "46137         NaN       NaN  \n",
       "\n",
       "[46138 rows x 4 columns]"
      ]
     },
     "execution_count": 54,
     "metadata": {},
     "output_type": "execute_result"
    }
   ],
   "source": [
    "log.df[columns].reset_index(drop=True)"
   ]
  },
  {
   "cell_type": "code",
   "execution_count": null,
   "metadata": {},
   "outputs": [
    {
     "data": {
      "application/vnd.microsoft.datawrangler.viewer.v0+json": {
       "columns": [
        {
         "name": "index",
         "rawType": "int64",
         "type": "integer"
        },
        {
         "name": "concept:name",
         "rawType": "bool",
         "type": "boolean"
        },
        {
         "name": "lifecycle:transition",
         "rawType": "bool",
         "type": "boolean"
        },
        {
         "name": "call centre",
         "rawType": "bool",
         "type": "boolean"
        },
        {
         "name": "location",
         "rawType": "bool",
         "type": "boolean"
        }
       ],
       "conversionMethod": "pd.DataFrame",
       "ref": "e5b77dc8-ef02-4cbd-94b8-715797d5b4c8",
       "rows": [
        [
         "0",
         "True",
         "True",
         "False",
         "False"
        ],
        [
         "1",
         "False",
         "False",
         "False",
         "False"
        ],
        [
         "2",
         "False",
         "True",
         "False",
         "False"
        ],
        [
         "3",
         "False",
         "False",
         "False",
         "False"
        ],
        [
         "4",
         "False",
         "True",
         "False",
         "False"
        ],
        [
         "5",
         "False",
         "False",
         "False",
         "False"
        ],
        [
         "6",
         "False",
         "True",
         "False",
         "False"
        ],
        [
         "7",
         "False",
         "False",
         "False",
         "False"
        ],
        [
         "8",
         "False",
         "True",
         "False",
         "False"
        ],
        [
         "9",
         "True",
         "True",
         "True",
         "False"
        ],
        [
         "10",
         "False",
         "False",
         "False",
         "False"
        ],
        [
         "11",
         "False",
         "True",
         "False",
         "False"
        ],
        [
         "12",
         "False",
         "False",
         "False",
         "False"
        ],
        [
         "13",
         "False",
         "True",
         "False",
         "False"
        ],
        [
         "14",
         "False",
         "False",
         "False",
         "False"
        ],
        [
         "15",
         "False",
         "True",
         "False",
         "False"
        ],
        [
         "16",
         "False",
         "False",
         "False",
         "False"
        ],
        [
         "17",
         "False",
         "True",
         "False",
         "False"
        ],
        [
         "18",
         "False",
         "False",
         "False",
         "False"
        ],
        [
         "19",
         "False",
         "True",
         "False",
         "False"
        ],
        [
         "20",
         "False",
         "False",
         "False",
         "False"
        ],
        [
         "21",
         "False",
         "True",
         "False",
         "False"
        ],
        [
         "22",
         "False",
         "False",
         "False",
         "False"
        ],
        [
         "23",
         "False",
         "True",
         "False",
         "False"
        ],
        [
         "24",
         "False",
         "False",
         "False",
         "False"
        ],
        [
         "25",
         "False",
         "True",
         "False",
         "False"
        ],
        [
         "26",
         "True",
         "True",
         "False",
         "False"
        ],
        [
         "27",
         "False",
         "False",
         "False",
         "False"
        ],
        [
         "28",
         "False",
         "True",
         "False",
         "False"
        ],
        [
         "29",
         "False",
         "False",
         "False",
         "False"
        ],
        [
         "30",
         "False",
         "True",
         "False",
         "False"
        ],
        [
         "31",
         "False",
         "False",
         "False",
         "False"
        ],
        [
         "32",
         "False",
         "True",
         "False",
         "False"
        ],
        [
         "33",
         "False",
         "False",
         "False",
         "False"
        ],
        [
         "34",
         "False",
         "True",
         "False",
         "False"
        ],
        [
         "35",
         "False",
         "False",
         "False",
         "False"
        ],
        [
         "36",
         "False",
         "True",
         "False",
         "False"
        ],
        [
         "37",
         "False",
         "False",
         "False",
         "False"
        ],
        [
         "38",
         "False",
         "True",
         "False",
         "False"
        ],
        [
         "39",
         "False",
         "False",
         "False",
         "False"
        ],
        [
         "40",
         "False",
         "True",
         "False",
         "False"
        ],
        [
         "41",
         "False",
         "False",
         "False",
         "False"
        ],
        [
         "42",
         "False",
         "True",
         "False",
         "False"
        ],
        [
         "43",
         "True",
         "True",
         "False",
         "False"
        ],
        [
         "44",
         "False",
         "False",
         "False",
         "False"
        ],
        [
         "45",
         "False",
         "True",
         "False",
         "False"
        ],
        [
         "46",
         "False",
         "False",
         "False",
         "False"
        ],
        [
         "47",
         "False",
         "True",
         "False",
         "False"
        ],
        [
         "48",
         "False",
         "False",
         "False",
         "False"
        ],
        [
         "49",
         "False",
         "True",
         "False",
         "False"
        ]
       ],
       "shape": {
        "columns": 4,
        "rows": 46138
       }
      },
      "text/html": [
       "<div>\n",
       "<style scoped>\n",
       "    .dataframe tbody tr th:only-of-type {\n",
       "        vertical-align: middle;\n",
       "    }\n",
       "\n",
       "    .dataframe tbody tr th {\n",
       "        vertical-align: top;\n",
       "    }\n",
       "\n",
       "    .dataframe thead th {\n",
       "        text-align: right;\n",
       "    }\n",
       "</style>\n",
       "<table border=\"1\" class=\"dataframe\">\n",
       "  <thead>\n",
       "    <tr style=\"text-align: right;\">\n",
       "      <th></th>\n",
       "      <th>concept:name</th>\n",
       "      <th>lifecycle:transition</th>\n",
       "      <th>call centre</th>\n",
       "      <th>location</th>\n",
       "    </tr>\n",
       "  </thead>\n",
       "  <tbody>\n",
       "    <tr>\n",
       "      <th>0</th>\n",
       "      <td>True</td>\n",
       "      <td>True</td>\n",
       "      <td>False</td>\n",
       "      <td>False</td>\n",
       "    </tr>\n",
       "    <tr>\n",
       "      <th>1</th>\n",
       "      <td>False</td>\n",
       "      <td>False</td>\n",
       "      <td>False</td>\n",
       "      <td>False</td>\n",
       "    </tr>\n",
       "    <tr>\n",
       "      <th>2</th>\n",
       "      <td>False</td>\n",
       "      <td>True</td>\n",
       "      <td>False</td>\n",
       "      <td>False</td>\n",
       "    </tr>\n",
       "    <tr>\n",
       "      <th>3</th>\n",
       "      <td>False</td>\n",
       "      <td>False</td>\n",
       "      <td>False</td>\n",
       "      <td>False</td>\n",
       "    </tr>\n",
       "    <tr>\n",
       "      <th>4</th>\n",
       "      <td>False</td>\n",
       "      <td>True</td>\n",
       "      <td>False</td>\n",
       "      <td>False</td>\n",
       "    </tr>\n",
       "    <tr>\n",
       "      <th>...</th>\n",
       "      <td>...</td>\n",
       "      <td>...</td>\n",
       "      <td>...</td>\n",
       "      <td>...</td>\n",
       "    </tr>\n",
       "    <tr>\n",
       "      <th>46133</th>\n",
       "      <td>False</td>\n",
       "      <td>True</td>\n",
       "      <td>False</td>\n",
       "      <td>False</td>\n",
       "    </tr>\n",
       "    <tr>\n",
       "      <th>46134</th>\n",
       "      <td>False</td>\n",
       "      <td>False</td>\n",
       "      <td>False</td>\n",
       "      <td>False</td>\n",
       "    </tr>\n",
       "    <tr>\n",
       "      <th>46135</th>\n",
       "      <td>False</td>\n",
       "      <td>True</td>\n",
       "      <td>False</td>\n",
       "      <td>False</td>\n",
       "    </tr>\n",
       "    <tr>\n",
       "      <th>46136</th>\n",
       "      <td>False</td>\n",
       "      <td>False</td>\n",
       "      <td>False</td>\n",
       "      <td>False</td>\n",
       "    </tr>\n",
       "    <tr>\n",
       "      <th>46137</th>\n",
       "      <td>False</td>\n",
       "      <td>True</td>\n",
       "      <td>False</td>\n",
       "      <td>False</td>\n",
       "    </tr>\n",
       "  </tbody>\n",
       "</table>\n",
       "<p>46138 rows × 4 columns</p>\n",
       "</div>"
      ],
      "text/plain": [
       "       concept:name  lifecycle:transition  call centre  location\n",
       "0              True                  True        False     False\n",
       "1             False                 False        False     False\n",
       "2             False                  True        False     False\n",
       "3             False                 False        False     False\n",
       "4             False                  True        False     False\n",
       "...             ...                   ...          ...       ...\n",
       "46133         False                  True        False     False\n",
       "46134         False                 False        False     False\n",
       "46135         False                  True        False     False\n",
       "46136         False                 False        False     False\n",
       "46137         False                  True        False     False\n",
       "\n",
       "[46138 rows x 4 columns]"
      ]
     },
     "execution_count": 58,
     "metadata": {},
     "output_type": "execute_result"
    }
   ],
   "source": [
    "from functools import reduce\n",
    "\n",
    "original_df = log.df[columns].reset_index(drop=True)\n",
    "generated_df = generated_log.df[columns].reset_index(drop=True)\n",
    "\n",
    "generated_event = generated_df.iloc[0]\n",
    "\n",
    "mask = [original_df[column] == generated_event[column] for column in columns]\n",
    "# mask = reduce(lambda a, b: a & b, mask)\n",
    "mask = pd.DataFrame(mask).T\n",
    "mask\n",
    "# original_df[generated_event]"
   ]
  },
  {
   "cell_type": "code",
   "execution_count": 166,
   "metadata": {},
   "outputs": [
    {
     "data": {
      "application/vnd.microsoft.datawrangler.viewer.v0+json": {
       "columns": [
        {
         "name": "index",
         "rawType": "int64",
         "type": "integer"
        },
        {
         "name": "concept:name",
         "rawType": "bool",
         "type": "boolean"
        },
        {
         "name": "lifecycle:transition",
         "rawType": "bool",
         "type": "boolean"
        },
        {
         "name": "call centre",
         "rawType": "bool",
         "type": "boolean"
        },
        {
         "name": "location",
         "rawType": "bool",
         "type": "boolean"
        }
       ],
       "conversionMethod": "pd.DataFrame",
       "ref": "fbd83d67-78be-4053-945b-2c8aca1aebe7",
       "rows": [
        [
         "0",
         "True",
         "True",
         "False",
         "True"
        ],
        [
         "1",
         "False",
         "False",
         "False",
         "False"
        ],
        [
         "2",
         "False",
         "True",
         "False",
         "False"
        ],
        [
         "3",
         "False",
         "False",
         "False",
         "True"
        ],
        [
         "4",
         "False",
         "True",
         "False",
         "True"
        ],
        [
         "5",
         "False",
         "False",
         "False",
         "True"
        ],
        [
         "6",
         "False",
         "True",
         "False",
         "True"
        ],
        [
         "7",
         "False",
         "False",
         "False",
         "True"
        ],
        [
         "8",
         "False",
         "True",
         "False",
         "True"
        ],
        [
         "9",
         "True",
         "True",
         "True",
         "True"
        ],
        [
         "10",
         "False",
         "False",
         "False",
         "False"
        ],
        [
         "11",
         "False",
         "True",
         "False",
         "False"
        ],
        [
         "12",
         "False",
         "False",
         "False",
         "True"
        ],
        [
         "13",
         "False",
         "True",
         "False",
         "True"
        ],
        [
         "14",
         "False",
         "False",
         "False",
         "True"
        ],
        [
         "15",
         "False",
         "True",
         "False",
         "True"
        ],
        [
         "16",
         "False",
         "False",
         "False",
         "True"
        ],
        [
         "17",
         "False",
         "True",
         "False",
         "True"
        ],
        [
         "18",
         "False",
         "False",
         "False",
         "True"
        ],
        [
         "19",
         "False",
         "True",
         "False",
         "True"
        ],
        [
         "20",
         "False",
         "False",
         "False",
         "True"
        ],
        [
         "21",
         "False",
         "True",
         "False",
         "True"
        ],
        [
         "22",
         "False",
         "False",
         "False",
         "True"
        ],
        [
         "23",
         "False",
         "True",
         "False",
         "True"
        ],
        [
         "24",
         "False",
         "False",
         "False",
         "True"
        ],
        [
         "25",
         "False",
         "True",
         "False",
         "True"
        ],
        [
         "26",
         "True",
         "True",
         "False",
         "True"
        ],
        [
         "27",
         "False",
         "False",
         "False",
         "False"
        ],
        [
         "28",
         "False",
         "True",
         "False",
         "False"
        ],
        [
         "29",
         "False",
         "False",
         "False",
         "True"
        ],
        [
         "30",
         "False",
         "True",
         "False",
         "True"
        ],
        [
         "31",
         "False",
         "False",
         "False",
         "True"
        ],
        [
         "32",
         "False",
         "True",
         "False",
         "True"
        ],
        [
         "33",
         "False",
         "False",
         "False",
         "True"
        ],
        [
         "34",
         "False",
         "True",
         "False",
         "True"
        ],
        [
         "35",
         "False",
         "False",
         "False",
         "True"
        ],
        [
         "36",
         "False",
         "True",
         "False",
         "True"
        ],
        [
         "37",
         "False",
         "False",
         "False",
         "True"
        ],
        [
         "38",
         "False",
         "True",
         "False",
         "True"
        ],
        [
         "39",
         "False",
         "False",
         "False",
         "True"
        ],
        [
         "40",
         "False",
         "True",
         "False",
         "True"
        ],
        [
         "41",
         "False",
         "False",
         "False",
         "True"
        ],
        [
         "42",
         "False",
         "True",
         "False",
         "True"
        ],
        [
         "43",
         "True",
         "True",
         "False",
         "True"
        ],
        [
         "44",
         "False",
         "False",
         "False",
         "False"
        ],
        [
         "45",
         "False",
         "True",
         "False",
         "False"
        ],
        [
         "46",
         "False",
         "False",
         "False",
         "True"
        ],
        [
         "47",
         "False",
         "True",
         "False",
         "True"
        ],
        [
         "48",
         "False",
         "False",
         "False",
         "True"
        ],
        [
         "49",
         "False",
         "True",
         "False",
         "True"
        ]
       ],
       "shape": {
        "columns": 4,
        "rows": 46138
       }
      },
      "text/html": [
       "<div>\n",
       "<style scoped>\n",
       "    .dataframe tbody tr th:only-of-type {\n",
       "        vertical-align: middle;\n",
       "    }\n",
       "\n",
       "    .dataframe tbody tr th {\n",
       "        vertical-align: top;\n",
       "    }\n",
       "\n",
       "    .dataframe thead th {\n",
       "        text-align: right;\n",
       "    }\n",
       "</style>\n",
       "<table border=\"1\" class=\"dataframe\">\n",
       "  <thead>\n",
       "    <tr style=\"text-align: right;\">\n",
       "      <th></th>\n",
       "      <th>concept:name</th>\n",
       "      <th>lifecycle:transition</th>\n",
       "      <th>call centre</th>\n",
       "      <th>location</th>\n",
       "    </tr>\n",
       "  </thead>\n",
       "  <tbody>\n",
       "    <tr>\n",
       "      <th>0</th>\n",
       "      <td>True</td>\n",
       "      <td>True</td>\n",
       "      <td>False</td>\n",
       "      <td>True</td>\n",
       "    </tr>\n",
       "    <tr>\n",
       "      <th>1</th>\n",
       "      <td>False</td>\n",
       "      <td>False</td>\n",
       "      <td>False</td>\n",
       "      <td>False</td>\n",
       "    </tr>\n",
       "    <tr>\n",
       "      <th>2</th>\n",
       "      <td>False</td>\n",
       "      <td>True</td>\n",
       "      <td>False</td>\n",
       "      <td>False</td>\n",
       "    </tr>\n",
       "    <tr>\n",
       "      <th>3</th>\n",
       "      <td>False</td>\n",
       "      <td>False</td>\n",
       "      <td>False</td>\n",
       "      <td>True</td>\n",
       "    </tr>\n",
       "    <tr>\n",
       "      <th>4</th>\n",
       "      <td>False</td>\n",
       "      <td>True</td>\n",
       "      <td>False</td>\n",
       "      <td>True</td>\n",
       "    </tr>\n",
       "    <tr>\n",
       "      <th>...</th>\n",
       "      <td>...</td>\n",
       "      <td>...</td>\n",
       "      <td>...</td>\n",
       "      <td>...</td>\n",
       "    </tr>\n",
       "    <tr>\n",
       "      <th>46133</th>\n",
       "      <td>False</td>\n",
       "      <td>True</td>\n",
       "      <td>False</td>\n",
       "      <td>True</td>\n",
       "    </tr>\n",
       "    <tr>\n",
       "      <th>46134</th>\n",
       "      <td>False</td>\n",
       "      <td>False</td>\n",
       "      <td>False</td>\n",
       "      <td>True</td>\n",
       "    </tr>\n",
       "    <tr>\n",
       "      <th>46135</th>\n",
       "      <td>False</td>\n",
       "      <td>True</td>\n",
       "      <td>False</td>\n",
       "      <td>True</td>\n",
       "    </tr>\n",
       "    <tr>\n",
       "      <th>46136</th>\n",
       "      <td>False</td>\n",
       "      <td>False</td>\n",
       "      <td>False</td>\n",
       "      <td>True</td>\n",
       "    </tr>\n",
       "    <tr>\n",
       "      <th>46137</th>\n",
       "      <td>False</td>\n",
       "      <td>True</td>\n",
       "      <td>False</td>\n",
       "      <td>True</td>\n",
       "    </tr>\n",
       "  </tbody>\n",
       "</table>\n",
       "<p>46138 rows × 4 columns</p>\n",
       "</div>"
      ],
      "text/plain": [
       "       concept:name  lifecycle:transition  call centre  location\n",
       "0              True                  True        False      True\n",
       "1             False                 False        False     False\n",
       "2             False                  True        False     False\n",
       "3             False                 False        False      True\n",
       "4             False                  True        False      True\n",
       "...             ...                   ...          ...       ...\n",
       "46133         False                  True        False      True\n",
       "46134         False                 False        False      True\n",
       "46135         False                  True        False      True\n",
       "46136         False                 False        False      True\n",
       "46137         False                  True        False      True\n",
       "\n",
       "[46138 rows x 4 columns]"
      ]
     },
     "execution_count": 166,
     "metadata": {},
     "output_type": "execute_result"
    }
   ],
   "source": [
    "original_df = log.df[columns].reset_index(drop=True)\n",
    "generated_df = generated_log.df[columns].reset_index(drop=True)\n",
    "\n",
    "generated_event = generated_df.iloc[0]\n",
    "\n",
    "generated_event_df = pd.concat([generated_event] * len(original_df), axis=1).transpose().reset_index(drop=True)\n",
    "# original_df\n",
    "# generated_event_df\n",
    "# original_df.compare(generated_event_df)\n",
    "# (original_df == generated_event_df) | ((original_df != original_df) & (generated_event_df != generated_event_df))\n",
    "mask = (original_df == generated_event) | ((original_df != original_df) & (generated_event != generated_event))\n",
    "mask"
   ]
  },
  {
   "cell_type": "code",
   "execution_count": 167,
   "metadata": {},
   "outputs": [
    {
     "data": {
      "text/plain": [
       "{'concept:name': 1, 'lifecycle:transition': 2, 'call centre': 3, 'location': 4}"
      ]
     },
     "execution_count": 167,
     "metadata": {},
     "output_type": "execute_result"
    }
   ],
   "source": [
    "weights = {column: i + 1 for i, column in enumerate(columns)}\n",
    "weights"
   ]
  },
  {
   "cell_type": "code",
   "execution_count": 170,
   "metadata": {},
   "outputs": [
    {
     "data": {
      "application/vnd.microsoft.datawrangler.viewer.v0+json": {
       "columns": [
        {
         "name": "index",
         "rawType": "int64",
         "type": "integer"
        },
        {
         "name": "0",
         "rawType": "float64",
         "type": "float"
        },
        {
         "name": "1",
         "rawType": "float64",
         "type": "float"
        },
        {
         "name": "2",
         "rawType": "float64",
         "type": "float"
        },
        {
         "name": "3",
         "rawType": "float64",
         "type": "float"
        }
       ],
       "conversionMethod": "pd.DataFrame",
       "ref": "4cf7d0a4-75f8-460c-9d64-4f343463e2ca",
       "rows": [
        [
         "0",
         "0.0",
         "0.0",
         "0.0",
         "0.0"
        ],
        [
         "1",
         "0.0",
         "0.0",
         "0.0",
         "0.0"
        ],
        [
         "2",
         "0.0",
         "0.0",
         "0.0",
         "0.0"
        ]
       ],
       "shape": {
        "columns": 4,
        "rows": 3
       }
      },
      "text/html": [
       "<div>\n",
       "<style scoped>\n",
       "    .dataframe tbody tr th:only-of-type {\n",
       "        vertical-align: middle;\n",
       "    }\n",
       "\n",
       "    .dataframe tbody tr th {\n",
       "        vertical-align: top;\n",
       "    }\n",
       "\n",
       "    .dataframe thead th {\n",
       "        text-align: right;\n",
       "    }\n",
       "</style>\n",
       "<table border=\"1\" class=\"dataframe\">\n",
       "  <thead>\n",
       "    <tr style=\"text-align: right;\">\n",
       "      <th></th>\n",
       "      <th>0</th>\n",
       "      <th>1</th>\n",
       "      <th>2</th>\n",
       "      <th>3</th>\n",
       "    </tr>\n",
       "  </thead>\n",
       "  <tbody>\n",
       "    <tr>\n",
       "      <th>0</th>\n",
       "      <td>0.0</td>\n",
       "      <td>0.0</td>\n",
       "      <td>0.0</td>\n",
       "      <td>0.0</td>\n",
       "    </tr>\n",
       "    <tr>\n",
       "      <th>1</th>\n",
       "      <td>0.0</td>\n",
       "      <td>0.0</td>\n",
       "      <td>0.0</td>\n",
       "      <td>0.0</td>\n",
       "    </tr>\n",
       "    <tr>\n",
       "      <th>2</th>\n",
       "      <td>0.0</td>\n",
       "      <td>0.0</td>\n",
       "      <td>0.0</td>\n",
       "      <td>0.0</td>\n",
       "    </tr>\n",
       "  </tbody>\n",
       "</table>\n",
       "</div>"
      ],
      "text/plain": [
       "     0    1    2    3\n",
       "0  0.0  0.0  0.0  0.0\n",
       "1  0.0  0.0  0.0  0.0\n",
       "2  0.0  0.0  0.0  0.0"
      ]
     },
     "execution_count": 170,
     "metadata": {},
     "output_type": "execute_result"
    }
   ],
   "source": [
    "pd.DataFrame(np.zeros((3, 4)))"
   ]
  },
  {
   "cell_type": "code",
   "execution_count": 180,
   "metadata": {},
   "outputs": [
    {
     "data": {
      "application/vnd.microsoft.datawrangler.viewer.v0+json": {
       "columns": [
        {
         "name": "index",
         "rawType": "int64",
         "type": "integer"
        },
        {
         "name": "concept:name",
         "rawType": "int64",
         "type": "integer"
        },
        {
         "name": "lifecycle:transition",
         "rawType": "int64",
         "type": "integer"
        },
        {
         "name": "call centre",
         "rawType": "int64",
         "type": "integer"
        },
        {
         "name": "location",
         "rawType": "int64",
         "type": "integer"
        }
       ],
       "conversionMethod": "pd.DataFrame",
       "ref": "87bfc187-3b7e-499f-9925-64d859a74f3d",
       "rows": [
        [
         "0",
         "1",
         "2",
         "0",
         "4"
        ],
        [
         "1",
         "0",
         "0",
         "0",
         "0"
        ],
        [
         "2",
         "0",
         "2",
         "0",
         "0"
        ],
        [
         "3",
         "0",
         "0",
         "0",
         "4"
        ],
        [
         "4",
         "0",
         "2",
         "0",
         "4"
        ],
        [
         "5",
         "0",
         "0",
         "0",
         "4"
        ],
        [
         "6",
         "0",
         "2",
         "0",
         "4"
        ],
        [
         "7",
         "0",
         "0",
         "0",
         "4"
        ],
        [
         "8",
         "0",
         "2",
         "0",
         "4"
        ],
        [
         "9",
         "1",
         "2",
         "3",
         "4"
        ],
        [
         "10",
         "0",
         "0",
         "0",
         "0"
        ],
        [
         "11",
         "0",
         "2",
         "0",
         "0"
        ],
        [
         "12",
         "0",
         "0",
         "0",
         "4"
        ],
        [
         "13",
         "0",
         "2",
         "0",
         "4"
        ],
        [
         "14",
         "0",
         "0",
         "0",
         "4"
        ],
        [
         "15",
         "0",
         "2",
         "0",
         "4"
        ],
        [
         "16",
         "0",
         "0",
         "0",
         "4"
        ],
        [
         "17",
         "0",
         "2",
         "0",
         "4"
        ],
        [
         "18",
         "0",
         "0",
         "0",
         "4"
        ],
        [
         "19",
         "0",
         "2",
         "0",
         "4"
        ],
        [
         "20",
         "0",
         "0",
         "0",
         "4"
        ],
        [
         "21",
         "0",
         "2",
         "0",
         "4"
        ],
        [
         "22",
         "0",
         "0",
         "0",
         "4"
        ],
        [
         "23",
         "0",
         "2",
         "0",
         "4"
        ],
        [
         "24",
         "0",
         "0",
         "0",
         "4"
        ],
        [
         "25",
         "0",
         "2",
         "0",
         "4"
        ],
        [
         "26",
         "1",
         "2",
         "0",
         "4"
        ],
        [
         "27",
         "0",
         "0",
         "0",
         "0"
        ],
        [
         "28",
         "0",
         "2",
         "0",
         "0"
        ],
        [
         "29",
         "0",
         "0",
         "0",
         "4"
        ],
        [
         "30",
         "0",
         "2",
         "0",
         "4"
        ],
        [
         "31",
         "0",
         "0",
         "0",
         "4"
        ],
        [
         "32",
         "0",
         "2",
         "0",
         "4"
        ],
        [
         "33",
         "0",
         "0",
         "0",
         "4"
        ],
        [
         "34",
         "0",
         "2",
         "0",
         "4"
        ],
        [
         "35",
         "0",
         "0",
         "0",
         "4"
        ],
        [
         "36",
         "0",
         "2",
         "0",
         "4"
        ],
        [
         "37",
         "0",
         "0",
         "0",
         "4"
        ],
        [
         "38",
         "0",
         "2",
         "0",
         "4"
        ],
        [
         "39",
         "0",
         "0",
         "0",
         "4"
        ],
        [
         "40",
         "0",
         "2",
         "0",
         "4"
        ],
        [
         "41",
         "0",
         "0",
         "0",
         "4"
        ],
        [
         "42",
         "0",
         "2",
         "0",
         "4"
        ],
        [
         "43",
         "1",
         "2",
         "0",
         "4"
        ],
        [
         "44",
         "0",
         "0",
         "0",
         "0"
        ],
        [
         "45",
         "0",
         "2",
         "0",
         "0"
        ],
        [
         "46",
         "0",
         "0",
         "0",
         "4"
        ],
        [
         "47",
         "0",
         "2",
         "0",
         "4"
        ],
        [
         "48",
         "0",
         "0",
         "0",
         "4"
        ],
        [
         "49",
         "0",
         "2",
         "0",
         "4"
        ]
       ],
       "shape": {
        "columns": 4,
        "rows": 46138
       }
      },
      "text/html": [
       "<div>\n",
       "<style scoped>\n",
       "    .dataframe tbody tr th:only-of-type {\n",
       "        vertical-align: middle;\n",
       "    }\n",
       "\n",
       "    .dataframe tbody tr th {\n",
       "        vertical-align: top;\n",
       "    }\n",
       "\n",
       "    .dataframe thead th {\n",
       "        text-align: right;\n",
       "    }\n",
       "</style>\n",
       "<table border=\"1\" class=\"dataframe\">\n",
       "  <thead>\n",
       "    <tr style=\"text-align: right;\">\n",
       "      <th></th>\n",
       "      <th>concept:name</th>\n",
       "      <th>lifecycle:transition</th>\n",
       "      <th>call centre</th>\n",
       "      <th>location</th>\n",
       "    </tr>\n",
       "  </thead>\n",
       "  <tbody>\n",
       "    <tr>\n",
       "      <th>0</th>\n",
       "      <td>1</td>\n",
       "      <td>2</td>\n",
       "      <td>0</td>\n",
       "      <td>4</td>\n",
       "    </tr>\n",
       "    <tr>\n",
       "      <th>1</th>\n",
       "      <td>0</td>\n",
       "      <td>0</td>\n",
       "      <td>0</td>\n",
       "      <td>0</td>\n",
       "    </tr>\n",
       "    <tr>\n",
       "      <th>2</th>\n",
       "      <td>0</td>\n",
       "      <td>2</td>\n",
       "      <td>0</td>\n",
       "      <td>0</td>\n",
       "    </tr>\n",
       "    <tr>\n",
       "      <th>3</th>\n",
       "      <td>0</td>\n",
       "      <td>0</td>\n",
       "      <td>0</td>\n",
       "      <td>4</td>\n",
       "    </tr>\n",
       "    <tr>\n",
       "      <th>4</th>\n",
       "      <td>0</td>\n",
       "      <td>2</td>\n",
       "      <td>0</td>\n",
       "      <td>4</td>\n",
       "    </tr>\n",
       "    <tr>\n",
       "      <th>...</th>\n",
       "      <td>...</td>\n",
       "      <td>...</td>\n",
       "      <td>...</td>\n",
       "      <td>...</td>\n",
       "    </tr>\n",
       "    <tr>\n",
       "      <th>46133</th>\n",
       "      <td>0</td>\n",
       "      <td>2</td>\n",
       "      <td>0</td>\n",
       "      <td>4</td>\n",
       "    </tr>\n",
       "    <tr>\n",
       "      <th>46134</th>\n",
       "      <td>0</td>\n",
       "      <td>0</td>\n",
       "      <td>0</td>\n",
       "      <td>4</td>\n",
       "    </tr>\n",
       "    <tr>\n",
       "      <th>46135</th>\n",
       "      <td>0</td>\n",
       "      <td>2</td>\n",
       "      <td>0</td>\n",
       "      <td>4</td>\n",
       "    </tr>\n",
       "    <tr>\n",
       "      <th>46136</th>\n",
       "      <td>0</td>\n",
       "      <td>0</td>\n",
       "      <td>0</td>\n",
       "      <td>4</td>\n",
       "    </tr>\n",
       "    <tr>\n",
       "      <th>46137</th>\n",
       "      <td>0</td>\n",
       "      <td>2</td>\n",
       "      <td>0</td>\n",
       "      <td>4</td>\n",
       "    </tr>\n",
       "  </tbody>\n",
       "</table>\n",
       "<p>46138 rows × 4 columns</p>\n",
       "</div>"
      ],
      "text/plain": [
       "       concept:name  lifecycle:transition  call centre  location\n",
       "0                 1                     2            0         4\n",
       "1                 0                     0            0         0\n",
       "2                 0                     2            0         0\n",
       "3                 0                     0            0         4\n",
       "4                 0                     2            0         4\n",
       "...             ...                   ...          ...       ...\n",
       "46133             0                     2            0         4\n",
       "46134             0                     0            0         4\n",
       "46135             0                     2            0         4\n",
       "46136             0                     0            0         4\n",
       "46137             0                     2            0         4\n",
       "\n",
       "[46138 rows x 4 columns]"
      ]
     },
     "execution_count": 180,
     "metadata": {},
     "output_type": "execute_result"
    }
   ],
   "source": [
    "shape = (len(original_df), len(columns))\n",
    "scores = pd.DataFrame(np.zeros(shape, dtype=int), columns=columns)\n",
    "\n",
    "for column, weight in weights.items():\n",
    "    scores[column] = mask[column].map({ True: weight, False: 0 })\n",
    "    # scores[column] = mask[column].replace({ True: weight, False: 0 })\n",
    "\n",
    "scores"
   ]
  },
  {
   "cell_type": "code",
   "execution_count": 182,
   "metadata": {},
   "outputs": [
    {
     "data": {
      "text/plain": [
       "0        7\n",
       "1        0\n",
       "2        2\n",
       "3        4\n",
       "4        6\n",
       "        ..\n",
       "46133    6\n",
       "46134    4\n",
       "46135    6\n",
       "46136    4\n",
       "46137    6\n",
       "Length: 46138, dtype: int64"
      ]
     },
     "execution_count": 182,
     "metadata": {},
     "output_type": "execute_result"
    }
   ],
   "source": [
    "scores_sum = scores[columns].sum(axis=1)\n",
    "scores_sum"
   ]
  },
  {
   "cell_type": "code",
   "execution_count": 183,
   "metadata": {},
   "outputs": [
    {
     "data": {
      "text/plain": [
       "np.int64(10)"
      ]
     },
     "execution_count": 183,
     "metadata": {},
     "output_type": "execute_result"
    }
   ],
   "source": [
    "scores_sum.max()"
   ]
  },
  {
   "cell_type": "code",
   "execution_count": 162,
   "metadata": {},
   "outputs": [
    {
     "data": {
      "application/vnd.microsoft.datawrangler.viewer.v0+json": {
       "columns": [
        {
         "name": "index",
         "rawType": "int64",
         "type": "integer"
        },
        {
         "name": "concept:name",
         "rawType": "bool",
         "type": "boolean"
        },
        {
         "name": "lifecycle:transition",
         "rawType": "bool",
         "type": "boolean"
        },
        {
         "name": "call centre",
         "rawType": "bool",
         "type": "boolean"
        },
        {
         "name": "location",
         "rawType": "bool",
         "type": "boolean"
        }
       ],
       "conversionMethod": "pd.DataFrame",
       "ref": "221378e4-df9d-4c69-83ee-684123e1b49e",
       "rows": [
        [
         "0",
         "True",
         "True",
         "False",
         "True"
        ],
        [
         "1",
         "False",
         "False",
         "False",
         "False"
        ],
        [
         "2",
         "False",
         "True",
         "False",
         "False"
        ],
        [
         "3",
         "False",
         "False",
         "False",
         "True"
        ],
        [
         "4",
         "False",
         "True",
         "False",
         "True"
        ],
        [
         "5",
         "False",
         "False",
         "False",
         "True"
        ],
        [
         "6",
         "False",
         "True",
         "False",
         "True"
        ],
        [
         "7",
         "False",
         "False",
         "False",
         "True"
        ],
        [
         "8",
         "False",
         "True",
         "False",
         "True"
        ],
        [
         "9",
         "True",
         "True",
         "True",
         "True"
        ],
        [
         "10",
         "False",
         "False",
         "False",
         "False"
        ],
        [
         "11",
         "False",
         "True",
         "False",
         "False"
        ],
        [
         "12",
         "False",
         "False",
         "False",
         "True"
        ],
        [
         "13",
         "False",
         "True",
         "False",
         "True"
        ],
        [
         "14",
         "False",
         "False",
         "False",
         "True"
        ],
        [
         "15",
         "False",
         "True",
         "False",
         "True"
        ],
        [
         "16",
         "False",
         "False",
         "False",
         "True"
        ],
        [
         "17",
         "False",
         "True",
         "False",
         "True"
        ],
        [
         "18",
         "False",
         "False",
         "False",
         "True"
        ],
        [
         "19",
         "False",
         "True",
         "False",
         "True"
        ],
        [
         "20",
         "False",
         "False",
         "False",
         "True"
        ],
        [
         "21",
         "False",
         "True",
         "False",
         "True"
        ],
        [
         "22",
         "False",
         "False",
         "False",
         "True"
        ],
        [
         "23",
         "False",
         "True",
         "False",
         "True"
        ],
        [
         "24",
         "False",
         "False",
         "False",
         "True"
        ],
        [
         "25",
         "False",
         "True",
         "False",
         "True"
        ],
        [
         "26",
         "True",
         "True",
         "False",
         "True"
        ],
        [
         "27",
         "False",
         "False",
         "False",
         "False"
        ],
        [
         "28",
         "False",
         "True",
         "False",
         "False"
        ],
        [
         "29",
         "False",
         "False",
         "False",
         "True"
        ],
        [
         "30",
         "False",
         "True",
         "False",
         "True"
        ],
        [
         "31",
         "False",
         "False",
         "False",
         "True"
        ],
        [
         "32",
         "False",
         "True",
         "False",
         "True"
        ],
        [
         "33",
         "False",
         "False",
         "False",
         "True"
        ],
        [
         "34",
         "False",
         "True",
         "False",
         "True"
        ],
        [
         "35",
         "False",
         "False",
         "False",
         "True"
        ],
        [
         "36",
         "False",
         "True",
         "False",
         "True"
        ],
        [
         "37",
         "False",
         "False",
         "False",
         "True"
        ],
        [
         "38",
         "False",
         "True",
         "False",
         "True"
        ],
        [
         "39",
         "False",
         "False",
         "False",
         "True"
        ],
        [
         "40",
         "False",
         "True",
         "False",
         "True"
        ],
        [
         "41",
         "False",
         "False",
         "False",
         "True"
        ],
        [
         "42",
         "False",
         "True",
         "False",
         "True"
        ],
        [
         "43",
         "True",
         "True",
         "False",
         "True"
        ],
        [
         "44",
         "False",
         "False",
         "False",
         "False"
        ],
        [
         "45",
         "False",
         "True",
         "False",
         "False"
        ],
        [
         "46",
         "False",
         "False",
         "False",
         "True"
        ],
        [
         "47",
         "False",
         "True",
         "False",
         "True"
        ],
        [
         "48",
         "False",
         "False",
         "False",
         "True"
        ],
        [
         "49",
         "False",
         "True",
         "False",
         "True"
        ]
       ],
       "shape": {
        "columns": 4,
        "rows": 46138
       }
      },
      "text/html": [
       "<div>\n",
       "<style scoped>\n",
       "    .dataframe tbody tr th:only-of-type {\n",
       "        vertical-align: middle;\n",
       "    }\n",
       "\n",
       "    .dataframe tbody tr th {\n",
       "        vertical-align: top;\n",
       "    }\n",
       "\n",
       "    .dataframe thead th {\n",
       "        text-align: right;\n",
       "    }\n",
       "</style>\n",
       "<table border=\"1\" class=\"dataframe\">\n",
       "  <thead>\n",
       "    <tr style=\"text-align: right;\">\n",
       "      <th></th>\n",
       "      <th>concept:name</th>\n",
       "      <th>lifecycle:transition</th>\n",
       "      <th>call centre</th>\n",
       "      <th>location</th>\n",
       "    </tr>\n",
       "  </thead>\n",
       "  <tbody>\n",
       "    <tr>\n",
       "      <th>0</th>\n",
       "      <td>True</td>\n",
       "      <td>True</td>\n",
       "      <td>False</td>\n",
       "      <td>True</td>\n",
       "    </tr>\n",
       "    <tr>\n",
       "      <th>1</th>\n",
       "      <td>False</td>\n",
       "      <td>False</td>\n",
       "      <td>False</td>\n",
       "      <td>False</td>\n",
       "    </tr>\n",
       "    <tr>\n",
       "      <th>2</th>\n",
       "      <td>False</td>\n",
       "      <td>True</td>\n",
       "      <td>False</td>\n",
       "      <td>False</td>\n",
       "    </tr>\n",
       "    <tr>\n",
       "      <th>3</th>\n",
       "      <td>False</td>\n",
       "      <td>False</td>\n",
       "      <td>False</td>\n",
       "      <td>True</td>\n",
       "    </tr>\n",
       "    <tr>\n",
       "      <th>4</th>\n",
       "      <td>False</td>\n",
       "      <td>True</td>\n",
       "      <td>False</td>\n",
       "      <td>True</td>\n",
       "    </tr>\n",
       "    <tr>\n",
       "      <th>...</th>\n",
       "      <td>...</td>\n",
       "      <td>...</td>\n",
       "      <td>...</td>\n",
       "      <td>...</td>\n",
       "    </tr>\n",
       "    <tr>\n",
       "      <th>46133</th>\n",
       "      <td>False</td>\n",
       "      <td>True</td>\n",
       "      <td>False</td>\n",
       "      <td>True</td>\n",
       "    </tr>\n",
       "    <tr>\n",
       "      <th>46134</th>\n",
       "      <td>False</td>\n",
       "      <td>False</td>\n",
       "      <td>False</td>\n",
       "      <td>True</td>\n",
       "    </tr>\n",
       "    <tr>\n",
       "      <th>46135</th>\n",
       "      <td>False</td>\n",
       "      <td>True</td>\n",
       "      <td>False</td>\n",
       "      <td>True</td>\n",
       "    </tr>\n",
       "    <tr>\n",
       "      <th>46136</th>\n",
       "      <td>False</td>\n",
       "      <td>False</td>\n",
       "      <td>False</td>\n",
       "      <td>True</td>\n",
       "    </tr>\n",
       "    <tr>\n",
       "      <th>46137</th>\n",
       "      <td>False</td>\n",
       "      <td>True</td>\n",
       "      <td>False</td>\n",
       "      <td>True</td>\n",
       "    </tr>\n",
       "  </tbody>\n",
       "</table>\n",
       "<p>46138 rows × 4 columns</p>\n",
       "</div>"
      ],
      "text/plain": [
       "       concept:name  lifecycle:transition  call centre  location\n",
       "0              True                  True        False      True\n",
       "1             False                 False        False     False\n",
       "2             False                  True        False     False\n",
       "3             False                 False        False      True\n",
       "4             False                  True        False      True\n",
       "...             ...                   ...          ...       ...\n",
       "46133         False                  True        False      True\n",
       "46134         False                 False        False      True\n",
       "46135         False                  True        False      True\n",
       "46136         False                 False        False      True\n",
       "46137         False                  True        False      True\n",
       "\n",
       "[46138 rows x 4 columns]"
      ]
     },
     "execution_count": 162,
     "metadata": {},
     "output_type": "execute_result"
    }
   ],
   "source": [
    "mask"
   ]
  },
  {
   "cell_type": "code",
   "execution_count": 130,
   "metadata": {},
   "outputs": [
    {
     "data": {
      "text/plain": [
       "0    0.1\n",
       "1    0.2\n",
       "2    0.3\n",
       "3    0.4\n",
       "dtype: float64"
      ]
     },
     "execution_count": 130,
     "metadata": {},
     "output_type": "execute_result"
    }
   ],
   "source": [
    "# mask.where([0.1, 0.2, 0.3, 0.4])\n",
    "pd.Series([0.1, 0.2, 0.3, 0.4]).transpose()\n",
    "# pd.Series(0.1, 0.2, 0.3, 0.4)\n",
    "# mask.mask(mask, pd.Series([0.1, 0.2, 0.3, 0.4]))"
   ]
  },
  {
   "cell_type": "code",
   "execution_count": 117,
   "metadata": {},
   "outputs": [
    {
     "data": {
      "application/vnd.microsoft.datawrangler.viewer.v0+json": {
       "columns": [
        {
         "name": "index",
         "rawType": "int64",
         "type": "integer"
        },
        {
         "name": "concept:name",
         "rawType": "bool",
         "type": "boolean"
        },
        {
         "name": "lifecycle:transition",
         "rawType": "bool",
         "type": "boolean"
        },
        {
         "name": "call centre",
         "rawType": "bool",
         "type": "boolean"
        },
        {
         "name": "location",
         "rawType": "bool",
         "type": "boolean"
        }
       ],
       "conversionMethod": "pd.DataFrame",
       "ref": "40b618cd-7efd-4a92-a441-9a2319d36f78",
       "rows": [
        [
         "0",
         "False",
         "False",
         "False",
         "True"
        ],
        [
         "1",
         "False",
         "False",
         "True",
         "False"
        ],
        [
         "2",
         "False",
         "False",
         "True",
         "False"
        ],
        [
         "3",
         "False",
         "False",
         "True",
         "True"
        ],
        [
         "4",
         "False",
         "False",
         "True",
         "True"
        ],
        [
         "5",
         "False",
         "False",
         "True",
         "True"
        ],
        [
         "6",
         "False",
         "False",
         "True",
         "True"
        ],
        [
         "7",
         "False",
         "False",
         "True",
         "True"
        ],
        [
         "8",
         "False",
         "False",
         "True",
         "True"
        ],
        [
         "9",
         "False",
         "False",
         "False",
         "True"
        ],
        [
         "10",
         "False",
         "False",
         "True",
         "False"
        ],
        [
         "11",
         "False",
         "False",
         "True",
         "False"
        ],
        [
         "12",
         "False",
         "False",
         "True",
         "True"
        ],
        [
         "13",
         "False",
         "False",
         "True",
         "True"
        ],
        [
         "14",
         "False",
         "False",
         "True",
         "True"
        ],
        [
         "15",
         "False",
         "False",
         "True",
         "True"
        ],
        [
         "16",
         "False",
         "False",
         "True",
         "True"
        ],
        [
         "17",
         "False",
         "False",
         "True",
         "True"
        ],
        [
         "18",
         "False",
         "False",
         "True",
         "True"
        ],
        [
         "19",
         "False",
         "False",
         "True",
         "True"
        ],
        [
         "20",
         "False",
         "False",
         "True",
         "True"
        ],
        [
         "21",
         "False",
         "False",
         "True",
         "True"
        ],
        [
         "22",
         "False",
         "False",
         "True",
         "True"
        ],
        [
         "23",
         "False",
         "False",
         "True",
         "True"
        ],
        [
         "24",
         "False",
         "False",
         "True",
         "True"
        ],
        [
         "25",
         "False",
         "False",
         "True",
         "True"
        ],
        [
         "26",
         "False",
         "False",
         "False",
         "True"
        ],
        [
         "27",
         "False",
         "False",
         "True",
         "False"
        ],
        [
         "28",
         "False",
         "False",
         "True",
         "False"
        ],
        [
         "29",
         "False",
         "False",
         "True",
         "True"
        ],
        [
         "30",
         "False",
         "False",
         "True",
         "True"
        ],
        [
         "31",
         "False",
         "False",
         "True",
         "True"
        ],
        [
         "32",
         "False",
         "False",
         "True",
         "True"
        ],
        [
         "33",
         "False",
         "False",
         "True",
         "True"
        ],
        [
         "34",
         "False",
         "False",
         "True",
         "True"
        ],
        [
         "35",
         "False",
         "False",
         "True",
         "True"
        ],
        [
         "36",
         "False",
         "False",
         "True",
         "True"
        ],
        [
         "37",
         "False",
         "False",
         "True",
         "True"
        ],
        [
         "38",
         "False",
         "False",
         "True",
         "True"
        ],
        [
         "39",
         "False",
         "False",
         "True",
         "True"
        ],
        [
         "40",
         "False",
         "False",
         "True",
         "True"
        ],
        [
         "41",
         "False",
         "False",
         "True",
         "True"
        ],
        [
         "42",
         "False",
         "False",
         "True",
         "True"
        ],
        [
         "43",
         "False",
         "False",
         "False",
         "True"
        ],
        [
         "44",
         "False",
         "False",
         "True",
         "False"
        ],
        [
         "45",
         "False",
         "False",
         "True",
         "False"
        ],
        [
         "46",
         "False",
         "False",
         "True",
         "True"
        ],
        [
         "47",
         "False",
         "False",
         "True",
         "True"
        ],
        [
         "48",
         "False",
         "False",
         "True",
         "True"
        ],
        [
         "49",
         "False",
         "False",
         "True",
         "True"
        ]
       ],
       "shape": {
        "columns": 4,
        "rows": 46138
       }
      },
      "text/html": [
       "<div>\n",
       "<style scoped>\n",
       "    .dataframe tbody tr th:only-of-type {\n",
       "        vertical-align: middle;\n",
       "    }\n",
       "\n",
       "    .dataframe tbody tr th {\n",
       "        vertical-align: top;\n",
       "    }\n",
       "\n",
       "    .dataframe thead th {\n",
       "        text-align: right;\n",
       "    }\n",
       "</style>\n",
       "<table border=\"1\" class=\"dataframe\">\n",
       "  <thead>\n",
       "    <tr style=\"text-align: right;\">\n",
       "      <th></th>\n",
       "      <th>concept:name</th>\n",
       "      <th>lifecycle:transition</th>\n",
       "      <th>call centre</th>\n",
       "      <th>location</th>\n",
       "    </tr>\n",
       "  </thead>\n",
       "  <tbody>\n",
       "    <tr>\n",
       "      <th>0</th>\n",
       "      <td>False</td>\n",
       "      <td>False</td>\n",
       "      <td>False</td>\n",
       "      <td>True</td>\n",
       "    </tr>\n",
       "    <tr>\n",
       "      <th>1</th>\n",
       "      <td>False</td>\n",
       "      <td>False</td>\n",
       "      <td>True</td>\n",
       "      <td>False</td>\n",
       "    </tr>\n",
       "    <tr>\n",
       "      <th>2</th>\n",
       "      <td>False</td>\n",
       "      <td>False</td>\n",
       "      <td>True</td>\n",
       "      <td>False</td>\n",
       "    </tr>\n",
       "    <tr>\n",
       "      <th>3</th>\n",
       "      <td>False</td>\n",
       "      <td>False</td>\n",
       "      <td>True</td>\n",
       "      <td>True</td>\n",
       "    </tr>\n",
       "    <tr>\n",
       "      <th>4</th>\n",
       "      <td>False</td>\n",
       "      <td>False</td>\n",
       "      <td>True</td>\n",
       "      <td>True</td>\n",
       "    </tr>\n",
       "    <tr>\n",
       "      <th>...</th>\n",
       "      <td>...</td>\n",
       "      <td>...</td>\n",
       "      <td>...</td>\n",
       "      <td>...</td>\n",
       "    </tr>\n",
       "    <tr>\n",
       "      <th>46133</th>\n",
       "      <td>False</td>\n",
       "      <td>False</td>\n",
       "      <td>True</td>\n",
       "      <td>True</td>\n",
       "    </tr>\n",
       "    <tr>\n",
       "      <th>46134</th>\n",
       "      <td>False</td>\n",
       "      <td>False</td>\n",
       "      <td>True</td>\n",
       "      <td>True</td>\n",
       "    </tr>\n",
       "    <tr>\n",
       "      <th>46135</th>\n",
       "      <td>False</td>\n",
       "      <td>False</td>\n",
       "      <td>True</td>\n",
       "      <td>True</td>\n",
       "    </tr>\n",
       "    <tr>\n",
       "      <th>46136</th>\n",
       "      <td>False</td>\n",
       "      <td>False</td>\n",
       "      <td>True</td>\n",
       "      <td>True</td>\n",
       "    </tr>\n",
       "    <tr>\n",
       "      <th>46137</th>\n",
       "      <td>False</td>\n",
       "      <td>False</td>\n",
       "      <td>True</td>\n",
       "      <td>True</td>\n",
       "    </tr>\n",
       "  </tbody>\n",
       "</table>\n",
       "<p>46138 rows × 4 columns</p>\n",
       "</div>"
      ],
      "text/plain": [
       "       concept:name  lifecycle:transition  call centre  location\n",
       "0             False                 False        False      True\n",
       "1             False                 False         True     False\n",
       "2             False                 False         True     False\n",
       "3             False                 False         True      True\n",
       "4             False                 False         True      True\n",
       "...             ...                   ...          ...       ...\n",
       "46133         False                 False         True      True\n",
       "46134         False                 False         True      True\n",
       "46135         False                 False         True      True\n",
       "46136         False                 False         True      True\n",
       "46137         False                 False         True      True\n",
       "\n",
       "[46138 rows x 4 columns]"
      ]
     },
     "execution_count": 117,
     "metadata": {},
     "output_type": "execute_result"
    }
   ],
   "source": [
    "original_df.isna()"
   ]
  },
  {
   "cell_type": "code",
   "execution_count": 116,
   "metadata": {},
   "outputs": [
    {
     "data": {
      "application/vnd.microsoft.datawrangler.viewer.v0+json": {
       "columns": [
        {
         "name": "index",
         "rawType": "int64",
         "type": "integer"
        },
        {
         "name": "concept:name",
         "rawType": "bool",
         "type": "boolean"
        },
        {
         "name": "lifecycle:transition",
         "rawType": "bool",
         "type": "boolean"
        },
        {
         "name": "call centre",
         "rawType": "bool",
         "type": "boolean"
        },
        {
         "name": "location",
         "rawType": "bool",
         "type": "boolean"
        }
       ],
       "conversionMethod": "pd.DataFrame",
       "ref": "d5440301-0e3a-4af5-8260-f84bc8338bad",
       "rows": [
        [
         "0",
         "True",
         "True",
         "True",
         "True"
        ],
        [
         "1",
         "True",
         "True",
         "False",
         "False"
        ],
        [
         "2",
         "True",
         "True",
         "False",
         "False"
        ],
        [
         "3",
         "True",
         "True",
         "False",
         "True"
        ],
        [
         "4",
         "True",
         "True",
         "False",
         "True"
        ],
        [
         "5",
         "True",
         "True",
         "False",
         "True"
        ],
        [
         "6",
         "True",
         "True",
         "False",
         "True"
        ],
        [
         "7",
         "True",
         "True",
         "False",
         "True"
        ],
        [
         "8",
         "True",
         "True",
         "False",
         "True"
        ],
        [
         "9",
         "True",
         "True",
         "True",
         "True"
        ],
        [
         "10",
         "True",
         "True",
         "False",
         "False"
        ],
        [
         "11",
         "True",
         "True",
         "False",
         "False"
        ],
        [
         "12",
         "True",
         "True",
         "False",
         "True"
        ],
        [
         "13",
         "True",
         "True",
         "False",
         "True"
        ],
        [
         "14",
         "True",
         "True",
         "False",
         "True"
        ],
        [
         "15",
         "True",
         "True",
         "False",
         "True"
        ],
        [
         "16",
         "True",
         "True",
         "False",
         "True"
        ],
        [
         "17",
         "True",
         "True",
         "False",
         "True"
        ],
        [
         "18",
         "True",
         "True",
         "False",
         "True"
        ],
        [
         "19",
         "True",
         "True",
         "False",
         "True"
        ],
        [
         "20",
         "True",
         "True",
         "False",
         "True"
        ],
        [
         "21",
         "True",
         "True",
         "False",
         "True"
        ],
        [
         "22",
         "True",
         "True",
         "False",
         "True"
        ],
        [
         "23",
         "True",
         "True",
         "False",
         "True"
        ],
        [
         "24",
         "True",
         "True",
         "False",
         "True"
        ],
        [
         "25",
         "True",
         "True",
         "False",
         "True"
        ],
        [
         "26",
         "True",
         "True",
         "True",
         "True"
        ],
        [
         "27",
         "True",
         "True",
         "False",
         "False"
        ],
        [
         "28",
         "True",
         "True",
         "False",
         "False"
        ],
        [
         "29",
         "True",
         "True",
         "False",
         "True"
        ],
        [
         "30",
         "True",
         "True",
         "False",
         "True"
        ],
        [
         "31",
         "True",
         "True",
         "False",
         "True"
        ],
        [
         "32",
         "True",
         "True",
         "False",
         "True"
        ],
        [
         "33",
         "True",
         "True",
         "False",
         "True"
        ],
        [
         "34",
         "True",
         "True",
         "False",
         "True"
        ],
        [
         "35",
         "True",
         "True",
         "False",
         "True"
        ],
        [
         "36",
         "True",
         "True",
         "False",
         "True"
        ],
        [
         "37",
         "True",
         "True",
         "False",
         "True"
        ],
        [
         "38",
         "True",
         "True",
         "False",
         "True"
        ],
        [
         "39",
         "True",
         "True",
         "False",
         "True"
        ],
        [
         "40",
         "True",
         "True",
         "False",
         "True"
        ],
        [
         "41",
         "True",
         "True",
         "False",
         "True"
        ],
        [
         "42",
         "True",
         "True",
         "False",
         "True"
        ],
        [
         "43",
         "True",
         "True",
         "True",
         "True"
        ],
        [
         "44",
         "True",
         "True",
         "False",
         "False"
        ],
        [
         "45",
         "True",
         "True",
         "False",
         "False"
        ],
        [
         "46",
         "True",
         "True",
         "False",
         "True"
        ],
        [
         "47",
         "True",
         "True",
         "False",
         "True"
        ],
        [
         "48",
         "True",
         "True",
         "False",
         "True"
        ],
        [
         "49",
         "True",
         "True",
         "False",
         "True"
        ]
       ],
       "shape": {
        "columns": 4,
        "rows": 46138
       }
      },
      "text/html": [
       "<div>\n",
       "<style scoped>\n",
       "    .dataframe tbody tr th:only-of-type {\n",
       "        vertical-align: middle;\n",
       "    }\n",
       "\n",
       "    .dataframe tbody tr th {\n",
       "        vertical-align: top;\n",
       "    }\n",
       "\n",
       "    .dataframe thead th {\n",
       "        text-align: right;\n",
       "    }\n",
       "</style>\n",
       "<table border=\"1\" class=\"dataframe\">\n",
       "  <thead>\n",
       "    <tr style=\"text-align: right;\">\n",
       "      <th></th>\n",
       "      <th>concept:name</th>\n",
       "      <th>lifecycle:transition</th>\n",
       "      <th>call centre</th>\n",
       "      <th>location</th>\n",
       "    </tr>\n",
       "  </thead>\n",
       "  <tbody>\n",
       "    <tr>\n",
       "      <th>0</th>\n",
       "      <td>True</td>\n",
       "      <td>True</td>\n",
       "      <td>True</td>\n",
       "      <td>True</td>\n",
       "    </tr>\n",
       "    <tr>\n",
       "      <th>1</th>\n",
       "      <td>True</td>\n",
       "      <td>True</td>\n",
       "      <td>False</td>\n",
       "      <td>False</td>\n",
       "    </tr>\n",
       "    <tr>\n",
       "      <th>2</th>\n",
       "      <td>True</td>\n",
       "      <td>True</td>\n",
       "      <td>False</td>\n",
       "      <td>False</td>\n",
       "    </tr>\n",
       "    <tr>\n",
       "      <th>3</th>\n",
       "      <td>True</td>\n",
       "      <td>True</td>\n",
       "      <td>False</td>\n",
       "      <td>True</td>\n",
       "    </tr>\n",
       "    <tr>\n",
       "      <th>4</th>\n",
       "      <td>True</td>\n",
       "      <td>True</td>\n",
       "      <td>False</td>\n",
       "      <td>True</td>\n",
       "    </tr>\n",
       "    <tr>\n",
       "      <th>...</th>\n",
       "      <td>...</td>\n",
       "      <td>...</td>\n",
       "      <td>...</td>\n",
       "      <td>...</td>\n",
       "    </tr>\n",
       "    <tr>\n",
       "      <th>46133</th>\n",
       "      <td>True</td>\n",
       "      <td>True</td>\n",
       "      <td>False</td>\n",
       "      <td>True</td>\n",
       "    </tr>\n",
       "    <tr>\n",
       "      <th>46134</th>\n",
       "      <td>True</td>\n",
       "      <td>True</td>\n",
       "      <td>False</td>\n",
       "      <td>True</td>\n",
       "    </tr>\n",
       "    <tr>\n",
       "      <th>46135</th>\n",
       "      <td>True</td>\n",
       "      <td>True</td>\n",
       "      <td>False</td>\n",
       "      <td>True</td>\n",
       "    </tr>\n",
       "    <tr>\n",
       "      <th>46136</th>\n",
       "      <td>True</td>\n",
       "      <td>True</td>\n",
       "      <td>False</td>\n",
       "      <td>True</td>\n",
       "    </tr>\n",
       "    <tr>\n",
       "      <th>46137</th>\n",
       "      <td>True</td>\n",
       "      <td>True</td>\n",
       "      <td>False</td>\n",
       "      <td>True</td>\n",
       "    </tr>\n",
       "  </tbody>\n",
       "</table>\n",
       "<p>46138 rows × 4 columns</p>\n",
       "</div>"
      ],
      "text/plain": [
       "       concept:name  lifecycle:transition  call centre  location\n",
       "0              True                  True         True      True\n",
       "1              True                  True        False     False\n",
       "2              True                  True        False     False\n",
       "3              True                  True        False      True\n",
       "4              True                  True        False      True\n",
       "...             ...                   ...          ...       ...\n",
       "46133          True                  True        False      True\n",
       "46134          True                  True        False      True\n",
       "46135          True                  True        False      True\n",
       "46136          True                  True        False      True\n",
       "46137          True                  True        False      True\n",
       "\n",
       "[46138 rows x 4 columns]"
      ]
     },
     "execution_count": 116,
     "metadata": {},
     "output_type": "execute_result"
    }
   ],
   "source": [
    "original_df.isna() == generated_event_df.isna()\n"
   ]
  },
  {
   "cell_type": "code",
   "execution_count": 112,
   "metadata": {},
   "outputs": [
    {
     "data": {
      "application/vnd.microsoft.datawrangler.viewer.v0+json": {
       "columns": [
        {
         "name": "index",
         "rawType": "int64",
         "type": "integer"
        },
        {
         "name": "concept:name",
         "rawType": "object",
         "type": "string"
        },
        {
         "name": "lifecycle:transition",
         "rawType": "object",
         "type": "string"
        },
        {
         "name": "call centre",
         "rawType": "object",
         "type": "string"
        },
        {
         "name": "location",
         "rawType": "object",
         "type": "unknown"
        }
       ],
       "conversionMethod": "pd.DataFrame",
       "ref": "d8655ac0-4f3e-44ce-9b15-b74d8cb0aee9",
       "rows": [
        [
         "0",
         "incoming claim",
         "complete",
         "Sydney",
         null
        ],
        [
         "1",
         "incoming claim",
         "complete",
         "Sydney",
         null
        ],
        [
         "2",
         "incoming claim",
         "complete",
         "Sydney",
         null
        ],
        [
         "3",
         "incoming claim",
         "complete",
         "Sydney",
         null
        ],
        [
         "4",
         "incoming claim",
         "complete",
         "Sydney",
         null
        ],
        [
         "5",
         "incoming claim",
         "complete",
         "Sydney",
         null
        ],
        [
         "6",
         "incoming claim",
         "complete",
         "Sydney",
         null
        ],
        [
         "7",
         "incoming claim",
         "complete",
         "Sydney",
         null
        ],
        [
         "8",
         "incoming claim",
         "complete",
         "Sydney",
         null
        ],
        [
         "9",
         "incoming claim",
         "complete",
         "Sydney",
         null
        ],
        [
         "10",
         "incoming claim",
         "complete",
         "Sydney",
         null
        ],
        [
         "11",
         "incoming claim",
         "complete",
         "Sydney",
         null
        ],
        [
         "12",
         "incoming claim",
         "complete",
         "Sydney",
         null
        ],
        [
         "13",
         "incoming claim",
         "complete",
         "Sydney",
         null
        ],
        [
         "14",
         "incoming claim",
         "complete",
         "Sydney",
         null
        ],
        [
         "15",
         "incoming claim",
         "complete",
         "Sydney",
         null
        ],
        [
         "16",
         "incoming claim",
         "complete",
         "Sydney",
         null
        ],
        [
         "17",
         "incoming claim",
         "complete",
         "Sydney",
         null
        ],
        [
         "18",
         "incoming claim",
         "complete",
         "Sydney",
         null
        ],
        [
         "19",
         "incoming claim",
         "complete",
         "Sydney",
         null
        ],
        [
         "20",
         "incoming claim",
         "complete",
         "Sydney",
         null
        ],
        [
         "21",
         "incoming claim",
         "complete",
         "Sydney",
         null
        ],
        [
         "22",
         "incoming claim",
         "complete",
         "Sydney",
         null
        ],
        [
         "23",
         "incoming claim",
         "complete",
         "Sydney",
         null
        ],
        [
         "24",
         "incoming claim",
         "complete",
         "Sydney",
         null
        ],
        [
         "25",
         "incoming claim",
         "complete",
         "Sydney",
         null
        ],
        [
         "26",
         "incoming claim",
         "complete",
         "Sydney",
         null
        ],
        [
         "27",
         "incoming claim",
         "complete",
         "Sydney",
         null
        ],
        [
         "28",
         "incoming claim",
         "complete",
         "Sydney",
         null
        ],
        [
         "29",
         "incoming claim",
         "complete",
         "Sydney",
         null
        ],
        [
         "30",
         "incoming claim",
         "complete",
         "Sydney",
         null
        ],
        [
         "31",
         "incoming claim",
         "complete",
         "Sydney",
         null
        ],
        [
         "32",
         "incoming claim",
         "complete",
         "Sydney",
         null
        ],
        [
         "33",
         "incoming claim",
         "complete",
         "Sydney",
         null
        ],
        [
         "34",
         "incoming claim",
         "complete",
         "Sydney",
         null
        ],
        [
         "35",
         "incoming claim",
         "complete",
         "Sydney",
         null
        ],
        [
         "36",
         "incoming claim",
         "complete",
         "Sydney",
         null
        ],
        [
         "37",
         "incoming claim",
         "complete",
         "Sydney",
         null
        ],
        [
         "38",
         "incoming claim",
         "complete",
         "Sydney",
         null
        ],
        [
         "39",
         "incoming claim",
         "complete",
         "Sydney",
         null
        ],
        [
         "40",
         "incoming claim",
         "complete",
         "Sydney",
         null
        ],
        [
         "41",
         "incoming claim",
         "complete",
         "Sydney",
         null
        ],
        [
         "42",
         "incoming claim",
         "complete",
         "Sydney",
         null
        ],
        [
         "43",
         "incoming claim",
         "complete",
         "Sydney",
         null
        ],
        [
         "44",
         "incoming claim",
         "complete",
         "Sydney",
         null
        ],
        [
         "45",
         "incoming claim",
         "complete",
         "Sydney",
         null
        ],
        [
         "46",
         "incoming claim",
         "complete",
         "Sydney",
         null
        ],
        [
         "47",
         "incoming claim",
         "complete",
         "Sydney",
         null
        ],
        [
         "48",
         "incoming claim",
         "complete",
         "Sydney",
         null
        ],
        [
         "49",
         "incoming claim",
         "complete",
         "Sydney",
         null
        ]
       ],
       "shape": {
        "columns": 4,
        "rows": 46138
       }
      },
      "text/html": [
       "<div>\n",
       "<style scoped>\n",
       "    .dataframe tbody tr th:only-of-type {\n",
       "        vertical-align: middle;\n",
       "    }\n",
       "\n",
       "    .dataframe tbody tr th {\n",
       "        vertical-align: top;\n",
       "    }\n",
       "\n",
       "    .dataframe thead th {\n",
       "        text-align: right;\n",
       "    }\n",
       "</style>\n",
       "<table border=\"1\" class=\"dataframe\">\n",
       "  <thead>\n",
       "    <tr style=\"text-align: right;\">\n",
       "      <th></th>\n",
       "      <th>concept:name</th>\n",
       "      <th>lifecycle:transition</th>\n",
       "      <th>call centre</th>\n",
       "      <th>location</th>\n",
       "    </tr>\n",
       "  </thead>\n",
       "  <tbody>\n",
       "    <tr>\n",
       "      <th>0</th>\n",
       "      <td>incoming claim</td>\n",
       "      <td>complete</td>\n",
       "      <td>Sydney</td>\n",
       "      <td>NaN</td>\n",
       "    </tr>\n",
       "    <tr>\n",
       "      <th>1</th>\n",
       "      <td>incoming claim</td>\n",
       "      <td>complete</td>\n",
       "      <td>Sydney</td>\n",
       "      <td>NaN</td>\n",
       "    </tr>\n",
       "    <tr>\n",
       "      <th>2</th>\n",
       "      <td>incoming claim</td>\n",
       "      <td>complete</td>\n",
       "      <td>Sydney</td>\n",
       "      <td>NaN</td>\n",
       "    </tr>\n",
       "    <tr>\n",
       "      <th>3</th>\n",
       "      <td>incoming claim</td>\n",
       "      <td>complete</td>\n",
       "      <td>Sydney</td>\n",
       "      <td>NaN</td>\n",
       "    </tr>\n",
       "    <tr>\n",
       "      <th>4</th>\n",
       "      <td>incoming claim</td>\n",
       "      <td>complete</td>\n",
       "      <td>Sydney</td>\n",
       "      <td>NaN</td>\n",
       "    </tr>\n",
       "    <tr>\n",
       "      <th>...</th>\n",
       "      <td>...</td>\n",
       "      <td>...</td>\n",
       "      <td>...</td>\n",
       "      <td>...</td>\n",
       "    </tr>\n",
       "    <tr>\n",
       "      <th>46133</th>\n",
       "      <td>incoming claim</td>\n",
       "      <td>complete</td>\n",
       "      <td>Sydney</td>\n",
       "      <td>NaN</td>\n",
       "    </tr>\n",
       "    <tr>\n",
       "      <th>46134</th>\n",
       "      <td>incoming claim</td>\n",
       "      <td>complete</td>\n",
       "      <td>Sydney</td>\n",
       "      <td>NaN</td>\n",
       "    </tr>\n",
       "    <tr>\n",
       "      <th>46135</th>\n",
       "      <td>incoming claim</td>\n",
       "      <td>complete</td>\n",
       "      <td>Sydney</td>\n",
       "      <td>NaN</td>\n",
       "    </tr>\n",
       "    <tr>\n",
       "      <th>46136</th>\n",
       "      <td>incoming claim</td>\n",
       "      <td>complete</td>\n",
       "      <td>Sydney</td>\n",
       "      <td>NaN</td>\n",
       "    </tr>\n",
       "    <tr>\n",
       "      <th>46137</th>\n",
       "      <td>incoming claim</td>\n",
       "      <td>complete</td>\n",
       "      <td>Sydney</td>\n",
       "      <td>NaN</td>\n",
       "    </tr>\n",
       "  </tbody>\n",
       "</table>\n",
       "<p>46138 rows × 4 columns</p>\n",
       "</div>"
      ],
      "text/plain": [
       "         concept:name lifecycle:transition call centre location\n",
       "0      incoming claim             complete      Sydney      NaN\n",
       "1      incoming claim             complete      Sydney      NaN\n",
       "2      incoming claim             complete      Sydney      NaN\n",
       "3      incoming claim             complete      Sydney      NaN\n",
       "4      incoming claim             complete      Sydney      NaN\n",
       "...               ...                  ...         ...      ...\n",
       "46133  incoming claim             complete      Sydney      NaN\n",
       "46134  incoming claim             complete      Sydney      NaN\n",
       "46135  incoming claim             complete      Sydney      NaN\n",
       "46136  incoming claim             complete      Sydney      NaN\n",
       "46137  incoming claim             complete      Sydney      NaN\n",
       "\n",
       "[46138 rows x 4 columns]"
      ]
     },
     "execution_count": 112,
     "metadata": {},
     "output_type": "execute_result"
    }
   ],
   "source": [
    "generated_event_df"
   ]
  },
  {
   "cell_type": "code",
   "execution_count": 111,
   "metadata": {},
   "outputs": [
    {
     "data": {
      "application/vnd.microsoft.datawrangler.viewer.v0+json": {
       "columns": [
        {
         "name": "index",
         "rawType": "int64",
         "type": "integer"
        },
        {
         "name": "concept:name",
         "rawType": "object",
         "type": "string"
        },
        {
         "name": "lifecycle:transition",
         "rawType": "object",
         "type": "string"
        },
        {
         "name": "call centre",
         "rawType": "object",
         "type": "unknown"
        },
        {
         "name": "location",
         "rawType": "object",
         "type": "unknown"
        }
       ],
       "conversionMethod": "pd.DataFrame",
       "ref": "1b2af901-cb93-4c6b-80d5-c1df08aa22b9",
       "rows": [
        [
         "0",
         "incoming claim",
         "complete",
         "Brisbane",
         null
        ],
        [
         "1",
         "B check if sufficient information is available",
         "start",
         null,
         "Brisbane"
        ],
        [
         "2",
         "B check if sufficient information is available",
         "complete",
         null,
         "Brisbane"
        ],
        [
         "3",
         "B register claim",
         "start",
         null,
         null
        ],
        [
         "4",
         "B register claim",
         "complete",
         null,
         null
        ],
        [
         "5",
         "determine likelihood of claim",
         "start",
         null,
         null
        ],
        [
         "6",
         "determine likelihood of claim",
         "complete",
         null,
         null
        ],
        [
         "7",
         "end",
         "start",
         null,
         null
        ],
        [
         "8",
         "end",
         "complete",
         null,
         null
        ],
        [
         "9",
         "incoming claim",
         "complete",
         "Sydney",
         null
        ],
        [
         "10",
         "S check if sufficient information is available",
         "start",
         null,
         "Sydney"
        ],
        [
         "11",
         "S check if sufficient information is available",
         "complete",
         null,
         "Sydney"
        ],
        [
         "12",
         "S register claim",
         "start",
         null,
         null
        ],
        [
         "13",
         "S register claim",
         "complete",
         null,
         null
        ],
        [
         "14",
         "determine likelihood of claim",
         "start",
         null,
         null
        ],
        [
         "15",
         "determine likelihood of claim",
         "complete",
         null,
         null
        ],
        [
         "16",
         "assess claim",
         "start",
         null,
         null
        ],
        [
         "17",
         "assess claim",
         "complete",
         null,
         null
        ],
        [
         "18",
         "advise claimant on reimbursement",
         "start",
         null,
         null
        ],
        [
         "19",
         "advise claimant on reimbursement",
         "complete",
         null,
         null
        ],
        [
         "20",
         "initiate payment",
         "start",
         null,
         null
        ],
        [
         "21",
         "initiate payment",
         "complete",
         null,
         null
        ],
        [
         "22",
         "close claim",
         "start",
         null,
         null
        ],
        [
         "23",
         "close claim",
         "complete",
         null,
         null
        ],
        [
         "24",
         "end",
         "start",
         null,
         null
        ],
        [
         "25",
         "end",
         "complete",
         null,
         null
        ],
        [
         "26",
         "incoming claim",
         "complete",
         "Brisbane",
         null
        ],
        [
         "27",
         "B check if sufficient information is available",
         "start",
         null,
         "Brisbane"
        ],
        [
         "28",
         "B check if sufficient information is available",
         "complete",
         null,
         "Brisbane"
        ],
        [
         "29",
         "B register claim",
         "start",
         null,
         null
        ],
        [
         "30",
         "B register claim",
         "complete",
         null,
         null
        ],
        [
         "31",
         "determine likelihood of claim",
         "start",
         null,
         null
        ],
        [
         "32",
         "determine likelihood of claim",
         "complete",
         null,
         null
        ],
        [
         "33",
         "assess claim",
         "start",
         null,
         null
        ],
        [
         "34",
         "assess claim",
         "complete",
         null,
         null
        ],
        [
         "35",
         "initiate payment",
         "start",
         null,
         null
        ],
        [
         "36",
         "initiate payment",
         "complete",
         null,
         null
        ],
        [
         "37",
         "advise claimant on reimbursement",
         "start",
         null,
         null
        ],
        [
         "38",
         "advise claimant on reimbursement",
         "complete",
         null,
         null
        ],
        [
         "39",
         "close claim",
         "start",
         null,
         null
        ],
        [
         "40",
         "close claim",
         "complete",
         null,
         null
        ],
        [
         "41",
         "end",
         "start",
         null,
         null
        ],
        [
         "42",
         "end",
         "complete",
         null,
         null
        ],
        [
         "43",
         "incoming claim",
         "complete",
         "Brisbane",
         null
        ],
        [
         "44",
         "B check if sufficient information is available",
         "start",
         null,
         "Brisbane"
        ],
        [
         "45",
         "B check if sufficient information is available",
         "complete",
         null,
         "Brisbane"
        ],
        [
         "46",
         "B register claim",
         "start",
         null,
         null
        ],
        [
         "47",
         "B register claim",
         "complete",
         null,
         null
        ],
        [
         "48",
         "determine likelihood of claim",
         "start",
         null,
         null
        ],
        [
         "49",
         "determine likelihood of claim",
         "complete",
         null,
         null
        ]
       ],
       "shape": {
        "columns": 4,
        "rows": 46138
       }
      },
      "text/html": [
       "<div>\n",
       "<style scoped>\n",
       "    .dataframe tbody tr th:only-of-type {\n",
       "        vertical-align: middle;\n",
       "    }\n",
       "\n",
       "    .dataframe tbody tr th {\n",
       "        vertical-align: top;\n",
       "    }\n",
       "\n",
       "    .dataframe thead th {\n",
       "        text-align: right;\n",
       "    }\n",
       "</style>\n",
       "<table border=\"1\" class=\"dataframe\">\n",
       "  <thead>\n",
       "    <tr style=\"text-align: right;\">\n",
       "      <th></th>\n",
       "      <th>concept:name</th>\n",
       "      <th>lifecycle:transition</th>\n",
       "      <th>call centre</th>\n",
       "      <th>location</th>\n",
       "    </tr>\n",
       "  </thead>\n",
       "  <tbody>\n",
       "    <tr>\n",
       "      <th>0</th>\n",
       "      <td>incoming claim</td>\n",
       "      <td>complete</td>\n",
       "      <td>Brisbane</td>\n",
       "      <td>NaN</td>\n",
       "    </tr>\n",
       "    <tr>\n",
       "      <th>1</th>\n",
       "      <td>B check if sufficient information is available</td>\n",
       "      <td>start</td>\n",
       "      <td>NaN</td>\n",
       "      <td>Brisbane</td>\n",
       "    </tr>\n",
       "    <tr>\n",
       "      <th>2</th>\n",
       "      <td>B check if sufficient information is available</td>\n",
       "      <td>complete</td>\n",
       "      <td>NaN</td>\n",
       "      <td>Brisbane</td>\n",
       "    </tr>\n",
       "    <tr>\n",
       "      <th>3</th>\n",
       "      <td>B register claim</td>\n",
       "      <td>start</td>\n",
       "      <td>NaN</td>\n",
       "      <td>NaN</td>\n",
       "    </tr>\n",
       "    <tr>\n",
       "      <th>4</th>\n",
       "      <td>B register claim</td>\n",
       "      <td>complete</td>\n",
       "      <td>NaN</td>\n",
       "      <td>NaN</td>\n",
       "    </tr>\n",
       "    <tr>\n",
       "      <th>...</th>\n",
       "      <td>...</td>\n",
       "      <td>...</td>\n",
       "      <td>...</td>\n",
       "      <td>...</td>\n",
       "    </tr>\n",
       "    <tr>\n",
       "      <th>46133</th>\n",
       "      <td>S register claim</td>\n",
       "      <td>complete</td>\n",
       "      <td>NaN</td>\n",
       "      <td>NaN</td>\n",
       "    </tr>\n",
       "    <tr>\n",
       "      <th>46134</th>\n",
       "      <td>determine likelihood of claim</td>\n",
       "      <td>start</td>\n",
       "      <td>NaN</td>\n",
       "      <td>NaN</td>\n",
       "    </tr>\n",
       "    <tr>\n",
       "      <th>46135</th>\n",
       "      <td>determine likelihood of claim</td>\n",
       "      <td>complete</td>\n",
       "      <td>NaN</td>\n",
       "      <td>NaN</td>\n",
       "    </tr>\n",
       "    <tr>\n",
       "      <th>46136</th>\n",
       "      <td>end</td>\n",
       "      <td>start</td>\n",
       "      <td>NaN</td>\n",
       "      <td>NaN</td>\n",
       "    </tr>\n",
       "    <tr>\n",
       "      <th>46137</th>\n",
       "      <td>end</td>\n",
       "      <td>complete</td>\n",
       "      <td>NaN</td>\n",
       "      <td>NaN</td>\n",
       "    </tr>\n",
       "  </tbody>\n",
       "</table>\n",
       "<p>46138 rows × 4 columns</p>\n",
       "</div>"
      ],
      "text/plain": [
       "                                         concept:name lifecycle:transition  \\\n",
       "0                                      incoming claim             complete   \n",
       "1      B check if sufficient information is available                start   \n",
       "2      B check if sufficient information is available             complete   \n",
       "3                                    B register claim                start   \n",
       "4                                    B register claim             complete   \n",
       "...                                               ...                  ...   \n",
       "46133                                S register claim             complete   \n",
       "46134                   determine likelihood of claim                start   \n",
       "46135                   determine likelihood of claim             complete   \n",
       "46136                                             end                start   \n",
       "46137                                             end             complete   \n",
       "\n",
       "      call centre  location  \n",
       "0        Brisbane       NaN  \n",
       "1             NaN  Brisbane  \n",
       "2             NaN  Brisbane  \n",
       "3             NaN       NaN  \n",
       "4             NaN       NaN  \n",
       "...           ...       ...  \n",
       "46133         NaN       NaN  \n",
       "46134         NaN       NaN  \n",
       "46135         NaN       NaN  \n",
       "46136         NaN       NaN  \n",
       "46137         NaN       NaN  \n",
       "\n",
       "[46138 rows x 4 columns]"
      ]
     },
     "execution_count": 111,
     "metadata": {},
     "output_type": "execute_result"
    }
   ],
   "source": [
    "original_df"
   ]
  },
  {
   "cell_type": "code",
   "execution_count": 99,
   "metadata": {},
   "outputs": [
    {
     "data": {
      "text/plain": [
       "concept:name            incoming claim\n",
       "lifecycle:transition          complete\n",
       "call centre                     Sydney\n",
       "location                           NaN\n",
       "Name: 0, dtype: object"
      ]
     },
     "execution_count": 99,
     "metadata": {},
     "output_type": "execute_result"
    }
   ],
   "source": [
    "generated_event"
   ]
  },
  {
   "cell_type": "code",
   "execution_count": 64,
   "metadata": {},
   "outputs": [
    {
     "data": {
      "text/plain": [
       "True"
      ]
     },
     "execution_count": 64,
     "metadata": {},
     "output_type": "execute_result"
    }
   ],
   "source": [
    "pd.DataFrame([[float('0.1')]]).equals(pd.DataFrame([[float('0.1')]]))"
   ]
  },
  {
   "cell_type": "code",
   "execution_count": 88,
   "metadata": {},
   "outputs": [
    {
     "data": {
      "text/plain": [
       "0    False\n",
       "dtype: bool"
      ]
     },
     "execution_count": 88,
     "metadata": {},
     "output_type": "execute_result"
    }
   ],
   "source": [
    "# pd.Series(float('nan')).mask\n",
    "# pd.Series(float('1.0')) == float('1.0')\n",
    "pd.Series(float('nan')) == float('nan')"
   ]
  },
  {
   "cell_type": "code",
   "execution_count": 81,
   "metadata": {},
   "outputs": [
    {
     "data": {
      "text/plain": [
       "False"
      ]
     },
     "execution_count": 81,
     "metadata": {},
     "output_type": "execute_result"
    }
   ],
   "source": [
    "a = pd.DataFrame([[float('0.1'), float('nan')]], columns=['one', 'two'])\n",
    "# b = pd.DataFrame([[float('0.1')]])\n",
    "# pd.Series.compare(a['one'], pd.Series(0.1))\n",
    "pd.Series.equals(pd.Series(float('nan')), float('nan'))"
   ]
  },
  {
   "cell_type": "code",
   "execution_count": 40,
   "metadata": {},
   "outputs": [
    {
     "data": {
      "text/plain": [
       "0     True\n",
       "1    False\n",
       "2    False\n",
       "3    False\n",
       "4    False\n",
       "     ...  \n",
       "4    False\n",
       "5    False\n",
       "6    False\n",
       "7    False\n",
       "8    False\n",
       "Name: concept:name, Length: 46138, dtype: bool"
      ]
     },
     "execution_count": 40,
     "metadata": {},
     "output_type": "execute_result"
    }
   ],
   "source": [
    "column = columns[0]\n",
    "original_df[column] == generated_event[column]\n"
   ]
  },
  {
   "cell_type": "code",
   "execution_count": null,
   "metadata": {},
   "outputs": [
    {
     "data": {
      "text/plain": [
       "np.float64(0.15687538832777032)"
      ]
     },
     "execution_count": 22,
     "metadata": {},
     "output_type": "execute_result"
    }
   ],
   "source": []
  },
  {
   "cell_type": "code",
   "execution_count": 11,
   "metadata": {},
   "outputs": [
    {
     "data": {
      "application/vnd.microsoft.datawrangler.viewer.v0+json": {
       "columns": [
        {
         "name": "index",
         "rawType": "int64",
         "type": "integer"
        },
        {
         "name": "concept:name",
         "rawType": "object",
         "type": "string"
        },
        {
         "name": "lifecycle:transition",
         "rawType": "object",
         "type": "string"
        },
        {
         "name": "call centre",
         "rawType": "object",
         "type": "unknown"
        },
        {
         "name": "location",
         "rawType": "object",
         "type": "unknown"
        }
       ],
       "conversionMethod": "pd.DataFrame",
       "ref": "9584a0ba-f6e2-4c37-915b-52ee3c63885d",
       "rows": [
        [
         "0",
         "incoming claim",
         "complete",
         "Sydney",
         null
        ],
        [
         "1",
         "S check if sufficient information is available",
         "start",
         null,
         "Sydney"
        ],
        [
         "2",
         "S check if sufficient information is available",
         "complete",
         null,
         "Sydney"
        ],
        [
         "3",
         "S register claim",
         "start",
         null,
         null
        ],
        [
         "4",
         "S register claim",
         "complete",
         null,
         null
        ],
        [
         "5",
         "determine likelihood of claim",
         "start",
         null,
         null
        ],
        [
         "6",
         "determine likelihood of claim",
         "complete",
         null,
         null
        ],
        [
         "7",
         "end",
         "start",
         null,
         null
        ],
        [
         "8",
         "end",
         "complete",
         null,
         null
        ]
       ],
       "shape": {
        "columns": 4,
        "rows": 9
       }
      },
      "text/html": [
       "<div>\n",
       "<style scoped>\n",
       "    .dataframe tbody tr th:only-of-type {\n",
       "        vertical-align: middle;\n",
       "    }\n",
       "\n",
       "    .dataframe tbody tr th {\n",
       "        vertical-align: top;\n",
       "    }\n",
       "\n",
       "    .dataframe thead th {\n",
       "        text-align: right;\n",
       "    }\n",
       "</style>\n",
       "<table border=\"1\" class=\"dataframe\">\n",
       "  <thead>\n",
       "    <tr style=\"text-align: right;\">\n",
       "      <th></th>\n",
       "      <th>concept:name</th>\n",
       "      <th>lifecycle:transition</th>\n",
       "      <th>call centre</th>\n",
       "      <th>location</th>\n",
       "    </tr>\n",
       "  </thead>\n",
       "  <tbody>\n",
       "    <tr>\n",
       "      <th>0</th>\n",
       "      <td>incoming claim</td>\n",
       "      <td>complete</td>\n",
       "      <td>Sydney</td>\n",
       "      <td>NaN</td>\n",
       "    </tr>\n",
       "    <tr>\n",
       "      <th>1</th>\n",
       "      <td>S check if sufficient information is available</td>\n",
       "      <td>start</td>\n",
       "      <td>NaN</td>\n",
       "      <td>Sydney</td>\n",
       "    </tr>\n",
       "    <tr>\n",
       "      <th>2</th>\n",
       "      <td>S check if sufficient information is available</td>\n",
       "      <td>complete</td>\n",
       "      <td>NaN</td>\n",
       "      <td>Sydney</td>\n",
       "    </tr>\n",
       "    <tr>\n",
       "      <th>3</th>\n",
       "      <td>S register claim</td>\n",
       "      <td>start</td>\n",
       "      <td>NaN</td>\n",
       "      <td>NaN</td>\n",
       "    </tr>\n",
       "    <tr>\n",
       "      <th>4</th>\n",
       "      <td>S register claim</td>\n",
       "      <td>complete</td>\n",
       "      <td>NaN</td>\n",
       "      <td>NaN</td>\n",
       "    </tr>\n",
       "    <tr>\n",
       "      <th>5</th>\n",
       "      <td>determine likelihood of claim</td>\n",
       "      <td>start</td>\n",
       "      <td>NaN</td>\n",
       "      <td>NaN</td>\n",
       "    </tr>\n",
       "    <tr>\n",
       "      <th>6</th>\n",
       "      <td>determine likelihood of claim</td>\n",
       "      <td>complete</td>\n",
       "      <td>NaN</td>\n",
       "      <td>NaN</td>\n",
       "    </tr>\n",
       "    <tr>\n",
       "      <th>7</th>\n",
       "      <td>end</td>\n",
       "      <td>start</td>\n",
       "      <td>NaN</td>\n",
       "      <td>NaN</td>\n",
       "    </tr>\n",
       "    <tr>\n",
       "      <th>8</th>\n",
       "      <td>end</td>\n",
       "      <td>complete</td>\n",
       "      <td>NaN</td>\n",
       "      <td>NaN</td>\n",
       "    </tr>\n",
       "  </tbody>\n",
       "</table>\n",
       "</div>"
      ],
      "text/plain": [
       "                                     concept:name lifecycle:transition  \\\n",
       "0                                  incoming claim             complete   \n",
       "1  S check if sufficient information is available                start   \n",
       "2  S check if sufficient information is available             complete   \n",
       "3                                S register claim                start   \n",
       "4                                S register claim             complete   \n",
       "5                   determine likelihood of claim                start   \n",
       "6                   determine likelihood of claim             complete   \n",
       "7                                             end                start   \n",
       "8                                             end             complete   \n",
       "\n",
       "  call centre location  \n",
       "0      Sydney      NaN  \n",
       "1         NaN   Sydney  \n",
       "2         NaN   Sydney  \n",
       "3         NaN      NaN  \n",
       "4         NaN      NaN  \n",
       "5         NaN      NaN  \n",
       "6         NaN      NaN  \n",
       "7         NaN      NaN  \n",
       "8         NaN      NaN  "
      ]
     },
     "execution_count": 11,
     "metadata": {},
     "output_type": "execute_result"
    }
   ],
   "source": [
    "generated_log.df[['concept:name', 'lifecycle:transition', 'call centre', 'location']].drop_duplicates()"
   ]
  },
  {
   "cell_type": "code",
   "execution_count": null,
   "metadata": {},
   "outputs": [
    {
     "data": {
      "text/plain": [
       "np.float64(1.0)"
      ]
     },
     "execution_count": 189,
     "metadata": {},
     "output_type": "execute_result"
    }
   ],
   "source": [
    "def count_best_match_df(original_log: pd.DataFrame, generated_log: pd.DataFrame, columns=[], weights=None):\n",
    "    if weights is None:\n",
    "        weights = {column: 1 for column in columns}\n",
    "\n",
    "    # Validation\n",
    "    missing_columns_in_weights = [column for column in columns if column not in weights]\n",
    "    if len(missing_columns_in_weights):\n",
    "        raise ValueError(f\"Missing columns in weights: {missing_columns_in_weights}\")\n",
    "\n",
    "    original_df = original_log[columns].reset_index(drop=True)\n",
    "    generated_df = generated_log[columns].reset_index(drop=True)\n",
    "\n",
    "    shape = (len(original_df), len(columns))\n",
    "\n",
    "    scores = []\n",
    "    for generated_event_index, generated_event in generated_df.iterrows():\n",
    "        mask = (original_df == generated_event) | ((original_df != original_df) & (generated_event != generated_event))\n",
    "\n",
    "        event_scores = pd.DataFrame(np.zeros(shape, dtype=int), columns=columns)\n",
    "\n",
    "        for column, weight in weights.items():\n",
    "            event_scores[column] = mask[column].map({ True: weight, False: 0 })\n",
    "\n",
    "        event_scores_sum = event_scores[columns].sum(axis=1)\n",
    "\n",
    "        best_event_score = event_scores_sum.max()\n",
    "        scores.append(best_event_score)\n",
    "\n",
    "    generated_log = generated_log[columns]\n",
    "\n",
    "    scores = pd.Series(scores)\n",
    "    normalized_scores = scores / len(columns)\n",
    "    trace_score = normalized_scores.mean()\n",
    "\n",
    "    return trace_score\n",
    "\n",
    "columns = ['concept:name', 'lifecycle:transition', 'call centre', 'location']\n",
    "count_best_match_df(log.df, generated_log.traces[0].df, columns)"
   ]
  },
  {
   "cell_type": "code",
   "execution_count": null,
   "metadata": {},
   "outputs": [
    {
     "data": {
      "text/plain": [
       "np.float64(0.0)"
      ]
     },
     "execution_count": 285,
     "metadata": {},
     "output_type": "execute_result"
    }
   ],
   "source": [
    "# V2\n",
    "def find_matching_events(\n",
    "        events: pd.DataFrame,\n",
    "        event: pd.Series,\n",
    "        identification_columns: list[str]\n",
    "):\n",
    "    id_mask = [events[column] == event[column] for column in identification_columns]\n",
    "    id_mask = reduce(lambda a, b: a & b, id_mask)\n",
    "    return events[id_mask]\n",
    "\n",
    "def find_best_score_categorical(\n",
    "        original_df: pd.DataFrame,\n",
    "        event: pd.Series,\n",
    "        identification_columns: list[str],\n",
    "        weights: pd.Series\n",
    "):\n",
    "    matching_events = find_matching_events(original_df, event, identification_columns)\n",
    "\n",
    "    matching_events_data = matching_events[weights.keys()]\n",
    "    event_data = event[weights.keys()]\n",
    "\n",
    "    similarities = (matching_events_data == event_data) | ((matching_events_data != matching_events_data) & (event_data != event_data))\n",
    "\n",
    "    diffs = ~similarities\n",
    "    diffs = diffs.astype(int)\n",
    "    diffs = diffs * weights\n",
    "\n",
    "    scores = diffs.sum(axis=1) / weights.sum()\n",
    "\n",
    "    best_score_index = scores.idxmin()\n",
    "\n",
    "    score = scores.loc[best_score_index]\n",
    "\n",
    "    return score, diffs, best_score_index\n",
    "\n",
    "\n",
    "def count_best_match_df(\n",
    "        original_df: pd.DataFrame,\n",
    "        generated_df: pd.DataFrame,\n",
    "        identification_columns: list[str],\n",
    "        difference_columns: list[str] | None = None,\n",
    "        weights: pd.Series | dict[str, float] | None = None\n",
    "):\n",
    "    if weights is None and difference_columns is None:\n",
    "        raise ValueError('Either difference_columns or weights must be present')\n",
    "\n",
    "    if weights is None:\n",
    "        weights = {column: 1 for column in difference_columns}\n",
    "    else:\n",
    "        difference_columns = list(weights.keys())\n",
    "\n",
    "    weights = pd.Series(weights)\n",
    "\n",
    "    identification_columns = set(identification_columns)\n",
    "    difference_columns = set(difference_columns)\n",
    "\n",
    "    if identification_columns & difference_columns:\n",
    "        raise ValueError('identification_columns and difference_columns must not intersect')\n",
    "\n",
    "    all_columns = list(identification_columns | difference_columns)\n",
    "\n",
    "    original_df = original_df[all_columns].reset_index(drop=True)\n",
    "    generated_df = generated_df[all_columns].reset_index(drop=True)\n",
    "\n",
    "    scores = []\n",
    "    for generated_event_index, generated_event in generated_df.iterrows():\n",
    "        score, diffs, best_score_index = find_best_score_categorical(original_df, generated_event, identification_columns, weights)\n",
    "\n",
    "        # print()\n",
    "        # print()\n",
    "        # print()\n",
    "        # print(\"event\")\n",
    "        # print(generated_event)\n",
    "\n",
    "        # print()\n",
    "        # print(\"best score index\")\n",
    "        # print(best_score_index)\n",
    "\n",
    "        # print()\n",
    "        # print(\"matched event\")\n",
    "        # print(original_df.iloc[best_score_index])\n",
    "\n",
    "        scores.append(score)\n",
    "\n",
    "    mean_score = pd.Series(scores).mean()\n",
    "\n",
    "    return mean_score\n",
    "\n",
    "columns = ['concept:name', 'lifecycle:transition', 'call centre', 'location']\n",
    "count_best_match_df(\n",
    "    log.df,\n",
    "    generated_log.traces[0].df,\n",
    "    identification_columns=['concept:name', 'lifecycle:transition'],\n",
    "    difference_columns=['call centre', 'location', 'outcome', 'org:resource']\n",
    ")"
   ]
  },
  {
   "cell_type": "code",
   "execution_count": 242,
   "metadata": {},
   "outputs": [
    {
     "data": {
      "application/vnd.microsoft.datawrangler.viewer.v0+json": {
       "columns": [
        {
         "name": "index",
         "rawType": "int64",
         "type": "integer"
        },
        {
         "name": "case:concept:name",
         "rawType": "int64",
         "type": "integer"
        },
        {
         "name": "concept:name",
         "rawType": "object",
         "type": "string"
        },
        {
         "name": "lifecycle:transition",
         "rawType": "object",
         "type": "string"
        },
        {
         "name": "time:timestamp",
         "rawType": "float64",
         "type": "float"
        },
        {
         "name": "call centre",
         "rawType": "object",
         "type": "unknown"
        },
        {
         "name": "org:resource",
         "rawType": "object",
         "type": "string"
        },
        {
         "name": "location",
         "rawType": "object",
         "type": "unknown"
        },
        {
         "name": "duration",
         "rawType": "object",
         "type": "unknown"
        },
        {
         "name": "outcome",
         "rawType": "object",
         "type": "unknown"
        },
        {
         "name": "case:description",
         "rawType": "object",
         "type": "string"
        }
       ],
       "conversionMethod": "pd.DataFrame",
       "ref": "f445b034-c900-4bd5-adb3-97ca270a21b4",
       "rows": [
        [
         "0",
         "1",
         "incoming claim",
         "complete",
         "0.0",
         "Brisbane",
         "customer",
         null,
         null,
         null,
         "Simulated process instance"
        ],
        [
         "1",
         "1",
         "B check if sufficient information is available",
         "start",
         "0.0",
         null,
         "Call Centre Agent Brisbane",
         "Brisbane",
         null,
         null,
         "Simulated process instance"
        ],
        [
         "2",
         "1",
         "B check if sufficient information is available",
         "complete",
         "41.0",
         null,
         "Call Centre Agent Brisbane",
         "Brisbane",
         null,
         null,
         "Simulated process instance"
        ],
        [
         "3",
         "1",
         "B register claim",
         "start",
         "41.0",
         null,
         "Call Centre Agent Brisbane",
         null,
         null,
         null,
         "Simulated process instance"
        ],
        [
         "4",
         "1",
         "B register claim",
         "complete",
         "779.0",
         null,
         "Call Centre Agent Brisbane",
         null,
         null,
         null,
         "Simulated process instance"
        ],
        [
         "5",
         "1",
         "determine likelihood of claim",
         "start",
         "2824.0",
         null,
         "Claims handler",
         null,
         null,
         null,
         "Simulated process instance"
        ],
        [
         "6",
         "1",
         "determine likelihood of claim",
         "complete",
         "2832.0",
         null,
         "Claims handler",
         null,
         null,
         null,
         "Simulated process instance"
        ],
        [
         "7",
         "1",
         "end",
         "start",
         "2832.0",
         null,
         "Claims handler",
         null,
         "2832",
         "not liable",
         "Simulated process instance"
        ],
        [
         "8",
         "1",
         "end",
         "complete",
         "2832.0",
         null,
         "Claims handler",
         null,
         "2832",
         "not liable",
         "Simulated process instance"
        ],
        [
         "0",
         "2",
         "incoming claim",
         "complete",
         "0.0",
         "Sydney",
         "customer",
         null,
         null,
         null,
         "Simulated process instance"
        ],
        [
         "1",
         "2",
         "S check if sufficient information is available",
         "start",
         "0.0",
         null,
         "Call Centre Agent Sydney",
         "Sydney",
         null,
         null,
         "Simulated process instance"
        ],
        [
         "2",
         "2",
         "S check if sufficient information is available",
         "complete",
         "21.0",
         null,
         "Call Centre Agent Sydney",
         "Sydney",
         null,
         null,
         "Simulated process instance"
        ],
        [
         "3",
         "2",
         "S register claim",
         "start",
         "21.0",
         null,
         "Call Centre Agent Sydney",
         null,
         null,
         null,
         "Simulated process instance"
        ],
        [
         "4",
         "2",
         "S register claim",
         "complete",
         "114.0",
         null,
         "Call Centre Agent Sydney",
         null,
         null,
         null,
         "Simulated process instance"
        ],
        [
         "5",
         "2",
         "determine likelihood of claim",
         "start",
         "114.0",
         null,
         "Claims handler",
         null,
         null,
         null,
         "Simulated process instance"
        ],
        [
         "6",
         "2",
         "determine likelihood of claim",
         "complete",
         "125.0",
         null,
         "Claims handler",
         null,
         null,
         null,
         "Simulated process instance"
        ],
        [
         "7",
         "2",
         "assess claim",
         "start",
         "125.0",
         null,
         "Claims handler",
         null,
         null,
         null,
         "Simulated process instance"
        ],
        [
         "8",
         "2",
         "assess claim",
         "complete",
         "249.0",
         null,
         "Claims handler",
         null,
         null,
         null,
         "Simulated process instance"
        ],
        [
         "9",
         "2",
         "advise claimant on reimbursement",
         "start",
         "249.0",
         null,
         "Claims handler",
         null,
         null,
         null,
         "Simulated process instance"
        ],
        [
         "10",
         "2",
         "advise claimant on reimbursement",
         "complete",
         "478.0",
         null,
         "Claims handler",
         null,
         null,
         null,
         "Simulated process instance"
        ],
        [
         "11",
         "2",
         "initiate payment",
         "start",
         "478.0",
         null,
         "Claims handler",
         null,
         null,
         null,
         "Simulated process instance"
        ],
        [
         "12",
         "2",
         "initiate payment",
         "complete",
         "533.0",
         null,
         "Claims handler",
         null,
         null,
         null,
         "Simulated process instance"
        ],
        [
         "13",
         "2",
         "close claim",
         "start",
         "533.0",
         null,
         "Claims handler",
         null,
         null,
         null,
         "Simulated process instance"
        ],
        [
         "14",
         "2",
         "close claim",
         "complete",
         "534.0",
         null,
         "Claims handler",
         null,
         null,
         null,
         "Simulated process instance"
        ],
        [
         "15",
         "2",
         "end",
         "start",
         "534.0",
         null,
         "Claims handler",
         null,
         "534",
         "processed",
         "Simulated process instance"
        ],
        [
         "16",
         "2",
         "end",
         "complete",
         "534.0",
         null,
         "Claims handler",
         null,
         "534",
         "processed",
         "Simulated process instance"
        ],
        [
         "0",
         "3",
         "incoming claim",
         "complete",
         "45.0",
         "Brisbane",
         "customer",
         null,
         null,
         null,
         "Simulated process instance"
        ],
        [
         "1",
         "3",
         "B check if sufficient information is available",
         "start",
         "45.0",
         null,
         "Call Centre Agent Brisbane",
         "Brisbane",
         null,
         null,
         "Simulated process instance"
        ],
        [
         "2",
         "3",
         "B check if sufficient information is available",
         "complete",
         "72.0",
         null,
         "Call Centre Agent Brisbane",
         "Brisbane",
         null,
         null,
         "Simulated process instance"
        ],
        [
         "3",
         "3",
         "B register claim",
         "start",
         "72.0",
         null,
         "Call Centre Agent Brisbane",
         null,
         null,
         null,
         "Simulated process instance"
        ],
        [
         "4",
         "3",
         "B register claim",
         "complete",
         "754.0",
         null,
         "Call Centre Agent Brisbane",
         null,
         null,
         null,
         "Simulated process instance"
        ],
        [
         "5",
         "3",
         "determine likelihood of claim",
         "start",
         "862.0",
         null,
         "Claims handler",
         null,
         null,
         null,
         "Simulated process instance"
        ],
        [
         "6",
         "3",
         "determine likelihood of claim",
         "complete",
         "900.0",
         null,
         "Claims handler",
         null,
         null,
         null,
         "Simulated process instance"
        ],
        [
         "7",
         "3",
         "assess claim",
         "start",
         "900.0",
         null,
         "Claims handler",
         null,
         null,
         null,
         "Simulated process instance"
        ],
        [
         "8",
         "3",
         "assess claim",
         "complete",
         "1036.0",
         null,
         "Claims handler",
         null,
         null,
         null,
         "Simulated process instance"
        ],
        [
         "9",
         "3",
         "initiate payment",
         "start",
         "1036.0",
         null,
         "Claims handler",
         null,
         null,
         null,
         "Simulated process instance"
        ],
        [
         "10",
         "3",
         "initiate payment",
         "complete",
         "1108.0",
         null,
         "Claims handler",
         null,
         null,
         null,
         "Simulated process instance"
        ],
        [
         "11",
         "3",
         "advise claimant on reimbursement",
         "start",
         "1108.0",
         null,
         "Claims handler",
         null,
         null,
         null,
         "Simulated process instance"
        ],
        [
         "12",
         "3",
         "advise claimant on reimbursement",
         "complete",
         "1187.0",
         null,
         "Claims handler",
         null,
         null,
         null,
         "Simulated process instance"
        ],
        [
         "13",
         "3",
         "close claim",
         "start",
         "1187.0",
         null,
         "Claims handler",
         null,
         null,
         null,
         "Simulated process instance"
        ],
        [
         "14",
         "3",
         "close claim",
         "complete",
         "1225.0",
         null,
         "Claims handler",
         null,
         null,
         null,
         "Simulated process instance"
        ],
        [
         "15",
         "3",
         "end",
         "start",
         "1225.0",
         null,
         "Claims handler",
         null,
         "1180",
         "processed",
         "Simulated process instance"
        ],
        [
         "16",
         "3",
         "end",
         "complete",
         "1225.0",
         null,
         "Claims handler",
         null,
         "1180",
         "processed",
         "Simulated process instance"
        ],
        [
         "0",
         "4",
         "incoming claim",
         "complete",
         "779.0",
         "Brisbane",
         "customer",
         null,
         null,
         null,
         "Simulated process instance"
        ],
        [
         "1",
         "4",
         "B check if sufficient information is available",
         "start",
         "10438.0",
         null,
         "Call Centre Agent Brisbane",
         "Brisbane",
         null,
         null,
         "Simulated process instance"
        ],
        [
         "2",
         "4",
         "B check if sufficient information is available",
         "complete",
         "10466.0",
         null,
         "Call Centre Agent Brisbane",
         "Brisbane",
         null,
         null,
         "Simulated process instance"
        ],
        [
         "3",
         "4",
         "B register claim",
         "start",
         "10466.0",
         null,
         "Call Centre Agent Brisbane",
         null,
         null,
         null,
         "Simulated process instance"
        ],
        [
         "4",
         "4",
         "B register claim",
         "complete",
         "12341.0",
         null,
         "Call Centre Agent Brisbane",
         null,
         null,
         null,
         "Simulated process instance"
        ],
        [
         "5",
         "4",
         "determine likelihood of claim",
         "start",
         "13690.0",
         null,
         "Claims handler",
         null,
         null,
         null,
         "Simulated process instance"
        ],
        [
         "6",
         "4",
         "determine likelihood of claim",
         "complete",
         "13696.0",
         null,
         "Claims handler",
         null,
         null,
         null,
         "Simulated process instance"
        ]
       ],
       "shape": {
        "columns": 10,
        "rows": 46138
       }
      },
      "text/html": [
       "<div>\n",
       "<style scoped>\n",
       "    .dataframe tbody tr th:only-of-type {\n",
       "        vertical-align: middle;\n",
       "    }\n",
       "\n",
       "    .dataframe tbody tr th {\n",
       "        vertical-align: top;\n",
       "    }\n",
       "\n",
       "    .dataframe thead th {\n",
       "        text-align: right;\n",
       "    }\n",
       "</style>\n",
       "<table border=\"1\" class=\"dataframe\">\n",
       "  <thead>\n",
       "    <tr style=\"text-align: right;\">\n",
       "      <th></th>\n",
       "      <th>case:concept:name</th>\n",
       "      <th>concept:name</th>\n",
       "      <th>lifecycle:transition</th>\n",
       "      <th>time:timestamp</th>\n",
       "      <th>call centre</th>\n",
       "      <th>org:resource</th>\n",
       "      <th>location</th>\n",
       "      <th>duration</th>\n",
       "      <th>outcome</th>\n",
       "      <th>case:description</th>\n",
       "    </tr>\n",
       "  </thead>\n",
       "  <tbody>\n",
       "    <tr>\n",
       "      <th>0</th>\n",
       "      <td>1</td>\n",
       "      <td>incoming claim</td>\n",
       "      <td>complete</td>\n",
       "      <td>0.0</td>\n",
       "      <td>Brisbane</td>\n",
       "      <td>customer</td>\n",
       "      <td>NaN</td>\n",
       "      <td>NaN</td>\n",
       "      <td>NaN</td>\n",
       "      <td>Simulated process instance</td>\n",
       "    </tr>\n",
       "    <tr>\n",
       "      <th>1</th>\n",
       "      <td>1</td>\n",
       "      <td>B check if sufficient information is available</td>\n",
       "      <td>start</td>\n",
       "      <td>0.0</td>\n",
       "      <td>NaN</td>\n",
       "      <td>Call Centre Agent Brisbane</td>\n",
       "      <td>Brisbane</td>\n",
       "      <td>NaN</td>\n",
       "      <td>NaN</td>\n",
       "      <td>Simulated process instance</td>\n",
       "    </tr>\n",
       "    <tr>\n",
       "      <th>2</th>\n",
       "      <td>1</td>\n",
       "      <td>B check if sufficient information is available</td>\n",
       "      <td>complete</td>\n",
       "      <td>41.0</td>\n",
       "      <td>NaN</td>\n",
       "      <td>Call Centre Agent Brisbane</td>\n",
       "      <td>Brisbane</td>\n",
       "      <td>NaN</td>\n",
       "      <td>NaN</td>\n",
       "      <td>Simulated process instance</td>\n",
       "    </tr>\n",
       "    <tr>\n",
       "      <th>3</th>\n",
       "      <td>1</td>\n",
       "      <td>B register claim</td>\n",
       "      <td>start</td>\n",
       "      <td>41.0</td>\n",
       "      <td>NaN</td>\n",
       "      <td>Call Centre Agent Brisbane</td>\n",
       "      <td>NaN</td>\n",
       "      <td>NaN</td>\n",
       "      <td>NaN</td>\n",
       "      <td>Simulated process instance</td>\n",
       "    </tr>\n",
       "    <tr>\n",
       "      <th>4</th>\n",
       "      <td>1</td>\n",
       "      <td>B register claim</td>\n",
       "      <td>complete</td>\n",
       "      <td>779.0</td>\n",
       "      <td>NaN</td>\n",
       "      <td>Call Centre Agent Brisbane</td>\n",
       "      <td>NaN</td>\n",
       "      <td>NaN</td>\n",
       "      <td>NaN</td>\n",
       "      <td>Simulated process instance</td>\n",
       "    </tr>\n",
       "    <tr>\n",
       "      <th>...</th>\n",
       "      <td>...</td>\n",
       "      <td>...</td>\n",
       "      <td>...</td>\n",
       "      <td>...</td>\n",
       "      <td>...</td>\n",
       "      <td>...</td>\n",
       "      <td>...</td>\n",
       "      <td>...</td>\n",
       "      <td>...</td>\n",
       "      <td>...</td>\n",
       "    </tr>\n",
       "    <tr>\n",
       "      <th>4</th>\n",
       "      <td>3512</td>\n",
       "      <td>S register claim</td>\n",
       "      <td>complete</td>\n",
       "      <td>9571.0</td>\n",
       "      <td>NaN</td>\n",
       "      <td>Call Centre Agent Sydney</td>\n",
       "      <td>NaN</td>\n",
       "      <td>NaN</td>\n",
       "      <td>NaN</td>\n",
       "      <td>Simulated process instance</td>\n",
       "    </tr>\n",
       "    <tr>\n",
       "      <th>5</th>\n",
       "      <td>3512</td>\n",
       "      <td>determine likelihood of claim</td>\n",
       "      <td>start</td>\n",
       "      <td>24964.0</td>\n",
       "      <td>NaN</td>\n",
       "      <td>Claims handler</td>\n",
       "      <td>NaN</td>\n",
       "      <td>NaN</td>\n",
       "      <td>NaN</td>\n",
       "      <td>Simulated process instance</td>\n",
       "    </tr>\n",
       "    <tr>\n",
       "      <th>6</th>\n",
       "      <td>3512</td>\n",
       "      <td>determine likelihood of claim</td>\n",
       "      <td>complete</td>\n",
       "      <td>24995.0</td>\n",
       "      <td>NaN</td>\n",
       "      <td>Claims handler</td>\n",
       "      <td>NaN</td>\n",
       "      <td>NaN</td>\n",
       "      <td>NaN</td>\n",
       "      <td>Simulated process instance</td>\n",
       "    </tr>\n",
       "    <tr>\n",
       "      <th>7</th>\n",
       "      <td>3512</td>\n",
       "      <td>end</td>\n",
       "      <td>start</td>\n",
       "      <td>24995.0</td>\n",
       "      <td>NaN</td>\n",
       "      <td>Claims handler</td>\n",
       "      <td>NaN</td>\n",
       "      <td>17306</td>\n",
       "      <td>not liable</td>\n",
       "      <td>Simulated process instance</td>\n",
       "    </tr>\n",
       "    <tr>\n",
       "      <th>8</th>\n",
       "      <td>3512</td>\n",
       "      <td>end</td>\n",
       "      <td>complete</td>\n",
       "      <td>24995.0</td>\n",
       "      <td>NaN</td>\n",
       "      <td>Claims handler</td>\n",
       "      <td>NaN</td>\n",
       "      <td>17306</td>\n",
       "      <td>not liable</td>\n",
       "      <td>Simulated process instance</td>\n",
       "    </tr>\n",
       "  </tbody>\n",
       "</table>\n",
       "<p>46138 rows × 10 columns</p>\n",
       "</div>"
      ],
      "text/plain": [
       "    case:concept:name                                    concept:name  \\\n",
       "0                   1                                  incoming claim   \n",
       "1                   1  B check if sufficient information is available   \n",
       "2                   1  B check if sufficient information is available   \n",
       "3                   1                                B register claim   \n",
       "4                   1                                B register claim   \n",
       "..                ...                                             ...   \n",
       "4                3512                                S register claim   \n",
       "5                3512                   determine likelihood of claim   \n",
       "6                3512                   determine likelihood of claim   \n",
       "7                3512                                             end   \n",
       "8                3512                                             end   \n",
       "\n",
       "   lifecycle:transition  time:timestamp call centre  \\\n",
       "0              complete             0.0    Brisbane   \n",
       "1                 start             0.0         NaN   \n",
       "2              complete            41.0         NaN   \n",
       "3                 start            41.0         NaN   \n",
       "4              complete           779.0         NaN   \n",
       "..                  ...             ...         ...   \n",
       "4              complete          9571.0         NaN   \n",
       "5                 start         24964.0         NaN   \n",
       "6              complete         24995.0         NaN   \n",
       "7                 start         24995.0         NaN   \n",
       "8              complete         24995.0         NaN   \n",
       "\n",
       "                  org:resource  location duration     outcome  \\\n",
       "0                     customer       NaN      NaN         NaN   \n",
       "1   Call Centre Agent Brisbane  Brisbane      NaN         NaN   \n",
       "2   Call Centre Agent Brisbane  Brisbane      NaN         NaN   \n",
       "3   Call Centre Agent Brisbane       NaN      NaN         NaN   \n",
       "4   Call Centre Agent Brisbane       NaN      NaN         NaN   \n",
       "..                         ...       ...      ...         ...   \n",
       "4     Call Centre Agent Sydney       NaN      NaN         NaN   \n",
       "5               Claims handler       NaN      NaN         NaN   \n",
       "6               Claims handler       NaN      NaN         NaN   \n",
       "7               Claims handler       NaN    17306  not liable   \n",
       "8               Claims handler       NaN    17306  not liable   \n",
       "\n",
       "              case:description  \n",
       "0   Simulated process instance  \n",
       "1   Simulated process instance  \n",
       "2   Simulated process instance  \n",
       "3   Simulated process instance  \n",
       "4   Simulated process instance  \n",
       "..                         ...  \n",
       "4   Simulated process instance  \n",
       "5   Simulated process instance  \n",
       "6   Simulated process instance  \n",
       "7   Simulated process instance  \n",
       "8   Simulated process instance  \n",
       "\n",
       "[46138 rows x 10 columns]"
      ]
     },
     "execution_count": 242,
     "metadata": {},
     "output_type": "execute_result"
    }
   ],
   "source": [
    "processed_original_df = log.df.copy(deep=True)\n",
    "processed_original_df['time:timestamp'] -= processed_original_df['time:timestamp'].min()\n",
    "processed_original_df['time:timestamp'] = processed_original_df['time:timestamp'].dt.total_seconds()\n",
    "processed_original_df"
   ]
  },
  {
   "cell_type": "code",
   "execution_count": null,
   "metadata": {},
   "outputs": [
    {
     "name": "stdout",
     "output_type": "stream",
     "text": [
      "\n",
      "\n",
      "\n",
      "event\n",
      "concept:name            incoming claim\n",
      "lifecycle:transition          complete\n",
      "time:timestamp                0.048564\n",
      "Name: 0, dtype: object\n",
      "\n",
      "best score index\n",
      "0\n",
      "\n",
      "matched event\n",
      "concept:name            incoming claim\n",
      "lifecycle:transition          complete\n",
      "time:timestamp                     0.0\n",
      "Name: 0, dtype: object\n",
      "\n",
      "\n",
      "\n",
      "event\n",
      "concept:name            S check if sufficient information is available\n",
      "lifecycle:transition                                             start\n",
      "time:timestamp                                                     0.0\n",
      "Name: 1, dtype: object\n",
      "\n",
      "best score index\n",
      "10\n",
      "\n",
      "matched event\n",
      "concept:name            S check if sufficient information is available\n",
      "lifecycle:transition                                             start\n",
      "time:timestamp                                                     0.0\n",
      "Name: 10, dtype: object\n",
      "\n",
      "\n",
      "\n",
      "event\n",
      "concept:name            S check if sufficient information is available\n",
      "lifecycle:transition                                          complete\n",
      "time:timestamp                                               13.147293\n",
      "Name: 2, dtype: object\n",
      "\n",
      "best score index\n",
      "29219\n",
      "\n",
      "matched event\n",
      "concept:name            S check if sufficient information is available\n",
      "lifecycle:transition                                          complete\n",
      "time:timestamp                                                    15.0\n",
      "Name: 29219, dtype: object\n",
      "\n",
      "\n",
      "\n",
      "event\n",
      "concept:name            S register claim\n",
      "lifecycle:transition               start\n",
      "time:timestamp                 14.196736\n",
      "Name: 3, dtype: object\n",
      "\n",
      "best score index\n",
      "29220\n",
      "\n",
      "matched event\n",
      "concept:name            S register claim\n",
      "lifecycle:transition               start\n",
      "time:timestamp                      15.0\n",
      "Name: 29220, dtype: object\n",
      "\n",
      "\n",
      "\n",
      "event\n",
      "concept:name            S register claim\n",
      "lifecycle:transition            complete\n",
      "time:timestamp                913.523996\n",
      "Name: 4, dtype: object\n",
      "\n",
      "best score index\n",
      "42217\n",
      "\n",
      "matched event\n",
      "concept:name            S register claim\n",
      "lifecycle:transition            complete\n",
      "time:timestamp                     882.0\n",
      "Name: 42217, dtype: object\n",
      "\n",
      "\n",
      "\n",
      "event\n",
      "concept:name            determine likelihood of claim\n",
      "lifecycle:transition                            start\n",
      "time:timestamp                           12025.703574\n",
      "Name: 5, dtype: object\n",
      "\n",
      "best score index\n",
      "3902\n",
      "\n",
      "matched event\n",
      "concept:name            determine likelihood of claim\n",
      "lifecycle:transition                            start\n",
      "time:timestamp                                12046.0\n",
      "Name: 3902, dtype: object\n",
      "\n",
      "\n",
      "\n",
      "event\n",
      "concept:name            determine likelihood of claim\n",
      "lifecycle:transition                         complete\n",
      "time:timestamp                           12041.574538\n",
      "Name: 6, dtype: object\n",
      "\n",
      "best score index\n",
      "3903\n",
      "\n",
      "matched event\n",
      "concept:name            determine likelihood of claim\n",
      "lifecycle:transition                         complete\n",
      "time:timestamp                                12052.0\n",
      "Name: 3903, dtype: object\n",
      "\n",
      "\n",
      "\n",
      "event\n",
      "concept:name                     end\n",
      "lifecycle:transition           start\n",
      "time:timestamp          12041.236115\n",
      "Name: 7, dtype: object\n",
      "\n",
      "best score index\n",
      "628\n",
      "\n",
      "matched event\n",
      "concept:name                end\n",
      "lifecycle:transition      start\n",
      "time:timestamp          12046.0\n",
      "Name: 628, dtype: object\n",
      "\n",
      "\n",
      "\n",
      "event\n",
      "concept:name                     end\n",
      "lifecycle:transition        complete\n",
      "time:timestamp          12041.185435\n",
      "Name: 8, dtype: object\n",
      "\n",
      "best score index\n",
      "629\n",
      "\n",
      "matched event\n",
      "concept:name                 end\n",
      "lifecycle:transition    complete\n",
      "time:timestamp           12046.0\n",
      "Name: 629, dtype: object\n"
     ]
    },
    {
     "data": {
      "text/plain": [
       "np.float64(0.0002794820067868165)"
      ]
     },
     "execution_count": 273,
     "metadata": {},
     "output_type": "execute_result"
    }
   ],
   "source": [
    "def find_matching_events(\n",
    "        events: pd.DataFrame,\n",
    "        event: pd.Series,\n",
    "        identification_columns: list[str]\n",
    "):\n",
    "    id_mask = [events[column] == event[column] for column in identification_columns]\n",
    "    id_mask = reduce(lambda a, b: a & b, id_mask)\n",
    "    return events[id_mask]\n",
    "\n",
    "def find_best_score(\n",
    "        original_df: pd.DataFrame,\n",
    "        event: pd.Series,\n",
    "        identification_columns: list[str],\n",
    "        difference_weights: pd.Series\n",
    "):\n",
    "    matching_events = find_matching_events(original_df, event, identification_columns)\n",
    "\n",
    "    column_diffs = matching_events[difference_weights.keys()] - event[difference_weights.keys()]\n",
    "    column_diffs = column_diffs.abs()\n",
    "\n",
    "    # Normalize within each column's range\n",
    "    column_diffs = column_diffs / column_diffs.max()\n",
    "\n",
    "    column_diffs = column_diffs * difference_weights\n",
    "\n",
    "    scores = column_diffs.sum(axis=1) / difference_weights.sum()\n",
    "    best_score_index = scores.idxmin()\n",
    "\n",
    "    # Note: best_score_index may be greater than len(scores)\n",
    "    # because best_score_index is index of original_df, not matching_events\n",
    "    # It is important to use .loc and not .iloc\n",
    "    score = scores.loc[best_score_index]\n",
    "\n",
    "    return score, column_diffs, best_score_index\n",
    "\n",
    "def count_best_match_numerical(\n",
    "        original_log: pd.DataFrame,\n",
    "        generated_log: pd.DataFrame,\n",
    "        identification_columns: list[str],\n",
    "        difference_weights: dict[str, float]\n",
    "):\n",
    "    difference_columns = set(difference_weights.keys())\n",
    "    identification_columns = set(identification_columns)\n",
    "\n",
    "    if identification_columns & difference_columns:\n",
    "        raise ValueError('identification_columns and difference_weights.keys() must not intersect')\n",
    "\n",
    "    all_columns = list(set(identification_columns) | set(difference_columns))\n",
    "\n",
    "    original_df = original_log[all_columns].reset_index(drop=True)\n",
    "    generated_df = generated_log[all_columns].reset_index(drop=True)\n",
    "\n",
    "    # Validate same columns and column types\n",
    "    if (original_df.dtypes != generated_df.dtypes).any():\n",
    "        raise ValueError('Mismatching dtypes')\n",
    "\n",
    "    generated_df_of_difference_columns = generated_df[list(difference_columns)]\n",
    "    dtypes = generated_df_of_difference_columns.dtypes\n",
    "    invalid_dtypes = list(generated_df_of_difference_columns.columns[dtypes != 'float'])\n",
    "    if len(invalid_dtypes):\n",
    "        raise ValueError(f\"All of identification columns must be converted to float. These identification columns have invalid dtype: {invalid_dtypes}\")\n",
    "\n",
    "    difference_weights = pd.Series(difference_weights)\n",
    "\n",
    "    scores = []\n",
    "    for generated_event_index, generated_event in generated_df.iterrows():\n",
    "        score, column_scores, best_score_index = find_best_score(original_df, generated_event, identification_columns, difference_weights)\n",
    "\n",
    "        # print()\n",
    "        # print()\n",
    "        # print()\n",
    "        # print(\"event\")\n",
    "        # print(generated_event)\n",
    "\n",
    "        # print()\n",
    "        # print(\"best score index\")\n",
    "        # print(best_score_index)\n",
    "\n",
    "        # print()\n",
    "        # print(\"matched event\")\n",
    "        # print(original_df.iloc[best_score_index])\n",
    "\n",
    "        scores.append(score)\n",
    "\n",
    "    mean_score = pd.Series(scores).mean()\n",
    "\n",
    "    return mean_score\n",
    "\n",
    "def convert_timestamp_to_seconds_since_first(df: pd.DataFrame, columns=['time:timestamp']):\n",
    "    new_df = df.copy(deep=True)\n",
    "    for column in columns:\n",
    "        new_df[column] = (new_df[column] - new_df[column].min()).dt.total_seconds()\n",
    "    return new_df\n",
    "\n",
    "processed_original_df = convert_timestamp_to_seconds_since_first(log.df)\n",
    "processed_generated_df = convert_timestamp_to_seconds_since_first(generated_log.traces[0].df)\n",
    "\n",
    "count_best_match_numerical(\n",
    "    original_log=processed_original_df,\n",
    "    generated_log=processed_generated_df,\n",
    "    identification_columns=['concept:name', 'lifecycle:transition'],\n",
    "    difference_weights={'time:timestamp': 1.0}\n",
    ")\n",
    "\n",
    "\n",
    "# print(processed_generated_df.iloc[0])\n",
    "\n",
    "# score, normalized_column_diffs, best_score_index = find_best_score(\n",
    "#     processed_original_df,\n",
    "#     processed_generated_df.iloc[0],\n",
    "#     identification_columns=['concept:name', 'lifecycle:transition'],\n",
    "#     difference_weights={'time:timestamp': 1.0}\n",
    "# )\n",
    "\n",
    "# print(score)\n",
    "# print()\n",
    "# print(normalized_column_diffs.iloc[best_score_index])\n",
    "# print()\n",
    "# print(processed_original_df.iloc[best_score_index])"
   ]
  },
  {
   "cell_type": "code",
   "execution_count": 249,
   "metadata": {},
   "outputs": [
    {
     "data": {
      "text/plain": [
       "pandas.core.dtypes.dtypes.DatetimeTZDtype"
      ]
     },
     "execution_count": 249,
     "metadata": {},
     "output_type": "execute_result"
    }
   ],
   "source": [
    "generated_log.traces[0].df.dtypes['time:timestamp'].__class__"
   ]
  },
  {
   "cell_type": "code",
   "execution_count": 233,
   "metadata": {},
   "outputs": [
    {
     "data": {
      "text/plain": [
       "['case:concept:name', 'time:timestamp']"
      ]
     },
     "execution_count": 233,
     "metadata": {},
     "output_type": "execute_result"
    }
   ],
   "source": [
    "dtypes = generated_log.df.dtypes\n",
    "list(generated_log.df.columns[dtypes != 'object'])"
   ]
  },
  {
   "cell_type": "code",
   "execution_count": 209,
   "metadata": {},
   "outputs": [
    {
     "data": {
      "text/plain": [
       "{1, 2}"
      ]
     },
     "execution_count": 209,
     "metadata": {},
     "output_type": "execute_result"
    }
   ],
   "source": [
    "set([1, 2]) | set([1])"
   ]
  },
  {
   "cell_type": "code",
   "execution_count": 203,
   "metadata": {},
   "outputs": [
    {
     "data": {
      "application/vnd.microsoft.datawrangler.viewer.v0+json": {
       "columns": [
        {
         "name": "index",
         "rawType": "int64",
         "type": "integer"
        },
        {
         "name": "a",
         "rawType": "float64",
         "type": "float"
        },
        {
         "name": "b",
         "rawType": "float64",
         "type": "float"
        }
       ],
       "conversionMethod": "pd.DataFrame",
       "ref": "a67d0480-2f3c-4219-a5e6-b89e5ae96a02",
       "rows": [
        [
         "0",
         "1000.0000000000009",
         "0.0"
        ],
        [
         "1",
         "9000.0",
         "1100.0"
        ],
        [
         "2",
         "19000.0",
         "2100.0"
        ]
       ],
       "shape": {
        "columns": 2,
        "rows": 3
       }
      },
      "text/html": [
       "<div>\n",
       "<style scoped>\n",
       "    .dataframe tbody tr th:only-of-type {\n",
       "        vertical-align: middle;\n",
       "    }\n",
       "\n",
       "    .dataframe tbody tr th {\n",
       "        vertical-align: top;\n",
       "    }\n",
       "\n",
       "    .dataframe thead th {\n",
       "        text-align: right;\n",
       "    }\n",
       "</style>\n",
       "<table border=\"1\" class=\"dataframe\">\n",
       "  <thead>\n",
       "    <tr style=\"text-align: right;\">\n",
       "      <th></th>\n",
       "      <th>a</th>\n",
       "      <th>b</th>\n",
       "    </tr>\n",
       "  </thead>\n",
       "  <tbody>\n",
       "    <tr>\n",
       "      <th>0</th>\n",
       "      <td>1000.0</td>\n",
       "      <td>0.0</td>\n",
       "    </tr>\n",
       "    <tr>\n",
       "      <th>1</th>\n",
       "      <td>9000.0</td>\n",
       "      <td>1100.0</td>\n",
       "    </tr>\n",
       "    <tr>\n",
       "      <th>2</th>\n",
       "      <td>19000.0</td>\n",
       "      <td>2100.0</td>\n",
       "    </tr>\n",
       "  </tbody>\n",
       "</table>\n",
       "</div>"
      ],
      "text/plain": [
       "         a       b\n",
       "0   1000.0     0.0\n",
       "1   9000.0  1100.0\n",
       "2  19000.0  2100.0"
      ]
     },
     "execution_count": 203,
     "metadata": {},
     "output_type": "execute_result"
    }
   ],
   "source": [
    "df = pd.DataFrame([[1, 1], [2, 2.1], [3, 3.1]], columns=['a', 'b'])\n",
    "# s = pd.Series({ 'a': 1, 'b': 1.1 })\n",
    "s = pd.Series({ 'b': 1, 'a': 1.1 })\n",
    "# df - s\n",
    "\n",
    "mul = pd.Series({ 'b': 1000, 'a': 10000 })\n",
    "((df - s) * mul).abs()"
   ]
  },
  {
   "cell_type": "code",
   "execution_count": 191,
   "metadata": {},
   "outputs": [
    {
     "data": {
      "text/plain": [
       "0         True\n",
       "1        False\n",
       "2        False\n",
       "3        False\n",
       "4        False\n",
       "         ...  \n",
       "46133    False\n",
       "46134    False\n",
       "46135    False\n",
       "46136    False\n",
       "46137    False\n",
       "Name: concept:name, Length: 46138, dtype: bool"
      ]
     },
     "execution_count": 191,
     "metadata": {},
     "output_type": "execute_result"
    }
   ],
   "source": [
    "original_df['concept:name'] == 'incoming claim'\n",
    "# original_df[original_df['concept:name'] == 'incoming claim']"
   ]
  }
 ],
 "metadata": {
  "kernelspec": {
   "display_name": "venv",
   "language": "python",
   "name": "python3"
  },
  "language_info": {
   "codemirror_mode": {
    "name": "ipython",
    "version": 3
   },
   "file_extension": ".py",
   "mimetype": "text/x-python",
   "name": "python",
   "nbconvert_exporter": "python",
   "pygments_lexer": "ipython3",
   "version": "3.13.2"
  }
 },
 "nbformat": 4,
 "nbformat_minor": 2
}
