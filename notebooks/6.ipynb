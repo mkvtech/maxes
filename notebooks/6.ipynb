{
 "cells": [
  {
   "cell_type": "code",
   "execution_count": 1,
   "metadata": {},
   "outputs": [],
   "source": [
    "%load_ext autoreload\n",
    "import pandas as pd\n",
    "import numpy as np"
   ]
  },
  {
   "cell_type": "code",
   "execution_count": 41,
   "metadata": {},
   "outputs": [],
   "source": [
    "%autoreload\n",
    "from src.xes.load_xes import load_raw_xes\n",
    "from src.xes.xes_file import XesFile\n",
    "from src.xes.print_xes_info import PrintXesInfo"
   ]
  },
  {
   "cell_type": "code",
   "execution_count": 4,
   "metadata": {},
   "outputs": [],
   "source": [
    "xes = XesFile.read(\"data/BPI_Challenge_2013_closed_problems.xes\")"
   ]
  },
  {
   "cell_type": "code",
   "execution_count": 42,
   "metadata": {},
   "outputs": [
    {
     "name": "stdout",
     "output_type": "stream",
     "text": [
      "Traces: 1487, events: 6660\n",
      "Events: Average: 4.478816408876933, Min: 1, Max: 35\n",
      "\n",
      "11 unique attributes in events:\n",
      "            Attribute  Count Presence\n",
      "            org:group   6659   100.0%\n",
      "     resource country   6659   100.0%\n",
      " organization country   6659   100.0%\n",
      "         org:resource   6659   100.0%\n",
      "organization involved   6659   100.0%\n",
      "             org:role   4581    68.8%\n",
      "         concept:name   6659   100.0%\n",
      "               impact   6659   100.0%\n",
      "              product   6659   100.0%\n",
      " lifecycle:transition   6659   100.0%\n",
      "       time:timestamp   6659   100.0%\n",
      "\n",
      "\"time:timestamp\": 100.0% presence\n",
      "average:      2011-11-01 09:52:43.071171328+00:00\n",
      "min:          2006-01-11 14:49:42+00:00\n",
      "max:          2012-05-31 21:49:06+00:00\n",
      "average span: 178 days 21:14:13.334229992\n",
      "\n",
      "\"concept:name\": 100.0% presence, 4 different values, top 4:\n",
      "Accepted (4207), Completed (1568), Queued (875), Unmatched (10)\n",
      "\n",
      "\"lifecycle:transition\": 100.0% presence, 7 different values, top 5:\n",
      "In Progress (3066), Closed (1565), Awaiting Assignment (875), Assigned (614), Wait (527)\n",
      "\n",
      "\"org:group\": 100.0% presence, 15 different values, top 5:\n",
      "Org line C (2702), Org line A2 (1766), Org line G3 (1164), Org line G4 (608), Org line B (174)\n",
      "\n",
      "\"resource country\": 100.0% presence, 21 different values, top 5:\n",
      "Sweden (3452), POLAND (833), USA (810), INDIA (702), France (252)\n",
      "\n",
      "\"organization country\": 100.0% presence, 17 different values, top 5:\n",
      "se (2681), us (1836), in (954), pl (247), fr (237)\n",
      "\n",
      "\"org:resource\": 100.0% presence, 585 different values, top 5:\n",
      "Carolyn (532), Ewa (469), Peter (148), Tomas (111), Robert (94)\n",
      "\n",
      "\"organization involved\": 100.0% presence, 324 different values, top 5:\n",
      "G199 3rd (1164), G88 2nd (294), S33 2nd (254), S30 2nd (168), G21 2nd (129)\n",
      "\n",
      "\"org:role\": 68.8% presence, 28 different values, top 5:\n",
      "C_6 (532), A2_2 (496), E_10 (446), A2_3 (416), E_4 (402)\n",
      "\n",
      "\"impact\": 100.0% presence, 4 different values, top 4:\n",
      "Medium (3817), High (1363), Low (905), Major (575)\n",
      "\n",
      "\"product\": 100.0% presence, 337 different values, top 5:\n",
      "PROD97 (612), PROD98 (383), PROD802 (299), PROD96 (289), PROD374 (169)\n"
     ]
    }
   ],
   "source": [
    "printer = PrintXesInfo(xes)\n",
    "printer.print_info()"
   ]
  },
  {
   "cell_type": "code",
   "execution_count": 38,
   "metadata": {},
   "outputs": [
    {
     "data": {
      "text/plain": [
       "0                 org:group\n",
       "1          resource country\n",
       "2      organization country\n",
       "3              org:resource\n",
       "4     organization involved\n",
       "5                  org:role\n",
       "6              concept:name\n",
       "7                    impact\n",
       "8                   product\n",
       "9      lifecycle:transition\n",
       "10           time:timestamp\n",
       "Name: Attribute, dtype: object"
      ]
     },
     "execution_count": 38,
     "metadata": {},
     "output_type": "execute_result"
    }
   ],
   "source": [
    "printer.event_attributes_counts[\"Attribute\"]"
   ]
  },
  {
   "cell_type": "code",
   "execution_count": 21,
   "metadata": {},
   "outputs": [
    {
     "data": {
      "text/plain": [
       "Timestamp('2011-11-01 09:52:43.071171328+0000', tz='UTC')"
      ]
     },
     "execution_count": 21,
     "metadata": {},
     "output_type": "execute_result"
    }
   ],
   "source": [
    "pd.to_datetime(xes.df[\"time:timestamp\"], utc=True).mean()"
   ]
  },
  {
   "cell_type": "code",
   "execution_count": 24,
   "metadata": {},
   "outputs": [
    {
     "data": {
      "text/plain": [
       "org:group                object\n",
       "resource country         object\n",
       "organization country     object\n",
       "org:resource             object\n",
       "organization involved    object\n",
       "org:role                 object\n",
       "concept:name             object\n",
       "impact                   object\n",
       "product                  object\n",
       "lifecycle:transition     object\n",
       "time:timestamp           object\n",
       "dtype: object"
      ]
     },
     "execution_count": 24,
     "metadata": {},
     "output_type": "execute_result"
    }
   ],
   "source": [
    "xes.df.dtypes"
   ]
  },
  {
   "cell_type": "code",
   "execution_count": 53,
   "metadata": {},
   "outputs": [
    {
     "data": {
      "text/plain": [
       "datetime.datetime(2006, 1, 11, 15, 49, 42, tzinfo=tzoffset(None, 3600))"
      ]
     },
     "execution_count": 53,
     "metadata": {},
     "output_type": "execute_result"
    }
   ],
   "source": [
    "xes.traces[0].events_raw[0][\"time:timestamp\"]"
   ]
  },
  {
   "cell_type": "code",
   "execution_count": 30,
   "metadata": {},
   "outputs": [
    {
     "data": {
      "text/plain": [
       "org:group                                              object\n",
       "resource country                                       object\n",
       "organization country                                   object\n",
       "org:resource                                           object\n",
       "organization involved                                  object\n",
       "org:role                                               object\n",
       "concept:name                                           object\n",
       "impact                                                 object\n",
       "product                                                object\n",
       "lifecycle:transition                                   object\n",
       "time:timestamp           datetime64[ns, tzoffset(None, 3600)]\n",
       "dtype: object"
      ]
     },
     "execution_count": 30,
     "metadata": {},
     "output_type": "execute_result"
    }
   ],
   "source": [
    "xes.traces[0].events.dtypes"
   ]
  },
  {
   "cell_type": "code",
   "execution_count": 39,
   "metadata": {},
   "outputs": [],
   "source": [
    "events_types = [event[\"time:timestamp\"].__class__ for trace in xes.traces for event in trace.events_raw]"
   ]
  },
  {
   "cell_type": "code",
   "execution_count": 41,
   "metadata": {},
   "outputs": [
    {
     "name": "stdout",
     "output_type": "stream",
     "text": [
      "Counter({<class 'datetime.datetime'>: 6660})\n"
     ]
    }
   ],
   "source": [
    "from collections import Counter\n",
    "print(Counter(events_types))"
   ]
  },
  {
   "cell_type": "code",
   "execution_count": 42,
   "metadata": {},
   "outputs": [],
   "source": [
    "events_types = [trace.df[\"time:timestamp\"].dtype for trace in xes.traces]"
   ]
  },
  {
   "cell_type": "code",
   "execution_count": 43,
   "metadata": {},
   "outputs": [
    {
     "name": "stdout",
     "output_type": "stream",
     "text": [
      "Counter({dtype('O'): 705, datetime64[ns, tzoffset(None, 3600)]: 501, datetime64[ns, tzoffset(None, 7200)]: 281})\n"
     ]
    }
   ],
   "source": [
    "print(Counter(events_types))"
   ]
  },
  {
   "cell_type": "code",
   "execution_count": 54,
   "metadata": {},
   "outputs": [
    {
     "name": "stdout",
     "output_type": "stream",
     "text": [
      "2006-01-11 15:49:42+01:00\n",
      "2006-01-11 14:49:42+00:00\n"
     ]
    }
   ],
   "source": [
    "from datetime import timezone\n",
    "print(xes.traces[0].events_raw[0][\"time:timestamp\"])\n",
    "print(xes.traces[0].events_raw[0][\"time:timestamp\"].astimezone(timezone.utc))"
   ]
  },
  {
   "cell_type": "code",
   "execution_count": 63,
   "metadata": {},
   "outputs": [],
   "source": [
    "min_per_trace = np.array([trace.events[\"time:timestamp\"].min() for trace in xes.traces])\n",
    "max_per_trace = np.array([trace.events[\"time:timestamp\"].max() for trace in xes.traces])"
   ]
  },
  {
   "cell_type": "code",
   "execution_count": 64,
   "metadata": {},
   "outputs": [
    {
     "data": {
      "text/plain": [
       "array([Timestamp('2006-01-11 14:49:42+0000', tz='UTC'),\n",
       "       Timestamp('2006-11-07 09:00:36+0000', tz='UTC'),\n",
       "       Timestamp('2007-03-20 08:06:25+0000', tz='UTC'), ...,\n",
       "       Timestamp('2012-05-30 12:55:35+0000', tz='UTC'),\n",
       "       Timestamp('2012-05-31 09:58:45+0000', tz='UTC'),\n",
       "       Timestamp('2012-05-31 18:07:59+0000', tz='UTC')], dtype=object)"
      ]
     },
     "execution_count": 64,
     "metadata": {},
     "output_type": "execute_result"
    }
   ],
   "source": [
    "min_per_trace"
   ]
  },
  {
   "cell_type": "code",
   "execution_count": 72,
   "metadata": {},
   "outputs": [
    {
     "ename": "TypeError",
     "evalue": "int() argument must be a string, a bytes-like object or a real number, not 'Timedelta'",
     "output_type": "error",
     "traceback": [
      "\u001b[0;31m---------------------------------------------------------------------------\u001b[0m",
      "\u001b[0;31mTypeError\u001b[0m                                 Traceback (most recent call last)",
      "Cell \u001b[0;32mIn[72], line 1\u001b[0m\n\u001b[0;32m----> 1\u001b[0m \u001b[43m(\u001b[49m\u001b[43mmax_per_trace\u001b[49m\u001b[43m \u001b[49m\u001b[38;5;241;43m-\u001b[39;49m\u001b[43m \u001b[49m\u001b[43mmin_per_trace\u001b[49m\u001b[43m)\u001b[49m\u001b[38;5;241;43m.\u001b[39;49m\u001b[43mastype\u001b[49m\u001b[43m(\u001b[49m\u001b[38;5;124;43m'\u001b[39;49m\u001b[38;5;124;43mint64\u001b[39;49m\u001b[38;5;124;43m'\u001b[39;49m\u001b[43m)\u001b[49m\u001b[38;5;241m.\u001b[39mmean()\n",
      "\u001b[0;31mTypeError\u001b[0m: int() argument must be a string, a bytes-like object or a real number, not 'Timedelta'"
     ]
    }
   ],
   "source": [
    "(max_per_trace - min_per_trace).astype('int64').mean()"
   ]
  },
  {
   "cell_type": "code",
   "execution_count": 77,
   "metadata": {},
   "outputs": [
    {
     "data": {
      "text/plain": [
       "pandas._libs.tslibs.timestamps.Timestamp"
      ]
     },
     "execution_count": 77,
     "metadata": {},
     "output_type": "execute_result"
    }
   ],
   "source": [
    "min_per_trace[0].__class__"
   ]
  },
  {
   "cell_type": "code",
   "execution_count": 83,
   "metadata": {},
   "outputs": [
    {
     "data": {
      "text/plain": [
       "Timedelta('178 days 21:14:13.334229992')"
      ]
     },
     "execution_count": 83,
     "metadata": {},
     "output_type": "execute_result"
    }
   ],
   "source": [
    "pd.Series(max_per_trace - min_per_trace).mean()"
   ]
  },
  {
   "cell_type": "code",
   "execution_count": 90,
   "metadata": {},
   "outputs": [
    {
     "data": {
      "text/plain": [
       "0       2254\n",
       "1       1900\n",
       "2       1764\n",
       "3       1713\n",
       "4       1622\n",
       "        ... \n",
       "1482       0\n",
       "1483       0\n",
       "1484       0\n",
       "1485       0\n",
       "1486       0\n",
       "Length: 1487, dtype: int64"
      ]
     },
     "execution_count": 90,
     "metadata": {},
     "output_type": "execute_result"
    }
   ],
   "source": [
    "pd.Series(max_per_trace - min_per_trace).dt.days"
   ]
  },
  {
   "cell_type": "code",
   "execution_count": 92,
   "metadata": {},
   "outputs": [],
   "source": [
    "import matplotlib.pyplot as plt\n",
    "# plt.hist(pd.Series(max_per_trace - min_per_trace).dt.days)"
   ]
  },
  {
   "cell_type": "code",
   "execution_count": 113,
   "metadata": {},
   "outputs": [
    {
     "name": "stdout",
     "output_type": "stream",
     "text": [
      "b    2\n",
      "a    1\n"
     ]
    }
   ],
   "source": [
    "top = pd.Series({\"a\": 1, \"b\": 2}).nlargest(5)\n",
    "print(top.to_string())"
   ]
  },
  {
   "cell_type": "code",
   "execution_count": 109,
   "metadata": {},
   "outputs": [
    {
     "data": {
      "text/plain": [
       "['b (2)', 'a (1)']"
      ]
     },
     "execution_count": 109,
     "metadata": {},
     "output_type": "execute_result"
    }
   ],
   "source": [
    "[f\"{key} ({value})\" for key, value in top.items()]"
   ]
  },
  {
   "cell_type": "code",
   "execution_count": 107,
   "metadata": {},
   "outputs": [
    {
     "data": {
      "text/plain": [
       "<zip at 0x125783980>"
      ]
     },
     "execution_count": 107,
     "metadata": {},
     "output_type": "execute_result"
    }
   ],
   "source": [
    "top.items()"
   ]
  },
  {
   "cell_type": "code",
   "execution_count": 23,
   "metadata": {},
   "outputs": [
    {
     "name": "stdout",
     "output_type": "stream",
     "text": [
      "<class 'pandas.core.frame.DataFrame'>\n",
      "Index: 6660 entries, 0 to 1\n",
      "Data columns (total 11 columns):\n",
      " #   Column                 Non-Null Count  Dtype              \n",
      "---  ------                 --------------  -----              \n",
      " 0   org:group              6660 non-null   object             \n",
      " 1   resource country       6660 non-null   object             \n",
      " 2   organization country   6660 non-null   object             \n",
      " 3   org:resource           6660 non-null   object             \n",
      " 4   organization involved  6660 non-null   object             \n",
      " 5   org:role               4582 non-null   object             \n",
      " 6   concept:name           6660 non-null   object             \n",
      " 7   impact                 6660 non-null   object             \n",
      " 8   product                6660 non-null   object             \n",
      " 9   lifecycle:transition   6660 non-null   object             \n",
      " 10  time:timestamp         6660 non-null   datetime64[ns, UTC]\n",
      "dtypes: datetime64[ns, UTC](1), object(10)\n",
      "memory usage: 624.4+ KB\n"
     ]
    }
   ],
   "source": [
    "xes.df.info()"
   ]
  },
  {
   "cell_type": "code",
   "execution_count": 25,
   "metadata": {},
   "outputs": [
    {
     "data": {
      "text/plain": [
       "'object'"
      ]
     },
     "execution_count": 25,
     "metadata": {},
     "output_type": "execute_result"
    }
   ],
   "source": [
    "xes.df[\"org:group\"].dtype.name"
   ]
  },
  {
   "cell_type": "code",
   "execution_count": 27,
   "metadata": {},
   "outputs": [
    {
     "data": {
      "text/plain": [
       "{'a': 1, 'b': 2}"
      ]
     },
     "execution_count": 27,
     "metadata": {},
     "output_type": "execute_result"
    }
   ],
   "source": [
    "{ \"a\": 1 } | { \"b\": 2 }"
   ]
  },
  {
   "cell_type": "code",
   "execution_count": null,
   "metadata": {},
   "outputs": [],
   "source": []
  }
 ],
 "metadata": {
  "kernelspec": {
   "display_name": "Python 3",
   "language": "python",
   "name": "python3"
  },
  "language_info": {
   "codemirror_mode": {
    "name": "ipython",
    "version": 3
   },
   "file_extension": ".py",
   "mimetype": "text/x-python",
   "name": "python",
   "nbconvert_exporter": "python",
   "pygments_lexer": "ipython3",
   "version": "3.12.2"
  }
 },
 "nbformat": 4,
 "nbformat_minor": 2
}
