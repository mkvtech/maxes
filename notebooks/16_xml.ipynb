{
 "cells": [
  {
   "cell_type": "code",
   "execution_count": 7,
   "metadata": {},
   "outputs": [
    {
     "name": "stdout",
     "output_type": "stream",
     "text": [
      "The autoreload extension is already loaded. To reload it, use:\n",
      "  %reload_ext autoreload\n"
     ]
    }
   ],
   "source": [
    "%load_ext autoreload\n",
    "import xml.dom.minidom\n",
    "import xml.etree.ElementTree as ET\n",
    "# import ete3\n",
    "# import pandas as pd\n",
    "# import numpy as np\n",
    "# import matplotlib.pyplot as plt\n",
    "# import networkx as nx\n",
    "import xmlschema"
   ]
  },
  {
   "cell_type": "code",
   "execution_count": 37,
   "metadata": {},
   "outputs": [],
   "source": [
    "# %autoreload\n",
    "# from maxes.xes_file import XesFile\n",
    "# from maxes.print_xes_info import PrintXesInfo\n",
    "# import maxes.analyze_sequence\n",
    "# import maxes.graphs\n",
    "# import maxes.utils"
   ]
  },
  {
   "cell_type": "code",
   "execution_count": 2,
   "metadata": {},
   "outputs": [],
   "source": [
    "file_path = \"../data/Activities of daily living of several individuals_1_all/data/edited_hh102_labour.xes/edited_hh102_labour.xes\"\n",
    "x = xml.dom.minidom.parse(file_path)"
   ]
  },
  {
   "cell_type": "code",
   "execution_count": 5,
   "metadata": {},
   "outputs": [],
   "source": [
    "NODE_TYPES_LOOKUP = {\n",
    "    1:                \"ELEMENT_NODE\",\n",
    "    2:              \"ATTRIBUTE_NODE\",\n",
    "    3:                   \"TEXT_NODE\",\n",
    "    4:          \"CDATA_SECTION_NODE\",\n",
    "    5:       \"ENTITY_REFERENCE_NODE\",\n",
    "    6:                 \"ENTITY_NODE\",\n",
    "    7: \"PROCESSING_INSTRUCTION_NODE\",\n",
    "    8:                \"COMMENT_NODE\",\n",
    "    9:               \"DOCUMENT_NODE\",\n",
    "    10:         \"DOCUMENT_TYPE_NODE\",\n",
    "    11:     \"DOCUMENT_FRAGMENT_NODE\",\n",
    "    12:              \"NOTATION_NODE\",\n",
    "}\n",
    "\n",
    "def xml_element_node_type_text(input):\n",
    "    if not isinstance(input, int):\n",
    "        input = input.nodeType\n",
    "\n",
    "    return NODE_TYPES_LOOKUP[input]"
   ]
  },
  {
   "cell_type": "code",
   "execution_count": 29,
   "metadata": {},
   "outputs": [
    {
     "name": "stdout",
     "output_type": "stream",
     "text": [
      "#comment COMMENT_NODE 0\n",
      "#comment COMMENT_NODE 0\n",
      "#comment COMMENT_NODE 0\n",
      "log ELEMENT_NODE 55\n"
     ]
    }
   ],
   "source": [
    "for child in x.childNodes:\n",
    "    print(child.nodeName, xml_element_node_type_text(child.nodeType), len(child.childNodes))"
   ]
  },
  {
   "cell_type": "code",
   "execution_count": 28,
   "metadata": {},
   "outputs": [
    {
     "data": {
      "text/plain": [
       "0"
      ]
     },
     "execution_count": 28,
     "metadata": {},
     "output_type": "execute_result"
    }
   ],
   "source": [
    "len(x.childNodes[2].childNodes)"
   ]
  },
  {
   "cell_type": "code",
   "execution_count": 123,
   "metadata": {},
   "outputs": [
    {
     "data": {
      "text/plain": [
       "[('#text', 'TEXT_NODE'),\n",
       " ('extension', 'ELEMENT_NODE'),\n",
       " ('#text', 'TEXT_NODE'),\n",
       " ('extension', 'ELEMENT_NODE'),\n",
       " ('#text', 'TEXT_NODE'),\n",
       " ('extension', 'ELEMENT_NODE'),\n",
       " ('#text', 'TEXT_NODE'),\n",
       " ('global', 'ELEMENT_NODE'),\n",
       " ('#text', 'TEXT_NODE'),\n",
       " ('global', 'ELEMENT_NODE'),\n",
       " ('#text', 'TEXT_NODE'),\n",
       " ('classifier', 'ELEMENT_NODE'),\n",
       " ('#text', 'TEXT_NODE'),\n",
       " ('string', 'ELEMENT_NODE'),\n",
       " ('#text', 'TEXT_NODE'),\n",
       " ('string', 'ELEMENT_NODE'),\n",
       " ('#text', 'TEXT_NODE'),\n",
       " ('string', 'ELEMENT_NODE'),\n",
       " ('#text', 'TEXT_NODE'),\n",
       " ('trace', 'ELEMENT_NODE'),\n",
       " ('#text', 'TEXT_NODE'),\n",
       " ('trace', 'ELEMENT_NODE'),\n",
       " ('#text', 'TEXT_NODE'),\n",
       " ('trace', 'ELEMENT_NODE'),\n",
       " ('#text', 'TEXT_NODE'),\n",
       " ('trace', 'ELEMENT_NODE'),\n",
       " ('#text', 'TEXT_NODE'),\n",
       " ('trace', 'ELEMENT_NODE'),\n",
       " ('#text', 'TEXT_NODE'),\n",
       " ('trace', 'ELEMENT_NODE'),\n",
       " ('#text', 'TEXT_NODE'),\n",
       " ('trace', 'ELEMENT_NODE'),\n",
       " ('#text', 'TEXT_NODE'),\n",
       " ('trace', 'ELEMENT_NODE'),\n",
       " ('#text', 'TEXT_NODE'),\n",
       " ('trace', 'ELEMENT_NODE'),\n",
       " ('#text', 'TEXT_NODE'),\n",
       " ('trace', 'ELEMENT_NODE'),\n",
       " ('#text', 'TEXT_NODE'),\n",
       " ('trace', 'ELEMENT_NODE'),\n",
       " ('#text', 'TEXT_NODE'),\n",
       " ('trace', 'ELEMENT_NODE'),\n",
       " ('#text', 'TEXT_NODE'),\n",
       " ('trace', 'ELEMENT_NODE'),\n",
       " ('#text', 'TEXT_NODE'),\n",
       " ('trace', 'ELEMENT_NODE'),\n",
       " ('#text', 'TEXT_NODE'),\n",
       " ('trace', 'ELEMENT_NODE'),\n",
       " ('#text', 'TEXT_NODE'),\n",
       " ('trace', 'ELEMENT_NODE'),\n",
       " ('#text', 'TEXT_NODE'),\n",
       " ('trace', 'ELEMENT_NODE'),\n",
       " ('#text', 'TEXT_NODE'),\n",
       " ('trace', 'ELEMENT_NODE'),\n",
       " ('#text', 'TEXT_NODE')]"
      ]
     },
     "execution_count": 123,
     "metadata": {},
     "output_type": "execute_result"
    }
   ],
   "source": [
    "[(child.nodeName, xml_element_node_type_text(child)) for child in x.childNodes[3].childNodes]"
   ]
  },
  {
   "cell_type": "code",
   "execution_count": 118,
   "metadata": {},
   "outputs": [
    {
     "name": "stdout",
     "output_type": "stream",
     "text": [
      "Root node name: #document\n",
      "Root node type: 9 (DOCUMENT_NODE)\n",
      "Root children: 4\n",
      "#comment COMMENT_NODE 0\n",
      "#comment COMMENT_NODE 0\n",
      "#comment COMMENT_NODE 0\n",
      "log ELEMENT_NODE 55\n",
      "\n",
      "/log: log\n",
      "/log attributes: 3\n",
      "['xmlns', 'xes.version', 'xes.creator']\n",
      "['xmlns', 'xes.version', 'xes.creator']\n",
      "http://www.xes-standard.org\n"
     ]
    }
   ],
   "source": [
    "print(f\"Root node name: {x.nodeName}\")\n",
    "print(f\"Root node type: {x.nodeType} ({xml_element_node_type_text(x.nodeType)})\")\n",
    "print(f\"Root children: {len(x.childNodes)}\")\n",
    "\n",
    "for child in x.childNodes:\n",
    "    print(child.nodeName, xml_element_node_type_text(child.nodeType), len(child.childNodes))\n",
    "\n",
    "print()\n",
    "\n",
    "xlog = next(node for node in x.childNodes if node.nodeName == \"log\")\n",
    "print(f\"/log: {xlog.nodeName}\")\n",
    "print(f\"/log attributes: {len(xlog.attributes)}\")\n",
    "print([attribute for attribute in xlog.attributes.keys()])\n",
    "print([attribute.name for attribute in xlog.attributes.values()])\n",
    "print(xlog.attributes[\"xmlns\"].value)\n",
    "\n",
    "\n",
    "\n",
    "# x.childNodes[3].childNodes[1].attributes[\"name\"].name"
   ]
  },
  {
   "cell_type": "code",
   "execution_count": 8,
   "metadata": {},
   "outputs": [],
   "source": [
    "ET.register_namespace(\"\", \"http://www.xes-standard.org\")\n",
    "\n",
    "# xml_schema_xes_2014 = xmlschema.XMLSchema(\"../resources/xes2014.xsd\")\n",
    "# schema_path = \"../resources/xes2023-extended.xsd\"\n",
    "schema_path = \"../resources/xes2023-original.xsd\"\n",
    "# schema_path = \"../resources/xes2023.xsd\"\n",
    "xml_schema_xes_2023 = xmlschema.XMLSchema(schema_path)\n",
    "# xml_schema_xes_2023 = xmlschema.XMLSchema(schema_path, namespace='http://www.xes-standard.org')"
   ]
  },
  {
   "cell_type": "code",
   "execution_count": 9,
   "metadata": {},
   "outputs": [
    {
     "ename": "XMLSchemaValidationError",
     "evalue": "failed validating <Element '{http://www.xes-standard.org}log' at 0x0000012E07A9D670> with XMLSchema10(name='xes2023-original.xsd', namespace=''):\n\nReason: <Element '{http://www.xes-standard.org}log' at 0x0000012E07A9D670> is not an element of the schema\n\nInstance type: <class 'xml.etree.ElementTree.Element'>\n\nInstance:\n\n  <log xmlns=\"http://www.xes-standard.org\" xes.version=\"1.0\" xes.creator=\"Fluxicon Disco\">\n      \n      \n      <extension name=\"Concept\" prefix=\"concept\" uri=\"http://www.xes-standard.org/concept.xesext\" />\n      <extension name=\"Lifecycle\" prefix=\"lifecycle\" uri=\"http://www.xes-standard.org/lifecycle.xesext\" />\n      <extension name=\"Time\" prefix=\"time\" uri=\"http://www.xes-standard.org/time.xesext\" />\n      <global scope=\"trace\">\n          <string key=\"concept:name\" value=\"name\" />\n      </global>\n      <global scope=\"event\">\n          <string key=\"concept:name\" value=\"name\" />\n          <string key=\"lifecycle:transition\" value=\"transition\" />\n          <date key=\"time:timestamp\" value=\"2015-10-16T16:08:56.556+02:00\" />\n          <string key=\"Column_4\" value=\"string\" />\n      </global>\n      <classifier name=\"Activity\" keys=\"Column_4\" />\n      <string key=\"lifecycle:model\" value=\"standard\" />\n      <string key=\"creator\" value=\"Fluxicon Disco\" />\n      <string key=\"library\" value=\"Fluxicon Octane\" />\n      <trace>\n      ...\n      ...\n  </log>\n\nPath: /log\n",
     "output_type": "error",
     "traceback": [
      "\u001b[1;31m---------------------------------------------------------------------------\u001b[0m",
      "\u001b[1;31mXMLSchemaValidationError\u001b[0m                  Traceback (most recent call last)",
      "Cell \u001b[1;32mIn[9], line 4\u001b[0m\n\u001b[0;32m      2\u001b[0m file_path \u001b[38;5;241m=\u001b[39m \u001b[38;5;124m\"\u001b[39m\u001b[38;5;124m../resources/edited_hh102_labour.xes\u001b[39m\u001b[38;5;124m\"\u001b[39m\n\u001b[0;32m      3\u001b[0m \u001b[38;5;66;03m# xmlschema.validate(file_path, schema=schema_path, namespaces=['http://www.xes-standard.org'])\u001b[39;00m\n\u001b[1;32m----> 4\u001b[0m \u001b[43mxml_schema_xes_2023\u001b[49m\u001b[38;5;241;43m.\u001b[39;49m\u001b[43mvalidate\u001b[49m\u001b[43m(\u001b[49m\u001b[43mfile_path\u001b[49m\u001b[43m)\u001b[49m\n",
      "File \u001b[1;32mc:\\vt\\md\\maxes\\venv\\Lib\\site-packages\\xmlschema\\validators\\schemas.py:1702\u001b[0m, in \u001b[0;36mXMLSchemaBase.validate\u001b[1;34m(self, source, path, schema_path, use_defaults, namespaces, max_depth, extra_validator, validation_hook, allow_empty, use_location_hints)\u001b[0m\n\u001b[0;32m   1663\u001b[0m \u001b[38;5;250m\u001b[39m\u001b[38;5;124;03m\"\"\"\u001b[39;00m\n\u001b[0;32m   1664\u001b[0m \u001b[38;5;124;03mValidates an XML data against the XSD schema/component instance.\u001b[39;00m\n\u001b[0;32m   1665\u001b[0m \n\u001b[1;32m   (...)\u001b[0m\n\u001b[0;32m   1697\u001b[0m \u001b[38;5;124;03m:raises: :exc:`XMLSchemaValidationError` if the XML data instance is invalid.\u001b[39;00m\n\u001b[0;32m   1698\u001b[0m \u001b[38;5;124;03m\"\"\"\u001b[39;00m\n\u001b[0;32m   1699\u001b[0m \u001b[38;5;28;01mfor\u001b[39;00m error \u001b[38;5;129;01min\u001b[39;00m \u001b[38;5;28mself\u001b[39m\u001b[38;5;241m.\u001b[39miter_errors(source, path, schema_path, use_defaults,\n\u001b[0;32m   1700\u001b[0m                               namespaces, max_depth, extra_validator,\n\u001b[0;32m   1701\u001b[0m                               validation_hook, allow_empty, use_location_hints):\n\u001b[1;32m-> 1702\u001b[0m     \u001b[38;5;28;01mraise\u001b[39;00m error\n",
      "\u001b[1;31mXMLSchemaValidationError\u001b[0m: failed validating <Element '{http://www.xes-standard.org}log' at 0x0000012E07A9D670> with XMLSchema10(name='xes2023-original.xsd', namespace=''):\n\nReason: <Element '{http://www.xes-standard.org}log' at 0x0000012E07A9D670> is not an element of the schema\n\nInstance type: <class 'xml.etree.ElementTree.Element'>\n\nInstance:\n\n  <log xmlns=\"http://www.xes-standard.org\" xes.version=\"1.0\" xes.creator=\"Fluxicon Disco\">\n      \n      \n      <extension name=\"Concept\" prefix=\"concept\" uri=\"http://www.xes-standard.org/concept.xesext\" />\n      <extension name=\"Lifecycle\" prefix=\"lifecycle\" uri=\"http://www.xes-standard.org/lifecycle.xesext\" />\n      <extension name=\"Time\" prefix=\"time\" uri=\"http://www.xes-standard.org/time.xesext\" />\n      <global scope=\"trace\">\n          <string key=\"concept:name\" value=\"name\" />\n      </global>\n      <global scope=\"event\">\n          <string key=\"concept:name\" value=\"name\" />\n          <string key=\"lifecycle:transition\" value=\"transition\" />\n          <date key=\"time:timestamp\" value=\"2015-10-16T16:08:56.556+02:00\" />\n          <string key=\"Column_4\" value=\"string\" />\n      </global>\n      <classifier name=\"Activity\" keys=\"Column_4\" />\n      <string key=\"lifecycle:model\" value=\"standard\" />\n      <string key=\"creator\" value=\"Fluxicon Disco\" />\n      <string key=\"library\" value=\"Fluxicon Octane\" />\n      <trace>\n      ...\n      ...\n  </log>\n\nPath: /log\n"
     ]
    }
   ],
   "source": [
    "# file_path = \"../data/Activities of daily living of several individuals_1_all/data/edited_hh102_labour.xes/edited_hh102_labour.xes\"\n",
    "file_path = \"../resources/edited_hh102_labour.xes\"\n",
    "# xmlschema.validate(file_path, schema=schema_path, namespaces=['http://www.xes-standard.org'])\n",
    "xml_schema_xes_2023.validate(file_path)"
   ]
  },
  {
   "cell_type": "code",
   "execution_count": 130,
   "metadata": {},
   "outputs": [
    {
     "data": {
      "text/plain": [
       "'lifecycle:model'"
      ]
     },
     "execution_count": 130,
     "metadata": {},
     "output_type": "execute_result"
    }
   ],
   "source": [
    "# import xml.etree.ElementTree\n",
    "# def parse_attribute(node: xml.etree.ElementTree.Element, parser_options=None):\n",
    "\n",
    "def parse_attribute_value(value: str, value_type: str):\n",
    "    if value_type == \"string\" or value_type == \"id\":\n",
    "        return str(value)\n",
    "    if value_type == \"int\":\n",
    "        return int(value)\n",
    "    if value_type == \"float\":\n",
    "        return float(value)\n",
    "    if value_type == \"boolean\":\n",
    "        return value.lower() == \"true\"\n",
    "    if value_type == \"list\":\n",
    "        raise NotImplementedError()\n",
    "\n",
    "    raise AttributeError(\"Unknown attribute type\", value_type)\n",
    "\n",
    "def parse_attribute(node: xml.dom.minidom.Element, parser_options=None):\n",
    "    # if node.nodeType != xml.dom.minidom.Node.ELEMENT_NODE:\n",
    "    data_type = node.nodeName\n",
    "    key = node.attributes[\"key\"].value\n",
    "    raw_value = node.attributes[\"value\"].value\n",
    "    value = parse_attribute_value(raw_value)\n",
    "    pass\n",
    "x.childNodes[3].childNodes[13].attributes[\"key\"].value"
   ]
  },
  {
   "cell_type": "code",
   "execution_count": 135,
   "metadata": {},
   "outputs": [
    {
     "data": {
      "text/plain": [
       "<function str.lower()>"
      ]
     },
     "execution_count": 135,
     "metadata": {},
     "output_type": "execute_result"
    }
   ],
   "source": [
    "\"A\".lower"
   ]
  },
  {
   "cell_type": "code",
   "execution_count": null,
   "metadata": {},
   "outputs": [],
   "source": []
  }
 ],
 "metadata": {
  "kernelspec": {
   "display_name": "venv",
   "language": "python",
   "name": "python3"
  },
  "language_info": {
   "codemirror_mode": {
    "name": "ipython",
    "version": 3
   },
   "file_extension": ".py",
   "mimetype": "text/x-python",
   "name": "python",
   "nbconvert_exporter": "python",
   "pygments_lexer": "ipython3",
   "version": "3.12.2"
  }
 },
 "nbformat": 4,
 "nbformat_minor": 2
}
