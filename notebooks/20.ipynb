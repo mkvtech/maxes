{
 "cells": [
  {
   "cell_type": "code",
   "execution_count": 1,
   "metadata": {},
   "outputs": [],
   "source": [
    "%load_ext autoreload\n",
    "\n",
    "\n",
    "# Installed\n",
    "# import ete3\n",
    "# import pandas as pd\n",
    "# import numpy as np\n",
    "import matplotlib.pyplot as plt\n",
    "import networkx as nx\n",
    "# import xmlschema\n",
    "import os\n",
    "\n",
    "\n",
    "# Standard\n",
    "import xml.dom.minidom\n",
    "import logging\n",
    "import xml.etree.ElementTree as ET"
   ]
  },
  {
   "cell_type": "code",
   "execution_count": 29,
   "metadata": {},
   "outputs": [],
   "source": [
    "%autoreload\n",
    "from maxes.xes_loader2 import XesLoader, XesLog\n",
    "# from maxes.xes_file import XesFile\n",
    "# from maxes.print_xes_info import PrintXesInfo\n",
    "import maxes.analyze_sequence\n",
    "import maxes.serialization.serialize\n",
    "# import maxes.graphs\n",
    "import maxes.utils\n",
    "from maxes.generators.xes_generator1 import XesGenerator1"
   ]
  },
  {
   "cell_type": "code",
   "execution_count": 10,
   "metadata": {},
   "outputs": [],
   "source": [
    "# Setting up logging\n",
    "\n",
    "import logging\n",
    "import importlib\n",
    "importlib.reload(logging)\n",
    "logging.basicConfig(\n",
    "    filename=\"C:\\\\vt\\\\md\\\\maxes\\\\output\\\\20.ipynb.log\",\n",
    "    filemode=\"a\",\n",
    "    format=\"%(asctime)s %(message)s\",\n",
    "    level=logging.DEBUG)\n",
    "logging.info(\"Logging setup\")"
   ]
  },
  {
   "cell_type": "code",
   "execution_count": 4,
   "metadata": {},
   "outputs": [
    {
     "name": "stdout",
     "output_type": "stream",
     "text": [
      "C:\\vt\\md\\maxes\\data\\Apache Commons Crypto 1.0.0 - Stream CbcNopad Unit Test Software Event Log_1_all\\data\\ApacheCommons-Crypto-1.0.0-StreamCbcNopad-single-trace.xes\\ApacheCommons-Crypto-1.0.0-StreamCbcNopad-single-trace.xes\n",
      "207578632, 198.0MiB\n",
      "C:\\vt\\md\\maxes\\data\\Apache Commons Crypto 1.0.0 - Stream CbcNopad Unit Test Software Event Log_1_all\\data\\ApacheCommons-Crypto-1.0.0-StreamCbcNopad-splitted.xes\\ApacheCommons-Crypto-1.0.0-StreamCbcNopad-splitted.xes\n",
      "207345060, 197.7MiB\n",
      "C:\\vt\\md\\maxes\\data\\BPI Challenge 2013, closed problems_1_all\\BPI_Challenge_2013_closed_problems.xes\\BPI_Challenge_2013_closed_problems.xes\n",
      "4188481, 4.0MiB\n",
      "C:\\vt\\md\\maxes\\data\\BPI Challenge 2013, incidents_1_all\\BPI_Challenge_2013_incidents.xes\\BPI_Challenge_2013_incidents.xes\n",
      "39553525, 37.7MiB\n",
      "C:\\vt\\md\\maxes\\data\\BPI Challenge 2013, open problems_1_all\\BPI_Challenge_2013_open_problems.xes\\BPI_Challenge_2013_open_problems.xes\n",
      "1402523, 1.3MiB\n",
      "C:\\vt\\md\\maxes\\data\\BPI Challenge 2015 Municipality 1_1_all\\BPIC15_1.xes\n",
      "41227060, 39.3MiB\n",
      "C:\\vt\\md\\maxes\\data\\BPI Challenge 2015 Municipality 2_1_all\\BPIC15_2.xes\n",
      "34423078, 32.8MiB\n",
      "C:\\vt\\md\\maxes\\data\\BPI Challenge 2015 Municipality 3_1_all\\BPIC15_3.xes\n",
      "46768886, 44.6MiB\n",
      "C:\\vt\\md\\maxes\\data\\BPI Challenge 2015 Municipality 4_1_all\\BPIC15_4.xes\n",
      "36998010, 35.3MiB\n",
      "C:\\vt\\md\\maxes\\data\\BPI Challenge 2015 Municipality 5_1_all\\BPIC15_5.xes\n",
      "46039768, 43.9MiB\n",
      "C:\\vt\\md\\maxes\\data\\BPI Challenge 2017_1_all\\BPI Challenge 2017.xes\\BPI Challenge 2017.xes\n",
      "578941403, 552.1MiB\n",
      "C:\\vt\\md\\maxes\\data\\BPI Challenge 2018_1_all\\BPI Challenge 2018.xes\\BPI Challenge 2018.xes\n",
      "1946897684, 1.8GiB\n",
      "C:\\vt\\md\\maxes\\data\\Hospital Billing - Event Log_1_all\\Hospital Billing - Event Log.xes\\Hospital Billing - Event Log.xes\n",
      "174298183, 166.2MiB\n",
      "C:\\vt\\md\\maxes\\data\\JUnit 4.12 Software Event Log_1_all\\JUnit 4.12 Software Event Log.xes\\JUnit 4.12 Software Event Log.xes\n",
      "2049383, 2.0MiB\n",
      "C:\\vt\\md\\maxes\\data\\Real-life event logs - Hospital log_1_all\\Hospital_log.xes\\Hospital_log.xes\n",
      "85363264, 81.4MiB\n",
      "C:\\vt\\md\\maxes\\data\\Road Traffic Fine Management Process_1_all\\Road_Traffic_Fine_Management_Process.xes\\Road_Traffic_Fine_Management_Process.xes\n",
      "185382899, 176.8MiB\n",
      "C:\\vt\\md\\maxes\\data\\Sepsis Cases - Event Log_1_all\\Sepsis Cases - Event Log.xes\\Sepsis Cases - Event Log.xes\n",
      "5441435, 5.2MiB\n",
      "C:\\vt\\md\\maxes\\data\\Statechart Workbench and Alignments Software Event Log_1_all\\data\\Statechart Workbench and Alignments Software Event Log.xes\\Statechart Workbench and Alignments Software Event Log.xes\n",
      "47663197, 45.5MiB\n"
     ]
    }
   ],
   "source": [
    "files = [\n",
    "    \"C:\\\\vt\\\\md\\\\maxes\\\\data\\\\Apache Commons Crypto 1.0.0 - Stream CbcNopad Unit Test Software Event Log_1_all\\\\data\\\\ApacheCommons-Crypto-1.0.0-StreamCbcNopad-single-trace.xes\\\\ApacheCommons-Crypto-1.0.0-StreamCbcNopad-single-trace.xes\",\n",
    "    \"C:\\\\vt\\\\md\\\\maxes\\\\data\\\\Apache Commons Crypto 1.0.0 - Stream CbcNopad Unit Test Software Event Log_1_all\\\\data\\\\ApacheCommons-Crypto-1.0.0-StreamCbcNopad-splitted.xes\\\\ApacheCommons-Crypto-1.0.0-StreamCbcNopad-splitted.xes\",\n",
    "    \"C:\\\\vt\\\\md\\\\maxes\\\\data\\\\BPI Challenge 2013, closed problems_1_all\\\\BPI_Challenge_2013_closed_problems.xes\\\\BPI_Challenge_2013_closed_problems.xes\",\n",
    "    \"C:\\\\vt\\\\md\\\\maxes\\\\data\\\\BPI Challenge 2013, incidents_1_all\\\\BPI_Challenge_2013_incidents.xes\\\\BPI_Challenge_2013_incidents.xes\",\n",
    "    \"C:\\\\vt\\\\md\\\\maxes\\\\data\\\\BPI Challenge 2013, open problems_1_all\\\\BPI_Challenge_2013_open_problems.xes\\\\BPI_Challenge_2013_open_problems.xes\",\n",
    "    \"C:\\\\vt\\\\md\\\\maxes\\\\data\\\\BPI Challenge 2015 Municipality 1_1_all\\\\BPIC15_1.xes\",\n",
    "    \"C:\\\\vt\\\\md\\\\maxes\\\\data\\\\BPI Challenge 2015 Municipality 2_1_all\\\\BPIC15_2.xes\",\n",
    "    \"C:\\\\vt\\\\md\\\\maxes\\\\data\\\\BPI Challenge 2015 Municipality 3_1_all\\\\BPIC15_3.xes\",\n",
    "    \"C:\\\\vt\\\\md\\\\maxes\\\\data\\\\BPI Challenge 2015 Municipality 4_1_all\\\\BPIC15_4.xes\",\n",
    "    \"C:\\\\vt\\\\md\\\\maxes\\\\data\\\\BPI Challenge 2015 Municipality 5_1_all\\\\BPIC15_5.xes\",\n",
    "    \"C:\\\\vt\\\\md\\\\maxes\\\\data\\\\BPI Challenge 2017_1_all\\\\BPI Challenge 2017.xes\\\\BPI Challenge 2017.xes\",\n",
    "    \"C:\\\\vt\\\\md\\\\maxes\\\\data\\\\BPI Challenge 2018_1_all\\\\BPI Challenge 2018.xes\\\\BPI Challenge 2018.xes\",\n",
    "    \"C:\\\\vt\\\\md\\\\maxes\\\\data\\\\Hospital Billing - Event Log_1_all\\\\Hospital Billing - Event Log.xes\\\\Hospital Billing - Event Log.xes\",\n",
    "    \"C:\\\\vt\\\\md\\\\maxes\\\\data\\\\JUnit 4.12 Software Event Log_1_all\\\\JUnit 4.12 Software Event Log.xes\\\\JUnit 4.12 Software Event Log.xes\",\n",
    "    \"C:\\\\vt\\\\md\\\\maxes\\\\data\\\\Real-life event logs - Hospital log_1_all\\\\Hospital_log.xes\\\\Hospital_log.xes\",\n",
    "    \"C:\\\\vt\\\\md\\\\maxes\\\\data\\\\Road Traffic Fine Management Process_1_all\\\\Road_Traffic_Fine_Management_Process.xes\\\\Road_Traffic_Fine_Management_Process.xes\",\n",
    "    \"C:\\\\vt\\\\md\\\\maxes\\\\data\\\\Sepsis Cases - Event Log_1_all\\\\Sepsis Cases - Event Log.xes\\\\Sepsis Cases - Event Log.xes\",\n",
    "    \"C:\\\\vt\\\\md\\\\maxes\\\\data\\\\Statechart Workbench and Alignments Software Event Log_1_all\\\\data\\\\Statechart Workbench and Alignments Software Event Log.xes\\\\Statechart Workbench and Alignments Software Event Log.xes\",\n",
    "]\n",
    "\n",
    "for file in files:\n",
    "    print(file)\n",
    "    size_in_bytes = os.path.getsize(file)\n",
    "    size_h = maxes.utils.sizeof_fmt(size_in_bytes)\n",
    "    print(f\"{size_in_bytes}, {size_h}\")"
   ]
  },
  {
   "cell_type": "code",
   "execution_count": 36,
   "metadata": {},
   "outputs": [],
   "source": [
    "files = {\n",
    "    # \"C:\\\\vt\\\\md\\\\maxes\\\\data\\\\BPI Challenge 2013, closed problems_1_all\\\\BPI_Challenge_2013_closed_problems.xes\\\\BPI_Challenge_2013_closed_problems.xes\":\n",
    "    #     \"C:\\\\vt\\\\md\\\\maxes\\\\output\\\\generated\\\\BPI_Challenge_2013_closed_problems.xes\",\n",
    "    # \"C:\\\\vt\\\\md\\\\maxes\\\\data\\\\BPI Challenge 2013, incidents_1_all\\\\BPI_Challenge_2013_incidents.xes\\\\BPI_Challenge_2013_incidents.xes\":\n",
    "    #     \"C:\\\\vt\\\\md\\\\maxes\\\\output\\\\generated\\\\BPI_Challenge_2013_incidents.xes\",\n",
    "    # \"C:\\\\vt\\\\md\\\\maxes\\\\data\\\\BPI Challenge 2013, open problems_1_all\\\\BPI_Challenge_2013_open_problems.xes\\\\BPI_Challenge_2013_open_problems.xes\":\n",
    "    #     \"C:\\\\vt\\\\md\\\\maxes\\\\output\\\\generated\\\\BPI_Challenge_2013_open_problems.xes\",\n",
    "\n",
    "    # \"C:\\\\vt\\\\md\\\\maxes\\\\data\\\\BPI Challenge 2015 Municipality 1_1_all\\\\BPIC15_1.xes\":\n",
    "    #     \"C:\\\\vt\\\\md\\\\maxes\\\\output\\\\generated\\\\BPIC15_1.xes\",\n",
    "    # \"C:\\\\vt\\\\md\\\\maxes\\\\data\\\\BPI Challenge 2015 Municipality 2_1_all\\\\BPIC15_2.xes\":\n",
    "    #     \"C:\\\\vt\\\\md\\\\maxes\\\\output\\\\generated\\\\BPIC15_2.xes\",\n",
    "    # \"C:\\\\vt\\\\md\\\\maxes\\\\data\\\\BPI Challenge 2015 Municipality 3_1_all\\\\BPIC15_3.xes\":\n",
    "    #     \"C:\\\\vt\\\\md\\\\maxes\\\\output\\\\generated\\\\BPIC15_3.xes\",\n",
    "    # \"C:\\\\vt\\\\md\\\\maxes\\\\data\\\\BPI Challenge 2015 Municipality 4_1_all\\\\BPIC15_4.xes\":\n",
    "    #     \"C:\\\\vt\\\\md\\\\maxes\\\\output\\\\generated\\\\BPIC15_4.xes\",\n",
    "    # \"C:\\\\vt\\\\md\\\\maxes\\\\data\\\\BPI Challenge 2015 Municipality 5_1_all\\\\BPIC15_5.xes\":\n",
    "    #     \"C:\\\\vt\\\\md\\\\maxes\\\\output\\\\generated\\\\BPIC15_5.xes\",\n",
    "\n",
    "    # \"C:\\\\vt\\\\md\\\\maxes\\\\data\\\\JUnit 4.12 Software Event Log_1_all\\\\JUnit 4.12 Software Event Log.xes\\\\JUnit 4.12 Software Event Log.xes\":\n",
    "    #     \"C:\\\\vt\\\\md\\\\maxes\\\\output\\\\generated\\\\JUnit 4.12 Software Event Log.xes\",\n",
    "\n",
    "    \"C:\\\\vt\\\\md\\\\maxes\\\\data\\\\Statechart Workbench and Alignments Software Event Log_1_all\\\\data\\\\Statechart Workbench and Alignments Software Event Log.xes\\\\Statechart Workbench and Alignments Software Event Log.xes\":\n",
    "        \"C:\\\\vt\\\\md\\\\maxes\\\\output\\\\generated\\\\Statechart Workbench and Alignments Software Event Log.xes\",\n",
    "}"
   ]
  },
  {
   "cell_type": "code",
   "execution_count": 31,
   "metadata": {},
   "outputs": [],
   "source": [
    "def generate_xes_for_file(source_file_path, destination_file_path):\n",
    "    loader = XesLoader({ \"drop_timezones\": True })\n",
    "\n",
    "    logging.info(\"Loading\")\n",
    "    log = loader.load(source_file_path)\n",
    "\n",
    "    if len(loader.errors):\n",
    "        raise RuntimeError(\"Errors while loading XES\")\n",
    "\n",
    "    logging.info(\"Creating dataframes\")\n",
    "    for trace in log.traces:\n",
    "        trace.update_df()\n",
    "\n",
    "    logging.info(\"Fitting\")\n",
    "    generator = XesGenerator1(debug=True).fit(log)\n",
    "\n",
    "    logging.info(\"Generating\")\n",
    "    generated_log = generator.generate()\n",
    "\n",
    "    logging.info(\"Serializing\")\n",
    "    generated_log_ET = maxes.serialization.serialize.Serializer().serialize(generated_log, xml_log_skeleton=log.loader.xml_log_skeleton)\n",
    "\n",
    "    logging.info(\"Formatting XML\")\n",
    "    ET.indent(generated_log_ET)\n",
    "\n",
    "    logging.info(\"Writing XML\")\n",
    "    ET.register_namespace(\"\", \"http://www.xes-standard.org\")\n",
    "    with open(destination_file_path, \"w\") as file:\n",
    "        generated_log_ET.write(file, encoding=\"unicode\")"
   ]
  },
  {
   "cell_type": "code",
   "execution_count": 37,
   "metadata": {},
   "outputs": [
    {
     "ename": "RuntimeError",
     "evalue": "StAcKoVeRfLoW",
     "output_type": "error",
     "traceback": [
      "\u001b[1;31m---------------------------------------------------------------------------\u001b[0m",
      "\u001b[1;31mRuntimeError\u001b[0m                              Traceback (most recent call last)",
      "Cell \u001b[1;32mIn[37], line 3\u001b[0m\n\u001b[0;32m      1\u001b[0m \u001b[38;5;28;01mfor\u001b[39;00m source, destination \u001b[38;5;129;01min\u001b[39;00m files\u001b[38;5;241m.\u001b[39mitems():\n\u001b[0;32m      2\u001b[0m     logging\u001b[38;5;241m.\u001b[39minfo(\u001b[38;5;124mf\u001b[39m\u001b[38;5;124m\"\u001b[39m\u001b[38;5;124mGenerating \u001b[39m\u001b[38;5;130;01m\\\"\u001b[39;00m\u001b[38;5;132;01m{\u001b[39;00msource\u001b[38;5;132;01m}\u001b[39;00m\u001b[38;5;130;01m\\\"\u001b[39;00m\u001b[38;5;124m -> \u001b[39m\u001b[38;5;130;01m\\\"\u001b[39;00m\u001b[38;5;132;01m{\u001b[39;00mdestination\u001b[38;5;132;01m}\u001b[39;00m\u001b[38;5;130;01m\\\"\u001b[39;00m\u001b[38;5;124m\"\u001b[39m)\n\u001b[1;32m----> 3\u001b[0m     \u001b[43mgenerate_xes_for_file\u001b[49m\u001b[43m(\u001b[49m\n\u001b[0;32m      4\u001b[0m \u001b[43m        \u001b[49m\u001b[43msource_file_path\u001b[49m\u001b[38;5;241;43m=\u001b[39;49m\u001b[43msource\u001b[49m\u001b[43m,\u001b[49m\n\u001b[0;32m      5\u001b[0m \u001b[43m        \u001b[49m\u001b[43mdestination_file_path\u001b[49m\u001b[38;5;241;43m=\u001b[39;49m\u001b[43mdestination\u001b[49m\n\u001b[0;32m      6\u001b[0m \u001b[43m    \u001b[49m\u001b[43m)\u001b[49m\n",
      "Cell \u001b[1;32mIn[31], line 18\u001b[0m, in \u001b[0;36mgenerate_xes_for_file\u001b[1;34m(source_file_path, destination_file_path)\u001b[0m\n\u001b[0;32m     15\u001b[0m generator \u001b[38;5;241m=\u001b[39m XesGenerator1(debug\u001b[38;5;241m=\u001b[39m\u001b[38;5;28;01mTrue\u001b[39;00m)\u001b[38;5;241m.\u001b[39mfit(log)\n\u001b[0;32m     17\u001b[0m logging\u001b[38;5;241m.\u001b[39minfo(\u001b[38;5;124m\"\u001b[39m\u001b[38;5;124mGenerating\u001b[39m\u001b[38;5;124m\"\u001b[39m)\n\u001b[1;32m---> 18\u001b[0m generated_log \u001b[38;5;241m=\u001b[39m \u001b[43mgenerator\u001b[49m\u001b[38;5;241;43m.\u001b[39;49m\u001b[43mgenerate\u001b[49m\u001b[43m(\u001b[49m\u001b[43m)\u001b[49m\n\u001b[0;32m     20\u001b[0m logging\u001b[38;5;241m.\u001b[39minfo(\u001b[38;5;124m\"\u001b[39m\u001b[38;5;124mSerializing\u001b[39m\u001b[38;5;124m\"\u001b[39m)\n\u001b[0;32m     21\u001b[0m generated_log_ET \u001b[38;5;241m=\u001b[39m maxes\u001b[38;5;241m.\u001b[39mserialization\u001b[38;5;241m.\u001b[39mserialize\u001b[38;5;241m.\u001b[39mSerializer()\u001b[38;5;241m.\u001b[39mserialize(generated_log, xml_log_skeleton\u001b[38;5;241m=\u001b[39mlog\u001b[38;5;241m.\u001b[39mloader\u001b[38;5;241m.\u001b[39mxml_log_skeleton)\n",
      "File \u001b[1;32mC:\\vt\\md\\maxes\\src\\maxes\\generators\\xes_generator1.py:153\u001b[0m, in \u001b[0;36mXesGenerator1.generate\u001b[1;34m(self)\u001b[0m\n\u001b[0;32m    150\u001b[0m trace \u001b[38;5;241m=\u001b[39m XesTrace()\n\u001b[0;32m    151\u001b[0m log\u001b[38;5;241m.\u001b[39mtraces\u001b[38;5;241m.\u001b[39mappend(trace)\n\u001b[1;32m--> 153\u001b[0m generated_events_sequence \u001b[38;5;241m=\u001b[39m \u001b[43mmaxes\u001b[49m\u001b[38;5;241;43m.\u001b[39;49m\u001b[43mgraphs\u001b[49m\u001b[38;5;241;43m.\u001b[39;49m\u001b[43mrandom_weighted_traverse\u001b[49m\u001b[43m(\u001b[49m\n\u001b[0;32m    154\u001b[0m \u001b[43m    \u001b[49m\u001b[43mgraph\u001b[49m\u001b[38;5;241;43m=\u001b[39;49m\u001b[38;5;28;43mself\u001b[39;49m\u001b[38;5;241;43m.\u001b[39;49m\u001b[43msequence_graph_\u001b[49m\u001b[43m,\u001b[49m\n\u001b[0;32m    155\u001b[0m \u001b[43m    \u001b[49m\u001b[43mmin_steps\u001b[49m\u001b[38;5;241;43m=\u001b[39;49m\u001b[38;5;28;43mself\u001b[39;49m\u001b[38;5;241;43m.\u001b[39;49m\u001b[43mtrace_length_range_\u001b[49m\u001b[43m[\u001b[49m\u001b[38;5;241;43m0\u001b[39;49m\u001b[43m]\u001b[49m\u001b[43m,\u001b[49m\n\u001b[0;32m    156\u001b[0m \u001b[43m    \u001b[49m\u001b[43mmax_steps\u001b[49m\u001b[38;5;241;43m=\u001b[39;49m\u001b[38;5;28;43mself\u001b[39;49m\u001b[38;5;241;43m.\u001b[39;49m\u001b[43mtrace_length_range_\u001b[49m\u001b[43m[\u001b[49m\u001b[38;5;241;43m1\u001b[39;49m\u001b[43m]\u001b[49m\u001b[43m,\u001b[49m\n\u001b[0;32m    157\u001b[0m \u001b[43m    \u001b[49m\u001b[43mweight_feature_name\u001b[49m\u001b[38;5;241;43m=\u001b[39;49m\u001b[38;5;124;43m\"\u001b[39;49m\u001b[38;5;124;43mfrequency\u001b[39;49m\u001b[38;5;124;43m\"\u001b[39;49m\u001b[43m,\u001b[49m\n\u001b[0;32m    158\u001b[0m \u001b[43m\u001b[49m\u001b[43m)\u001b[49m\n\u001b[0;32m    160\u001b[0m \u001b[38;5;66;03m# Assign other attributes\u001b[39;00m\n\u001b[0;32m    161\u001b[0m \u001b[38;5;28;01mfor\u001b[39;00m event_sequence_item \u001b[38;5;129;01min\u001b[39;00m generated_events_sequence:\n",
      "File \u001b[1;32mC:\\vt\\md\\maxes\\src\\maxes\\graphs.py:28\u001b[0m, in \u001b[0;36mrandom_weighted_traverse\u001b[1;34m(graph, max_steps, min_steps, weight_feature_name)\u001b[0m\n\u001b[0;32m     26\u001b[0m i \u001b[38;5;241m+\u001b[39m\u001b[38;5;241m=\u001b[39m \u001b[38;5;241m1\u001b[39m\n\u001b[0;32m     27\u001b[0m \u001b[38;5;28;01mif\u001b[39;00m i \u001b[38;5;241m>\u001b[39m \u001b[38;5;241m40000\u001b[39m:\n\u001b[1;32m---> 28\u001b[0m     \u001b[38;5;28;01mraise\u001b[39;00m \u001b[38;5;167;01mRuntimeError\u001b[39;00m(\u001b[38;5;124m\"\u001b[39m\u001b[38;5;124mStAcKoVeRfLoW\u001b[39m\u001b[38;5;124m\"\u001b[39m)\n\u001b[0;32m     30\u001b[0m current_depth \u001b[38;5;241m=\u001b[39m \u001b[38;5;28mlen\u001b[39m(function_stack)\n\u001b[0;32m     32\u001b[0m \u001b[38;5;28;01mif\u001b[39;00m current_depth \u001b[38;5;241m==\u001b[39m \u001b[38;5;241m0\u001b[39m:\n\u001b[0;32m     33\u001b[0m     \u001b[38;5;66;03m# no path that satisfies conditions of min_steps, max_steps\u001b[39;00m\n",
      "\u001b[1;31mRuntimeError\u001b[0m: StAcKoVeRfLoW"
     ]
    }
   ],
   "source": [
    "for source, destination in files.items():\n",
    "    logging.info(f\"Generating \\\"{source}\\\" -> \\\"{destination}\\\"\")\n",
    "    generate_xes_for_file(\n",
    "        source_file_path=source,\n",
    "        destination_file_path=destination\n",
    "    )"
   ]
  },
  {
   "cell_type": "code",
   "execution_count": null,
   "metadata": {},
   "outputs": [],
   "source": []
  },
  {
   "cell_type": "code",
   "execution_count": null,
   "metadata": {},
   "outputs": [],
   "source": []
  }
 ],
 "metadata": {
  "kernelspec": {
   "display_name": "venv",
   "language": "python",
   "name": "python3"
  },
  "language_info": {
   "codemirror_mode": {
    "name": "ipython",
    "version": 3
   },
   "file_extension": ".py",
   "mimetype": "text/x-python",
   "name": "python",
   "nbconvert_exporter": "python",
   "pygments_lexer": "ipython3",
   "version": "3.12.2"
  }
 },
 "nbformat": 4,
 "nbformat_minor": 2
}
