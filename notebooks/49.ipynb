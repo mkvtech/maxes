{
 "cells": [
  {
   "cell_type": "code",
   "execution_count": 1,
   "metadata": {},
   "outputs": [],
   "source": [
    "%load_ext autoreload\n",
    "import datetime\n",
    "# import ete3\n",
    "import itertools\n",
    "import json\n",
    "import logging\n",
    "import math\n",
    "import matplotlib.pyplot as plt\n",
    "import networkx as nx\n",
    "import numpy as np\n",
    "import pandas as pd\n",
    "import typing\n",
    "# import re\n",
    "import xml.etree.ElementTree as ET\n",
    "# import xml.dom.minidom\n",
    "# import xmlschema"
   ]
  },
  {
   "cell_type": "code",
   "execution_count": 2,
   "metadata": {},
   "outputs": [],
   "source": [
    "%autoreload\n",
    "from maxes.xes_loader2 import XesLoader, XesLog\n",
    "# from maxes.xes_file import XesFile\n",
    "# from maxes.analyze_xes import AnalyzeXes\n",
    "# import maxes.analyze_sequence\n",
    "# import maxes.serialization.serialize\n",
    "# import maxes.graphs\n",
    "import maxes.notebooks.utils\n",
    "import maxes.utils"
   ]
  },
  {
   "cell_type": "code",
   "execution_count": null,
   "metadata": {},
   "outputs": [],
   "source": [
    "maxes.notebooks.utils.init_notebook() # RUN ONLY ONCE"
   ]
  },
  {
   "cell_type": "code",
   "execution_count": 4,
   "metadata": {},
   "outputs": [],
   "source": [
    "%autoreload\n",
    "import maxes.data.manifest_reader\n",
    "\n",
    "\n",
    "# maxes.data.manifest_reader.generate_data_files_file()"
   ]
  },
  {
   "cell_type": "code",
   "execution_count": null,
   "metadata": {},
   "outputs": [],
   "source": [
    "maxes.data.manifest_reader.prepare_manifest_files(show_progress_bar=True)"
   ]
  },
  {
   "cell_type": "code",
   "execution_count": 6,
   "metadata": {},
   "outputs": [],
   "source": [
    "maxes.data.manifest_reader.generate_data_files_file()"
   ]
  },
  {
   "cell_type": "code",
   "execution_count": null,
   "metadata": {},
   "outputs": [],
   "source": [
    "import maxes.data.load_files\n",
    "\n",
    "file_path = maxes.data.load_files.get_path_bpic2018()\n",
    "\n",
    "print(file_path)\n",
    "\n",
    "import pm4py\n",
    "\n",
    "df = pm4py.read_xes(file_path)\n",
    "df"
   ]
  },
  {
   "cell_type": "code",
   "execution_count": 9,
   "metadata": {},
   "outputs": [
    {
     "data": {
      "text/plain": [
       "Index(['success', 'org:resource', 'docid_uuid', 'doctype', 'subprocess',\n",
       "       'docid', 'activity', 'note', 'eventid', 'identity:id', 'concept:name',\n",
       "       'lifecycle:transition', 'time:timestamp', 'case:young farmer',\n",
       "       'case:selected_random', 'case:penalty_AJLP', 'case:application',\n",
       "       'case:penalty_amount0', 'case:program-id', 'case:penalty_BGKV',\n",
       "       'case:penalty_AUVP', 'case:applicant', 'case:risk_factor',\n",
       "       'case:small farmer', 'case:penalty_BGP', 'case:department',\n",
       "       'case:penalty_C16', 'case:penalty_BGK', 'case:penalty_AVUVP',\n",
       "       'case:penalty_CC', 'case:penalty_AVJLP', 'case:penalty_C9',\n",
       "       'case:cross_compliance', 'case:rejected', 'case:greening',\n",
       "       'case:penalty_C4', 'case:penalty_AVGP', 'case:penalty_ABP',\n",
       "       'case:penalty_B6', 'case:penalty_B4', 'case:penalty_B5',\n",
       "       'case:penalty_AVBP', 'case:penalty_B2', 'case:selected_risk',\n",
       "       'case:penalty_B3', 'case:area', 'case:selected_manually',\n",
       "       'case:penalty_AGP', 'case:penalty_B16', 'case:penalty_GP1',\n",
       "       'case:basic payment', 'case:penalty_B5F', 'case:penalty_V5',\n",
       "       'case:payment_actual0', 'case:identity:id', 'case:amount_applied0',\n",
       "       'case:redistribution', 'case:penalty_JLP6', 'case:penalty_JLP7',\n",
       "       'case:year', 'case:penalty_JLP5', 'case:penalty_JLP2',\n",
       "       'case:penalty_JLP3', 'case:number_parcels', 'case:penalty_JLP1',\n",
       "       'case:concept:name', 'case:penalty_amount1', 'case:payment_actual1',\n",
       "       'case:amount_applied1', 'case:penalty_amount2', 'case:payment_actual2',\n",
       "       'case:amount_applied2', 'case:penalty_amount3', 'case:payment_actual3',\n",
       "       'case:amount_applied3'],\n",
       "      dtype='object')"
      ]
     },
     "execution_count": 9,
     "metadata": {},
     "output_type": "execute_result"
    }
   ],
   "source": [
    "df.columns"
   ]
  },
  {
   "cell_type": "code",
   "execution_count": 10,
   "metadata": {},
   "outputs": [],
   "source": [
    "net, im, fm = pm4py.discover_petri_net_inductive(df)"
   ]
  },
  {
   "cell_type": "code",
   "execution_count": 11,
   "metadata": {},
   "outputs": [
    {
     "data": {
      "text/plain": [
       "43809"
      ]
     },
     "execution_count": 11,
     "metadata": {},
     "output_type": "execute_result"
    }
   ],
   "source": [
    "import maxes.notebooks.utils\n",
    "\n",
    "log = maxes.notebooks.utils.load_xes(file_path)\n",
    "len(log.traces)"
   ]
  },
  {
   "cell_type": "code",
   "execution_count": null,
   "metadata": {},
   "outputs": [],
   "source": [
    "log.update_df()\n",
    "log.df"
   ]
  },
  {
   "cell_type": "code",
   "execution_count": null,
   "metadata": {},
   "outputs": [],
   "source": [
    "from maxes.generators.xes_generator.xes_generator3 import XesGenerator3\n",
    "\n",
    "# Initialize generator\n",
    "xes_generator = XesGenerator3(attributes_models=[], traces_count=1)\n",
    "xes_generator.fit(log)\n"
   ]
  }
 ],
 "metadata": {
  "kernelspec": {
   "display_name": "Python 3",
   "language": "python",
   "name": "python3"
  },
  "language_info": {
   "codemirror_mode": {
    "name": "ipython",
    "version": 3
   },
   "file_extension": ".py",
   "mimetype": "text/x-python",
   "name": "python",
   "nbconvert_exporter": "python",
   "pygments_lexer": "ipython3",
   "version": "3.13.0"
  }
 },
 "nbformat": 4,
 "nbformat_minor": 2
}
