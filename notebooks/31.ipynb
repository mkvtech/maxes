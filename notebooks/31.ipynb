{
 "cells": [
  {
   "cell_type": "code",
   "execution_count": 4,
   "metadata": {},
   "outputs": [],
   "source": [
    "%load_ext autoreload\n",
    "import datetime\n",
    "# import ete3\n",
    "import itertools\n",
    "import json\n",
    "import Levenshtein\n",
    "import logging\n",
    "import matplotlib.pyplot as plt\n",
    "import networkx as nx\n",
    "import numpy as np\n",
    "import pandas as pd\n",
    "# import re\n",
    "import xml.etree.ElementTree as ET\n",
    "# import xml.dom.minidom\n",
    "# import xmlschema"
   ]
  },
  {
   "cell_type": "code",
   "execution_count": 2,
   "metadata": {},
   "outputs": [],
   "source": [
    "%autoreload\n",
    "from maxes.xes_loader2 import XesLoader, XesLog\n",
    "# from maxes.xes_file import XesFile\n",
    "# from maxes.analyze_xes import AnalyzeXes\n",
    "# import maxes.analyze_sequence\n",
    "import maxes.serialization.serialize\n",
    "# import maxes.graphs\n",
    "import maxes.utils\n",
    "from maxes.generators.xes_generator.xes_generator1 import XesGenerator1"
   ]
  },
  {
   "cell_type": "code",
   "execution_count": null,
   "metadata": {},
   "outputs": [],
   "source": [
    "maxes.utils.init_notebook() # RUN ONLY ONCE"
   ]
  },
  {
   "cell_type": "code",
   "execution_count": 11,
   "metadata": {},
   "outputs": [],
   "source": [
    "def generate_xes_for_file(source_file_path, destination_file_path):\n",
    "    loader = XesLoader()\n",
    "\n",
    "    logging.info(\"Loading\")\n",
    "    log = loader.load(source_file_path)\n",
    "\n",
    "    if len(loader.errors):\n",
    "        raise RuntimeError(\"Errors while loading XES\")\n",
    "\n",
    "    logging.info(\"Fitting\")\n",
    "    generator = XesGenerator1(debug=True).fit(log)\n",
    "\n",
    "    logging.info(\"Generating\")\n",
    "    generated_log = generator.generate()\n",
    "\n",
    "    logging.info(\"Serializing\")\n",
    "    generated_log_ET = maxes.serialization.serialize.Serializer().serialize(generated_log, xml_log_skeleton=log.loader.xml_log_skeleton)\n",
    "\n",
    "    logging.info(\"Formatting XML\")\n",
    "    ET.indent(generated_log_ET)\n",
    "\n",
    "    logging.info(\"Writing XML\")\n",
    "    ET.register_namespace(\"\", \"http://www.xes-standard.org\")\n",
    "    with open(destination_file_path, \"w\") as file:\n",
    "        generated_log_ET.write(file, encoding=\"unicode\")"
   ]
  },
  {
   "cell_type": "code",
   "execution_count": null,
   "metadata": {},
   "outputs": [],
   "source": [
    "# generate_xes_for_file(\n",
    "#     source_file_path=\"/vt/md/maxes/maxes/data/Activities of daily living of several individuals_1_all/data/activitylog_uci_detailed_labour.xes/activitylog_uci_detailed_labour.xes\",\n",
    "#     destination_file_path=\"/vt/md/maxes/maxes/output/generated_test.xes\")\n",
    "\n",
    "# generate_xes_for_file(\n",
    "#     source_file_path=\"/vt/md/maxes/maxes/data/BPI Challenge 2013, open problems_1_all/BPI_Challenge_2013_open_problems.xes/BPI_Challenge_2013_open_problems.xes\",\n",
    "#     destination_file_path=\"/vt/md/maxes/maxes/output/generated_bpi_2013_open_problems.xes\")\n",
    "\n",
    "# TODO: Extend trace range\n",
    "# generate_xes_for_file(\n",
    "#     source_file_path=\"/vt/md/maxes/maxes/data/NASA Crew Exploration Vehicle (CEV) Software Event Log_1_all/data/nasa-cev-complete-single-trace.xes/nasa-cev-complete-single-trace.xes\",\n",
    "#     destination_file_path=\"/vt/md/maxes/maxes/output/generated_bpi_2013_open_problems.xes\")\n",
    "\n",
    "generate_xes_for_file(\n",
    "    source_file_path=\"/vt/md/maxes/maxes/data/Conformance Checking Challenge 2019 (CCC19)_1_all/data/CCC19 - Log XES.xes\",\n",
    "    destination_file_path=\"/vt/md/maxes/maxes/output/gemerated_ccc19.xes\")\n"
   ]
  },
  {
   "cell_type": "code",
   "execution_count": null,
   "metadata": {},
   "outputs": [],
   "source": [
    "# file_path = \"/vt/md/maxes/maxes/data/BPI Challenge 2013, open problems_1_all/BPI_Challenge_2013_open_problems.xes/BPI_Challenge_2013_open_problems.xes\"\n",
    "# file_path = \"/vt/md/maxes/maxes/data/NASA Crew Exploration Vehicle (CEV) Software Event Log_1_all/data/nasa-cev-complete-single-trace.xes/nasa-cev-complete-single-trace.xes\"\n",
    "file_path=\"/vt/md/maxes/maxes/data/Conformance Checking Challenge 2019 (CCC19)_1_all/data/CCC19 - Log XES.xes\"\n",
    "\n",
    "log = XesLoader().load(file_path)\n",
    "\n",
    "generator = XesGenerator1(debug=True).fit(log)\n",
    "\n",
    "logging.info(\"Generating\")\n",
    "generated_log = generator.generate()"
   ]
  },
  {
   "cell_type": "code",
   "execution_count": 13,
   "metadata": {},
   "outputs": [
    {
     "data": {
      "text/plain": [
       "1394"
      ]
     },
     "execution_count": 13,
     "metadata": {},
     "output_type": "execute_result"
    }
   ],
   "source": [
    "len(log.df)"
   ]
  },
  {
   "cell_type": "code",
   "execution_count": 14,
   "metadata": {},
   "outputs": [
    {
     "data": {
      "text/plain": [
       "20"
      ]
     },
     "execution_count": 14,
     "metadata": {},
     "output_type": "execute_result"
    }
   ],
   "source": [
    "len(log.traces)"
   ]
  },
  {
   "cell_type": "code",
   "execution_count": 15,
   "metadata": {},
   "outputs": [
    {
     "data": {
      "text/plain": [
       "0.44318181818181823"
      ]
     },
     "execution_count": 15,
     "metadata": {},
     "output_type": "execute_result"
    }
   ],
   "source": [
    "a = list(log.traces[0].df[\"concept:name\"])\n",
    "b = list(generated_log.traces[0].df[\"concept:name\"])\n",
    "\n",
    "Levenshtein.ratio(a, b)"
   ]
  },
  {
   "cell_type": "code",
   "execution_count": 16,
   "metadata": {},
   "outputs": [
    {
     "name": "stdout",
     "output_type": "stream",
     "text": [
      "0: distance = 51, ratio = 0.484375\n",
      "1: distance = 48, ratio = 0.5\n",
      "2: distance = 65, ratio = 0.5032258064516129\n",
      "3: distance = 54, ratio = 0.49230769230769234\n",
      "4: distance = 34, ratio = 0.631578947368421\n",
      "5: distance = 56, ratio = 0.4444444444444444\n",
      "6: distance = 47, ratio = 0.6119402985074627\n",
      "7: distance = 40, ratio = 0.5892857142857143\n",
      "8: distance = 68, ratio = 0.592964824120603\n",
      "9: distance = 58, ratio = 0.48571428571428577\n",
      "10: distance = 38, ratio = 0.5423728813559322\n",
      "11: distance = 44, ratio = 0.5137614678899083\n",
      "12: distance = 74, ratio = 0.49689440993788825\n",
      "13: distance = 62, ratio = 0.4383561643835616\n",
      "14: distance = 58, ratio = 0.5\n",
      "15: distance = 54, ratio = 0.4347826086956522\n",
      "16: distance = 60, ratio = 0.5540540540540541\n",
      "17: distance = 43, ratio = 0.4864864864864865\n",
      "18: distance = 49, ratio = 0.38383838383838387\n",
      "19: distance = 54, ratio = 0.5620915032679739\n"
     ]
    }
   ],
   "source": [
    "for i in range(len(log.traces)):\n",
    "    a = list(log.traces[i].df[\"concept:name\"])\n",
    "    b = list(generated_log.traces[i].df[\"concept:name\"])\n",
    "\n",
    "    distance = Levenshtein.distance(a, b)\n",
    "    ratio = Levenshtein.ratio(a, b)\n",
    "\n",
    "    print(f\"{i}: distance = {distance}, ratio = {ratio}\")"
   ]
  },
  {
   "cell_type": "code",
   "execution_count": 35,
   "metadata": {},
   "outputs": [
    {
     "name": "stdout",
     "output_type": "stream",
     "text": [
      "0.5124237486555038\n",
      "0.5124237486555039\n"
     ]
    }
   ],
   "source": [
    "distances = []\n",
    "\n",
    "def df_to_sequence(df: pd.DataFrame, keys: list[str]):\n",
    "    # Returns list of tuples: [(), (), (), ...]\n",
    "    return list(df[keys].itertuples(index=False, name=None))\n",
    "\n",
    "def mean_levenstein_distance(original_log, generated_log, keys=['concept:name', 'lifecycle:transition']):\n",
    "    for original_trace, generated_trace in zip(original_log.traces, generated_log.traces):\n",
    "        original_sequence = df_to_sequence(original_trace.df, keys=keys)\n",
    "        generated_sequence = df_to_sequence(generated_trace.df, keys=keys)\n",
    "\n",
    "        distance = Levenshtein.ratio(original_sequence, generated_sequence)\n",
    "\n",
    "        distances.append(distance)\n",
    "\n",
    "    return np.array(distances).mean()\n",
    "\n",
    "print(mean_levenstein_distance(log, generated_log, keys=['concept:name', 'lifecycle:transition']))\n",
    "print(mean_levenstein_distance(log, generated_log, keys=['concept:name']))"
   ]
  },
  {
   "cell_type": "code",
   "execution_count": 31,
   "metadata": {},
   "outputs": [
    {
     "data": {
      "text/plain": [
       "[('Hand washing', 'start'),\n",
       " ('Hand washing', 'complete'),\n",
       " ('Ultrasound configuration', 'start'),\n",
       " ('Ultrasound configuration', 'complete'),\n",
       " ('Anatomic identification', 'start'),\n",
       " ('Anatomic identification', 'complete'),\n",
       " ('Compression identification', 'start'),\n",
       " ('Compression identification', 'complete'),\n",
       " ('Gel in probe', 'start'),\n",
       " ('Gel in probe', 'complete'),\n",
       " ('Get in sterile clothes', 'start'),\n",
       " ('Get in sterile clothes', 'complete'),\n",
       " ('Hand washing', 'start'),\n",
       " ('Hand washing', 'complete'),\n",
       " ('Get in sterile clothes', 'start'),\n",
       " ('Get in sterile clothes', 'complete'),\n",
       " ('Clean puncture area', 'start'),\n",
       " ('Clean puncture area', 'complete'),\n",
       " ('Drap puncture area', 'start'),\n",
       " ('Drap puncture area', 'complete'),\n",
       " ('Cover probe', 'start'),\n",
       " ('Cover probe', 'complete'),\n",
       " ('Put sterile gel', 'start'),\n",
       " ('Put sterile gel', 'complete'),\n",
       " ('Anatomic identification', 'start'),\n",
       " ('Anatomic identification', 'complete'),\n",
       " ('Ultrasound configuration', 'start'),\n",
       " ('Ultrasound configuration', 'complete'),\n",
       " ('Prepare implements', 'start'),\n",
       " ('Prepare implements', 'complete'),\n",
       " ('Anesthetize', 'start'),\n",
       " ('Anesthetize', 'complete'),\n",
       " ('Anatomic identification', 'start'),\n",
       " ('Anatomic identification', 'complete'),\n",
       " ('Puncture', 'start'),\n",
       " ('Ultrasound configuration', 'start'),\n",
       " ('Ultrasound configuration', 'complete'),\n",
       " ('Puncture', 'complete'),\n",
       " ('Blood return', 'start'),\n",
       " ('Blood return', 'complete'),\n",
       " ('Drop probe', 'start'),\n",
       " ('Drop probe', 'complete'),\n",
       " ('Remove syringe', 'start'),\n",
       " ('Remove syringe', 'complete'),\n",
       " ('Guidewire install', 'start'),\n",
       " ('Guidewire install', 'complete'),\n",
       " ('Check wire in short axis', 'start'),\n",
       " ('Check wire in short axis', 'complete'),\n",
       " ('Check wire in long axis', 'start'),\n",
       " ('Check wire in long axis', 'complete'),\n",
       " ('Remove trocar', 'start'),\n",
       " ('Remove trocar', 'complete'),\n",
       " ('Check wire in short axis', 'start'),\n",
       " ('Check wire in short axis', 'complete'),\n",
       " ('Check wire in long axis', 'start'),\n",
       " ('Check wire in long axis', 'complete'),\n",
       " ('Widen pathway', 'start'),\n",
       " ('Widen pathway', 'complete'),\n",
       " ('Advance catheter', 'start'),\n",
       " ('Advance catheter', 'complete'),\n",
       " ('Remove guidewire', 'start'),\n",
       " ('Remove guidewire', 'complete'),\n",
       " ('Check flow and reflow', 'start'),\n",
       " ('Check flow and reflow', 'complete'),\n",
       " ('Check catheter position', 'start'),\n",
       " ('Check catheter position', 'complete')]"
      ]
     },
     "execution_count": 31,
     "metadata": {},
     "output_type": "execute_result"
    }
   ],
   "source": [
    "list(log.traces[0].df[['concept:name', 'lifecycle:transition']].itertuples(index=False, name=None))"
   ]
  },
  {
   "cell_type": "code",
   "execution_count": null,
   "metadata": {},
   "outputs": [],
   "source": [
    "# Approaches:\n",
    "\n",
    "# First best distance match\n",
    "# TODO: Mean best distance match\n",
    "# Mean best distance match with withdrawing\n",
    "# TODO: Absolute recursive permutations withdrawing"
   ]
  },
  {
   "cell_type": "code",
   "execution_count": 4,
   "metadata": {},
   "outputs": [],
   "source": [
    "# Helpers\n",
    "\n",
    "class TraceSequence:\n",
    "    index: int\n",
    "    trace: any\n",
    "    sequence: list[list[str]]\n",
    "\n",
    "    def __init__(self, index, trace, sequence):\n",
    "        self.index = index\n",
    "        self.trace = trace\n",
    "        self.sequence = sequence\n",
    "\n",
    "def df_to_sequence(df: pd.DataFrame, keys: list[str] = ['concept:name', 'lifecycle:transition']):\n",
    "    # Returns list of tuples: [(), (), (), ...]\n",
    "    return list(df[keys].itertuples(index=False, name=None))\n",
    "\n",
    "def _extract_sequences(log, keys: list[str] = ['concept:name', 'lifecycle:transition']) -> list[TraceSequence]:\n",
    "    sequences = []\n",
    "\n",
    "    for index, trace in enumerate(log.traces):\n",
    "        sequence = df_to_sequence(trace.df, keys)\n",
    "        trace_sequence = TraceSequence(index, trace, sequence)\n",
    "        sequences.append(trace_sequence)\n",
    "\n",
    "    return sequences\n"
   ]
  },
  {
   "cell_type": "code",
   "execution_count": 5,
   "metadata": {},
   "outputs": [
    {
     "name": "stdout",
     "output_type": "stream",
     "text": [
      "0.7457627118644068\n",
      "1 12\n"
     ]
    }
   ],
   "source": [
    "# First best distance match\n",
    "\n",
    "def first_best_distance_match(original_log, generated_log):\n",
    "    original_sequences = _extract_sequences(original_log)\n",
    "    generated_sequences = _extract_sequences(generated_log)\n",
    "\n",
    "    best_score = 0\n",
    "    best_pair = ()\n",
    "\n",
    "    for original_sequence, generated_sequence in itertools.product(original_sequences, generated_sequences):\n",
    "        score = Levenshtein.ratio(original_sequence.sequence, generated_sequence.sequence)\n",
    "\n",
    "        if score > best_score:\n",
    "            best_score = score\n",
    "            best_pair = (original_sequence, generated_sequence)\n",
    "\n",
    "    return best_score, best_pair\n",
    "\n",
    "score, pair = first_best_distance_match(log, generated_log)\n",
    "\n",
    "print(score)\n",
    "print(pair[0].index, pair[1].index)"
   ]
  },
  {
   "cell_type": "code",
   "execution_count": 7,
   "metadata": {},
   "outputs": [
    {
     "name": "stdout",
     "output_type": "stream",
     "text": [
      "Double-check:\n",
      "0.5470085470085471\n",
      "45\n"
     ]
    }
   ],
   "source": [
    "print(\"Double-check:\")\n",
    "ratio = Levenshtein.ratio(\n",
    "    df_to_sequence(log.traces[4].df),\n",
    "    df_to_sequence(generated_log.traces[15].df),\n",
    ")\n",
    "print(ratio)\n",
    "distance = Levenshtein.distance(\n",
    "    df_to_sequence(log.traces[4].df),\n",
    "    df_to_sequence(generated_log.traces[15].df),\n",
    ")\n",
    "print(distance)"
   ]
  },
  {
   "cell_type": "code",
   "execution_count": 8,
   "metadata": {},
   "outputs": [
    {
     "name": "stdout",
     "output_type": "stream",
     "text": [
      "1 <-> 12: 0.7457627118644068\n",
      "5 <-> 11: 0.6719999999999999\n",
      "9 <-> 5: 0.6666666666666667\n",
      "17 <-> 16: 0.653061224489796\n",
      "6 <-> 19: 0.6524822695035462\n",
      "18 <-> 18: 0.6495726495726496\n",
      "10 <-> 0: 0.6491228070175439\n",
      "4 <-> 8: 0.6349206349206349\n",
      "3 <-> 4: 0.6333333333333333\n",
      "19 <-> 14: 0.6164383561643836\n",
      "16 <-> 13: 0.6153846153846154\n",
      "0 <-> 17: 0.6015037593984962\n",
      "8 <-> 10: 0.5921787709497206\n",
      "15 <-> 6: 0.5563909774436091\n",
      "14 <-> 7: 0.5521472392638036\n",
      "11 <-> 15: 0.5504587155963303\n",
      "7 <-> 3: 0.5324675324675325\n",
      "2 <-> 1: 0.5263157894736843\n",
      "13 <-> 9: 0.4752475247524752\n",
      "12 <-> 2: 0.42553191489361697\n",
      "mean: 0.6000493746578422\n"
     ]
    }
   ],
   "source": [
    "# Mean best distance match with withdrawing\n",
    "\n",
    "def mean_best_distance_match(original_log, generated_log, keys: list[str] = ['concept:name', 'lifecycle:transition']):\n",
    "    original_sequences = _extract_sequences(original_log, keys=keys)\n",
    "    generated_sequences = _extract_sequences(generated_log, keys=keys)\n",
    "\n",
    "    pairs_scores: list[list[list[TraceSequence], int]] = []\n",
    "\n",
    "    for original_sequence, generated_sequence in itertools.product(original_sequences, generated_sequences):\n",
    "        score = Levenshtein.ratio(original_sequence.sequence, generated_sequence.sequence)\n",
    "\n",
    "        item = {\n",
    "            \"original_sequence\": original_sequence,\n",
    "            \"generated_sequence\": generated_sequence,\n",
    "            \"score\": score\n",
    "        }\n",
    "\n",
    "        pairs_scores.append(item)\n",
    "\n",
    "    best_pairs_scores = []\n",
    "\n",
    "    while len(pairs_scores) > 0:\n",
    "        # find best scored pair\n",
    "        best_pair = max(pairs_scores, key=lambda item: item[\"score\"])\n",
    "        best_pairs_scores.append(best_pair)\n",
    "\n",
    "        # Remove all pairs containing first or second sequence\n",
    "\n",
    "        pairs_scores = [\n",
    "            pair_and_score\n",
    "            for pair_and_score in pairs_scores\n",
    "            if pair_and_score[\"original_sequence\"].index != best_pair[\"original_sequence\"].index and\\\n",
    "                pair_and_score[\"generated_sequence\"].index != best_pair[\"generated_sequence\"].index\n",
    "        ]\n",
    "\n",
    "    return best_pairs_scores\n",
    "\n",
    "best_pairs_distances = mean_best_distance_match(log, generated_log)\n",
    "\n",
    "for item in best_pairs_distances:\n",
    "    original_sequence = item[\"original_sequence\"]\n",
    "    generated_sequence = item[\"generated_sequence\"]\n",
    "    score = item[\"score\"]\n",
    "\n",
    "    print(f\"{original_sequence.index} <-> {generated_sequence.index}: {score}\")\n",
    "\n",
    "scores = [item[\"score\"] for item in best_pairs_distances]\n",
    "mean = np.array(scores).mean()\n",
    "print(f\"mean: {mean}\")"
   ]
  },
  {
   "cell_type": "code",
   "execution_count": 1,
   "metadata": {},
   "outputs": [
    {
     "data": {
      "text/plain": [
       "[[('a1', 'b1'), ('a2', 'b2'), ('a3', 'b3')],\n",
       " [('a1', 'b1'), ('a3', 'b2'), ('a2', 'b3')],\n",
       " [('a2', 'b1'), ('a1', 'b2'), ('a3', 'b3')],\n",
       " [('a2', 'b1'), ('a3', 'b2'), ('a1', 'b3')],\n",
       " [('a3', 'b1'), ('a1', 'b2'), ('a2', 'b3')],\n",
       " [('a3', 'b1'), ('a2', 'b2'), ('a1', 'b3')]]"
      ]
     },
     "execution_count": 1,
     "metadata": {},
     "output_type": "execute_result"
    }
   ],
   "source": [
    "l1 = ['a1', 'a2', 'a3']\n",
    "l2 = ['b1', 'b2', 'b3']\n",
    "\n",
    "# list(itertools.product(l1, l2))\n",
    "\n",
    "import itertools\n",
    "\n",
    "[list(zip(x, l2)) for x in itertools.permutations(l1, len(l2))]"
   ]
  },
  {
   "cell_type": "code",
   "execution_count": 5,
   "metadata": {},
   "outputs": [],
   "source": [
    "import typing\n",
    "\n",
    "T = typing.TypeVar('T')\n",
    "\n",
    "def all_combinations_of_list_mappings(\n",
    "        l1: typing.Sequence[T],\n",
    "        l2: typing.Sequence[T]\n",
    "        ) -> typing.Sequence[typing.Sequence[tuple[T, T]]]:\n",
    "    return (zip(l1_item, l2) for l1_item in itertools.permutations(l1, len(l2)))\n",
    "    # return [list(zip(l1_item, l2)) for l1_item in itertools.permutations(l1, len(l2))]\n",
    "\n",
    "# print(len(list(all_combinations_of_list_mappings(log.traces, generated_log.traces))))"
   ]
  },
  {
   "cell_type": "code",
   "execution_count": 9,
   "metadata": {},
   "outputs": [
    {
     "name": "stdout",
     "output_type": "stream",
     "text": [
      "720\n",
      "2432902008176640000\n"
     ]
    }
   ],
   "source": [
    "import math\n",
    "\n",
    "def count_generator(gen):\n",
    "    return len(list(gen))\n",
    "\n",
    "l1 = [0, 1, 2, 3, 4, 5]\n",
    "l2 = [0, 1, 2, 3, 4, 5]\n",
    "\n",
    "print(count_generator(all_combinations_of_list_mappings(l1, l2)))\n",
    "print(math.factorial(20))\n"
   ]
  },
  {
   "cell_type": "code",
   "execution_count": 11,
   "metadata": {},
   "outputs": [
    {
     "name": "stdout",
     "output_type": "stream",
     "text": [
      "2.28 s ± 39.1 ms per loop (mean ± std. dev. of 7 runs, 1 loop each)\n"
     ]
    }
   ],
   "source": [
    "def count_generator(gen):\n",
    "    return len(list(gen))\n",
    "\n",
    "l1 = [0, 1, 2, 3, 4, 5, 6, 7, 8, 9]\n",
    "l2 = [0, 1, 2, 3, 4, 5, 6, 7, 8, 9]\n",
    "\n",
    "# print(count_generator(all_combinations_of_list_mappings(l1, l2)))\n",
    "\n",
    "%timeit count_generator(all_combinations_of_list_mappings(l1, l2))"
   ]
  },
  {
   "cell_type": "code",
   "execution_count": 10,
   "metadata": {},
   "outputs": [
    {
     "name": "stdout",
     "output_type": "stream",
     "text": [
      "1.08 s ± 26.3 ms per loop (mean ± std. dev. of 7 runs, 1 loop each)\n"
     ]
    }
   ],
   "source": [
    "def count_generator2(gen):\n",
    "    return sum(1 for _ in gen)\n",
    "\n",
    "%timeit count_generator2(all_combinations_of_list_mappings(l1, l2))"
   ]
  },
  {
   "cell_type": "code",
   "execution_count": 13,
   "metadata": {},
   "outputs": [
    {
     "name": "stdout",
     "output_type": "stream",
     "text": [
      "1.17 s ± 61.3 ms per loop (mean ± std. dev. of 7 runs, 1 loop each)\n"
     ]
    }
   ],
   "source": [
    "import collections\n",
    "\n",
    "consumeall = collections.deque(maxlen=0).extend\n",
    "\n",
    "def count_generator3(gen):\n",
    "    cnt = itertools.count()\n",
    "    consumeall(zip(gen, cnt))\n",
    "    return next(cnt)\n",
    "\n",
    "%timeit count_generator3(all_combinations_of_list_mappings(l1, l2))"
   ]
  },
  {
   "cell_type": "code",
   "execution_count": null,
   "metadata": {},
   "outputs": [],
   "source": [
    "\n",
    "def mean_best_distance_match2(original_log, generated_log, keys: list[str] = ['concept:name', 'lifecycle:transition']):\n",
    "    original_sequences = _extract_sequences(original_log, keys=keys)\n",
    "    generated_sequences = _extract_sequences(generated_log, keys=keys)\n",
    "\n",
    "    pairs_scores: dict[tuple[int, int], float] = {}\n",
    "\n",
    "    for original_sequence, generated_sequence in itertools.product(original_sequences, generated_sequences):\n",
    "        score = Levenshtein.ratio(original_sequence.sequence, generated_sequence.sequence)\n",
    "\n",
    "        pair_key = (original_sequence.index, generated_sequence.index)\n",
    "        pairs_scores[pair_key] = score\n",
    "\n",
    "    best_mean_score = 0\n",
    "    best_combination = None\n",
    "    best_pairs_scores = []\n",
    "\n",
    "    for pairs in all_combinations_of_list_mappings(original_sequences, generated_sequences):\n",
    "        all_pairs_score = 0\n",
    "\n",
    "        for pair in pairs:\n",
    "            original_sequence, generated_sequence = pair\n",
    "            pair_key = (original_sequence.index, generated_sequence.index)\n",
    "            pair_score = pairs_scores[pair_key]\n",
    "            all_pairs_scores += pair_score\n",
    "\n",
    "        mean_score = float(all_pairs_score) / float(len(pairs))\n",
    "\n",
    "        if mean_score > best_mean_score:\n",
    "            best_mean_score = mean_score\n",
    "            best_combination = pairs\n",
    "\n",
    "    return best_mean_score, best_combination"
   ]
  }
 ],
 "metadata": {
  "kernelspec": {
   "display_name": "venv",
   "language": "python",
   "name": "python3"
  },
  "language_info": {
   "codemirror_mode": {
    "name": "ipython",
    "version": 3
   },
   "file_extension": ".py",
   "mimetype": "text/x-python",
   "name": "python",
   "nbconvert_exporter": "python",
   "pygments_lexer": "ipython3",
   "version": "3.12.2"
  }
 },
 "nbformat": 4,
 "nbformat_minor": 2
}
