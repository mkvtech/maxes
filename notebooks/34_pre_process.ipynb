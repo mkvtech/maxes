{
 "cells": [
  {
   "cell_type": "code",
   "execution_count": 1,
   "metadata": {},
   "outputs": [],
   "source": [
    "%load_ext autoreload\n",
    "import datetime\n",
    "# import ete3\n",
    "# import itertools\n",
    "# import json\n",
    "# import logging\n",
    "import math\n",
    "import matplotlib.pyplot as plt\n",
    "import networkx as nx\n",
    "import numpy as np\n",
    "import os\n",
    "import pandas as pd\n",
    "import typing\n",
    "# import re\n",
    "import xml.etree.ElementTree as ET\n",
    "import xml.dom.minidom\n",
    "# import xmlschema"
   ]
  },
  {
   "cell_type": "code",
   "execution_count": 2,
   "metadata": {},
   "outputs": [],
   "source": [
    "%autoreload\n",
    "from maxes.xes_loader2 import XesLoader, XesLog\n",
    "# from maxes.xes_file import XesFile\n",
    "# from maxes.analyze_xes import AnalyzeXes\n",
    "# import maxes.analyze_sequence\n",
    "import maxes.serialization.serialize\n",
    "# import maxes.graphs\n",
    "import maxes.notebooks.utils\n",
    "import maxes.utils"
   ]
  },
  {
   "cell_type": "code",
   "execution_count": 3,
   "metadata": {},
   "outputs": [
    {
     "name": "stdout",
     "output_type": "stream",
     "text": [
      "Loading config from: C:\\vt\\md\\maxes\\maxes\\config.local.yml\n"
     ]
    }
   ],
   "source": [
    "maxes.notebooks.utils.init_notebook() # RUN ONLY ONCE"
   ]
  },
  {
   "cell_type": "code",
   "execution_count": 4,
   "metadata": {},
   "outputs": [
    {
     "data": {
      "text/plain": [
       "'/vt/md/maxes/maxes/data\\\\Conformance Checking Challenge 2019 (CCC19)_1_all/data/CCC19 - Log XES.xes'"
      ]
     },
     "execution_count": 4,
     "metadata": {},
     "output_type": "execute_result"
    }
   ],
   "source": [
    "import maxes.notebooks.load_files\n",
    "\n",
    "\n",
    "path = maxes.notebooks.load_files.get_pathes().ccc19\n",
    "path"
   ]
  },
  {
   "cell_type": "code",
   "execution_count": 5,
   "metadata": {},
   "outputs": [
    {
     "data": {
      "text/plain": [
       "<xml.etree.ElementTree.ElementTree at 0x25ac869f830>"
      ]
     },
     "execution_count": 5,
     "metadata": {},
     "output_type": "execute_result"
    }
   ],
   "source": [
    "xml_tree = ET.parse(path)\n",
    "xml_tree"
   ]
  },
  {
   "cell_type": "code",
   "execution_count": 6,
   "metadata": {},
   "outputs": [
    {
     "data": {
      "text/plain": [
       "<Element '{http://www.xes-standard.org}log' at 0x0000025AC86F5FD0>"
      ]
     },
     "execution_count": 6,
     "metadata": {},
     "output_type": "execute_result"
    }
   ],
   "source": [
    "log = xml_tree.getroot()\n",
    "log"
   ]
  },
  {
   "cell_type": "code",
   "execution_count": 7,
   "metadata": {},
   "outputs": [],
   "source": [
    "def xml_tag_without_namespace(tag: str):\n",
    "    return maxes.utils.xml_tag_without_namespace(tag)"
   ]
  },
  {
   "cell_type": "code",
   "execution_count": 8,
   "metadata": {},
   "outputs": [],
   "source": [
    "\n",
    "def set_event_attribute_type_int(\n",
    "        xml_tree: ET.ElementTree,\n",
    "        attribute_name: str,\n",
    "        xml_namespace: str = \"{http://www.xes-standard.org}\",\n",
    "        ignore_missing: bool = False\n",
    "        ) -> int:\n",
    "    xml_log = xml_tree.getroot()\n",
    "\n",
    "    changes_counter = 0\n",
    "    trace_counter = 0\n",
    "    for xml_trace in xml_log:\n",
    "        if xml_tag_without_namespace(xml_trace.tag) != \"trace\":\n",
    "            continue\n",
    "\n",
    "        event_counter = 0\n",
    "        for xml_event in xml_trace:\n",
    "            if xml_tag_without_namespace(xml_event.tag) != \"event\":\n",
    "                continue\n",
    "\n",
    "            changed_event_attributes_counter = 0\n",
    "            for xml_attribute in xml_event:\n",
    "                if xml_attribute.attrib[\"key\"] != attribute_name:\n",
    "                    continue\n",
    "                # Change tag\n",
    "                xml_attribute.tag = f\"{xml_namespace}int\"\n",
    "\n",
    "                # Change value\n",
    "                value = int(xml_attribute.attrib[\"value\"])\n",
    "                xml_attribute.attrib[\"value\"] = str(value)\n",
    "\n",
    "                changes_counter += 1\n",
    "                changed_event_attributes_counter += 1\n",
    "\n",
    "            # if changed_event_attributes_counter < 1 and not ignore_missing:\n",
    "            #     raise RuntimeError(f\"Did not find {attribute_name} in event {event_counter} in trace {trace_counter}\")\n",
    "\n",
    "            event_counter += 1\n",
    "\n",
    "        trace_counter += 1\n",
    "\n",
    "    return changes_counter\n",
    "\n",
    "def remove_event_attribute(\n",
    "        xml_tree: ET.ElementTree,\n",
    "        attribute_name: str\n",
    "    ) -> int:\n",
    "    xml_log = xml_tree.getroot()\n",
    "\n",
    "    changes_counter = 0\n",
    "    trace_counter = 0\n",
    "    for xml_trace in xml_log:\n",
    "        if xml_tag_without_namespace(xml_trace.tag) != \"trace\":\n",
    "            continue\n",
    "\n",
    "        event_counter = 0\n",
    "        for xml_event in xml_trace:\n",
    "            if xml_tag_without_namespace(xml_event.tag) != \"event\":\n",
    "                continue\n",
    "\n",
    "            changed_event_attributes_counter = 0\n",
    "            for xml_attribute in xml_event:\n",
    "                if xml_attribute.attrib[\"key\"] != attribute_name:\n",
    "                    continue\n",
    "\n",
    "                xml_event.remove(xml_attribute)\n",
    "\n",
    "                changes_counter += 1\n",
    "                changed_event_attributes_counter += 1\n",
    "\n",
    "            # if changed_event_attributes_counter < 1 and not ignore_missing:\n",
    "            #     raise RuntimeError(f\"Did not find {attribute_name} in event {event_counter} in trace {trace_counter}\")\n",
    "\n",
    "            event_counter += 1\n",
    "\n",
    "        trace_counter += 1\n",
    "\n",
    "    return changes_counter\n"
   ]
  },
  {
   "cell_type": "code",
   "execution_count": 9,
   "metadata": {},
   "outputs": [
    {
     "name": "stdout",
     "output_type": "stream",
     "text": [
      "Reading\n",
      "Replacing\n",
      "Writing\n"
     ]
    }
   ],
   "source": [
    "import maxes.notebooks.utils\n",
    "\n",
    "\n",
    "print(\"Reading\")\n",
    "path = maxes.notebooks.load_files.get_pathes().ccc19\n",
    "xml_tree = ET.parse(path)\n",
    "xml_tree\n",
    "\n",
    "\n",
    "# TODO: Remove attribute\n",
    "\n",
    "print(\"Replacing\")\n",
    "set_event_attribute_type_int(xml_tree, \"VIDEOSTART\")\n",
    "set_event_attribute_type_int(xml_tree, \"VIDEOEND\")\n",
    "remove_event_attribute(xml_tree, \"EVENTID\")\n",
    "\n",
    "print(\"Writing\")\n",
    "ET.register_namespace(\"\", \"http://www.xes-standard.org\")\n",
    "ET.indent(xml_tree)\n",
    "\n",
    "destination_file_path = os.path.join(maxes.notebooks.utils.get_project_path(), \"output/data_processed/ccc19.xes\")\n",
    "with open(destination_file_path, \"w\") as file:\n",
    "    xml_tree.write(file, encoding=\"unicode\")"
   ]
  },
  {
   "cell_type": "code",
   "execution_count": 29,
   "metadata": {},
   "outputs": [
    {
     "data": {
      "text/plain": [
       "<maxes.xes_loader2.XesLog at 0x1c7a07a2ff0>"
      ]
     },
     "execution_count": 29,
     "metadata": {},
     "output_type": "execute_result"
    }
   ],
   "source": [
    "import maxes.notebooks.load_files\n",
    "\n",
    "\n",
    "log_ccc19 = maxes.notebooks.load_files.load_ccc19()\n",
    "log_ccc19"
   ]
  },
  {
   "cell_type": "code",
   "execution_count": 37,
   "metadata": {},
   "outputs": [],
   "source": [
    "from maxes.generators.xes_generator.xes_generator1 import XesGenerator1\n",
    "\n",
    "# GENERATE AND SAVE\n",
    "ccc_19_generated_path = os.path.join(maxes.notebooks.utils.get_project_path(), \"output/ccc19_generated.xes\")\n",
    "\n",
    "# generator = XesGenerator1(debug=True).fit(log_ccc19)\n",
    "# generated_ccc_19 = generator.generate()\n",
    "# generated_ccc_19\n",
    "\n",
    "# generated_log_ET = maxes.serialization.serialize.Serializer().serialize(generated_ccc_19, xml_log_skeleton=log_ccc19.loader.xml_log_skeleton)\n",
    "\n",
    "# ET.indent(generated_log_ET)\n",
    "\n",
    "# ET.register_namespace(\"\", \"http://www.xes-standard.org\")\n",
    "# with open(ccc_19_generated_path, \"w\") as file:\n",
    "#     generated_log_ET.write(file, encoding=\"unicode\")\n",
    "\n",
    "maxes.notebooks.utils.generate_xes_for_log(log_ccc19, ccc_19_generated_path)"
   ]
  },
  {
   "cell_type": "code",
   "execution_count": 38,
   "metadata": {},
   "outputs": [
    {
     "data": {
      "text/plain": [
       "<maxes.xes_loader2.XesLog at 0x1c7a045ca10>"
      ]
     },
     "execution_count": 38,
     "metadata": {},
     "output_type": "execute_result"
    }
   ],
   "source": [
    "# READ FROM FILE\n",
    "generated_ccc_19 = XesLoader().load(ccc_19_generated_path)\n",
    "generated_ccc_19"
   ]
  },
  {
   "cell_type": "code",
   "execution_count": 39,
   "metadata": {},
   "outputs": [
    {
     "data": {
      "text/plain": [
       "[(10, 19),\n",
       " (11, 13),\n",
       " (8, 0),\n",
       " (15, 2),\n",
       " (1, 12),\n",
       " (6, 18),\n",
       " (14, 7),\n",
       " (17, 14),\n",
       " (19, 17),\n",
       " (3, 5),\n",
       " (13, 6),\n",
       " (5, 8),\n",
       " (0, 16),\n",
       " (12, 3),\n",
       " (16, 10),\n",
       " (4, 9),\n",
       " (9, 11),\n",
       " (7, 15),\n",
       " (2, 1),\n",
       " (18, 4)]"
      ]
     },
     "execution_count": 39,
     "metadata": {},
     "output_type": "execute_result"
    }
   ],
   "source": [
    "import maxes.metrics.mean_levenstein_distance\n",
    "\n",
    "distance_result = maxes.metrics.mean_levenstein_distance.mean_levenstein_distance(\n",
    "    original_log=log_ccc19,\n",
    "    generated_log=generated_ccc_19\n",
    ")\n",
    "trace_mappings = [(pair.original_sequence.index, pair.generated_sequence.index) for pair in distance_result]\n",
    "trace_mappings\n"
   ]
  },
  {
   "cell_type": "code",
   "execution_count": 42,
   "metadata": {},
   "outputs": [
    {
     "ename": "TypeError",
     "evalue": "calculate_mean_log_error() missing 1 required positional argument: 'attribute_weights'",
     "output_type": "error",
     "traceback": [
      "\u001b[1;31m---------------------------------------------------------------------------\u001b[0m",
      "\u001b[1;31mTypeError\u001b[0m                                 Traceback (most recent call last)",
      "Cell \u001b[1;32mIn[42], line 3\u001b[0m\n\u001b[0;32m      1\u001b[0m \u001b[38;5;28;01mimport\u001b[39;00m \u001b[38;5;21;01mmaxes\u001b[39;00m\u001b[38;5;21;01m.\u001b[39;00m\u001b[38;5;21;01mmetrics\u001b[39;00m\u001b[38;5;21;01m.\u001b[39;00m\u001b[38;5;21;01mmean_error\u001b[39;00m\n\u001b[1;32m----> 3\u001b[0m error \u001b[38;5;241m=\u001b[39m \u001b[43mmaxes\u001b[49m\u001b[38;5;241;43m.\u001b[39;49m\u001b[43mmetrics\u001b[49m\u001b[38;5;241;43m.\u001b[39;49m\u001b[43mmean_error\u001b[49m\u001b[38;5;241;43m.\u001b[39;49m\u001b[43mcalculate_mean_log_error\u001b[49m\u001b[43m(\u001b[49m\n\u001b[0;32m      4\u001b[0m \u001b[43m    \u001b[49m\u001b[43moriginal_log\u001b[49m\u001b[38;5;241;43m=\u001b[39;49m\u001b[43mlog_ccc19\u001b[49m\u001b[43m,\u001b[49m\n\u001b[0;32m      5\u001b[0m \u001b[43m    \u001b[49m\u001b[43mgenerated_log\u001b[49m\u001b[38;5;241;43m=\u001b[39;49m\u001b[43mgenerated_ccc_19\u001b[49m\u001b[43m,\u001b[49m\n\u001b[0;32m      6\u001b[0m \u001b[43m    \u001b[49m\u001b[43mtrace_mapping\u001b[49m\u001b[38;5;241;43m=\u001b[39;49m\u001b[43mtrace_mappings\u001b[49m\n\u001b[0;32m      7\u001b[0m \u001b[43m)\u001b[49m\n\u001b[0;32m      8\u001b[0m error\n",
      "\u001b[1;31mTypeError\u001b[0m: calculate_mean_log_error() missing 1 required positional argument: 'attribute_weights'"
     ]
    }
   ],
   "source": [
    "import maxes.metrics.mean_error\n",
    "\n",
    "error = maxes.metrics.mean_error.calculate_mean_log_error(\n",
    "    original_log=log_ccc19,\n",
    "    generated_log=generated_ccc_19,\n",
    "    trace_mapping=trace_mappings\n",
    ")\n",
    "error"
   ]
  }
 ],
 "metadata": {
  "kernelspec": {
   "display_name": "venv",
   "language": "python",
   "name": "python3"
  },
  "language_info": {
   "codemirror_mode": {
    "name": "ipython",
    "version": 3
   },
   "file_extension": ".py",
   "mimetype": "text/x-python",
   "name": "python",
   "nbconvert_exporter": "python",
   "pygments_lexer": "ipython3",
   "version": "3.12.2"
  }
 },
 "nbformat": 4,
 "nbformat_minor": 2
}
