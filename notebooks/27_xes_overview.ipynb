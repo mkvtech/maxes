{
 "cells": [
  {
   "cell_type": "code",
   "execution_count": 1,
   "metadata": {},
   "outputs": [],
   "source": [
    "%load_ext autoreload\n",
    "import datetime\n",
    "# import ete3\n",
    "import json\n",
    "# import matplotlib.pyplot as plt\n",
    "# import networkx as nx\n",
    "import numpy as np\n",
    "import pandas as pd\n",
    "# import re\n",
    "import xml.etree.ElementTree as ET\n",
    "# import xml.dom.minidom\n",
    "import xmlschema"
   ]
  },
  {
   "cell_type": "code",
   "execution_count": 41,
   "metadata": {},
   "outputs": [],
   "source": [
    "%autoreload\n",
    "from maxes.xes_loader2 import XesLoader, XesLog\n",
    "# from maxes.xes_file import XesFile\n",
    "from maxes.analyze_xes import AnalyzeXes\n",
    "# import maxes.analyze_sequence\n",
    "# import maxes.serialization.serialize\n",
    "# import maxes.graphs\n",
    "import maxes.utils"
   ]
  },
  {
   "cell_type": "code",
   "execution_count": 3,
   "metadata": {},
   "outputs": [],
   "source": [
    "maxes.utils.setup_notebook_logging() # RUN ONLY ONCE"
   ]
  },
  {
   "cell_type": "code",
   "execution_count": 4,
   "metadata": {},
   "outputs": [],
   "source": [
    "class CustomJsonEncoder(json.JSONEncoder):\n",
    "    def default(self, obj):\n",
    "        if isinstance(obj, np.integer):\n",
    "            return int(obj)\n",
    "        if isinstance(obj, np.floating):\n",
    "            return float(obj)\n",
    "        if isinstance(obj, np.ndarray):\n",
    "            return obj.tolist()\n",
    "        if isinstance(obj, pd.Timestamp):\n",
    "            return str(obj)\n",
    "        if isinstance(obj, pd.Timedelta):\n",
    "            return str(obj)\n",
    "        return super(CustomJsonEncoder, self).default(obj)"
   ]
  },
  {
   "cell_type": "code",
   "execution_count": null,
   "metadata": {},
   "outputs": [],
   "source": [
    "files = [\n",
    "    # \"/vt/md/maxes/maxes/data/Activities of daily living of several individuals_1_all/data/activitylog_uci_detailed_labour.xes/activitylog_uci_detailed_labour.xes\",\n",
    "    # \"/vt/md/maxes/maxes/data/Activities of daily living of several individuals_1_all/data/activitylog_uci_detailed_weekends.xes/activitylog_uci_detailed_weekends.xes\",\n",
    "    # \"/vt/md/maxes/maxes/data/Activities of daily living of several individuals_1_all/data/edited_hh102_labour.xes/edited_hh102_labour.xes\",\n",
    "    # \"/vt/md/maxes/maxes/data/Activities of daily living of several individuals_1_all/data/edited_hh102_weekends.xes/edited_hh102_weekends.xes\",\n",
    "    # \"/vt/md/maxes/maxes/data/Activities of daily living of several individuals_1_all/data/edited_hh104_labour.xes/edited_hh104_labour.xes\",\n",
    "    # \"/vt/md/maxes/maxes/data/Activities of daily living of several individuals_1_all/data/edited_hh104_weekends.xes/edited_hh104_weekends.xes\",\n",
    "    # \"/vt/md/maxes/maxes/data/Activities of daily living of several individuals_1_all/data/edited_hh110_labour.xes/edited_hh110_labour.xes\",\n",
    "    # \"/vt/md/maxes/maxes/data/Activities of daily living of several individuals_1_all/data/edited_hh110_weekends.xes/edited_hh110_weekends.xes\",\n",
    "    # \"/vt/md/maxes/maxes/data/Apache Commons Crypto 1.0.0 - Stream CbcNopad Unit Test Software Event Log_1_all/data/ApacheCommons-Crypto-1.0.0-StreamCbcNopad-single-trace.xes/ApacheCommons-Crypto-1.0.0-StreamCbcNopad-single-trace.xes\",\n",
    "    # \"/vt/md/maxes/maxes/data/Apache Commons Crypto 1.0.0 - Stream CbcNopad Unit Test Software Event Log_1_all/data/ApacheCommons-Crypto-1.0.0-StreamCbcNopad-splitted.xes/ApacheCommons-Crypto-1.0.0-StreamCbcNopad-splitted.xes\",\n",
    "    # \"/vt/md/maxes/maxes/data/BPI Challenge 2012_1_all/BPI_Challenge_2012.xes/BPI_Challenge_2012.xes\",\n",
    "    # \"/vt/md/maxes/maxes/data/BPI Challenge 2013, closed problems_1_all/BPI_Challenge_2013_closed_problems.xes/BPI_Challenge_2013_closed_problems.xes\",\n",
    "    # \"/vt/md/maxes/maxes/data/BPI Challenge 2013, incidents_1_all/BPI_Challenge_2013_incidents.xes/BPI_Challenge_2013_incidents.xes\",\n",
    "    # \"/vt/md/maxes/maxes/data/BPI Challenge 2013, open problems_1_all/BPI_Challenge_2013_open_problems.xes/BPI_Challenge_2013_open_problems.xes\",\n",
    "    # \"/vt/md/maxes/maxes/data/BPI Challenge 2015 Municipality 1_1_all/BPIC15_1.xes\",\n",
    "    # \"/vt/md/maxes/maxes/data/BPI Challenge 2015 Municipality 2_1_all/BPIC15_2.xes\",\n",
    "\n",
    "    \"/vt/md/maxes/maxes/data/BPI Challenge 2015 Municipality 3_1_all/BPIC15_3.xes\",\n",
    "    # \"/vt/md/maxes/maxes/data/BPI Challenge 2015 Municipality 4_1_all/BPIC15_4.xes\",\n",
    "    # \"/vt/md/maxes/maxes/data/BPI Challenge 2015 Municipality 5_1_all/BPIC15_5.xes\",\n",
    "    # \"/vt/md/maxes/maxes/data/BPI Challenge 2017_1_all/BPI Challenge 2017.xes/BPI Challenge 2017.xes\",\n",
    "    # \"/vt/md/maxes/maxes/data/BPI Challenge 2018_1_all/BPI Challenge 2018.xes/BPI Challenge 2018.xes\",\n",
    "\n",
    "    # \"/vt/md/maxes/maxes/data/Conformance Checking Challenge 2019 (CCC19)_1_all/data/CCC19 - Log XES.xes\",\n",
    "    # \"/vt/md/maxes/maxes/data/Hospital Billing - Event Log_1_all/Hospital Billing - Event Log.xes/Hospital Billing - Event Log.xes\",\n",
    "    # \"/vt/md/maxes/maxes/data/JUnit 4.12 Software Event Log_1_all/JUnit 4.12 Software Event Log.xes/JUnit 4.12 Software Event Log.xes\",\n",
    "    # \"/vt/md/maxes/maxes/data/NASA Crew Exploration Vehicle (CEV) Software Event Log_1_all/data/nasa-cev-1-10-single-trace.xes/nasa-cev-1-10-single-trace.xes\",\n",
    "    # \"/vt/md/maxes/maxes/data/NASA Crew Exploration Vehicle (CEV) Software Event Log_1_all/data/nasa-cev-1-10-splitted.xes/nasa-cev-1-10-splitted.xes\",\n",
    "    # \"/vt/md/maxes/maxes/data/NASA Crew Exploration Vehicle (CEV) Software Event Log_1_all/data/nasa-cev-complete-single-trace.xes/nasa-cev-complete-single-trace.xes\",\n",
    "    # \"/vt/md/maxes/maxes/data/NASA Crew Exploration Vehicle (CEV) Software Event Log_1_all/data/nasa-cev-complete-splitted.xes/nasa-cev-complete-splitted.xes\",\n",
    "    # \"/vt/md/maxes/maxes/data/Real-life event logs - Hospital log_1_all/Hospital_log.xes/Hospital_log.xes\",\n",
    "    # \"/vt/md/maxes/maxes/data/Road Traffic Fine Management Process_1_all/Road_Traffic_Fine_Management_Process.xes/Road_Traffic_Fine_Management_Process.xes\",\n",
    "    # \"/vt/md/maxes/maxes/data/Sepsis Cases - Event Log_1_all/Sepsis Cases - Event Log.xes/Sepsis Cases - Event Log.xes\",\n",
    "    # \"/vt/md/maxes/maxes/data/Statechart Workbench and Alignments Software Event Log_1_all/data/Statechart Workbench and Alignments Software Event Log.xes/Statechart Workbench and Alignments Software Event Log.xes\"\n",
    "]\n",
    "\n",
    "json_file_path = \"/vt/md/maxes/maxes/output/xes_analysis.json\"\n"
   ]
  },
  {
   "cell_type": "code",
   "execution_count": 67,
   "metadata": {},
   "outputs": [],
   "source": [
    "analyzer = None\n",
    "for file in files:\n",
    "    try:\n",
    "        analyzer = AnalyzeXes()\n",
    "        xes_info = analyzer.analyze(file)\n",
    "\n",
    "        info = []\n",
    "        with open(json_file_path, \"r\", encoding=\"utf-8\") as f:\n",
    "            info = json.load(f)\n",
    "        with open(json_file_path, \"w\", encoding=\"utf-8\") as f:\n",
    "            info.append(xes_info)\n",
    "            json.dump(info, f, ensure_ascii=False, indent=4, cls=CustomJsonEncoder)\n",
    "    except RuntimeError as e:\n",
    "        print(\"received error\")\n",
    "        print(e)\n",
    "\n",
    "# info"
   ]
  },
  {
   "cell_type": "code",
   "execution_count": 40,
   "metadata": {},
   "outputs": [
    {
     "data": {
      "text/plain": [
       "defaultdict(<function maxes.xes_loader2.XesLoader._collect_attribute_types.<locals>.<lambda>()>,\n",
       "            {'org:group': defaultdict(<function maxes.xes_loader2.XesLoader._collect_attribute_types.<locals>.<lambda>.<locals>.<lambda>()>,\n",
       "                         {'string': 150275}),\n",
       "             'Number of executions': defaultdict(<function maxes.xes_loader2.XesLoader._collect_attribute_types.<locals>.<lambda>.<locals>.<lambda>()>,\n",
       "                         {'int': 150291}),\n",
       "             'Specialism code': defaultdict(<function maxes.xes_loader2.XesLoader._collect_attribute_types.<locals>.<lambda>.<locals>.<lambda>()>,\n",
       "                         {'int': 150291}),\n",
       "             'concept:name': defaultdict(<function maxes.xes_loader2.XesLoader._collect_attribute_types.<locals>.<lambda>.<locals>.<lambda>()>,\n",
       "                         {'string': 150291}),\n",
       "             'Producer code': defaultdict(<function maxes.xes_loader2.XesLoader._collect_attribute_types.<locals>.<lambda>.<locals>.<lambda>()>,\n",
       "                         {'string': 150291}),\n",
       "             'Section': defaultdict(<function maxes.xes_loader2.XesLoader._collect_attribute_types.<locals>.<lambda>.<locals>.<lambda>()>,\n",
       "                         {'string': 150275}),\n",
       "             'Activity code': defaultdict(<function maxes.xes_loader2.XesLoader._collect_attribute_types.<locals>.<lambda>.<locals>.<lambda>()>,\n",
       "                         {'int': 111083, 'string': 33916, 'float': 5292}),\n",
       "             'time:timestamp': defaultdict(<function maxes.xes_loader2.XesLoader._collect_attribute_types.<locals>.<lambda>.<locals>.<lambda>()>,\n",
       "                         {'date': 150291}),\n",
       "             'lifecycle:transition': defaultdict(<function maxes.xes_loader2.XesLoader._collect_attribute_types.<locals>.<lambda>.<locals>.<lambda>()>,\n",
       "                         {'string': 150291})})"
      ]
     },
     "execution_count": 40,
     "metadata": {},
     "output_type": "execute_result"
    }
   ],
   "source": [
    "# <string key=\"Activity code\" value=\"339486E\"/>\n",
    "\n",
    "# set(el.tag for el in analyzer.xes_loader.tree.findall(\".//*[@value='339486E']\"))\n",
    "analyzer.xes_loader._event_attribute_types_stats\n",
    "# analyzer.xes_loader._event_attribute_type_map"
   ]
  },
  {
   "cell_type": "code",
   "execution_count": null,
   "metadata": {},
   "outputs": [],
   "source": [
    "analyzer = AnalyzeXes(\n",
    "    check_xml_schema_xes_2014=False,\n",
    "    check_xml_schema_xes_2023=False,\n",
    "    check_xml_schema_xes_2023_extended=False,\n",
    ")\n",
    "\n",
    "# file = \"/vt/md/maxes/maxes/data/Activities of daily living of several individuals_1_all/data/activitylog_uci_detailed_labour.xes/activitylog_uci_detailed_labour.xes\"\n",
    "file = \"/vt/md/maxes/maxes/data/Hospital Billing - Event Log_1_all/Hospital Billing - Event Log.xes/Hospital Billing - Event Log.xes\"\n",
    "xes_info = analyzer.analyze(file)\n",
    "# xes_info\n",
    "\n",
    "# analyzer._event_attributes_counts\n",
    "# analyzer._calculate_event_attributes_counts()"
   ]
  },
  {
   "cell_type": "code",
   "execution_count": 11,
   "metadata": {},
   "outputs": [
    {
     "data": {
      "text/plain": [
       "451359"
      ]
     },
     "execution_count": 11,
     "metadata": {},
     "output_type": "execute_result"
    }
   ],
   "source": [
    "# analyzer._calculate_event_attributes_counts()\n",
    "# events = analyzer.xml_tree.findall(f\"./{{http://www.xes-standard.org}}trace/{{http://www.xes-standard.org}}event\")\n",
    "events = analyzer.xml_tree.findall(f\"./trace/event\")\n",
    "len(events)"
   ]
  },
  {
   "cell_type": "code",
   "execution_count": null,
   "metadata": {},
   "outputs": [
    {
     "data": {
      "text/plain": [
       "(<Element 'log' at 0x12a4ba3e0>,\n",
       " <Element 'log' at 0x12b718bd0>,\n",
       " <Element 'log' at 0x12bbae520>)"
      ]
     },
     "execution_count": 19,
     "metadata": {},
     "output_type": "execute_result"
    }
   ],
   "source": [
    "analyzer1 = AnalyzeXes(\n",
    "    check_xml_schema_xes_2014=False,\n",
    "    check_xml_schema_xes_2023=False,\n",
    "    check_xml_schema_xes_2023_extended=False,\n",
    ")\n",
    "\n",
    "analyzer2 = AnalyzeXes(\n",
    "    check_xml_schema_xes_2014=False,\n",
    "    check_xml_schema_xes_2023=False,\n",
    "    check_xml_schema_xes_2023_extended=False,\n",
    ")\n",
    "\n",
    "analyzer3 = AnalyzeXes(\n",
    "    check_xml_schema_xes_2014=False,\n",
    "    check_xml_schema_xes_2023=False,\n",
    "    check_xml_schema_xes_2023_extended=False,\n",
    ")\n",
    "\n",
    "# ET.register_namespace(\"http://www.xes-standard.org\", \"\")\n",
    "# ET.register_namespace(\"http://www.xes-standard.org/\", \"\")\n",
    "\n",
    "try:\n",
    "    file = \"/vt/md/maxes/maxes/data/test.xes\"\n",
    "    analyzer1.analyze(file)\n",
    "except:\n",
    "    pass\n",
    "\n",
    "try:\n",
    "    file = \"/vt/md/maxes/maxes/data/test2.xes\"\n",
    "    analyzer2.analyze(file)\n",
    "except:\n",
    "    pass\n",
    "\n",
    "try:\n",
    "    file = \"/vt/md/maxes/maxes/data/Activities of daily living of several individuals_1_all/data/activitylog_uci_detailed_labour.xes/activitylog_uci_detailed_labour.xes\"\n",
    "    analyzer3.analyze(file)\n",
    "except:\n",
    "    pass\n",
    "\n",
    "# Python's ElementTree has very poor support for XML namespaces\n",
    "# So it is just simplier to remove namespaces from tags\n",
    "# (or to use lxml)\n",
    "# for el in analyzer1.xml_tree.iter():\n",
    "#     _, _, el.tag = el.tag.rpartition('}')\n",
    "# for el in analyzer2.xml_tree.iter():\n",
    "#     _, _, el.tag = el.tag.rpartition('}')\n",
    "# for el in analyzer3.xml_tree.iter():\n",
    "#     _, _, el.tag = el.tag.rpartition('}')\n",
    "\n",
    "# analyzer2._calculate_event_attributes_counts()\n",
    "# events = analyzer2.xml_tree.findall(f\"./trace/event\")\n",
    "# len(events)\n",
    "(\n",
    "    analyzer1.xml_tree.getroot(),\n",
    "    analyzer2.xml_tree.getroot(),\n",
    "    analyzer3.xml_tree.getroot(),\n",
    ")"
   ]
  },
  {
   "cell_type": "code",
   "execution_count": 20,
   "metadata": {},
   "outputs": [
    {
     "name": "stdout",
     "output_type": "stream",
     "text": [
      "<Element 'log' at 0x12a4ba3e0>\n",
      "25\n",
      "0\n",
      "25\n",
      "0\n",
      "0\n",
      "0\n",
      "25\n",
      "25\n",
      "<Element 'log' at 0x12b718bd0>\n",
      "25\n",
      "0\n",
      "25\n",
      "0\n",
      "0\n",
      "0\n",
      "25\n",
      "25\n",
      "<Element 'log' at 0x12bbae520>\n",
      "25\n",
      "0\n",
      "25\n",
      "0\n",
      "0\n",
      "0\n",
      "25\n",
      "25\n"
     ]
    }
   ],
   "source": [
    "# analyzer2.xml_tree.getroot().attrib[\"xmlns\"] = \"http://www.xes-standard.org\"\n",
    "# analyzer2.xml_tree.getroot()\n",
    "# analyzer2._calculate_event_attributes_counts()\n",
    "\n",
    "for analyzerx in [analyzer1, analyzer2, analyzer3]:\n",
    "    # ET.register_namespace(\"http://www.xes-standard.org\", \"\")\n",
    "    # ET.register_namespace(\"http://www.xes-standard.org/\", \"\")\n",
    "\n",
    "    print(analyzerx.xml_tree.getroot())\n",
    "    print(len(analyzerx.xml_tree.findall(\"./trace\")))\n",
    "    print(len(analyzerx.xml_tree.findall(\"./trace\", namespaces={\"\": \"http://www.xes-standard.org/\"})))\n",
    "    print(len(analyzerx.xml_tree.findall(\"./trace\", namespaces={\"http://www.xes-standard.org\": \"\"})))\n",
    "    print(len(analyzerx.xml_tree.findall(\"./{http://www.xes-standard.org/}trace\")))\n",
    "    print(len(analyzerx.xml_tree.findall(\"./{http://www.xes-standard.org}trace\", namespaces={\"\": \"http://www.xes-standard.org\"})))\n",
    "    print(len(analyzerx.xml_tree.findall(\"./{http://www.xes-standard.org}trace\", namespaces={\"http://www.xes-standard.org\": \"\"})))\n",
    "    # print(len(analyzerx.xml_tree.findall(\"./{http://www.xes-standard.org/}trace\")))\n",
    "    print(len(analyzerx.xml_tree.findall(\"./trace\", namespaces={\"http://www.xes-standard.org\": \"\"})))\n",
    "    print(len(analyzerx.xml_tree.findall(\"./trace\", namespaces={\"http://www.xes-standard.org\": \"\", \"http://www.xes-standard.org/\": \"\"})))"
   ]
  },
  {
   "cell_type": "code",
   "execution_count": 8,
   "metadata": {},
   "outputs": [
    {
     "data": {
      "text/plain": [
       "<Element '{http://www.xes-standard.org/}log' at 0x1299bda30>"
      ]
     },
     "execution_count": 8,
     "metadata": {},
     "output_type": "execute_result"
    }
   ],
   "source": [
    "analyzer2.xml_tree.getroot()"
   ]
  },
  {
   "cell_type": "code",
   "execution_count": 17,
   "metadata": {},
   "outputs": [
    {
     "data": {
      "text/plain": [
       "{'action_code',\n",
       " 'activityNameEN',\n",
       " 'activityNameNL',\n",
       " 'concept:name',\n",
       " 'dateFinished',\n",
       " 'dateStop',\n",
       " 'dueDate',\n",
       " 'lifecycle:transition',\n",
       " 'monitoringResource',\n",
       " 'org:resource',\n",
       " 'planned',\n",
       " 'question',\n",
       " 'time:timestamp'}"
      ]
     },
     "execution_count": 17,
     "metadata": {},
     "output_type": "execute_result"
    }
   ],
   "source": [
    "# x = list(info[0][\"Events\"][\"Attributes\"][\"Each\"][\"time:timestamp\"][\"Timezones\"][\"Distribution\"].keys())[0]\n",
    "# x\n",
    "\n",
    "from functools import reduce\n",
    "\n",
    "# any_appearing = set()\n",
    "# all_appearing = set()\n",
    "\n",
    "columns_per_trace = [set(trace.df.columns) for trace in analyzer.xes.traces]\n",
    "\n",
    "any_appearing = reduce(lambda a, b: a | b, columns_per_trace)\n",
    "any_appearing\n",
    "\n",
    "# for trace in analyzer.xes.traces:\n",
    "#     any_appearing\n",
    "# analyzer.xes.traces[0].df.columns"
   ]
  },
  {
   "cell_type": "code",
   "execution_count": 18,
   "metadata": {},
   "outputs": [
    {
     "data": {
      "text/plain": [
       "{'activityNameEN',\n",
       " 'activityNameNL',\n",
       " 'concept:name',\n",
       " 'dateFinished',\n",
       " 'lifecycle:transition',\n",
       " 'monitoringResource',\n",
       " 'org:resource',\n",
       " 'question',\n",
       " 'time:timestamp'}"
      ]
     },
     "execution_count": 18,
     "metadata": {},
     "output_type": "execute_result"
    }
   ],
   "source": [
    "all_appearing = reduce(lambda a, b: a & b, columns_per_trace)\n",
    "all_appearing"
   ]
  },
  {
   "cell_type": "code",
   "execution_count": 19,
   "metadata": {},
   "outputs": [
    {
     "data": {
      "text/plain": [
       "1053"
      ]
     },
     "execution_count": 19,
     "metadata": {},
     "output_type": "execute_result"
    }
   ],
   "source": [
    "lengths = [len(trace.df) for trace in analyzer.xes.traces]\n",
    "len(lengths)"
   ]
  },
  {
   "cell_type": "code",
   "execution_count": 25,
   "metadata": {},
   "outputs": [
    {
     "data": {
      "image/png": "[encoded data removed]",
      "text/plain": [
       "<Figure size 640x480 with 1 Axes>"
      ]
     },
     "metadata": {},
     "output_type": "display_data"
    }
   ],
   "source": [
    "\n",
    "import matplotlib.pyplot as plt\n",
    "\n",
    "plt.hist(lengths, bins=100);"
   ]
  },
  {
   "cell_type": "code",
   "execution_count": 22,
   "metadata": {},
   "outputs": [
    {
     "data": {
      "text/plain": [
       "count    1053.000000\n",
       "mean       44.912631\n",
       "std        14.954747\n",
       "min         1.000000\n",
       "25%        39.000000\n",
       "50%        44.000000\n",
       "75%        52.000000\n",
       "max       116.000000\n",
       "dtype: float64"
      ]
     },
     "execution_count": 22,
     "metadata": {},
     "output_type": "execute_result"
    }
   ],
   "source": [
    "pd.Series(lengths).describe()"
   ]
  },
  {
   "cell_type": "code",
   "execution_count": null,
   "metadata": {},
   "outputs": [],
   "source": [
    "file = \"/vt/md/maxes/maxes/data/BPI Challenge 2015 Municipality 4_1_all/BPIC15_4.xes\"\n",
    "\n",
    "# maxes.constants.xml_schema_xes_2023_extended.validate(file)\n",
    "ET.register_namespace(\"\", \"http://www.xes-standard.org\")\n",
    "schema = xmlschema.XMLSchema(maxes.constants.PATH_XES_SCHEMA_2023_EXTENDED, namespace='http://www.xes-standard.org')\n",
    "schema.validate(file)"
   ]
  },
  {
   "cell_type": "code",
   "execution_count": null,
   "metadata": {},
   "outputs": [],
   "source": [
    "file = \"/vt/md/maxes/maxes/data/BPI Challenge 2015 Municipality 4_1_all/BPIC15_4.xes\"\n",
    "# file = \"/vt/md/maxes/maxes/data/test.xes\"\n",
    "# file = \"/vt/md/maxes/maxes/data/Activities of daily living of several individuals_1_all/data/activitylog_uci_detailed_labour.xes/activitylog_uci_detailed_labour.xes\"\n",
    "\n",
    "# maxes.constants.xml_schema_xes_2023_extended.validate(file)\n",
    "# ET.register_namespace(\"http://www.xes-standard.org/\", \"http://www.xes-standard.org\")\n",
    "# ET.register_namespace(\"http://www.xes-standard.org\", \"http://www.xes-standard.org\")\n",
    "# schema = xmlschema.XMLSchema(maxes.constants.PATH_XES_SCHEMA_2023_EXTENDED)\n",
    "schema = xmlschema.XMLSchema(maxes.constants.PATH_XES_SCHEMA_2023_EXTENDED, namespace='http://www.xes-standard.org/')\n",
    "schema.validate(file)"
   ]
  },
  {
   "cell_type": "code",
   "execution_count": 14,
   "metadata": {},
   "outputs": [
    {
     "ename": "TypeError",
     "evalue": "JSONEncoder.__init__() got an unexpected keyword argument 'ignore_nan'",
     "output_type": "error",
     "traceback": [
      "\u001b[0;31m---------------------------------------------------------------------------\u001b[0m",
      "\u001b[0;31mTypeError\u001b[0m                                 Traceback (most recent call last)",
      "Cell \u001b[0;32mIn[14], line 24\u001b[0m\n\u001b[1;32m     21\u001b[0m         \u001b[38;5;28;01mreturn\u001b[39;00m \u001b[38;5;28msuper\u001b[39m(CustomJsonEncoder, \u001b[38;5;28mself\u001b[39m)\u001b[38;5;241m.\u001b[39mdefault(obj)\n\u001b[1;32m     23\u001b[0m data \u001b[38;5;241m=\u001b[39m analyzer\u001b[38;5;241m.\u001b[39minfo[\u001b[38;5;124m\"\u001b[39m\u001b[38;5;124mEvents\u001b[39m\u001b[38;5;124m\"\u001b[39m][\u001b[38;5;124m\"\u001b[39m\u001b[38;5;124mCount per trace\u001b[39m\u001b[38;5;124m\"\u001b[39m]\n\u001b[0;32m---> 24\u001b[0m \u001b[38;5;28mprint\u001b[39m(\u001b[43mjson\u001b[49m\u001b[38;5;241;43m.\u001b[39;49m\u001b[43mdumps\u001b[49m\u001b[43m(\u001b[49m\u001b[43mdata\u001b[49m\u001b[43m,\u001b[49m\u001b[43m \u001b[49m\u001b[43mensure_ascii\u001b[49m\u001b[38;5;241;43m=\u001b[39;49m\u001b[38;5;28;43;01mFalse\u001b[39;49;00m\u001b[43m,\u001b[49m\u001b[43m \u001b[49m\u001b[43mindent\u001b[49m\u001b[38;5;241;43m=\u001b[39;49m\u001b[38;5;241;43m4\u001b[39;49m\u001b[43m,\u001b[49m\u001b[43m \u001b[49m\u001b[38;5;28;43mcls\u001b[39;49m\u001b[38;5;241;43m=\u001b[39;49m\u001b[43mCustomJsonEncoder\u001b[49m\u001b[43m,\u001b[49m\u001b[43m \u001b[49m\u001b[43mignore_nan\u001b[49m\u001b[38;5;241;43m=\u001b[39;49m\u001b[38;5;28;43;01mFalse\u001b[39;49;00m\u001b[43m)\u001b[49m)\n",
      "File \u001b[0;32m/Library/Frameworks/Python.framework/Versions/3.12/lib/python3.12/json/__init__.py:234\u001b[0m, in \u001b[0;36mdumps\u001b[0;34m(obj, skipkeys, ensure_ascii, check_circular, allow_nan, cls, indent, separators, default, sort_keys, **kw)\u001b[0m\n\u001b[1;32m    232\u001b[0m \u001b[38;5;28;01mif\u001b[39;00m \u001b[38;5;28mcls\u001b[39m \u001b[38;5;129;01mis\u001b[39;00m \u001b[38;5;28;01mNone\u001b[39;00m:\n\u001b[1;32m    233\u001b[0m     \u001b[38;5;28mcls\u001b[39m \u001b[38;5;241m=\u001b[39m JSONEncoder\n\u001b[0;32m--> 234\u001b[0m \u001b[38;5;28;01mreturn\u001b[39;00m \u001b[38;5;28;43mcls\u001b[39;49m\u001b[43m(\u001b[49m\n\u001b[1;32m    235\u001b[0m \u001b[43m    \u001b[49m\u001b[43mskipkeys\u001b[49m\u001b[38;5;241;43m=\u001b[39;49m\u001b[43mskipkeys\u001b[49m\u001b[43m,\u001b[49m\u001b[43m \u001b[49m\u001b[43mensure_ascii\u001b[49m\u001b[38;5;241;43m=\u001b[39;49m\u001b[43mensure_ascii\u001b[49m\u001b[43m,\u001b[49m\n\u001b[1;32m    236\u001b[0m \u001b[43m    \u001b[49m\u001b[43mcheck_circular\u001b[49m\u001b[38;5;241;43m=\u001b[39;49m\u001b[43mcheck_circular\u001b[49m\u001b[43m,\u001b[49m\u001b[43m \u001b[49m\u001b[43mallow_nan\u001b[49m\u001b[38;5;241;43m=\u001b[39;49m\u001b[43mallow_nan\u001b[49m\u001b[43m,\u001b[49m\u001b[43m \u001b[49m\u001b[43mindent\u001b[49m\u001b[38;5;241;43m=\u001b[39;49m\u001b[43mindent\u001b[49m\u001b[43m,\u001b[49m\n\u001b[1;32m    237\u001b[0m \u001b[43m    \u001b[49m\u001b[43mseparators\u001b[49m\u001b[38;5;241;43m=\u001b[39;49m\u001b[43mseparators\u001b[49m\u001b[43m,\u001b[49m\u001b[43m \u001b[49m\u001b[43mdefault\u001b[49m\u001b[38;5;241;43m=\u001b[39;49m\u001b[43mdefault\u001b[49m\u001b[43m,\u001b[49m\u001b[43m \u001b[49m\u001b[43msort_keys\u001b[49m\u001b[38;5;241;43m=\u001b[39;49m\u001b[43msort_keys\u001b[49m\u001b[43m,\u001b[49m\n\u001b[1;32m    238\u001b[0m \u001b[43m    \u001b[49m\u001b[38;5;241;43m*\u001b[39;49m\u001b[38;5;241;43m*\u001b[39;49m\u001b[43mkw\u001b[49m\u001b[43m)\u001b[49m\u001b[38;5;241m.\u001b[39mencode(obj)\n",
      "\u001b[0;31mTypeError\u001b[0m: JSONEncoder.__init__() got an unexpected keyword argument 'ignore_nan'"
     ]
    }
   ],
   "source": [
    "# analyzer.info[\"Events\"][\"Count per trace\"][\"std\"].__class__\n",
    "# data = {\n",
    "#     \"\"\n",
    "# }\n",
    "# json.dumps(info, ensure_ascii=False, indent=4, cls=CustomJsonEncoder)\n",
    "\n",
    "\n",
    "\n",
    "class CustomJsonEncoder(json.JSONEncoder):\n",
    "    def default(self, obj):\n",
    "        if isinstance(obj, np.integer):\n",
    "            return int(obj)\n",
    "        if isinstance(obj, np.floating):\n",
    "            return float(obj)\n",
    "        if isinstance(obj, np.ndarray):\n",
    "            return obj.tolist()\n",
    "        if isinstance(obj, pd.Timestamp):\n",
    "            return str(obj)\n",
    "        if isinstance(obj, pd.Timedelta):\n",
    "            return str(obj)\n",
    "        return super(CustomJsonEncoder, self).default(obj)\n",
    "\n",
    "data = analyzer.info[\"Events\"][\"Count per trace\"]\n",
    "print(json.dumps(data, ensure_ascii=False, indent=4, cls=CustomJsonEncoder, ignore_nan=False))"
   ]
  },
  {
   "cell_type": "code",
   "execution_count": null,
   "metadata": {},
   "outputs": [],
   "source": []
  }
 ],
 "metadata": {
  "kernelspec": {
   "display_name": "venv",
   "language": "python",
   "name": "python3"
  },
  "language_info": {
   "codemirror_mode": {
    "name": "ipython",
    "version": 3
   },
   "file_extension": ".py",
   "mimetype": "text/x-python",
   "name": "python",
   "nbconvert_exporter": "python",
   "pygments_lexer": "ipython3",
   "version": "3.12.2"
  }
 },
 "nbformat": 4,
 "nbformat_minor": 2
}
