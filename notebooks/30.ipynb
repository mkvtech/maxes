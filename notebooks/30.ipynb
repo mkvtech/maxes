{
 "cells": [
  {
   "cell_type": "code",
   "execution_count": 1,
   "metadata": {},
   "outputs": [],
   "source": [
    "%load_ext autoreload\n",
    "import datetime\n",
    "# import ete3\n",
    "import json\n",
    "import matplotlib.pyplot as plt\n",
    "import networkx as nx\n",
    "import numpy as np\n",
    "import pandas as pd\n",
    "# import re\n",
    "import xml.etree.ElementTree as ET\n",
    "# import xml.dom.minidom\n",
    "# import xmlschema"
   ]
  },
  {
   "cell_type": "code",
   "execution_count": 2,
   "metadata": {},
   "outputs": [],
   "source": [
    "%autoreload\n",
    "from maxes.xes_loader2 import XesLoader, XesLog\n",
    "# from maxes.xes_file import XesFile\n",
    "# from maxes.analyze_xes import AnalyzeXes\n",
    "# import maxes.analyze_sequence\n",
    "# import maxes.serialization.serialize\n",
    "# import maxes.graphs\n",
    "import maxes.utils"
   ]
  },
  {
   "cell_type": "code",
   "execution_count": 3,
   "metadata": {},
   "outputs": [],
   "source": [
    "maxes.utils.setup_notebook_logging() # RUN ONLY ONCE"
   ]
  },
  {
   "cell_type": "code",
   "execution_count": null,
   "metadata": {},
   "outputs": [
    {
     "data": {
      "text/plain": [
       "<maxes.xes_loader2.XesLog at 0x10f27a6c0>"
      ]
     },
     "execution_count": 4,
     "metadata": {},
     "output_type": "execute_result"
    }
   ],
   "source": [
    "# file = \"/vt/md/maxes/maxes/data/Activities of daily living of several individuals_1_all/data/activitylog_uci_detailed_labour.xes/activitylog_uci_detailed_labour.xes\"\n",
    "file = \"/vt/md/maxes/maxes/data/Activities of daily living of several individuals_1_all/data/edited_hh104_labour.xes/edited_hh104_labour.xes\"\n",
    "# file = \"/vt/md/maxes/maxes/data/Activities of daily living of several individuals_1_all/data/edited_hh104_weekends.xes/edited_hh104_weekends.xes\"\n",
    "# file = \"/vt/md/maxes/maxes/data/Activities of daily living of several individuals_1_all/data/edited_hh102_labour.xes/edited_hh102_labour.xes\"\n",
    "\n",
    "\n",
    "loader = XesLoader()\n",
    "log = loader.load(file)\n",
    "log"
   ]
  },
  {
   "cell_type": "code",
   "execution_count": 5,
   "metadata": {},
   "outputs": [
    {
     "data": {
      "text/html": [
       "<div>\n",
       "<style scoped>\n",
       "    .dataframe tbody tr th:only-of-type {\n",
       "        vertical-align: middle;\n",
       "    }\n",
       "\n",
       "    .dataframe tbody tr th {\n",
       "        vertical-align: top;\n",
       "    }\n",
       "\n",
       "    .dataframe thead th {\n",
       "        text-align: right;\n",
       "    }\n",
       "</style>\n",
       "<table border=\"1\" class=\"dataframe\">\n",
       "  <thead>\n",
       "    <tr style=\"text-align: right;\">\n",
       "      <th></th>\n",
       "      <th>concept:name</th>\n",
       "      <th>lifecycle:transition</th>\n",
       "      <th>time:timestamp</th>\n",
       "      <th>work</th>\n",
       "    </tr>\n",
       "  </thead>\n",
       "  <tbody>\n",
       "    <tr>\n",
       "      <th>0</th>\n",
       "      <td>Start</td>\n",
       "      <td>start</td>\n",
       "      <td>2011-06-14 22:33:36+00:00</td>\n",
       "      <td>Start</td>\n",
       "    </tr>\n",
       "    <tr>\n",
       "      <th>1</th>\n",
       "      <td>Start</td>\n",
       "      <td>complete</td>\n",
       "      <td>2011-06-14 22:33:36+00:00</td>\n",
       "      <td>Start</td>\n",
       "    </tr>\n",
       "    <tr>\n",
       "      <th>2</th>\n",
       "      <td>personalhygiene</td>\n",
       "      <td>start</td>\n",
       "      <td>2011-06-14 22:33:36+00:00</td>\n",
       "      <td>personalhygiene</td>\n",
       "    </tr>\n",
       "    <tr>\n",
       "      <th>3</th>\n",
       "      <td>personalhygiene</td>\n",
       "      <td>complete</td>\n",
       "      <td>2011-06-14 22:38:44+00:00</td>\n",
       "      <td>personalhygiene</td>\n",
       "    </tr>\n",
       "    <tr>\n",
       "      <th>4</th>\n",
       "      <td>sleep</td>\n",
       "      <td>start</td>\n",
       "      <td>2011-06-14 22:45:24+00:00</td>\n",
       "      <td>sleep</td>\n",
       "    </tr>\n",
       "    <tr>\n",
       "      <th>...</th>\n",
       "      <td>...</td>\n",
       "      <td>...</td>\n",
       "      <td>...</td>\n",
       "      <td>...</td>\n",
       "    </tr>\n",
       "    <tr>\n",
       "      <th>83</th>\n",
       "      <td>sleep</td>\n",
       "      <td>complete</td>\n",
       "      <td>2011-08-12 21:48:14+00:00</td>\n",
       "      <td>sleep</td>\n",
       "    </tr>\n",
       "    <tr>\n",
       "      <th>84</th>\n",
       "      <td>toilet</td>\n",
       "      <td>start</td>\n",
       "      <td>2011-08-12 21:48:15+00:00</td>\n",
       "      <td>toilet</td>\n",
       "    </tr>\n",
       "    <tr>\n",
       "      <th>85</th>\n",
       "      <td>toilet</td>\n",
       "      <td>complete</td>\n",
       "      <td>2011-08-12 22:11:26+00:00</td>\n",
       "      <td>toilet</td>\n",
       "    </tr>\n",
       "    <tr>\n",
       "      <th>86</th>\n",
       "      <td>End</td>\n",
       "      <td>start</td>\n",
       "      <td>2011-08-12 22:11:26+00:00</td>\n",
       "      <td>End</td>\n",
       "    </tr>\n",
       "    <tr>\n",
       "      <th>87</th>\n",
       "      <td>End</td>\n",
       "      <td>complete</td>\n",
       "      <td>2011-08-12 22:11:26+00:00</td>\n",
       "      <td>End</td>\n",
       "    </tr>\n",
       "  </tbody>\n",
       "</table>\n",
       "<p>4200 rows × 4 columns</p>\n",
       "</div>"
      ],
      "text/plain": [
       "       concept:name lifecycle:transition            time:timestamp  \\\n",
       "0             Start                start 2011-06-14 22:33:36+00:00   \n",
       "1             Start             complete 2011-06-14 22:33:36+00:00   \n",
       "2   personalhygiene                start 2011-06-14 22:33:36+00:00   \n",
       "3   personalhygiene             complete 2011-06-14 22:38:44+00:00   \n",
       "4             sleep                start 2011-06-14 22:45:24+00:00   \n",
       "..              ...                  ...                       ...   \n",
       "83            sleep             complete 2011-08-12 21:48:14+00:00   \n",
       "84           toilet                start 2011-08-12 21:48:15+00:00   \n",
       "85           toilet             complete 2011-08-12 22:11:26+00:00   \n",
       "86              End                start 2011-08-12 22:11:26+00:00   \n",
       "87              End             complete 2011-08-12 22:11:26+00:00   \n",
       "\n",
       "               work  \n",
       "0             Start  \n",
       "1             Start  \n",
       "2   personalhygiene  \n",
       "3   personalhygiene  \n",
       "4             sleep  \n",
       "..              ...  \n",
       "83            sleep  \n",
       "84           toilet  \n",
       "85           toilet  \n",
       "86              End  \n",
       "87              End  \n",
       "\n",
       "[4200 rows x 4 columns]"
      ]
     },
     "execution_count": 5,
     "metadata": {},
     "output_type": "execute_result"
    }
   ],
   "source": [
    "log.df"
   ]
  },
  {
   "cell_type": "code",
   "execution_count": 12,
   "metadata": {},
   "outputs": [
    {
     "data": {
      "text/plain": [
       "count    4200.000000\n",
       "mean       12.170238\n",
       "std         6.321679\n",
       "min         0.000000\n",
       "25%         7.000000\n",
       "50%        12.000000\n",
       "75%        17.000000\n",
       "max        23.000000\n",
       "Name: time:timestamp, dtype: float64"
      ]
     },
     "execution_count": 12,
     "metadata": {},
     "output_type": "execute_result"
    }
   ],
   "source": [
    "log.df[\"time:timestamp\"].dt.hour.describe()"
   ]
  },
  {
   "cell_type": "code",
   "execution_count": 11,
   "metadata": {},
   "outputs": [
    {
     "data": {
      "text/plain": [
       "count                           43\n",
       "mean     0 days 23:27:15.139534883\n",
       "std      0 days 01:45:29.999562105\n",
       "min                0 days 14:46:30\n",
       "25%         0 days 22:51:31.500000\n",
       "50%                0 days 23:32:58\n",
       "75%                1 days 00:05:54\n",
       "max                1 days 04:25:40\n",
       "dtype: object"
      ]
     },
     "execution_count": 11,
     "metadata": {},
     "output_type": "execute_result"
    }
   ],
   "source": [
    "# Spans\n",
    "spans = []\n",
    "for trace in log.traces:\n",
    "    time =  trace.df['time:timestamp']\n",
    "    low = min(time)\n",
    "    high = max(time)\n",
    "    span = high - low\n",
    "    spans.append(span)\n",
    "pd.Series(spans).describe()"
   ]
  },
  {
   "cell_type": "code",
   "execution_count": 13,
   "metadata": {},
   "outputs": [
    {
     "data": {
      "text/plain": [
       "count    43.000000\n",
       "mean     21.488372\n",
       "std       4.119478\n",
       "min       0.000000\n",
       "25%      22.000000\n",
       "50%      22.000000\n",
       "75%      23.000000\n",
       "max      23.000000\n",
       "dtype: float64"
      ]
     },
     "execution_count": 13,
     "metadata": {},
     "output_type": "execute_result"
    }
   ],
   "source": [
    "# Firsts\n",
    "firsts = []\n",
    "for trace in log.traces:\n",
    "    first =  trace.df['time:timestamp'][0].hour\n",
    "    firsts.append(first)\n",
    "pd.Series(firsts).describe()"
   ]
  },
  {
   "cell_type": "code",
   "execution_count": 20,
   "metadata": {},
   "outputs": [
    {
     "data": {
      "text/html": [
       "<div>\n",
       "<style scoped>\n",
       "    .dataframe tbody tr th:only-of-type {\n",
       "        vertical-align: middle;\n",
       "    }\n",
       "\n",
       "    .dataframe tbody tr th {\n",
       "        vertical-align: top;\n",
       "    }\n",
       "\n",
       "    .dataframe thead th {\n",
       "        text-align: right;\n",
       "    }\n",
       "</style>\n",
       "<table border=\"1\" class=\"dataframe\">\n",
       "  <thead>\n",
       "    <tr style=\"text-align: right;\">\n",
       "      <th></th>\n",
       "      <th>time:timestamp</th>\n",
       "      <th>concept:name</th>\n",
       "      <th>seconds-since-beginning-of-day</th>\n",
       "    </tr>\n",
       "  </thead>\n",
       "  <tbody>\n",
       "    <tr>\n",
       "      <th>0</th>\n",
       "      <td>2011-06-14 22:33:36+00:00</td>\n",
       "      <td>Start</td>\n",
       "      <td>81216</td>\n",
       "    </tr>\n",
       "    <tr>\n",
       "      <th>1</th>\n",
       "      <td>2011-06-14 22:33:36+00:00</td>\n",
       "      <td>Start</td>\n",
       "      <td>81216</td>\n",
       "    </tr>\n",
       "    <tr>\n",
       "      <th>2</th>\n",
       "      <td>2011-06-14 22:33:36+00:00</td>\n",
       "      <td>personalhygiene</td>\n",
       "      <td>81216</td>\n",
       "    </tr>\n",
       "    <tr>\n",
       "      <th>3</th>\n",
       "      <td>2011-06-14 22:38:44+00:00</td>\n",
       "      <td>personalhygiene</td>\n",
       "      <td>81524</td>\n",
       "    </tr>\n",
       "    <tr>\n",
       "      <th>4</th>\n",
       "      <td>2011-06-14 22:45:24+00:00</td>\n",
       "      <td>sleep</td>\n",
       "      <td>81924</td>\n",
       "    </tr>\n",
       "    <tr>\n",
       "      <th>...</th>\n",
       "      <td>...</td>\n",
       "      <td>...</td>\n",
       "      <td>...</td>\n",
       "    </tr>\n",
       "    <tr>\n",
       "      <th>83</th>\n",
       "      <td>2011-08-12 21:48:14+00:00</td>\n",
       "      <td>sleep</td>\n",
       "      <td>78494</td>\n",
       "    </tr>\n",
       "    <tr>\n",
       "      <th>84</th>\n",
       "      <td>2011-08-12 21:48:15+00:00</td>\n",
       "      <td>toilet</td>\n",
       "      <td>78495</td>\n",
       "    </tr>\n",
       "    <tr>\n",
       "      <th>85</th>\n",
       "      <td>2011-08-12 22:11:26+00:00</td>\n",
       "      <td>toilet</td>\n",
       "      <td>79886</td>\n",
       "    </tr>\n",
       "    <tr>\n",
       "      <th>86</th>\n",
       "      <td>2011-08-12 22:11:26+00:00</td>\n",
       "      <td>End</td>\n",
       "      <td>79886</td>\n",
       "    </tr>\n",
       "    <tr>\n",
       "      <th>87</th>\n",
       "      <td>2011-08-12 22:11:26+00:00</td>\n",
       "      <td>End</td>\n",
       "      <td>79886</td>\n",
       "    </tr>\n",
       "  </tbody>\n",
       "</table>\n",
       "<p>4200 rows × 3 columns</p>\n",
       "</div>"
      ],
      "text/plain": [
       "              time:timestamp     concept:name  seconds-since-beginning-of-day\n",
       "0  2011-06-14 22:33:36+00:00            Start                           81216\n",
       "1  2011-06-14 22:33:36+00:00            Start                           81216\n",
       "2  2011-06-14 22:33:36+00:00  personalhygiene                           81216\n",
       "3  2011-06-14 22:38:44+00:00  personalhygiene                           81524\n",
       "4  2011-06-14 22:45:24+00:00            sleep                           81924\n",
       "..                       ...              ...                             ...\n",
       "83 2011-08-12 21:48:14+00:00            sleep                           78494\n",
       "84 2011-08-12 21:48:15+00:00           toilet                           78495\n",
       "85 2011-08-12 22:11:26+00:00           toilet                           79886\n",
       "86 2011-08-12 22:11:26+00:00              End                           79886\n",
       "87 2011-08-12 22:11:26+00:00              End                           79886\n",
       "\n",
       "[4200 rows x 3 columns]"
      ]
     },
     "execution_count": 20,
     "metadata": {},
     "output_type": "execute_result"
    }
   ],
   "source": [
    "df = log.df[['time:timestamp', 'concept:name']].copy()\n",
    "time = df['time:timestamp']\n",
    "df['seconds-since-beginning-of-day'] = (time.dt.hour * 60 + time.dt.minute) * 60 + time.dt.second\n",
    "df"
   ]
  },
  {
   "cell_type": "code",
   "execution_count": null,
   "metadata": {},
   "outputs": [],
   "source": [
    "from sklearn.model_selection import train_test_split\n",
    "\n",
    "X, y = df[['seconds-since-beginning-of-day']], df['concept:name']\n",
    "X_train, X_test, y_train, y_test = train_test_split(X, y, random_state=1)\n",
    "\n",
    "# from sklearn.linear_model import RidgeClassifier\n",
    "from sklearn.linear_model import LogisticRegression\n",
    "model = LogisticRegression().fit(X_train, y_train)\n",
    "pred = model.predict(X_test)\n",
    "\n",
    "from sklearn.metrics import ConfusionMatrixDisplay\n",
    "fig, ax = plt.subplots(figsize=(10, 5))\n",
    "ConfusionMatrixDisplay.from_predictions(y_test, pred, ax=ax)\n",
    "\n",
    "ax.tick_params(axis='x', labelrotation=90)"
   ]
  },
  {
   "cell_type": "code",
   "execution_count": 31,
   "metadata": {},
   "outputs": [
    {
     "data": {
      "text/plain": [
       "concept:name\n",
       "toilet             908\n",
       "sleep              616\n",
       "work               460\n",
       "watchtv            456\n",
       "eatingdrinking     246\n",
       "personalhygiene    226\n",
       "outdoors           216\n",
       "mealpreperation    210\n",
       "medication         164\n",
       "cleaning           144\n",
       "dress               98\n",
       "snack               94\n",
       "relax               88\n",
       "Start               86\n",
       "End                 86\n",
       "groom               46\n",
       "phone               28\n",
       "bathe               20\n",
       "entertainguests      8\n",
       "Name: count, dtype: int64"
      ]
     },
     "execution_count": 31,
     "metadata": {},
     "output_type": "execute_result"
    }
   ],
   "source": [
    "df['concept:name'].value_counts()"
   ]
  },
  {
   "cell_type": "code",
   "execution_count": 32,
   "metadata": {},
   "outputs": [
    {
     "data": {
      "text/plain": [
       "0.19714285714285715"
      ]
     },
     "execution_count": 32,
     "metadata": {},
     "output_type": "execute_result"
    }
   ],
   "source": [
    "from sklearn.metrics import accuracy_score, balanced_accuracy_score\n",
    "accuracy_score(y_test, pred)\n",
    "# balanced_accuracy_score(y_test, pred)"
   ]
  },
  {
   "cell_type": "code",
   "execution_count": null,
   "metadata": {},
   "outputs": [],
   "source": []
  }
 ],
 "metadata": {
  "kernelspec": {
   "display_name": "venv",
   "language": "python",
   "name": "python3"
  },
  "language_info": {
   "codemirror_mode": {
    "name": "ipython",
    "version": 3
   },
   "file_extension": ".py",
   "mimetype": "text/x-python",
   "name": "python",
   "nbconvert_exporter": "python",
   "pygments_lexer": "ipython3",
   "version": "3.12.2"
  }
 },
 "nbformat": 4,
 "nbformat_minor": 2
}
