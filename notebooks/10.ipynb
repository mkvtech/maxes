{
 "cells": [
  {
   "cell_type": "code",
   "execution_count": 2,
   "metadata": {},
   "outputs": [],
   "source": [
    "%load_ext autoreload\n",
    "import pandas as pd\n",
    "import numpy as np\n",
    "import matplotlib.pyplot as plt"
   ]
  },
  {
   "cell_type": "code",
   "execution_count": 41,
   "metadata": {},
   "outputs": [
    {
     "name": "stdout",
     "output_type": "stream",
     "text": [
      "a    0.0\n",
      "b    1.0\n",
      "c    0.0\n",
      "d    0.0\n",
      "dtype: float64\n",
      "a    0.0\n",
      "b    1.0\n",
      "c    0.0\n",
      "d    0.0\n",
      "dtype: float64\n"
     ]
    }
   ],
   "source": [
    "# df1 = pd.Series([0, 1, 2], index=[\"a\", \"b\", \"c\"])\n",
    "# df2 = pd.Series([0, 1, 2], index=[\"a\", \"b\", \"c\"])\n",
    "\n",
    "orig_df1 = pd.Series({ \"a\": 10, \"b\": 1, \"c\": 2 })\n",
    "orig_df2 = pd.Series({ \"c\": 11, \"b\": 1, \"d\": 2 })\n",
    "\n",
    "orig_df1 = pd.Series({ \"a\": 0, \"b\": 1, \"c\": 0 })\n",
    "orig_df2 = pd.Series({ \"c\": 0, \"b\": 1, \"d\": 0 })\n",
    "\n",
    "df1, df2 = orig_df1.align(orig_df2, fill_value=0)\n",
    "print(df1)\n",
    "print(df2)\n",
    "# print(orig_df1)\n",
    "# print(orig_df2)"
   ]
  },
  {
   "cell_type": "code",
   "execution_count": 42,
   "metadata": {},
   "outputs": [
    {
     "name": "stdout",
     "output_type": "stream",
     "text": [
      "[0. 1. 0. 0.]\n",
      "[0. 1. 0. 0.]\n"
     ]
    }
   ],
   "source": [
    "a1, a2 = df1.to_numpy(), df2.to_numpy()\n",
    "print(a1)\n",
    "print(a2)"
   ]
  },
  {
   "cell_type": "code",
   "execution_count": 43,
   "metadata": {},
   "outputs": [
    {
     "data": {
      "text/plain": [
       "1.0"
      ]
     },
     "execution_count": 43,
     "metadata": {},
     "output_type": "execute_result"
    }
   ],
   "source": [
    "a1.dot(a2) / np.linalg.norm(a1) / np.linalg.norm(a2)"
   ]
  },
  {
   "cell_type": "code",
   "execution_count": 21,
   "metadata": {},
   "outputs": [
    {
     "data": {
      "text/plain": [
       "5"
      ]
     },
     "execution_count": 21,
     "metadata": {},
     "output_type": "execute_result"
    }
   ],
   "source": [
    "df1.dot(df2) / (df1.sum() * df2.sum())"
   ]
  },
  {
   "cell_type": "code",
   "execution_count": 16,
   "metadata": {},
   "outputs": [
    {
     "data": {
      "text/plain": [
       "3"
      ]
     },
     "execution_count": 16,
     "metadata": {},
     "output_type": "execute_result"
    }
   ],
   "source": [
    "df1 / df1.to_numpy()"
   ]
  },
  {
   "cell_type": "code",
   "execution_count": null,
   "metadata": {},
   "outputs": [],
   "source": []
  }
 ],
 "metadata": {
  "kernelspec": {
   "display_name": "Python 3",
   "language": "python",
   "name": "python3"
  },
  "language_info": {
   "codemirror_mode": {
    "name": "ipython",
    "version": 3
   },
   "file_extension": ".py",
   "mimetype": "text/x-python",
   "name": "python",
   "nbconvert_exporter": "python",
   "pygments_lexer": "ipython3",
   "version": "3.12.2"
  }
 },
 "nbformat": 4,
 "nbformat_minor": 2
}
