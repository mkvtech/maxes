{
 "cells": [
  {
   "cell_type": "code",
   "execution_count": 8,
   "metadata": {},
   "outputs": [
    {
     "name": "stdout",
     "output_type": "stream",
     "text": [
      "The autoreload extension is already loaded. To reload it, use:\n",
      "  %reload_ext autoreload\n"
     ]
    }
   ],
   "source": [
    "%load_ext autoreload\n",
    "import datetime\n",
    "# import ete3\n",
    "# import pandas as pd\n",
    "# import numpy as np\n",
    "import matplotlib.pyplot as plt\n",
    "import networkx as nx\n",
    "import xml.etree.ElementTree as ET\n",
    "import xml.dom.minidom\n",
    "# import xmlschema"
   ]
  },
  {
   "cell_type": "code",
   "execution_count": 16,
   "metadata": {},
   "outputs": [],
   "source": [
    "%autoreload\n",
    "from maxes.xes_loader2 import XesLoader, XesLog\n",
    "# from maxes.xes_file import XesFile\n",
    "# from maxes.print_xes_info import PrintXesInfo\n",
    "import maxes.analyze_sequence\n",
    "import maxes.serialization.serialize\n",
    "# import maxes.graphs\n",
    "# import maxes.utils\n",
    "from maxes.generators.xes_generator1 import XesGenerator1"
   ]
  },
  {
   "cell_type": "code",
   "execution_count": 10,
   "metadata": {},
   "outputs": [],
   "source": [
    "import logging\n",
    "import importlib\n",
    "\n",
    "def setup_logging():\n",
    "    # TODO: use __vsc_ipynb_file__\n",
    "    importlib.reload(logging)\n",
    "    filename_timestamp_part = datetime.datetime.now().strftime(\"%Y_%m_%d__%H_%M_%S\")\n",
    "    filename = f\"C:\\\\vt\\\\md\\\\maxes\\\\output\\\\logs\\\\notebooks\\\\{filename_timestamp_part}.log\"\n",
    "    logging.basicConfig(\n",
    "        filename=filename,\n",
    "        filemode=\"a\",\n",
    "        format=\"%(asctime)s %(message)s\",\n",
    "        level=logging.DEBUG)\n",
    "    logging.info(\"START\")\n",
    "\n",
    "setup_logging()"
   ]
  },
  {
   "cell_type": "code",
   "execution_count": 20,
   "metadata": {},
   "outputs": [],
   "source": [
    "def generate_xes_for_file(source_file_path, destination_file_path):\n",
    "    loader = XesLoader({ \"drop_timezones\": True })\n",
    "\n",
    "    logging.info(\"Loading\")\n",
    "    log = loader.load(source_file_path)\n",
    "\n",
    "    if len(loader.errors):\n",
    "        raise RuntimeError(\"Errors while loading XES\")\n",
    "\n",
    "    logging.info(\"Creating dataframes\")\n",
    "    for trace in log.traces:\n",
    "        trace.update_df()\n",
    "\n",
    "    logging.info(\"Fitting\")\n",
    "    generator = XesGenerator1(debug=True).fit(log)\n",
    "\n",
    "    logging.info(\"Generating\")\n",
    "    generated_log = generator.generate()\n",
    "\n",
    "    logging.info(\"Serializing\")\n",
    "    generated_log_ET = maxes.serialization.serialize.Serializer().serialize(generated_log, xml_log_skeleton=log.loader.xml_log_skeleton)\n",
    "\n",
    "    logging.info(\"Formatting XML\")\n",
    "    ET.indent(generated_log_ET)\n",
    "\n",
    "    logging.info(\"Writing XML\")\n",
    "    ET.register_namespace(\"\", \"http://www.xes-standard.org\")\n",
    "    with open(destination_file_path, \"w\") as file:\n",
    "        generated_log_ET.write(file, encoding=\"unicode\")"
   ]
  },
  {
   "cell_type": "code",
   "execution_count": 21,
   "metadata": {},
   "outputs": [],
   "source": [
    "generate_xes_for_file(\n",
    "    source_file_path=\"C:\\\\vt\\\\md\\\\maxes\\\\data\\\\JUnit 4.12 Software Event Log_1_all\\\\JUnit 4.12 Software Event Log.xes\\\\JUnit 4.12 Software Event Log.xes\",\n",
    "    destination_file_path=\"C:\\\\vt\\\\md\\\\maxes\\\\output\\\\generated\\\\junit.xes\"\n",
    ")"
   ]
  },
  {
   "cell_type": "code",
   "execution_count": null,
   "metadata": {},
   "outputs": [],
   "source": []
  }
 ],
 "metadata": {
  "kernelspec": {
   "display_name": "venv",
   "language": "python",
   "name": "python3"
  },
  "language_info": {
   "codemirror_mode": {
    "name": "ipython",
    "version": 3
   },
   "file_extension": ".py",
   "mimetype": "text/x-python",
   "name": "python",
   "nbconvert_exporter": "python",
   "pygments_lexer": "ipython3",
   "version": "3.12.2"
  }
 },
 "nbformat": 4,
 "nbformat_minor": 2
}
