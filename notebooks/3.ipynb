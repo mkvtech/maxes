{
 "cells": [
  {
   "cell_type": "code",
   "execution_count": 1,
   "metadata": {},
   "outputs": [],
   "source": [
    "%load_ext autoreload\n",
    "import pandas as pd\n",
    "import numpy as np"
   ]
  },
  {
   "cell_type": "code",
   "execution_count": 94,
   "metadata": {},
   "outputs": [],
   "source": [
    "%autoreload\n",
    "import xes"
   ]
  },
  {
   "cell_type": "code",
   "execution_count": 91,
   "metadata": {},
   "outputs": [],
   "source": [
    "activities_xes = xes.xes_to_dataframes(\n",
    "    filepath=\"data\\Activities of daily living of several individuals_1_all\\data\\edited_hh102_labour.xes\\edited_hh102_labour.xes\",\n",
    "    keep_original=True\n",
    ")"
   ]
  },
  {
   "cell_type": "code",
   "execution_count": 31,
   "metadata": {},
   "outputs": [],
   "source": [
    "activities_xes_py = xes.xes_to_python(\n",
    "    filepath=\"data\\Activities of daily living of several individuals_1_all\\data\\edited_hh102_labour.xes\\edited_hh102_labour.xes\"\n",
    ")"
   ]
  },
  {
   "cell_type": "code",
   "execution_count": null,
   "metadata": {},
   "outputs": [],
   "source": []
  },
  {
   "cell_type": "code",
   "execution_count": 105,
   "metadata": {},
   "outputs": [],
   "source": [
    "def print_xes_info(xes):\n",
    "    trace_lengths = np.array([len(trace[\"events\"]) for trace in xes])\n",
    "    events_count = sum(trace_lengths)\n",
    "    df_merged = pd.concat([trace[\"events\"] for trace in xes])\n",
    "\n",
    "    print()\n",
    "    print(\n",
    "        \"Traces: {0}, Events: {1}\".format(\n",
    "            len(xes),\n",
    "            events_count\n",
    "        )\n",
    "    )\n",
    "\n",
    "    print(\n",
    "        \"Events: Average: {0}, Min: {1}, Max: {2}\".format(\n",
    "            trace_lengths.mean(),\n",
    "            trace_lengths.min(),\n",
    "            trace_lengths.max(),\n",
    "        )\n",
    "    )\n",
    "\n",
    "    column_counts = np.array([len(event) for trace in xes for event in trace[\"events_original\"]])\n",
    "    print(\n",
    "        \"Columns: Average: {0}, Min: {1}, Max: {2}\".format(\n",
    "            column_counts.mean(),\n",
    "            column_counts.min(),\n",
    "            column_counts.max(),\n",
    "        )\n",
    "    )\n",
    "\n",
    "    print()\n",
    "    concept_name_counts_per_trace = [sum(\"concept:name\" in event for event in trace[\"events_original\"])\n",
    "                                     for trace in xes]\n",
    "    concept_name_count = sum(concept_name_counts_per_trace)\n",
    "    has_concept_name = concept_name_count > 0\n",
    "    print(\n",
    "        \"Has \\\"concept:name\\\": {0} ({1:.2f}%)\".format(\n",
    "            has_concept_name,\n",
    "            concept_name_count / events_count * 100\n",
    "        )\n",
    "    )\n",
    "\n",
    "    if has_concept_name:\n",
    "        top_concept_name_count = 5\n",
    "        print(\"Top {0} \\\"concept:name\\\":\".format(top_concept_name_count))\n",
    "        print(df_merged[\"concept:name\"].value_counts().nlargest(top_concept_name_count))\n",
    "\n",
    "    print()\n",
    "    lifecycle_transition_counts_per_trace = [sum(\"lifecycle:transition\" in event for event in trace[\"events_original\"])\n",
    "                                     for trace in xes]\n",
    "    lifecycle_transition_count = sum(lifecycle_transition_counts_per_trace)\n",
    "    has_lifecycle_transition = lifecycle_transition_count > 0\n",
    "    print(\n",
    "        \"Has \\\"lifecycle:transition\\\": {0} ({1:.2f}%)\".format(\n",
    "            has_lifecycle_transition,\n",
    "            lifecycle_transition_count / events_count * 100\n",
    "        )\n",
    "    )\n",
    "\n",
    "    if has_lifecycle_transition:\n",
    "        top_lifecycle_transition_count = 5\n",
    "        print(\"Top {0} \\\"lifecycle:transition\\\":\".format(top_lifecycle_transition_count))\n",
    "        print(df_merged[\"lifecycle:transition\"].value_counts().nlargest(top_lifecycle_transition_count))\n",
    "\n",
    "    print()\n",
    "    time_timestamp_counts_per_trace = [sum(\"time:timestamp\" in event for event in trace[\"events_original\"])\n",
    "                                     for trace in xes]\n",
    "    time_timestamp_count = sum(time_timestamp_counts_per_trace)\n",
    "    has_time_timestamp = time_timestamp_count > 0\n",
    "    print(\n",
    "        \"Has \\\"time:timestamp\\\": {0} ({1:.2f}%)\".format(\n",
    "            has_time_timestamp,\n",
    "            time_timestamp_count / events_count * 100\n",
    "        )\n",
    "    )\n",
    "\n",
    "    if has_time_timestamp:\n",
    "        print(\"Average: {0}, Min: {1}, Max: {2}\".format(\n",
    "            # df_merged[\"time:timestamp\"].mean(),\n",
    "            0,\n",
    "            df_merged[\"time:timestamp\"].min(),\n",
    "            df_merged[\"time:timestamp\"].max()\n",
    "        ))\n",
    "\n",
    "    # print(f\"Has \\\"time:timestamp\\\": \")"
   ]
  },
  {
   "cell_type": "code",
   "execution_count": 87,
   "metadata": {},
   "outputs": [
    {
     "name": "stdout",
     "output_type": "stream",
     "text": [
      "\n",
      "Traces: 18, Events: 1152\n",
      "Events: Average: 64.0, Min: 46, Max: 82\n",
      "Columns: Average: 4.0, Min: 4, Max: 4\n",
      "\n",
      "Has \"concept:name\": True (100.00%)\n",
      "Top 5 \"concept:name\":\n",
      "relax              190\n",
      "personalhygiene    154\n",
      "toilet             152\n",
      "sleep              120\n",
      "snack               84\n",
      "Name: concept:name, dtype: int64\n",
      "\n",
      "Has \"lifecycle:transition\": True (100.00%)\n",
      "Top 5 \"lifecycle:transition\":\n",
      "start       576\n",
      "complete    576\n",
      "Name: lifecycle:transition, dtype: int64\n",
      "\n",
      "Has \"time:timestamp\": True (100.00%)\n",
      "Average: 2011-06-27 09:57:20.849826560+02:00, Min: 2011-06-15 00:06:32+02:00, Max: 2011-07-09 06:55:29+02:00\n"
     ]
    }
   ],
   "source": [
    "print_xes_info(activities_xes)"
   ]
  },
  {
   "cell_type": "code",
   "execution_count": 72,
   "metadata": {},
   "outputs": [
    {
     "data": {
      "text/plain": [
       "Timestamp('2011-06-15 00:06:32+0200', tz='tzoffset(None, 7200)')"
      ]
     },
     "execution_count": 72,
     "metadata": {},
     "output_type": "execute_result"
    }
   ],
   "source": [
    "df_merged = pd.concat([trace[\"events\"] for trace in activities_xes])\n",
    "\n",
    "df_merged[\"time:timestamp\"].min()"
   ]
  },
  {
   "cell_type": "code",
   "execution_count": 99,
   "metadata": {},
   "outputs": [
    {
     "name": "stdout",
     "output_type": "stream",
     "text": [
      "\n",
      "Traces: 1, Events: 54\n",
      "Events: Average: 54.0, Min: 54, Max: 54\n",
      "Columns: Average: 14.074074074074074, Min: 14, Max: 16\n",
      "\n",
      "Has \"concept:name\": True (100.00%)\n",
      "Top 5 \"concept:name\":\n",
      "cev.Failures$Type(java.lang.String,int)      8\n",
      "cev.CEV()                                    4\n",
      "cev.ErrorLog()                               4\n",
      "cev.Failures(cev.ErrorLog)                   4\n",
      "cev.Spacecraft(cev.Failures,cev.ErrorLog)    4\n",
      "Name: concept:name, dtype: int64\n",
      "\n",
      "Has \"lifecycle:transition\": True (100.00%)\n",
      "Top 5 \"lifecycle:transition\":\n",
      "start       27\n",
      "complete    27\n",
      "Name: lifecycle:transition, dtype: int64\n",
      "\n",
      "Has \"time:timestamp\": True (100.00%)\n",
      "Average: 2017-02-10 13:55:00.415055616+01:00, Min: 2017-02-10 13:54:55.423000+01:00, Max: 2017-02-10 13:55:00.628000+01:00\n"
     ]
    }
   ],
   "source": [
    "filepath = \"data/NASA Crew Exploration Vehicle (CEV) Software Event Log_1_all/data/nasa-cev-1-10-single-trace.xes/nasa-cev-1-10-single-trace.xes\"\n",
    "xes_nasa = xes.xes_to_dataframes(filepath=filepath, keep_original=True)\n",
    "print_xes_info(xes_nasa)"
   ]
  },
  {
   "cell_type": "code",
   "execution_count": 100,
   "metadata": {},
   "outputs": [],
   "source": [
    "filepath = \"data/BPI Challenge 2012_1_all/BPI_Challenge_2012.xes/BPI_Challenge_2012.xes\"\n",
    "xes_bpi_2012 = xes.xes_to_dataframes(filepath=filepath, keep_original=True)\n"
   ]
  },
  {
   "cell_type": "code",
   "execution_count": 103,
   "metadata": {},
   "outputs": [
    {
     "data": {
      "text/plain": [
       "Timestamp('2011-10-06 02:44:45.718269184+0200', tz='tzoffset(None, 7200)')"
      ]
     },
     "execution_count": 103,
     "metadata": {},
     "output_type": "execute_result"
    }
   ],
   "source": [
    "xes_bpi_2012[0][\"events\"][\"time:timestamp\"].mean()"
   ]
  },
  {
   "cell_type": "code",
   "execution_count": 106,
   "metadata": {},
   "outputs": [
    {
     "name": "stdout",
     "output_type": "stream",
     "text": [
      "\n",
      "Traces: 13087, Events: 262200\n",
      "Events: Average: 20.035149384885763, Min: 3, Max: 175\n",
      "Columns: Average: 3.931311975591152, Min: 3, Max: 4\n",
      "\n",
      "Has \"concept:name\": True (100.00%)\n",
      "Top 5 \"concept:name\":\n",
      "W_Completeren aanvraag            54850\n",
      "W_Nabellen offertes               52016\n",
      "W_Nabellen incomplete dossiers    25190\n",
      "W_Valideren aanvraag              20809\n",
      "W_Afhandelen leads                16566\n",
      "Name: concept:name, dtype: int64\n",
      "\n",
      "Has \"lifecycle:transition\": True (100.00%)\n",
      "Top 5 \"lifecycle:transition\":\n",
      "COMPLETE    164506\n",
      "START        71376\n",
      "SCHEDULE     26318\n",
      "Name: lifecycle:transition, dtype: int64\n",
      "\n",
      "Has \"time:timestamp\": True (100.00%)\n",
      "Average: 0, Min: 2011-10-01 00:38:44.546000+02:00, Max: 2012-03-14 16:04:54.681000+01:00\n"
     ]
    }
   ],
   "source": [
    "print_xes_info(xes_bpi_2012)"
   ]
  },
  {
   "cell_type": "code",
   "execution_count": 107,
   "metadata": {},
   "outputs": [],
   "source": [
    "filepath = \"data/Real-life event logs - Hospital log_1_all/Hospital_log.xes\\Hospital_log.xes\"\n",
    "xes_hospital = xes.xes_to_dataframes(filepath=filepath, keep_original=True)\n"
   ]
  },
  {
   "cell_type": "code",
   "execution_count": 108,
   "metadata": {},
   "outputs": [
    {
     "name": "stdout",
     "output_type": "stream",
     "text": [
      "\n",
      "Traces: 1143, Events: 150291\n",
      "Events: Average: 131.48818897637796, Min: 1, Max: 1814\n",
      "Columns: Average: 8.999787079731986, Min: 7, Max: 9\n",
      "\n",
      "Has \"concept:name\": True (100.00%)\n",
      "Top 5 \"concept:name\":\n",
      "aanname laboratoriumonderzoek               15353\n",
      "ligdagen - alle spec.beh.kinderg.-reval.    10897\n",
      "190205 klasse 3b        a205                 9351\n",
      "ordertarief                                  9008\n",
      "190101 bovenreg.toesl.  a101                 6241\n",
      "Name: concept:name, dtype: int64\n",
      "\n",
      "Has \"lifecycle:transition\": True (100.00%)\n",
      "Top 5 \"lifecycle:transition\":\n",
      "complete    150291\n",
      "Name: lifecycle:transition, dtype: int64\n",
      "\n",
      "Has \"time:timestamp\": True (100.00%)\n",
      "Average: 0, Min: 2005-01-03 00:00:00+01:00, Max: 2008-03-20 00:00:00+01:00\n"
     ]
    }
   ],
   "source": [
    "print_xes_info(xes_hospital)\n"
   ]
  },
  {
   "cell_type": "code",
   "execution_count": 113,
   "metadata": {},
   "outputs": [
    {
     "data": {
      "text/plain": [
       "1814"
      ]
     },
     "execution_count": 113,
     "metadata": {},
     "output_type": "execute_result"
    }
   ],
   "source": [
    "np.array([len(trace[\"events\"]) for trace in xes_hospital])[824]"
   ]
  },
  {
   "cell_type": "code",
   "execution_count": 97,
   "metadata": {},
   "outputs": [
    {
     "name": "stdout",
     "output_type": "stream",
     "text": [
      "\n",
      "\n",
      "data/Activities of daily living of several individuals_1_all/data/edited_hh102_labour.xes/edited_hh102_labour.xes\n",
      "\n",
      "Traces: 18, Events: 1152\n",
      "Events: Average: 64.0, Min: 46, Max: 82\n",
      "Columns: Average: 4.0, Min: 4, Max: 4\n",
      "\n",
      "Has \"concept:name\": True (100.00%)\n",
      "Top 5 \"concept:name\":\n",
      "relax              190\n",
      "personalhygiene    154\n",
      "toilet             152\n",
      "sleep              120\n",
      "snack               84\n",
      "Name: concept:name, dtype: int64\n",
      "\n",
      "Has \"lifecycle:transition\": True (100.00%)\n",
      "Top 5 \"lifecycle:transition\":\n",
      "start       576\n",
      "complete    576\n",
      "Name: lifecycle:transition, dtype: int64\n",
      "\n",
      "Has \"time:timestamp\": True (100.00%)\n",
      "Average: 2011-06-27 09:57:20.849826560+02:00, Min: 2011-06-15 00:06:32+02:00, Max: 2011-07-09 06:55:29+02:00\n",
      "\n",
      "\n",
      "data/NASA Crew Exploration Vehicle (CEV) Software Event Log_1_all/data/nasa-cev-1-10-single-trace.xes/nasa-cev-1-10-single-trace.xes\n",
      "\n",
      "Traces: 1, Events: 54\n",
      "Events: Average: 54.0, Min: 54, Max: 54\n",
      "Columns: Average: 14.074074074074074, Min: 14, Max: 16\n",
      "\n",
      "Has \"concept:name\": True (100.00%)\n",
      "Top 5 \"concept:name\":\n",
      "cev.Failures$Type(java.lang.String,int)      8\n",
      "cev.CEV()                                    4\n",
      "cev.ErrorLog()                               4\n",
      "cev.Failures(cev.ErrorLog)                   4\n",
      "cev.Spacecraft(cev.Failures,cev.ErrorLog)    4\n",
      "Name: concept:name, dtype: int64\n",
      "\n",
      "Has \"lifecycle:transition\": True (100.00%)\n",
      "Top 5 \"lifecycle:transition\":\n",
      "start       27\n",
      "complete    27\n",
      "Name: lifecycle:transition, dtype: int64\n",
      "\n",
      "Has \"time:timestamp\": True (100.00%)\n",
      "Average: 2017-02-10 13:55:00.415055616+01:00, Min: 2017-02-10 13:54:55.423000+01:00, Max: 2017-02-10 13:55:00.628000+01:00\n"
     ]
    },
    {
     "ename": "KeyboardInterrupt",
     "evalue": "",
     "output_type": "error",
     "traceback": [
      "\u001b[1;31m---------------------------------------------------------------------------\u001b[0m",
      "\u001b[1;31mKeyboardInterrupt\u001b[0m                         Traceback (most recent call last)",
      "Input \u001b[1;32mIn [97]\u001b[0m, in \u001b[0;36m<module>\u001b[1;34m\u001b[0m\n\u001b[0;32m      1\u001b[0m files \u001b[38;5;241m=\u001b[39m [\n\u001b[0;32m      2\u001b[0m     \u001b[38;5;124m\"\u001b[39m\u001b[38;5;124mdata/Activities of daily living of several individuals_1_all/data/edited_hh102_labour.xes/edited_hh102_labour.xes\u001b[39m\u001b[38;5;124m\"\u001b[39m,\n\u001b[0;32m      3\u001b[0m     \u001b[38;5;66;03m# \"data/BPI Challenge 2012_1_all/BPI_Challenge_2012.xes/BPI_Challenge_2012.xes\",\u001b[39;00m\n\u001b[0;32m      4\u001b[0m     \u001b[38;5;124m\"\u001b[39m\u001b[38;5;124mdata/NASA Crew Exploration Vehicle (CEV) Software Event Log_1_all/data/nasa-cev-1-10-single-trace.xes/nasa-cev-1-10-single-trace.xes\u001b[39m\u001b[38;5;124m\"\u001b[39m,\n\u001b[0;32m      5\u001b[0m     \u001b[38;5;124m\"\u001b[39m\u001b[38;5;124mdata/Real-life event logs - Hospital log_1_all/Hospital_log.xes\u001b[39m\u001b[38;5;124m\\\u001b[39m\u001b[38;5;124mHospital_log.xes\u001b[39m\u001b[38;5;124m\"\u001b[39m\n\u001b[0;32m      6\u001b[0m ]\n\u001b[0;32m      8\u001b[0m \u001b[38;5;28;01mfor\u001b[39;00m file \u001b[38;5;129;01min\u001b[39;00m files:\n\u001b[1;32m----> 9\u001b[0m     xes_file \u001b[38;5;241m=\u001b[39m \u001b[43mxes\u001b[49m\u001b[38;5;241;43m.\u001b[39;49m\u001b[43mxes_to_dataframes\u001b[49m\u001b[43m(\u001b[49m\u001b[43mfilepath\u001b[49m\u001b[38;5;241;43m=\u001b[39;49m\u001b[43mfile\u001b[49m\u001b[43m,\u001b[49m\u001b[43m \u001b[49m\u001b[43mkeep_original\u001b[49m\u001b[38;5;241;43m=\u001b[39;49m\u001b[38;5;28;43;01mTrue\u001b[39;49;00m\u001b[43m)\u001b[49m\n\u001b[0;32m     10\u001b[0m     \u001b[38;5;28mprint\u001b[39m()\n\u001b[0;32m     11\u001b[0m     \u001b[38;5;28mprint\u001b[39m()\n",
      "File \u001b[1;32mc:\\vt\\md\\e\\xes.py:107\u001b[0m, in \u001b[0;36mxes_to_dataframes\u001b[1;34m(filepath, keys, load_traces, keep_original)\u001b[0m\n\u001b[0;32m    105\u001b[0m \u001b[38;5;28;01mdef\u001b[39;00m \u001b[38;5;21mxes_to_dataframes\u001b[39m(filepath, keys\u001b[38;5;241m=\u001b[39m\u001b[38;5;28;01mNone\u001b[39;00m, load_traces\u001b[38;5;241m=\u001b[39m\u001b[38;5;124m\"\u001b[39m\u001b[38;5;124mall\u001b[39m\u001b[38;5;124m\"\u001b[39m, keep_original\u001b[38;5;241m=\u001b[39m\u001b[38;5;28;01mFalse\u001b[39;00m):\n\u001b[0;32m    106\u001b[0m     \u001b[38;5;28;01mreturn\u001b[39;00m xes_py_to_xes_df(\n\u001b[1;32m--> 107\u001b[0m         \u001b[43mxes_to_python\u001b[49m\u001b[43m(\u001b[49m\u001b[43mfilepath\u001b[49m\u001b[43m,\u001b[49m\u001b[43m \u001b[49m\u001b[43mkeys\u001b[49m\u001b[38;5;241;43m=\u001b[39;49m\u001b[43mkeys\u001b[49m\u001b[43m,\u001b[49m\u001b[43m \u001b[49m\u001b[43mload_traces\u001b[49m\u001b[38;5;241;43m=\u001b[39;49m\u001b[43mload_traces\u001b[49m\u001b[43m)\u001b[49m,\n\u001b[0;32m    108\u001b[0m         keep_original\u001b[38;5;241m=\u001b[39mkeep_original\n\u001b[0;32m    109\u001b[0m     )\n",
      "File \u001b[1;32mc:\\vt\\md\\e\\xes.py:99\u001b[0m, in \u001b[0;36mxes_to_python\u001b[1;34m(filepath, keys, load_traces)\u001b[0m\n\u001b[0;32m     96\u001b[0m \u001b[38;5;28;01mdef\u001b[39;00m \u001b[38;5;21mon_event\u001b[39m(event):\n\u001b[0;32m     97\u001b[0m     current_trace_events\u001b[38;5;241m.\u001b[39mappend(event)\n\u001b[1;32m---> 99\u001b[0m \u001b[43mparse_xes\u001b[49m\u001b[43m(\u001b[49m\u001b[43mfilepath\u001b[49m\u001b[43m,\u001b[49m\u001b[43m \u001b[49m\u001b[43mon_trace\u001b[49m\u001b[38;5;241;43m=\u001b[39;49m\u001b[43mon_trace\u001b[49m\u001b[43m,\u001b[49m\u001b[43m \u001b[49m\u001b[43mon_trace_end\u001b[49m\u001b[38;5;241;43m=\u001b[39;49m\u001b[43mon_trace_end\u001b[49m\u001b[43m,\u001b[49m\n\u001b[0;32m    100\u001b[0m \u001b[43m          \u001b[49m\u001b[43mon_event\u001b[49m\u001b[38;5;241;43m=\u001b[39;49m\u001b[43mon_event\u001b[49m\u001b[43m,\u001b[49m\u001b[43m \u001b[49m\u001b[43mkeys\u001b[49m\u001b[38;5;241;43m=\u001b[39;49m\u001b[43mkeys\u001b[49m\u001b[43m,\u001b[49m\u001b[43m \u001b[49m\u001b[43mload_traces\u001b[49m\u001b[38;5;241;43m=\u001b[39;49m\u001b[43mload_traces\u001b[49m\u001b[43m)\u001b[49m\n\u001b[0;32m    102\u001b[0m \u001b[38;5;28;01mreturn\u001b[39;00m traces\n",
      "File \u001b[1;32mc:\\vt\\md\\e\\xes.py:64\u001b[0m, in \u001b[0;36mparse_xes\u001b[1;34m(filepath, on_trace, on_trace_end, on_event, keys, load_traces)\u001b[0m\n\u001b[0;32m     61\u001b[0m     \u001b[38;5;28;01mif\u001b[39;00m \u001b[38;5;129;01mnot\u001b[39;00m is_load_trace():\n\u001b[0;32m     62\u001b[0m         \u001b[38;5;28;01mcontinue\u001b[39;00m\n\u001b[1;32m---> 64\u001b[0m     \u001b[43mevent_stream\u001b[49m\u001b[38;5;241;43m.\u001b[39;49m\u001b[43mexpandNode\u001b[49m\u001b[43m(\u001b[49m\u001b[43mnode\u001b[49m\u001b[43m)\u001b[49m\n\u001b[0;32m     65\u001b[0m     on_event(parse_xes_event(node, keys\u001b[38;5;241m=\u001b[39mkeys))\n\u001b[0;32m     67\u001b[0m \u001b[38;5;28;01mif\u001b[39;00m node\u001b[38;5;241m.\u001b[39mtagName \u001b[38;5;241m==\u001b[39m \u001b[38;5;124m\"\u001b[39m\u001b[38;5;124mstring\u001b[39m\u001b[38;5;124m\"\u001b[39m:\n",
      "File \u001b[1;32mc:\\Users\\Maksim\\AppData\\Local\\Programs\\Python\\Python310\\lib\\xml\\dom\\pulldom.py:254\u001b[0m, in \u001b[0;36mDOMEventStream.expandNode\u001b[1;34m(self, node)\u001b[0m\n\u001b[0;32m    252\u001b[0m \u001b[38;5;28;01melif\u001b[39;00m token \u001b[38;5;241m==\u001b[39m END_ELEMENT:\n\u001b[0;32m    253\u001b[0m     \u001b[38;5;28;01mdel\u001b[39;00m parents[\u001b[38;5;241m-\u001b[39m\u001b[38;5;241m1\u001b[39m]\n\u001b[1;32m--> 254\u001b[0m event \u001b[38;5;241m=\u001b[39m \u001b[38;5;28;43mself\u001b[39;49m\u001b[38;5;241;43m.\u001b[39;49m\u001b[43mgetEvent\u001b[49m\u001b[43m(\u001b[49m\u001b[43m)\u001b[49m\n",
      "File \u001b[1;32mc:\\Users\\Maksim\\AppData\\Local\\Programs\\Python\\Python310\\lib\\xml\\dom\\pulldom.py:266\u001b[0m, in \u001b[0;36mDOMEventStream.getEvent\u001b[1;34m(self)\u001b[0m\n\u001b[0;32m    264\u001b[0m         \u001b[38;5;28mself\u001b[39m\u001b[38;5;241m.\u001b[39mparser\u001b[38;5;241m.\u001b[39mclose()\n\u001b[0;32m    265\u001b[0m         \u001b[38;5;28;01mreturn\u001b[39;00m \u001b[38;5;28;01mNone\u001b[39;00m\n\u001b[1;32m--> 266\u001b[0m     \u001b[38;5;28;43mself\u001b[39;49m\u001b[38;5;241;43m.\u001b[39;49m\u001b[43mparser\u001b[49m\u001b[38;5;241;43m.\u001b[39;49m\u001b[43mfeed\u001b[49m\u001b[43m(\u001b[49m\u001b[43mbuf\u001b[49m\u001b[43m)\u001b[49m\n\u001b[0;32m    267\u001b[0m rc \u001b[38;5;241m=\u001b[39m \u001b[38;5;28mself\u001b[39m\u001b[38;5;241m.\u001b[39mpulldom\u001b[38;5;241m.\u001b[39mfirstEvent[\u001b[38;5;241m1\u001b[39m][\u001b[38;5;241m0\u001b[39m]\n\u001b[0;32m    268\u001b[0m \u001b[38;5;28mself\u001b[39m\u001b[38;5;241m.\u001b[39mpulldom\u001b[38;5;241m.\u001b[39mfirstEvent[\u001b[38;5;241m1\u001b[39m] \u001b[38;5;241m=\u001b[39m \u001b[38;5;28mself\u001b[39m\u001b[38;5;241m.\u001b[39mpulldom\u001b[38;5;241m.\u001b[39mfirstEvent[\u001b[38;5;241m1\u001b[39m][\u001b[38;5;241m1\u001b[39m]\n",
      "File \u001b[1;32mc:\\Users\\Maksim\\AppData\\Local\\Programs\\Python\\Python310\\lib\\xml\\sax\\expatreader.py:217\u001b[0m, in \u001b[0;36mExpatParser.feed\u001b[1;34m(self, data, isFinal)\u001b[0m\n\u001b[0;32m    210\u001b[0m     \u001b[38;5;28mself\u001b[39m\u001b[38;5;241m.\u001b[39m_cont_handler\u001b[38;5;241m.\u001b[39mstartDocument()\n\u001b[0;32m    212\u001b[0m \u001b[38;5;28;01mtry\u001b[39;00m:\n\u001b[0;32m    213\u001b[0m     \u001b[38;5;66;03m# The isFinal parameter is internal to the expat reader.\u001b[39;00m\n\u001b[0;32m    214\u001b[0m     \u001b[38;5;66;03m# If it is set to true, expat will check validity of the entire\u001b[39;00m\n\u001b[0;32m    215\u001b[0m     \u001b[38;5;66;03m# document. When feeding chunks, they are not normally final -\u001b[39;00m\n\u001b[0;32m    216\u001b[0m     \u001b[38;5;66;03m# except when invoked from close.\u001b[39;00m\n\u001b[1;32m--> 217\u001b[0m     \u001b[38;5;28;43mself\u001b[39;49m\u001b[38;5;241;43m.\u001b[39;49m\u001b[43m_parser\u001b[49m\u001b[38;5;241;43m.\u001b[39;49m\u001b[43mParse\u001b[49m\u001b[43m(\u001b[49m\u001b[43mdata\u001b[49m\u001b[43m,\u001b[49m\u001b[43m \u001b[49m\u001b[43misFinal\u001b[49m\u001b[43m)\u001b[49m\n\u001b[0;32m    218\u001b[0m \u001b[38;5;28;01mexcept\u001b[39;00m expat\u001b[38;5;241m.\u001b[39merror \u001b[38;5;28;01mas\u001b[39;00m e:\n\u001b[0;32m    219\u001b[0m     exc \u001b[38;5;241m=\u001b[39m SAXParseException(expat\u001b[38;5;241m.\u001b[39mErrorString(e\u001b[38;5;241m.\u001b[39mcode), e, \u001b[38;5;28mself\u001b[39m)\n",
      "File \u001b[1;32mC:\\A\\35\\s\\Modules\\pyexpat.c:416\u001b[0m, in \u001b[0;36mStartElement\u001b[1;34m()\u001b[0m\n",
      "File \u001b[1;32mc:\\Users\\Maksim\\AppData\\Local\\Programs\\Python\\Python310\\lib\\xml\\sax\\expatreader.py:339\u001b[0m, in \u001b[0;36mExpatParser.start_element_ns\u001b[1;34m(self, name, attrs)\u001b[0m\n\u001b[0;32m    338\u001b[0m \u001b[38;5;28;01mdef\u001b[39;00m \u001b[38;5;21mstart_element_ns\u001b[39m(\u001b[38;5;28mself\u001b[39m, name, attrs):\n\u001b[1;32m--> 339\u001b[0m     pair \u001b[38;5;241m=\u001b[39m \u001b[43mname\u001b[49m\u001b[38;5;241;43m.\u001b[39;49m\u001b[43msplit\u001b[49m\u001b[43m(\u001b[49m\u001b[43m)\u001b[49m\n\u001b[0;32m    340\u001b[0m     \u001b[38;5;28;01mif\u001b[39;00m \u001b[38;5;28mlen\u001b[39m(pair) \u001b[38;5;241m==\u001b[39m \u001b[38;5;241m1\u001b[39m:\n\u001b[0;32m    341\u001b[0m         \u001b[38;5;66;03m# no namespace\u001b[39;00m\n\u001b[0;32m    342\u001b[0m         pair \u001b[38;5;241m=\u001b[39m (\u001b[38;5;28;01mNone\u001b[39;00m, name)\n",
      "\u001b[1;31mKeyboardInterrupt\u001b[0m: "
     ]
    }
   ],
   "source": [
    "files = [\n",
    "    \"data/Activities of daily living of several individuals_1_all/data/edited_hh102_labour.xes/edited_hh102_labour.xes\",\n",
    "    # \"data/BPI Challenge 2012_1_all/BPI_Challenge_2012.xes/BPI_Challenge_2012.xes\",\n",
    "    \"data/NASA Crew Exploration Vehicle (CEV) Software Event Log_1_all/data/nasa-cev-1-10-single-trace.xes/nasa-cev-1-10-single-trace.xes\",\n",
    "    \"data/Real-life event logs - Hospital log_1_all/Hospital_log.xes\\Hospital_log.xes\"\n",
    "]\n",
    "\n",
    "for file in files:\n",
    "    xes_file = xes.xes_to_dataframes(filepath=file, keep_original=True)\n",
    "    print()\n",
    "    print()\n",
    "    print(file)\n",
    "    print_xes_info(xes_file)"
   ]
  },
  {
   "cell_type": "code",
   "execution_count": null,
   "metadata": {},
   "outputs": [],
   "source": []
  }
 ],
 "metadata": {
  "kernelspec": {
   "display_name": "Python 3",
   "language": "python",
   "name": "python3"
  },
  "language_info": {
   "codemirror_mode": {
    "name": "ipython",
    "version": 3
   },
   "file_extension": ".py",
   "mimetype": "text/x-python",
   "name": "python",
   "nbconvert_exporter": "python",
   "pygments_lexer": "ipython3",
   "version": "3.10.2"
  }
 },
 "nbformat": 4,
 "nbformat_minor": 2
}
