{
 "cells": [
  {
   "cell_type": "code",
   "execution_count": 85,
   "metadata": {},
   "outputs": [
    {
     "name": "stdout",
     "output_type": "stream",
     "text": [
      "The autoreload extension is already loaded. To reload it, use:\n",
      "  %reload_ext autoreload\n"
     ]
    }
   ],
   "source": [
    "%load_ext autoreload\n",
    "import datetime\n",
    "# import ete3\n",
    "import matplotlib.pyplot as plt\n",
    "import networkx as nx\n",
    "import numpy as np\n",
    "import pandas as pd\n",
    "import re\n",
    "import xml.etree.ElementTree as ET\n",
    "# import xml.dom.minidom\n",
    "import xmlschema"
   ]
  },
  {
   "cell_type": "code",
   "execution_count": 113,
   "metadata": {},
   "outputs": [],
   "source": [
    "%autoreload\n",
    "from maxes.xes_loader2 import XesLoader, XesLog\n",
    "# from maxes.xes_file import XesFile\n",
    "from maxes.analyze_xes import PrintXesInfo\n",
    "import maxes.analyze_sequence\n",
    "import maxes.serialization.serialize\n",
    "# import maxes.graphs\n",
    "import maxes.utils\n",
    "from maxes.generators.xes_generator1 import XesGenerator1"
   ]
  },
  {
   "cell_type": "code",
   "execution_count": null,
   "metadata": {},
   "outputs": [],
   "source": [
    "import logging\n",
    "import importlib\n",
    "\n",
    "def setup_logging():\n",
    "    # TODO: use __vsc_ipynb_file__\n",
    "    importlib.reload(logging)\n",
    "    filename_timestamp_part = datetime.datetime.now().strftime(\"%Y_%m_%d__%H_%M_%S\")\n",
    "    filename = f\"/vt/md/maxes/maxes/output/logs/notebooks/{filename_timestamp_part}.log\"\n",
    "    logging.basicConfig(\n",
    "        filename=filename,\n",
    "        filemode=\"a\",\n",
    "        format=\"%(asctime)s %(message)s\",\n",
    "        level=logging.DEBUG)\n",
    "    logging.info(\"START\")\n",
    "\n",
    "setup_logging()"
   ]
  },
  {
   "cell_type": "code",
   "execution_count": null,
   "metadata": {},
   "outputs": [],
   "source": [
    "# ET.register_namespace(\"\", \"http://www.xes-standard.org\")\n",
    "\n",
    "file_path = \"/vt/md/maxes/maxes/data/Activities of daily living of several individuals_1_all/data/edited_hh104_labour.xes/edited_hh104_labour.xes\"\n",
    "\n",
    "printer = PrintXesInfo()\n",
    "info = printer.print_info(file_path)\n",
    "info"
   ]
  },
  {
   "cell_type": "code",
   "execution_count": 52,
   "metadata": {},
   "outputs": [
    {
     "ename": "TypeError",
     "evalue": "list indices must be integers or slices, not str",
     "output_type": "error",
     "traceback": [
      "\u001b[0;31m---------------------------------------------------------------------------\u001b[0m",
      "\u001b[0;31mTypeError\u001b[0m                                 Traceback (most recent call last)",
      "Cell \u001b[0;32mIn[52], line 2\u001b[0m\n\u001b[1;32m      1\u001b[0m \u001b[38;5;66;03m# dict(printer.info[\"Events\"][\"Count per trace\"])\u001b[39;00m\n\u001b[0;32m----> 2\u001b[0m \u001b[43mprinter\u001b[49m\u001b[38;5;241;43m.\u001b[39;49m\u001b[43mxes\u001b[49m\u001b[38;5;241;43m.\u001b[39;49m\u001b[43mtraces\u001b[49m\u001b[43m[\u001b[49m\u001b[38;5;241;43m0\u001b[39;49m\u001b[43m]\u001b[49m\u001b[38;5;241;43m.\u001b[39;49m\u001b[43mevents\u001b[49m\u001b[43m[\u001b[49m\u001b[38;5;124;43m'\u001b[39;49m\u001b[38;5;124;43ma\u001b[39;49m\u001b[38;5;124;43m'\u001b[39;49m\u001b[43m]\u001b[49m\n",
      "\u001b[0;31mTypeError\u001b[0m: list indices must be integers or slices, not str"
     ]
    }
   ],
   "source": [
    "# dict(printer.info[\"Events\"][\"Count per trace\"])\n",
    "printer.xes.traces[0].events['a']"
   ]
  },
  {
   "cell_type": "code",
   "execution_count": 26,
   "metadata": {},
   "outputs": [
    {
     "data": {
      "text/plain": [
       "<Element '{http://www.xes-standard.org}log' at 0x124bb8810>"
      ]
     },
     "execution_count": 26,
     "metadata": {},
     "output_type": "execute_result"
    }
   ],
   "source": [
    "printer.xes_loader.xml_log"
   ]
  },
  {
   "cell_type": "code",
   "execution_count": 38,
   "metadata": {},
   "outputs": [
    {
     "data": {
      "text/plain": [
       "{'concept:name': 'string',\n",
       " 'lifecycle:transition': 'string',\n",
       " 'time:timestamp': 'date',\n",
       " 'work': 'string'}"
      ]
     },
     "execution_count": 38,
     "metadata": {},
     "output_type": "execute_result"
    }
   ],
   "source": [
    "printer.xes.event_attribute_type_map"
   ]
  },
  {
   "cell_type": "code",
   "execution_count": 38,
   "metadata": {},
   "outputs": [
    {
     "data": {
      "text/plain": [
       "{'extension': 3, 'global': 2, 'classifier': 1, 'string': 3, 'trace': 43}"
      ]
     },
     "execution_count": 38,
     "metadata": {},
     "output_type": "execute_result"
    }
   ],
   "source": [
    "# maxes.utils.xml_tag_without_namespace(printer.xes_loader.xml_log.tag).......\n",
    "# xml_log = printer.xes_loader.xml_log\n",
    "xml_tree = printer.xes_loader.tree\n",
    "from collections import Counter\n",
    "\n",
    "counter = Counter(maxes.utils.xml_tag_without_namespace(element.tag) for element in xml_tree.findall(\"./*\"))\n",
    "dict(counter)\n",
    "\n",
    "\n",
    "# counter = Counter(maxes.utils.xml_tag_without_namespace(element.tag) for element in xml_tree.findall(\"./{http://www.xes-standard.org}trace/*\"))\n",
    "# dict(counter)\n",
    "\n",
    "\n",
    "# counter = Counter(maxes.utils.xml_tag_without_namespace(element.tag) for element in xml_tree.findall(\".//*\"))\n",
    "# dict(counter)\n",
    "\n",
    "# xml_log.findall(\".//*\")[0].tag\n",
    "# maxes.utils.xml_tag_without_namespace(\"\")\n",
    "# for child in xml_log:\n",
    "#     print(child.tag)\n"
   ]
  },
  {
   "cell_type": "code",
   "execution_count": 32,
   "metadata": {},
   "outputs": [
    {
     "data": {
      "text/plain": [
       "<Element '{http://www.xes-standard.org}string' at 0x133f758f0>"
      ]
     },
     "execution_count": 32,
     "metadata": {},
     "output_type": "execute_result"
    }
   ],
   "source": [
    "xml_tree.find(\"./{http://www.xes-standard.org}trace/*\")"
   ]
  },
  {
   "cell_type": "code",
   "execution_count": 54,
   "metadata": {},
   "outputs": [
    {
     "data": {
      "text/plain": [
       "datetime.datetime(2011, 6, 15, 0, 33, 36, tzinfo=tzoffset(None, 7200))"
      ]
     },
     "execution_count": 54,
     "metadata": {},
     "output_type": "execute_result"
    }
   ],
   "source": [
    "data = xml_tree.findall(\"./{http://www.xes-standard.org}trace/{http://www.xes-standard.org}event/{http://www.xes-standard.org}date\")\n",
    "date = data[0].attrib[\"value\"]\n",
    "\n",
    "import datetime\n",
    "import dateutil\n",
    "\n",
    "dateutil.parser.isoparse(date)\n"
   ]
  },
  {
   "cell_type": "code",
   "execution_count": 81,
   "metadata": {},
   "outputs": [
    {
     "data": {
      "text/plain": [
       "{datetime.timedelta(seconds=7200): 4200}"
      ]
     },
     "execution_count": 81,
     "metadata": {},
     "output_type": "execute_result"
    }
   ],
   "source": [
    "xml_dates = xml_tree.findall(\"./{http://www.xes-standard.org}trace/{http://www.xes-standard.org}event/{http://www.xes-standard.org}date[@key='time:timestamp']\")\n",
    "\n",
    "def f(xml_dates):\n",
    "    for xml_date in xml_dates:\n",
    "        date = dateutil.parser.isoparse(xml_date.attrib[\"value\"])\n",
    "        time_zone = date.tzinfo\n",
    "        time_zone_offset = time_zone.utcoffset(date)\n",
    "        yield time_zone_offset\n",
    "\n",
    "# timezones = (dateutil.parser.isoparse(xml_date.attrib[\"value\"]).tzinfo for xml_date in xml_dates)\n",
    "\n",
    "dict(Counter(f(xml_dates)))"
   ]
  },
  {
   "cell_type": "code",
   "execution_count": 63,
   "metadata": {},
   "outputs": [],
   "source": [
    "tz = list(timezones)[0]"
   ]
  },
  {
   "cell_type": "code",
   "execution_count": 77,
   "metadata": {},
   "outputs": [
    {
     "data": {
      "text/plain": [
       "datetime.timedelta(seconds=7200)"
      ]
     },
     "execution_count": 77,
     "metadata": {},
     "output_type": "execute_result"
    }
   ],
   "source": [
    "date = dateutil.parser.isoparse(xml_dates[0].attrib[\"value\"])\n",
    "\n",
    "tz.utcoffset(date)"
   ]
  },
  {
   "cell_type": "code",
   "execution_count": 101,
   "metadata": {},
   "outputs": [
    {
     "name": "stdout",
     "output_type": "stream",
     "text": [
      "'xes.creator' attribute not allowed for element\n"
     ]
    }
   ],
   "source": [
    "import maxes.constants\n",
    "\n",
    "ET.register_namespace(\"\", \"http://www.xes-standard.org\")\n",
    "ET.register_namespace(\"xes\", \"http://www.xes-standard.org\")\n",
    "ET.register_namespace(\"XES\", \"http://www.xes-standard.org\")\n",
    "\n",
    "# xml_schema_xes_2023 = xmlschema.XMLSchema(schema_path, namespace='http://www.xes-standard.org')\n",
    "\n",
    "# schema = xmlschema.XMLSchema(maxes.constants.PATH_XES_SCHEMA_2023)\n",
    "# schema = xmlschema.XMLSchema(maxes.constants.PATH_XES_SCHEMA_2023_EXTENDED)\n",
    "schema = xmlschema.XMLSchema(maxes.constants.PATH_XES_SCHEMA_2023, namespace='http://www.xes-standard.org')\n",
    "# schema = xmlschema.XMLSchema(maxes.constants.PATH_XES_SCHEMA_2023_EXTENDED, namespace='http://www.xes-standard.org')\n",
    "\n",
    "err = None\n",
    "try:\n",
    "    schema.validate(file_path)\n",
    "except xmlschema.XMLSchemaValidationError as error:\n",
    "    err = error\n",
    "    print(error.reason)"
   ]
  },
  {
   "cell_type": "code",
   "execution_count": 104,
   "metadata": {},
   "outputs": [
    {
     "name": "stdout",
     "output_type": "stream",
     "text": [
      "failed validating {'xes.version': '1.0', 'xes.creator': 'Fluxicon Disco'} with XsdAttributeGroup(['xes.version', 'xes.features']):\n",
      "\n",
      "Reason: 'xes.creator' attribute not allowed for element\n",
      "\n",
      "Schema component:\n",
      "\n",
      "  <xs:complexType xmlns:xs=\"http://www.w3.org/2001/XMLSchema\" name=\"LogType\">\n",
      "      <xs:sequence>\n",
      "          <xs:element name=\"extension\" type=\"ExtensionType\" minOccurs=\"0\" maxOccurs=\"unbounded\" />\n",
      "          <xs:element name=\"global\" type=\"GlobalsType\" minOccurs=\"0\" maxOccurs=\"unbounded\" />\n",
      "          <xs:element name=\"classifier\" type=\"ClassifierType\" minOccurs=\"0\" maxOccurs=\"unbounded\" />\n",
      "          <xs:group ref=\"AttributableGroup\" />\n",
      "          <xs:element name=\"trace\" type=\"TraceType\" minOccurs=\"0\" maxOccurs=\"unbounded\" />\n",
      "          <xs:element name=\"event\" type=\"EventType\" minOccurs=\"0\" maxOccurs=\"unbounded\" />\n",
      "      </xs:sequence>\n",
      "      <xs:attribute name=\"xes.version\" type=\"xs:decimal\" use=\"required\" />\n",
      "      <xs:attribute name=\"xes.features\" type=\"xs:token\" />\n",
      "  </xs:complexType>\n",
      "\n",
      "Instance type: <class 'xml.etree.ElementTree.Element'>\n",
      "\n",
      "Instance:\n",
      "\n",
      "  <log xmlns=\"http://www.xes-standard.org\" xes.version=\"1.0\" xes.creator=\"Fluxicon Disco\">\n",
      "      <extension name=\"Concept\" prefix=\"concept\" uri=\"http://www.xes-standard.org/concept.xesext\" />\n",
      "      <extension name=\"Lifecycle\" prefix=\"lifecycle\" uri=\"http://www.xes-standard.org/lifecycle.xesext\" />\n",
      "      <extension name=\"Time\" prefix=\"time\" uri=\"http://www.xes-standard.org/time.xesext\" />\n",
      "      <global scope=\"trace\">\n",
      "          <string key=\"concept:name\" value=\"name\" />\n",
      "      </global>\n",
      "      <global scope=\"event\">\n",
      "          <string key=\"concept:name\" value=\"name\" />\n",
      "          <string key=\"lifecycle:transition\" value=\"transition\" />\n",
      "          <date key=\"time:timestamp\" value=\"2015-10-16T16:12:13.323+02:00\" />\n",
      "          <string key=\"work\" value=\"string\" />\n",
      "      </global>\n",
      "      <classifier name=\"Activity\" keys=\"work\" />\n",
      "      <string key=\"lifecycle:model\" value=\"standard\" />\n",
      "      <string key=\"creator\" value=\"Fluxicon Disco\" />\n",
      "      <string key=\"library\" value=\"Fluxicon Octane\" />\n",
      "      <trace>\n",
      "          <string key=\"concept:name\" value=\"11\" />\n",
      "          <string key=\"creator\" value=\"Fluxicon Disco\" />\n",
      "      ...\n",
      "      ...\n",
      "  </log>\n",
      "\n",
      "Path: /log\n",
      "\n"
     ]
    }
   ],
   "source": [
    "print(err)"
   ]
  },
  {
   "cell_type": "code",
   "execution_count": null,
   "metadata": {},
   "outputs": [],
   "source": []
  }
 ],
 "metadata": {
  "kernelspec": {
   "display_name": "venv",
   "language": "python",
   "name": "python3"
  },
  "language_info": {
   "codemirror_mode": {
    "name": "ipython",
    "version": 3
   },
   "file_extension": ".py",
   "mimetype": "text/x-python",
   "name": "python",
   "nbconvert_exporter": "python",
   "pygments_lexer": "ipython3",
   "version": "3.12.2"
  }
 },
 "nbformat": 4,
 "nbformat_minor": 2
}
