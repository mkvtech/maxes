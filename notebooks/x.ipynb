{
 "cells": [
  {
   "cell_type": "code",
   "execution_count": 1,
   "metadata": {},
   "outputs": [],
   "source": [
    "from collections import defaultdict"
   ]
  },
  {
   "cell_type": "code",
   "execution_count": 5,
   "metadata": {},
   "outputs": [
    {
     "data": {
      "text/plain": [
       "{'a': 10}"
      ]
     },
     "execution_count": 5,
     "metadata": {},
     "output_type": "execute_result"
    }
   ],
   "source": [
    "d = defaultdict(lambda: 0)\n",
    "d[\"a\"] += 10\n",
    "dict(d)"
   ]
  },
  {
   "cell_type": "code",
   "execution_count": 8,
   "metadata": {},
   "outputs": [],
   "source": [
    "import xml.etree.ElementTree as ET\n",
    "\n",
    "xml_string = \"\"\"<?xml version=\"1.0\" ?>\n",
    "<log xes.version=\"1.0\">\n",
    "\t<extension name=\"Concept\" prefix=\"concept\" uri=\"http://www.xes-standard.org/concept.xesext\"/>\n",
    "\t<extension name=\"Lifecycle\" prefix=\"lifecycle\" uri=\"http://www.xes-standard.org/lifecycle.xesext\"/>\n",
    "\t<extension name=\"Time\" prefix=\"time\" uri=\"http://www.xes-standard.org/time.xesext\"/>\n",
    "    <trace>\n",
    "        <string key=\"concept:name\" value=\"0\"/>\n",
    "        <event>\n",
    "            <date key=\"time:timestamp\" value=\"2024-01-01 10:00:00\"/>\n",
    "            <string key=\"concept:name\" value=\"Action\"/>\n",
    "            <string key=\"lifecycle:transition\" value=\"start\"/>\n",
    "        </event>\n",
    "        <event>\n",
    "            <date key=\"time:timestamp\" value=\"2024-01-01 11:00:00\"/>\n",
    "            <string key=\"concept:name\" value=\"Action\"/>\n",
    "            <string key=\"lifecycle:transition\" value=\"complete\"/>\n",
    "        </event>\n",
    "    </trace>\n",
    "    <trace>\n",
    "        <string key=\"concept:name\" value=\"1\"/>\n",
    "        <event>\n",
    "            <date key=\"time:timestamp\" value=\"2024-01-01 10:00:00\"/>\n",
    "            <string key=\"concept:name\" value=\"Action\"/>\n",
    "            <string key=\"lifecycle:transition\" value=\"start\"/>\n",
    "        </event>\n",
    "        <event>\n",
    "            <date key=\"time:timestamp\" value=\"2024-01-01 11:00:00\"/>\n",
    "            <string key=\"concept:name\" value=\"Action\"/>\n",
    "            <string key=\"lifecycle:transition\" value=\"complete\"/>\n",
    "        </event>\n",
    "    </trace>\n",
    "</log>\n",
    "\"\"\"\n",
    "tree = ET.ElementTree(ET.fromstring(xml_string))"
   ]
  },
  {
   "cell_type": "code",
   "execution_count": 19,
   "metadata": {},
   "outputs": [
    {
     "data": {
      "text/plain": [
       "[<Element 'event' at 0x10be8ee80>,\n",
       " <Element 'event' at 0x10be9c0e0>,\n",
       " <Element 'event' at 0x10be9c2c0>,\n",
       " <Element 'event' at 0x10be9c400>]"
      ]
     },
     "execution_count": 19,
     "metadata": {},
     "output_type": "execute_result"
    }
   ],
   "source": [
    "list(tree.findall(\"trace/event\"))"
   ]
  },
  {
   "cell_type": "code",
   "execution_count": 20,
   "metadata": {},
   "outputs": [
    {
     "data": {
      "text/plain": [
       "True"
      ]
     },
     "execution_count": 20,
     "metadata": {},
     "output_type": "execute_result"
    }
   ],
   "source": [
    "isinstance(tree.getroot(), ET.Element)"
   ]
  },
  {
   "cell_type": "code",
   "execution_count": 24,
   "metadata": {},
   "outputs": [
    {
     "data": {
      "text/plain": [
       "0"
      ]
     },
     "execution_count": 24,
     "metadata": {},
     "output_type": "execute_result"
    }
   ],
   "source": [
    "len({ \"a\": 10, \"b\": 10 })\n",
    "len({})"
   ]
  },
  {
   "cell_type": "code",
   "execution_count": null,
   "metadata": {},
   "outputs": [],
   "source": []
  }
 ],
 "metadata": {
  "kernelspec": {
   "display_name": "venv",
   "language": "python",
   "name": "python3"
  },
  "language_info": {
   "codemirror_mode": {
    "name": "ipython",
    "version": 3
   },
   "file_extension": ".py",
   "mimetype": "text/x-python",
   "name": "python",
   "nbconvert_exporter": "python",
   "pygments_lexer": "ipython3",
   "version": "3.12.2"
  }
 },
 "nbformat": 4,
 "nbformat_minor": 2
}
