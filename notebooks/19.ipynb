{
 "cells": [
  {
   "cell_type": "code",
   "execution_count": 1,
   "metadata": {},
   "outputs": [],
   "source": [
    "%load_ext autoreload\n",
    "import xml.dom.minidom\n",
    "# import ete3\n",
    "# import pandas as pd\n",
    "# import numpy as np\n",
    "import logging\n",
    "import matplotlib.pyplot as plt\n",
    "import networkx as nx\n",
    "import xml.etree.ElementTree as ET\n",
    "# import xmlschema"
   ]
  },
  {
   "cell_type": "code",
   "execution_count": 2,
   "metadata": {},
   "outputs": [],
   "source": [
    "%autoreload\n",
    "from maxes.xes_loader2 import XesLoader, XesLog\n",
    "# from maxes.xes_file import XesFile\n",
    "# from maxes.print_xes_info import PrintXesInfo\n",
    "import maxes.analyze_sequence\n",
    "import maxes.serialization.serialize\n",
    "# import maxes.graphs\n",
    "# import maxes.utils\n",
    "from maxes.generators.xes_generator1 import XesGenerator1"
   ]
  },
  {
   "cell_type": "code",
   "execution_count": 3,
   "metadata": {},
   "outputs": [],
   "source": [
    "import logging\n",
    "import importlib\n",
    "importlib.reload(logging)\n",
    "logging.basicConfig(\n",
    "    filename=\"C:\\\\vt\\\\md\\\\maxes\\\\output\\\\notebooks.log\",\n",
    "    filemode=\"a\",\n",
    "    format=\"%(asctime)s %(message)s\",\n",
    "    level=logging.DEBUG)\n",
    "logging.info(\"START\")"
   ]
  },
  {
   "cell_type": "code",
   "execution_count": 4,
   "metadata": {},
   "outputs": [],
   "source": [
    "\n",
    "\n",
    "def generate_xes_for_file(source_file_path, destination_file_path):\n",
    "    loader = XesLoader({ \"drop_timezones\": True })\n",
    "\n",
    "    print(\"Loading\")\n",
    "    log = loader.load(source_file_path)\n",
    "\n",
    "    if len(loader.errors):\n",
    "        raise RuntimeError(\"Errors while loading XES\")\n",
    "\n",
    "    print(\"Creating dataframes\")\n",
    "    for trace in log.traces:\n",
    "        trace.update_df()\n",
    "\n",
    "    print(\"Fitting\")\n",
    "    generator = XesGenerator1(debug=True).fit(log)\n",
    "\n",
    "    print(\"Generating\")\n",
    "    generated_log = generator.generate()\n",
    "\n",
    "    print(\"Serializing\")\n",
    "    generated_log_ET = maxes.serialization.serialize.Serializer().serialize(generated_log, xml_log_skeleton=log.loader.xml_log_skeleton)\n",
    "\n",
    "    print(\"Formatting XML\")\n",
    "    ET.indent(generated_log_ET)\n",
    "\n",
    "    print(\"Writing XML\")\n",
    "    ET.register_namespace(\"\", \"http://www.xes-standard.org\")\n",
    "    with open(destination_file_path, \"w\") as file:\n",
    "        generated_log_ET.write(file, encoding=\"unicode\")\n"
   ]
  },
  {
   "cell_type": "code",
   "execution_count": 5,
   "metadata": {},
   "outputs": [
    {
     "name": "stdout",
     "output_type": "stream",
     "text": [
      "Loading\n",
      "Creating dataframes\n",
      "Fitting\n",
      "Generating\n",
      "Serializing\n",
      "Formatting XML\n",
      "Writing XML\n"
     ]
    }
   ],
   "source": [
    "generate_xes_for_file(\n",
    "    source_file_path=\"../data/Activities of daily living of several individuals_1_all/data/activitylog_uci_detailed_labour.xes/activitylog_uci_detailed_labour.xes\",\n",
    "    destination_file_path=\"C:\\\\vt\\\\md\\\\maxes\\\\output\\\\generated3.xml\"\n",
    ")"
   ]
  },
  {
   "cell_type": "code",
   "execution_count": null,
   "metadata": {},
   "outputs": [],
   "source": []
  }
 ],
 "metadata": {
  "kernelspec": {
   "display_name": "venv",
   "language": "python",
   "name": "python3"
  },
  "language_info": {
   "codemirror_mode": {
    "name": "ipython",
    "version": 3
   },
   "file_extension": ".py",
   "mimetype": "text/x-python",
   "name": "python",
   "nbconvert_exporter": "python",
   "pygments_lexer": "ipython3",
   "version": "3.12.2"
  }
 },
 "nbformat": 4,
 "nbformat_minor": 2
}
