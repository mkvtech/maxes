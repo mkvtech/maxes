{
 "cells": [
  {
   "cell_type": "code",
   "execution_count": 1,
   "metadata": {},
   "outputs": [],
   "source": [
    "%load_ext autoreload\n",
    "import xml.dom.minidom\n",
    "import xml.etree.ElementTree as ET\n",
    "# import ete3\n",
    "# import pandas as pd\n",
    "# import numpy as np\n",
    "# import matplotlib.pyplot as plt\n",
    "# import networkx as nx\n",
    "# import xmlschema"
   ]
  },
  {
   "cell_type": "code",
   "execution_count": 2,
   "metadata": {},
   "outputs": [],
   "source": [
    "%autoreload\n",
    "from maxes.xes_loader2 import XesLoader\n",
    "# from maxes.xes_file import XesFile\n",
    "# from maxes.print_xes_info import PrintXesInfo\n",
    "# import maxes.analyze_sequence\n",
    "# import maxes.graphs\n",
    "# import maxes.utils"
   ]
  },
  {
   "cell_type": "code",
   "execution_count": 3,
   "metadata": {},
   "outputs": [],
   "source": [
    "file_path = \"../data/Activities of daily living of several individuals_1_all/data/activitylog_uci_detailed_labour.xes/activitylog_uci_detailed_labour.xes\"\n",
    "\n",
    "tree = ET.parse(file_path)"
   ]
  },
  {
   "cell_type": "code",
   "execution_count": 4,
   "metadata": {},
   "outputs": [],
   "source": [
    "log = tree.getroot()"
   ]
  },
  {
   "cell_type": "code",
   "execution_count": 5,
   "metadata": {},
   "outputs": [
    {
     "data": {
      "text/plain": [
       "'{http://www.xes-standard.org}log'"
      ]
     },
     "execution_count": 5,
     "metadata": {},
     "output_type": "execute_result"
    }
   ],
   "source": [
    "log.tag"
   ]
  },
  {
   "cell_type": "code",
   "execution_count": 6,
   "metadata": {},
   "outputs": [
    {
     "data": {
      "text/plain": [
       "{'xes.version': '1.0', 'xes.creator': 'Fluxicon Disco'}"
      ]
     },
     "execution_count": 6,
     "metadata": {},
     "output_type": "execute_result"
    }
   ],
   "source": [
    "log.attrib"
   ]
  },
  {
   "cell_type": "code",
   "execution_count": 13,
   "metadata": {},
   "outputs": [
    {
     "name": "stdout",
     "output_type": "stream",
     "text": [
      "{http://www.xes-standard.org}extension False\n",
      "{http://www.xes-standard.org}extension False\n",
      "{http://www.xes-standard.org}extension False\n",
      "{http://www.xes-standard.org}global False\n",
      "{http://www.xes-standard.org}global False\n",
      "{http://www.xes-standard.org}classifier False\n",
      "{http://www.xes-standard.org}string False\n",
      "{http://www.xes-standard.org}string False\n",
      "{http://www.xes-standard.org}string False\n",
      "{http://www.xes-standard.org}trace True\n",
      "{http://www.xes-standard.org}trace True\n",
      "{http://www.xes-standard.org}trace True\n",
      "{http://www.xes-standard.org}trace True\n",
      "{http://www.xes-standard.org}trace True\n",
      "{http://www.xes-standard.org}trace True\n",
      "{http://www.xes-standard.org}trace True\n",
      "{http://www.xes-standard.org}trace True\n",
      "{http://www.xes-standard.org}trace True\n",
      "{http://www.xes-standard.org}trace True\n",
      "{http://www.xes-standard.org}trace True\n",
      "{http://www.xes-standard.org}trace True\n",
      "{http://www.xes-standard.org}trace True\n",
      "{http://www.xes-standard.org}trace True\n",
      "{http://www.xes-standard.org}trace True\n",
      "{http://www.xes-standard.org}trace True\n",
      "{http://www.xes-standard.org}trace True\n",
      "{http://www.xes-standard.org}trace True\n",
      "{http://www.xes-standard.org}trace True\n",
      "{http://www.xes-standard.org}trace True\n",
      "{http://www.xes-standard.org}trace True\n",
      "{http://www.xes-standard.org}trace True\n",
      "{http://www.xes-standard.org}trace True\n",
      "{http://www.xes-standard.org}trace True\n",
      "{http://www.xes-standard.org}trace True\n"
     ]
    }
   ],
   "source": [
    "for child in log:\n",
    "    print(child.tag, child.tag.rpartition(\"}\")[2] == \"trace\")"
   ]
  },
  {
   "cell_type": "code",
   "execution_count": 16,
   "metadata": {},
   "outputs": [
    {
     "data": {
      "text/plain": [
       "{'key': 'lifecycle:model', 'value': 'standard'}"
      ]
     },
     "execution_count": 16,
     "metadata": {},
     "output_type": "execute_result"
    }
   ],
   "source": [
    "next(child for child in log if \"string\" in child.tag).attrib"
   ]
  },
  {
   "cell_type": "code",
   "execution_count": null,
   "metadata": {},
   "outputs": [],
   "source": []
  }
 ],
 "metadata": {
  "kernelspec": {
   "display_name": "venv",
   "language": "python",
   "name": "python3"
  },
  "language_info": {
   "codemirror_mode": {
    "name": "ipython",
    "version": 3
   },
   "file_extension": ".py",
   "mimetype": "text/x-python",
   "name": "python",
   "nbconvert_exporter": "python",
   "pygments_lexer": "ipython3",
   "version": "3.12.2"
  }
 },
 "nbformat": 4,
 "nbformat_minor": 2
}
