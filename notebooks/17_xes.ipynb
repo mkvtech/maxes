{
 "cells": [
  {
   "cell_type": "code",
   "execution_count": 1,
   "metadata": {},
   "outputs": [],
   "source": [
    "%load_ext autoreload\n",
    "import xml.dom.minidom\n",
    "# import ete3\n",
    "# import pandas as pd\n",
    "# import numpy as np\n",
    "import matplotlib.pyplot as plt\n",
    "import networkx as nx\n",
    "import xml.etree.ElementTree as ET\n",
    "# import xmlschema"
   ]
  },
  {
   "cell_type": "code",
   "execution_count": 2,
   "metadata": {},
   "outputs": [],
   "source": [
    "%autoreload\n",
    "from maxes.xes_loader2 import XesLoader, XesLog\n",
    "# from maxes.xes_file import XesFile\n",
    "# from maxes.print_xes_info import PrintXesInfo\n",
    "import maxes.analyze_sequence\n",
    "import maxes.serialization.serialize\n",
    "# import maxes.graphs\n",
    "# import maxes.utils\n",
    "from maxes.generators.xes_generator1 import XesGenerator1"
   ]
  },
  {
   "cell_type": "code",
   "execution_count": 3,
   "metadata": {},
   "outputs": [
    {
     "data": {
      "text/plain": [
       "[]"
      ]
     },
     "execution_count": 3,
     "metadata": {},
     "output_type": "execute_result"
    }
   ],
   "source": [
    "file_path = \"../data/Activities of daily living of several individuals_1_all/data/activitylog_uci_detailed_labour.xes/activitylog_uci_detailed_labour.xes\"\n",
    "\n",
    "loader = XesLoader({ \"drop_timezones\": True })\n",
    "log = loader.load(file_path)\n",
    "loader.errors"
   ]
  },
  {
   "cell_type": "code",
   "execution_count": 4,
   "metadata": {},
   "outputs": [
    {
     "name": "stdout",
     "output_type": "stream",
     "text": [
      "25\n",
      "(92, 2)\n",
      "(62, 2)\n",
      "(64, 2)\n",
      "(62, 2)\n",
      "(58, 2)\n"
     ]
    }
   ],
   "source": [
    "print(len(log.traces))\n",
    "print(*[(len(trace.events), len(trace.attributes))\n",
    "        for trace in log.traces[:5]], sep=\"\\n\")"
   ]
  },
  {
   "cell_type": "code",
   "execution_count": 5,
   "metadata": {},
   "outputs": [
    {
     "name": "stdout",
     "output_type": "stream",
     "text": [
      "{http://www.xes-standard.org}extension\n",
      "{http://www.xes-standard.org}extension\n",
      "{http://www.xes-standard.org}extension\n",
      "{http://www.xes-standard.org}global\n",
      "{http://www.xes-standard.org}global\n",
      "{http://www.xes-standard.org}classifier\n",
      "{http://www.xes-standard.org}string\n",
      "{http://www.xes-standard.org}string\n",
      "{http://www.xes-standard.org}string\n"
     ]
    }
   ],
   "source": [
    "print(*[child.tag for child in log.loader.xml_log_skeleton.getroot()], sep=\"\\n\")"
   ]
  },
  {
   "cell_type": "code",
   "execution_count": 6,
   "metadata": {},
   "outputs": [],
   "source": [
    "for trace in log.traces:\n",
    "    trace.update_df()"
   ]
  },
  {
   "cell_type": "code",
   "execution_count": 32,
   "metadata": {},
   "outputs": [
    {
     "data": {
      "text/plain": [
       "datetime.datetime(2012, 11, 12, 0, 48, 38, tzinfo=tzoffset(None, 3600))"
      ]
     },
     "execution_count": 32,
     "metadata": {},
     "output_type": "execute_result"
    }
   ],
   "source": [
    "log.traces[0].events[0].time_timestamp()"
   ]
  },
  {
   "cell_type": "code",
   "execution_count": 71,
   "metadata": {},
   "outputs": [
    {
     "data": {
      "text/html": [
       "<div>\n",
       "<style scoped>\n",
       "    .dataframe tbody tr th:only-of-type {\n",
       "        vertical-align: middle;\n",
       "    }\n",
       "\n",
       "    .dataframe tbody tr th {\n",
       "        vertical-align: top;\n",
       "    }\n",
       "\n",
       "    .dataframe thead th {\n",
       "        text-align: right;\n",
       "    }\n",
       "</style>\n",
       "<table border=\"1\" class=\"dataframe\">\n",
       "  <thead>\n",
       "    <tr style=\"text-align: right;\">\n",
       "      <th></th>\n",
       "      <th>concept:name</th>\n",
       "      <th>lifecycle:transition</th>\n",
       "      <th>Column_4</th>\n",
       "      <th>time:timestamp</th>\n",
       "    </tr>\n",
       "  </thead>\n",
       "  <tbody>\n",
       "    <tr>\n",
       "      <th>0</th>\n",
       "      <td>Start</td>\n",
       "      <td>start</td>\n",
       "      <td>sleeping</td>\n",
       "      <td>2012-11-16 01:48:31.599171</td>\n",
       "    </tr>\n",
       "    <tr>\n",
       "      <th>1</th>\n",
       "      <td>Start</td>\n",
       "      <td>complete</td>\n",
       "      <td>watchingtv</td>\n",
       "      <td>2012-11-16 01:48:31.035940</td>\n",
       "    </tr>\n",
       "    <tr>\n",
       "      <th>2</th>\n",
       "      <td>washing</td>\n",
       "      <td>start</td>\n",
       "      <td>eatingBreakfast</td>\n",
       "      <td>2012-11-16 01:48:30.838434</td>\n",
       "    </tr>\n",
       "    <tr>\n",
       "      <th>3</th>\n",
       "      <td>washing</td>\n",
       "      <td>complete</td>\n",
       "      <td>sleeping</td>\n",
       "      <td>2012-11-16 01:50:05.697161</td>\n",
       "    </tr>\n",
       "    <tr>\n",
       "      <th>4</th>\n",
       "      <td>grooming</td>\n",
       "      <td>start</td>\n",
       "      <td>watchingtv</td>\n",
       "      <td>2012-11-16 01:51:55.403235</td>\n",
       "    </tr>\n",
       "    <tr>\n",
       "      <th>...</th>\n",
       "      <td>...</td>\n",
       "      <td>...</td>\n",
       "      <td>...</td>\n",
       "      <td>...</td>\n",
       "    </tr>\n",
       "    <tr>\n",
       "      <th>57</th>\n",
       "      <td>outdoors</td>\n",
       "      <td>complete</td>\n",
       "      <td>prepareLunch</td>\n",
       "      <td>2012-11-16 16:44:28.730189</td>\n",
       "    </tr>\n",
       "    <tr>\n",
       "      <th>58</th>\n",
       "      <td>watchingtv</td>\n",
       "      <td>start</td>\n",
       "      <td>washing</td>\n",
       "      <td>2012-11-16 16:47:10.572521</td>\n",
       "    </tr>\n",
       "    <tr>\n",
       "      <th>59</th>\n",
       "      <td>watchingtv</td>\n",
       "      <td>complete</td>\n",
       "      <td>prepareBreakfast</td>\n",
       "      <td>2012-11-16 17:58:19.924550</td>\n",
       "    </tr>\n",
       "    <tr>\n",
       "      <th>60</th>\n",
       "      <td>End</td>\n",
       "      <td>start</td>\n",
       "      <td>toilet</td>\n",
       "      <td>2012-11-16 17:58:21.219076</td>\n",
       "    </tr>\n",
       "    <tr>\n",
       "      <th>61</th>\n",
       "      <td>End</td>\n",
       "      <td>complete</td>\n",
       "      <td>Start</td>\n",
       "      <td>2012-11-16 17:58:20.332244</td>\n",
       "    </tr>\n",
       "  </tbody>\n",
       "</table>\n",
       "<p>62 rows × 4 columns</p>\n",
       "</div>"
      ],
      "text/plain": [
       "   concept:name lifecycle:transition          Column_4  \\\n",
       "0         Start                start          sleeping   \n",
       "1         Start             complete        watchingtv   \n",
       "2       washing                start   eatingBreakfast   \n",
       "3       washing             complete          sleeping   \n",
       "4      grooming                start        watchingtv   \n",
       "..          ...                  ...               ...   \n",
       "57     outdoors             complete      prepareLunch   \n",
       "58   watchingtv                start           washing   \n",
       "59   watchingtv             complete  prepareBreakfast   \n",
       "60          End                start            toilet   \n",
       "61          End             complete             Start   \n",
       "\n",
       "               time:timestamp  \n",
       "0  2012-11-16 01:48:31.599171  \n",
       "1  2012-11-16 01:48:31.035940  \n",
       "2  2012-11-16 01:48:30.838434  \n",
       "3  2012-11-16 01:50:05.697161  \n",
       "4  2012-11-16 01:51:55.403235  \n",
       "..                        ...  \n",
       "57 2012-11-16 16:44:28.730189  \n",
       "58 2012-11-16 16:47:10.572521  \n",
       "59 2012-11-16 17:58:19.924550  \n",
       "60 2012-11-16 17:58:21.219076  \n",
       "61 2012-11-16 17:58:20.332244  \n",
       "\n",
       "[62 rows x 4 columns]"
      ]
     },
     "execution_count": 71,
     "metadata": {},
     "output_type": "execute_result"
    }
   ],
   "source": [
    "generator = XesGenerator1().fit(log)\n",
    "generated_log = generator.generate()\n",
    "generated_log.traces[0].update_df()\n",
    "generated_log.traces[0].df"
   ]
  },
  {
   "cell_type": "code",
   "execution_count": 69,
   "metadata": {},
   "outputs": [
    {
     "data": {
      "text/plain": [
       "list"
      ]
     },
     "execution_count": 69,
     "metadata": {},
     "output_type": "execute_result"
    }
   ],
   "source": [
    "generated_log.traces[0].events[0].time_timestamp.__class__"
   ]
  },
  {
   "cell_type": "code",
   "execution_count": 56,
   "metadata": {},
   "outputs": [
    {
     "data": {
      "text/plain": [
       "array([[3.66828596]])"
      ]
     },
     "execution_count": 56,
     "metadata": {},
     "output_type": "execute_result"
    }
   ],
   "source": [
    "from sklearn.neighbors import KernelDensity\n",
    "kde = KernelDensity().fit([[i] for i in [1, 2, 3, 4 ,5]])\n",
    "kde.sample()"
   ]
  },
  {
   "cell_type": "code",
   "execution_count": 45,
   "metadata": {},
   "outputs": [
    {
     "data": {
      "text/plain": [
       "datetime.datetime(2012, 11, 12, 0, 48, 38, tzinfo=tzoffset(None, 3600))"
      ]
     },
     "execution_count": 45,
     "metadata": {},
     "output_type": "execute_result"
    }
   ],
   "source": [
    "log.traces[0].events[0].time_timestamp."
   ]
  },
  {
   "cell_type": "code",
   "execution_count": 39,
   "metadata": {},
   "outputs": [],
   "source": [
    "# fig, ax = plt.subplots()\n",
    "# fig.set_size_inches(20, 20)\n",
    "# fig.dpi = 150\n",
    "# maxes.analyze_sequence.draw_nx_graph(generator.sequence_graph_, edge_label=\"frequency\", ax=ax, pos=nx.kamada_kawai_layout(generator.sequence_graph_))"
   ]
  },
  {
   "cell_type": "code",
   "execution_count": 74,
   "metadata": {},
   "outputs": [],
   "source": [
    "generated_log_ET = maxes.serialization.serialize.Serializer().serialize(generated_log, xml_log_skeleton=log.loader.xml_log_skeleton)\n",
    "ET.indent(generated_log_ET)\n",
    "ET.register_namespace(\"\", \"http://www.xes-standard.org\")\n",
    "with open(\"C:\\\\vt\\\\md\\\\maxes\\\\output\\\\generated1.xml\",\"w\") as file:\n",
    "    generated_log_ET.write(file, encoding=\"unicode\")"
   ]
  },
  {
   "cell_type": "code",
   "execution_count": 70,
   "metadata": {},
   "outputs": [
    {
     "name": "stdout",
     "output_type": "stream",
     "text": [
      "{http://www.xes-standard.org}log\n",
      "<log xmlns=\"http://www.xes-standard.org\" xes.version=\"1.0\" xes.creator=\"Fluxicon Disco\" />\n"
     ]
    }
   ],
   "source": [
    "original_xml_log = log.loader.tree.getroot()\n",
    "new_xml_log = ET.Element(original_xml_log.tag, original_xml_log.attrib)\n",
    "print(new_xml_log.tag)\n",
    "ET.register_namespace(\"\", \"http://www.xes-standard.org\")\n",
    "new_tree = ET.ElementTree(new_xml_log)\n",
    "print(ET.tostring(new_xml_log, encoding=\"unicode\"))"
   ]
  },
  {
   "cell_type": "code",
   "execution_count": 3,
   "metadata": {},
   "outputs": [],
   "source": [
    "def generate_xes_for_file(source_file_path, destination_file_path):\n",
    "    loader = XesLoader({ \"drop_timezones\": True })\n",
    "\n",
    "    print(\"Loading\")\n",
    "    log = loader.load(source_file_path)\n",
    "\n",
    "    if len(loader.errors):\n",
    "        raise RuntimeError(\"Errors while loading XES\")\n",
    "\n",
    "    print(\"Creating dataframes\")\n",
    "    for trace in log.traces:\n",
    "        trace.update_df()\n",
    "\n",
    "    print(\"Fitting\")\n",
    "    generator = XesGenerator1(debug=True).fit(log)\n",
    "\n",
    "    print(\"Generating\")\n",
    "    generated_log = generator.generate()\n",
    "\n",
    "    print(\"Serializing\")\n",
    "    generated_log_ET = maxes.serialization.serialize.Serializer().serialize(generated_log, xml_log_skeleton=log.loader.xml_log_skeleton)\n",
    "\n",
    "    print(\"Formatting XML\")\n",
    "    ET.indent(generated_log_ET)\n",
    "\n",
    "    print(\"Writing XML\")\n",
    "    ET.register_namespace(\"\", \"http://www.xes-standard.org\")\n",
    "    with open(destination_file_path, \"w\") as file:\n",
    "        generated_log_ET.write(file, encoding=\"unicode\")\n"
   ]
  },
  {
   "cell_type": "code",
   "execution_count": 4,
   "metadata": {},
   "outputs": [
    {
     "name": "stdout",
     "output_type": "stream",
     "text": [
      "Loading\n",
      "Creating dataframes\n",
      "Fitting\n",
      "Validating\n",
      "Analyzing sequence graph\n",
      "Gathering meta data\n",
      "Fitting models for \"time:timestamp\" attribute\n",
      "Fitting models for other attributes\n",
      "Generating\n",
      "Serializing\n",
      "Formatting XML\n",
      "Writing XML\n"
     ]
    }
   ],
   "source": [
    "# generate_xes_for_file(\n",
    "#     source_file_path=\"../data/Activities of daily living of several individuals_1_all/data/activitylog_uci_detailed_labour.xes/activitylog_uci_detailed_labour.xes\",\n",
    "#     destination_file_path=\"C:\\\\vt\\\\md\\\\maxes\\\\output\\\\generated1.xml\"\n",
    "# )\n",
    "generate_xes_for_file(\n",
    "    source_file_path=\"C:\\\\vt\\\\md\\\\maxes\\\\data\\\\BPI Challenge 2012_1_all\\\\BPI_Challenge_2012.xes\\\\BPI_Challenge_2012.xes\",\n",
    "    destination_file_path=\"C:\\\\vt\\\\md\\\\maxes\\\\output\\\\generated2.xml\"\n",
    ")"
   ]
  },
  {
   "cell_type": "code",
   "execution_count": null,
   "metadata": {},
   "outputs": [],
   "source": []
  }
 ],
 "metadata": {
  "kernelspec": {
   "display_name": "venv",
   "language": "python",
   "name": "python3"
  },
  "language_info": {
   "codemirror_mode": {
    "name": "ipython",
    "version": 3
   },
   "file_extension": ".py",
   "mimetype": "text/x-python",
   "name": "python",
   "nbconvert_exporter": "python",
   "pygments_lexer": "ipython3",
   "version": "3.12.2"
  }
 },
 "nbformat": 4,
 "nbformat_minor": 2
}
