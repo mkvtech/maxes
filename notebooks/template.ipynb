{
 "cells": [
  {
   "cell_type": "code",
   "execution_count": null,
   "metadata": {},
   "outputs": [],
   "source": [
    "%load_ext autoreload\n",
    "import datetime\n",
    "# import ete3\n",
    "import itertools\n",
    "import json\n",
    "import logging\n",
    "import math\n",
    "import matplotlib.pyplot as plt\n",
    "import networkx as nx\n",
    "import numpy as np\n",
    "import pandas as pd\n",
    "import typing\n",
    "# import re\n",
    "import xml.etree.ElementTree as ET\n",
    "# import xml.dom.minidom\n",
    "# import xmlschema"
   ]
  },
  {
   "cell_type": "code",
   "execution_count": null,
   "metadata": {},
   "outputs": [],
   "source": [
    "%autoreload\n",
    "from maxes.xes_loader2 import XesLoader, XesLog\n",
    "# from maxes.xes_file import XesFile\n",
    "# from maxes.analyze_xes import AnalyzeXes\n",
    "# import maxes.analyze_sequence\n",
    "# import maxes.serialization.serialize\n",
    "# import maxes.graphs\n",
    "import maxes.notebooks.utils\n",
    "import maxes.utils"
   ]
  },
  {
   "cell_type": "code",
   "execution_count": null,
   "metadata": {},
   "outputs": [],
   "source": [
    "maxes.notebooks.utils.init_notebook() # RUN ONLY ONCE"
   ]
  }
 ],
 "metadata": {
  "language_info": {
   "name": "python"
  }
 },
 "nbformat": 4,
 "nbformat_minor": 2
}
